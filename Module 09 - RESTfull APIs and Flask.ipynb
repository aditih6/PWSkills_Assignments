{
 "cells": [
  {
   "cell_type": "markdown",
   "id": "4be08035-3f96-4359-8592-3bbde2107cbd",
   "metadata": {},
   "source": [
    "# Module 09 - RESTful API and Flask"
   ]
  },
  {
   "cell_type": "markdown",
   "id": "223d5ce8-24a1-481b-802f-fde4022ee02f",
   "metadata": {},
   "source": [
    "## Theory Questions"
   ]
  },
  {
   "cell_type": "markdown",
   "id": "13fbdb61-cfed-4e91-9396-1c8136d5ad3e",
   "metadata": {},
   "source": [
    "1.  What is a RESTful API?\n",
    "-  A RESTful API (Representational State Transfer API) is a type of web API that follows the principles of REST architecture. It allows systems to communicate over HTTP using standard methods like GET, POST, PUT, DELETE, etc\n",
    "-  Key Concepts of RESTful API:\n",
    "-  Stateless - Each request from a client to the server must contain all the information needed to understand and process the request. The server doesn’t store client context between requests.\n",
    "-  Resources - Everything in REST is considered a resource, which is identified by a URI (Uniform Resource Identifier), like /users/123.\n",
    "-  HTTP Methods: `GET`: Retrieve a resource, `POST`: Create a new resource, `PUT`: Update a resource (replace), `PATCH`: Update part of a resource, `DELETE`: Delete a resource\n",
    "-  JSON or XML - Most RESTful APIs use JSON to send and receive data, though XML is also supported.\n",
    "-  Stateless Communication - There’s no session or state stored on the server. Each request is independent"
   ]
  },
  {
   "cell_type": "markdown",
   "id": "72f11409-bbcc-4513-9469-14d5a55fcd0f",
   "metadata": {},
   "source": [
    "---"
   ]
  },
  {
   "cell_type": "markdown",
   "id": "60991026-71bb-4926-9144-dac4998bf2ff",
   "metadata": {},
   "source": [
    "2.  Explain the concept of API specification.\n",
    "-   An API specification is a detailed, standardized description of how an API behaves and how developers should interact with it. It defines the rules, structure, and available endpoints of an API in a clear, human and machine - readable format\n",
    "\n",
    "\n",
    "Key Components of an API Specification\n",
    "-  Endpoints (URLs) - The paths through which clients access API resources\n",
    "-  Methods (Verbs) - HTTP methods like GET, POST, PUT, DELETE, etc\n",
    "-  Request Parameters - Details about query strings, path variables, headers, and request bodies\n",
    "-  Request/Response Format - Usually in JSON or XML, describing what data to send and expect\n",
    "-  Authentication Requirements - How clients should authenticate (e.g., API key, OAuth)\n",
    "-  Status Codes and Errors - What HTTP status codes the API returns and what they mean (200, 404, 500, etc.)"
   ]
  },
  {
   "cell_type": "markdown",
   "id": "3089b9f2-4c1a-48a6-9343-8d044ad83894",
   "metadata": {},
   "source": [
    "---"
   ]
  },
  {
   "cell_type": "markdown",
   "id": "71a6047b-7ea6-4cb8-8786-00d8b9ffd1b6",
   "metadata": {},
   "source": [
    "3.  What is Flask, and why is it popular for building APIs?\n",
    "-   Flask is a lightweight, Python-based web framework that's especially popular for building RESTful APIs and small-to-medium-sized web applications\n",
    "-   Flask is a microframework for Python, meaning: It has minimal built-in functionality, You can add only the tools you need using extensions,\n",
    "-   Originally developed by Armin Ronacher, Based on Werkzeug (for routing and WSGI) and Jinja2 (for templating)\n",
    "\n",
    "Reasons and it's corresponding explanation of the popularity of Flask for building APIs:\n",
    "\n",
    "| Reason                             | Explanation                                                                           |\n",
    "|------------------------------------|---------------------------------------------------------------------------------------|\n",
    "| **Lightweight & Minimalistic**  | No unnecessary features — just what's needed to get an API up and running.           |\n",
    "| **Flexible**                    | You choose how to structure your project, which tools to use (ORM, validation, etc.).|\n",
    "| **Extensible**                  | Easily integrates with SQLAlchemy, Marshmallow, JWT, etc.                            |\n",
    "| **Quick to Build & Deploy**     | Great for prototyping and MVPs — very little boilerplate.                            |\n",
    "| **Well-Documented & Supported** | A large community and tons of tutorials make it beginner-friendly.                   |\n",
    "| **Great for REST APIs**         | You can define clean routes with methods like `GET`, `POST`, etc.                    |"
   ]
  },
  {
   "cell_type": "markdown",
   "id": "e5c7ffe8-b03e-4c6e-94cd-852163611be1",
   "metadata": {},
   "source": [
    "---"
   ]
  },
  {
   "cell_type": "markdown",
   "id": "61656780-ac65-44a2-8d76-16b2745e3aaf",
   "metadata": {},
   "source": [
    "4.   What is routing in Flask?\n",
    "-  Routing in Flask is the process of mapping URLs (web addresses) to Python functions, known as view functions. These functions are executed when a user visits a specific route (or endpoint) on your web application.\n",
    "-  Routing lets you decide what your app does when someone visits a specific URL\n",
    "\n",
    "Importance of Routing in Flask:\n",
    "-  Enables modular design (each URL can trigger a different function)\n",
    "-  Essential for building RESTful APIs\n",
    "-  Allows handling user input, forms, and parameters through different HTTP methods"
   ]
  },
  {
   "cell_type": "markdown",
   "id": "c636fa6c-ec64-4443-b360-51736e22f904",
   "metadata": {},
   "source": [
    "---"
   ]
  },
  {
   "cell_type": "markdown",
   "id": "201c004b-d419-45d2-a45c-20a2a8ba2c56",
   "metadata": {},
   "source": [
    "5.   How do you create a simple Flask application?\n",
    "\n",
    "-  To create a simple Flask application, start by installing Flask using the command pip install Flask. Once installed, create a Python file—let’s call it main.py. Inside this file, write a small script that imports the Flask module, initializes the app, defines a single route (for example, the home route /), and returns a simple HTML response such as Hello, Flask. You’ll also need to include a conditional block at the end of the script to run the app with app.run(debug=True). After saving the file, run the application by executing python main.py in your terminal. Once the app starts, you’ll see a message indicating that the server is running—typically on http://127.0.0.1:5000/. Open this URL in your browser, and you should see the HTML message displayed. This confirms that your Flask application is running correctly and serving content to the web.\n",
    "\n",
    "\n",
    "-  Install Flask - pip install Flask\n",
    "-  Creat a file eg: main.py\n",
    "-  Run application - `python main.py`\n",
    "-  Output: Running on http://127.0.0.1:5000/ (Press CTRL + C to quit)\n",
    "-  Click on the link and control to view the display\n",
    "-  Return HTML "
   ]
  },
  {
   "cell_type": "markdown",
   "id": "95c113ee-247f-4592-8c12-86687046ff89",
   "metadata": {},
   "source": [
    "---"
   ]
  },
  {
   "cell_type": "markdown",
   "id": "2da749f9-0812-4ffb-8509-a1e996a8dd98",
   "metadata": {},
   "source": [
    "6.  What are HTTP methods used in RESTful APIs?\n",
    "-  `GET` - The GET method is used to retrieve data from the server. It is a read-only operation and does not change the state of the resource. GET requests are safe and idempotent, meaning multiple identical requests will produce the same result without causing side effects. It’s commonly used to fetch data like user details or a list of items.\n",
    "-   `POST` - \n",
    "The POST method is used to create a new resource on the server. It sends data to the server, such as form inputs or JSON payloads, and the server processes and stores this data. Unlike GET, POST is not idempotent—sending the same POST request multiple times may result in multiple new resources being created.\n",
    "-   `PUT` - \n",
    "The PUT method is used to update or completely replace an existing resource. It requires the full data for the resource, and the existing resource is replaced with the new data sent in the request. PUT is idempotent, meaning making the same request multiple times will always result in the same state of the resource.\n",
    "-  `PATCH` - \n",
    "The PATCH method is used for partial updates to a resource. Instead of sending the entire resource data like PUT, PATCH sends only the fields that need to be changed. It is generally not considered idempotent, as repeated requests may produce different outcomes depending on how the changes are applied.\n",
    "-   `DELETE` - \n",
    "The DELETE method is used to remove a resource from the server. It is idempotent—sending the same DELETE request multiple times will have the same effect, either deleting the resource or ensuring it remains deleted if already removed.\n",
    "-  `OPTIONS` - \n",
    "The OPTIONS method is used to describe the communication options available for a specific resource. It is often used in CORS (Cross-Origin Resource Sharing) to determine which HTTP methods and headers are allowed when accessing a resource from a different origin.\n",
    "-  `HEAD` - \n",
    "The HEAD method is similar to GET, but it only retrieves the headers of the response, not the actual content. It is useful for checking if a resource exists, validating links, or retrieving metadata without downloading the full response body."
   ]
  },
  {
   "cell_type": "markdown",
   "id": "1829c27e-844b-4591-a35f-da4e97b953a8",
   "metadata": {},
   "source": [
    "---"
   ]
  },
  {
   "cell_type": "markdown",
   "id": "6fc7758a-079d-4aa3-9c90-2374e9589d56",
   "metadata": {},
   "source": [
    "7.   What is the purpose of the @app.route() decorator in Flask?\n",
    "-   The `@app.route()` decorator in Flask is used to bind a URL path to a specific function, known as a view function. This means that when a user accesses a particular URL in the browser, Flask knows which function to call and what response to return.\n",
    "-   In this code, @app.route(\"/\") tells Flask that when someone visits the root URL (/), the home() function should be executed. Whatever the function returns (in this case, a string) is sent back as the response to the client\n",
    "\n",
    "\n",
    "Key Purposes:\n",
    "-   Defines the route (URL path) that triggers the function\n",
    "-   Links URLs to Python functions (view logic)\n",
    "-   Allows dynamic URLs using route parameters (e.g., @app.route('/user/<username>'))"
   ]
  },
  {
   "cell_type": "markdown",
   "id": "86effd2d-6ee9-4e17-9ab0-69b6f5da8af3",
   "metadata": {},
   "source": [
    "---"
   ]
  },
  {
   "cell_type": "markdown",
   "id": "f819e5bf-1420-4427-ac9d-245fb5bae121",
   "metadata": {},
   "source": [
    "8.  What is the difference between GET and POST HTTP methods?\n",
    "GET Method\n",
    "-  Purpose: Used to retrieve data from the server.\n",
    "-  Data Location: Sends data in the URL as query parameters (e.g., /search?query=python).\n",
    "-  Visibility: Data is visible in the URL, making it less secure for sensitive information.\n",
    "-  Caching: GET requests can be cached and bookmarked.\n",
    "-  Idempotent: Yes – repeating the request does not change server data.\n",
    "-  Example Use Case: Loading a webpage, fetching search results.\n",
    "\n",
    "POST Method\n",
    "-  Purpose: Used to send data to the server, typically to create or submit something.\n",
    "-  Data Location: Sends data in the request body, not in the URL.\n",
    "-  Visibility: Data is not visible in the URL, making it more secure for sensitive input.\n",
    "-  Caching: POST requests are not cached and not bookmarkable.\n",
    "-  Idempotent: No – repeating the request can result in duplicate actions (e.g., multiple form submissions).\n",
    "-  Example Use Case: Submitting a login form, posting a comment.\n",
    "\n",
    "\n",
    "GET -->> Read-only, URL-based, safe for viewing/fetching data.\n",
    "\n",
    "\n",
    "POST -->> Send/submit data, hidden in the body, used for actions that change server state."
   ]
  },
  {
   "cell_type": "markdown",
   "id": "c13dff9e-60fa-4ed5-8396-b1037a217d2c",
   "metadata": {},
   "source": [
    "---"
   ]
  },
  {
   "cell_type": "markdown",
   "id": "adb92a18-20b7-4123-a165-de6223ad8a86",
   "metadata": {},
   "source": [
    "9.  How do you handle errors in Flask APIs?\n",
    "-   Use Flask’s @app.errorhandler Decorator - You can catch specific HTTP error codes or exceptions\n",
    "-   Handle Custom Exceptions - Define and handle your own exception classes\n",
    "-   Return JSON Responses Consistently - APIs should return errors in JSON, not HTML. To enforce JSON output for unhandled exceptions\n",
    "-   Use Flask-RESTful for Cleaner Error Handling - If you're using Flask-RESTful, you can override its error handlers"
   ]
  },
  {
   "cell_type": "markdown",
   "id": "6a456901-d133-453e-a8b2-d6895ad09a9d",
   "metadata": {},
   "source": [
    "---"
   ]
  },
  {
   "cell_type": "markdown",
   "id": "f03fbffe-5966-410b-8557-e7b50c080d73",
   "metadata": {},
   "source": [
    "10.   How do you connect Flask to a SQL database?\n",
    "-    To connect Flask to a SQL database, you typically use an ORM (Object Relational Mapper) like SQLAlchemy, or a database connector library directly. Here's how it's commonly done using Flask-SQLAlchemy, which integrates SQLAlchemy with Flask.\n",
    "-    Use Flask-SQLAlchemy for ORM-based interaction\n",
    "-    Configure your app with the correct database URI\n",
    "-    Define models as Python classes\n",
    "-    Use db.create_all() to create tables.\n",
    "-    Interact with the database using SQLAlchemy session methods."
   ]
  },
  {
   "cell_type": "markdown",
   "id": "3c5bcc77-b6f8-4110-9559-0ad996c0ef4e",
   "metadata": {},
   "source": [
    "---"
   ]
  },
  {
   "cell_type": "markdown",
   "id": "c17604ac-400f-4168-8a36-9352ee0a9162",
   "metadata": {},
   "source": [
    "11.  What is the role of Flask-SQLAlchemy?\n",
    "\n",
    "Role of Flask-SQLAlchemy:\n",
    "-  Database Integration - \n",
    "It allows you to connect your Flask app to a SQL database like SQLite, MySQL, PostgreSQL, etc., with minimal setup.\n",
    "- Object Relational Mapping (ORM) -  Flask-SQLAlchemy lets you define your database tables as Python classes (called models), making database interaction easier and more readable.\n",
    "-  Simplified Configuration -  It provides a simple way to configure database settings using app.config['SQLALCHEMY_DATABASE_URI'].\n",
    "-  Session Management -  It handles sessions for committing changes to the database, making it easy to add, update, and delete records.\n",
    "-  Schema Generation -  You can automatically create tables from your model classes using db.create_all().\n",
    "-  Query Interface -  Flask-SQLAlchemy provides a powerful querying system through the query object on models, allowing you to perform database operations with Python code instead of raw SQL"
   ]
  },
  {
   "cell_type": "markdown",
   "id": "bf85d4ea-22ad-4410-b556-bc01b7a6b1c1",
   "metadata": {},
   "source": [
    "---"
   ]
  },
  {
   "cell_type": "markdown",
   "id": "fa2f3b73-8cde-422b-8c75-51f93d266b8d",
   "metadata": {},
   "source": [
    "12.   What are Flask blueprints, and how are they useful?\n",
    "-   Flask Blueprints are a feature that lets you create parts of your app independently and then register them later to the main application. Think of them as smaller apps within your big app.\n",
    "\n",
    "Why Blueprints Are Useful:\n",
    "-  Modular Structure - They help break a large Flask app into smaller, manageable pieces (e.g., auth, admin, user)\n",
    "-  Reusability - You can reuse the same blueprint in multiple projects or multiple times in one project with different configurations\n",
    "-  Clear Separation of Concerns -  Keeps your code organized by separating functionality (e.g., routes for authentication vs. routes for products)\n",
    "-  Easy Collaboration - Different developers or teams can work on different blueprints independently\n",
    "-  Scalability - Ideal for large applications with many components; avoids clutter in a single app.py file"
   ]
  },
  {
   "cell_type": "markdown",
   "id": "38b845c4-b108-4196-a1e8-29e9cd320fc6",
   "metadata": {},
   "source": [
    "---"
   ]
  },
  {
   "cell_type": "markdown",
   "id": "f25149c9-1465-4b67-91f8-533817ef14d1",
   "metadata": {},
   "source": [
    "13.   What is the purpose of Flask's request object?\n",
    "-    The `request` object in Flask is used to access data from the client's HTTP request. It allows the application to read input sent by the user through various methods such as form submissions, URL parameters, headers, and JSON payloads\n",
    "-    It is a core part of handling user input and is available globally in any route during a request\n",
    "\n",
    "\n",
    "The request object enables the following:\n",
    "-   Accessing form data submitted through HTML forms using POST method.\n",
    "-   Reading query parameters sent via the URL.\n",
    "-   Parsing JSON data from an API request body.\n",
    "-   Determining the HTTP method used for the request (GET, POST, etc.).\n",
    "-   Retrieving request headers and cookies.\n",
    "-   Handling file uploads"
   ]
  },
  {
   "cell_type": "markdown",
   "id": "9c94a875-3db4-4fb7-a96a-5f282c6489b2",
   "metadata": {},
   "source": [
    "---"
   ]
  },
  {
   "cell_type": "markdown",
   "id": "89d3a11e-9c0d-4765-849a-72fee00574c8",
   "metadata": {},
   "source": [
    "14.   How do you create a RESTful API endpoint using Flask?\n",
    "-   To create a RESTful API endpoint using Flask, you start by installing Flask with pip install Flask. Then, you set up a Flask application by importing the Flask, request, and jsonify modules.\n",
    "-   You define your app with app = Flask(__name__), and then use route decorators like @app.route() to specify the endpoint URLs and supported HTTP methods such as GET, POST, PUT, and DELETE. For example, a GET request to /api/users can return a list of users, while a POST request to the same endpoint can accept JSON data from request.get_json() to add a new user.\n",
    "-   Similarly, PUT and DELETE requests to /api/users/<int:user_id> can be used to update or delete a specific user, respectively. Responses are typically returned in JSON format using the jsonify() function. Finally, the app can be run in development mode using app.run(debug=True). This basic structure sets up a simple yet functional RESTful API in Flask."
   ]
  },
  {
   "cell_type": "markdown",
   "id": "5e7df493-8f38-4047-ba97-1517ffdfda97",
   "metadata": {},
   "source": [
    "---"
   ]
  },
  {
   "cell_type": "markdown",
   "id": "37979f1f-6a3b-4543-a9c5-d1a43f29eccf",
   "metadata": {},
   "source": [
    "15.  What is the purpose of Flask's jsonify() function?\n",
    "-    The `jsonify()` function in Flask is used to create a JSON response from Python data structures. It is part of Flask’s `flask` module and simplifies returning JSON-formatted responses from API endpoints.\n",
    "\n",
    "1. Purpose of `jsonify()`\n",
    "\n",
    "- Converts Python dictionaries, lists, and other JSON-serializable data into a valid JSON response.\n",
    "- Automatically sets the correct `Content-Type` header to `application/json`.\n",
    "- Ensures proper encoding of special characters and Unicode.\n",
    "- Returns a Flask `Response` object that can be used directly in return statements.\n",
    "\n",
    "2. Basic Usage\n",
    "\n",
    "Example:\n",
    "```python\n",
    "from flask import Flask, jsonify\n",
    "\n",
    "app = Flask(__name__)\n",
    "\n",
    "@app.route('/api/user')\n",
    "def get_user():\n",
    "    user = {'name': 'Alice', 'age': 30}\n",
    "    return jsonify(user)"
   ]
  },
  {
   "cell_type": "markdown",
   "id": "15c8ad5f-8f99-43c9-acc4-5abd9b1c5f3a",
   "metadata": {},
   "source": [
    "---"
   ]
  },
  {
   "cell_type": "markdown",
   "id": "874ee869-fab5-4540-91ee-bee8ec785060",
   "metadata": {},
   "source": [
    "16.  Explain Flask’s url_for() function.\n",
    "-   The `url_for()` function in Flask is used to dynamically build URLs for routes (endpoints) defined in the application. It is part of Flask's `flask` module and is commonly used in templates and Python code to avoid hardcoding URLs.\n",
    "\n",
    "1. Purpose of `url_for()`\n",
    "\n",
    "- Generates the correct URL for a given view function name.\n",
    "- Ensures that URLs automatically reflect changes in route definitions.\n",
    "- Helps avoid broken links due to hardcoded paths.\n",
    "- Supports query parameters and dynamic parts of URLs.\n",
    "\n",
    "2. Basic Usage\n",
    "\n",
    "- Syntax:\n",
    "```python\n",
    "url_for(endpoint, **values)"
   ]
  },
  {
   "cell_type": "markdown",
   "id": "540f981a-9c2c-4a76-8190-11573b05674e",
   "metadata": {},
   "source": [
    "---"
   ]
  },
  {
   "cell_type": "markdown",
   "id": "3a162ae3-85b0-4d6a-adb2-577cb069a9c2",
   "metadata": {},
   "source": [
    "17.  How does Flask handle static files (CSS, JavaScript, etc.)?\n",
    "-   Flask handles static files (such as CSS, JavaScript, and images) using a special folder named `static`. This folder is automatically served by Flask at the `/static/` URL path.\n",
    "\n",
    "1. Default Static Folder\n",
    "\n",
    "- Flask expects all static files to be placed in a folder named `static` inside the project directory.\n",
    "- Files can then be accessed in the browser via `/static/filename`.\n",
    "\n",
    "Example:\n",
    "- File path: `project/static/style.css`\n",
    "- URL: `http://localhost:5000/static/style.css`\n",
    "\n",
    "2. Using Static Files in Templates\n",
    "\n",
    "- In Jinja2 templates, use the `url_for()` function to link to static files. This ensures correct URL generation.\n",
    "\n",
    "Example in HTML:\n",
    "```html\n",
    "<link rel=\"stylesheet\" href=\"{{ url_for('static', filename='style.css') }}\">\n",
    "<script src=\"{{ url_for('static', filename='script.js') }}\"></script>"
   ]
  },
  {
   "cell_type": "markdown",
   "id": "6e0672a5-1a50-491f-9544-0b5ff4edca91",
   "metadata": {},
   "source": [
    "---"
   ]
  },
  {
   "cell_type": "markdown",
   "id": "56825eb3-7cb2-49f1-a053-d92bc4d2e233",
   "metadata": {},
   "source": [
    "18.  What is an API specification, and how does it help in building a Flask API?\n",
    "-   An API specification is a formal, structured document that defines how an API behaves, what endpoints it offers, what input it accepts, and what output it returns. It acts as a contract between the server (API provider) and the client (API consumer).\n",
    "\n",
    "In the context of a Flask API, an API specification helps ensure consistency, clarity, and reliability during development and integration.\n",
    "\n",
    "1. Key Components of an API Specification\n",
    "\n",
    "- Endpoints (URLs)\n",
    "- HTTP methods (GET, POST, PUT, DELETE, etc.)\n",
    "- Request parameters (query, path, headers, body)\n",
    "- Request and response data formats (usually JSON)\n",
    "- Response status codes\n",
    "- Authentication requirements\n",
    "- Error message formats\n",
    "\n",
    "2. Common API Specification Formats\n",
    "\n",
    "- OpenAPI (formerly Swagger)\n",
    "- RAML (RESTful API Modeling Language)\n",
    "- API Blueprint\n",
    "- Postman Collections\n",
    "\n",
    "3. Benefits of Using an API Specification in Flask\n",
    "\n",
    "- **Clear Documentation**: Acts as a source of truth for developers working on the API and for clients consuming it.\n",
    "- **Code Generation**: Tools can generate Flask routes, models, and even client libraries from the specification.\n",
    "- **Validation**: Requests and responses can be automatically validated against the spec to ensure correctness.\n",
    "- **Testing**: Easier to write automated tests and mock servers using the defined contract.\n",
    "- **Collaboration**: Backend and frontend teams can work in parallel using the specification as a shared contract.\n",
    "- **Versioning**: Simplifies managing and communicating API version changes.\n",
    "\n",
    "4. How to Use API Specs in Flask\n",
    "\n",
    "- Use tools like Flask-RESTX or Flask-Smorest to integrate OpenAPI specs directly into your Flask app.\n",
    "- Use Swagger UI or Redoc to auto-generate interactive documentation.\n",
    "- Define the spec manually in YAML or JSON, or use decorators in your Flask code to auto-generate it.\n",
    "\n",
    "\n",
    "An API specification defines the structure and behavior of an API in a standardized way. In Flask development, it enhances clarity, reduces errors, supports automation, and improves collaboration between teams."
   ]
  },
  {
   "cell_type": "markdown",
   "id": "7951a9dc-d68b-49ee-b13b-d5babe771bf5",
   "metadata": {},
   "source": [
    "---"
   ]
  },
  {
   "cell_type": "markdown",
   "id": "5861757b-3a64-4e97-984b-f626354c4fdb",
   "metadata": {},
   "source": [
    "19.   What are HTTP status codes, and why are they important in a Flask API?\n",
    "-    HTTP status codes are standardized three-digit codes returned by a server in response to a client's request. They indicate whether a request was successful, resulted in an error, or requires further action.\n",
    "\n",
    "In a Flask API, using appropriate status codes is important for clearly communicating the outcome of API operations to clients.\n",
    "\n",
    "1. Categories of HTTP Status Codes\n",
    "\n",
    "- 1xx (Informational): Request received, continuing process.\n",
    "- 2xx (Success): The request was successfully received and processed.\n",
    "- 3xx (Redirection): Further action is needed to complete the request.\n",
    "- 4xx (Client Error): The request has errors (e.g., bad syntax, unauthorized).\n",
    "- 5xx (Server Error): The server failed to fulfill a valid request.\n",
    "\n",
    "2. Common HTTP Status Codes in Flask APIs\n",
    "\n",
    "- 200 OK: Standard success response.\n",
    "- 201 Created: Resource successfully created (e.g., after POST).\n",
    "- 204 No Content: Successful, but no content to return.\n",
    "- 400 Bad Request: The request is invalid or malformed.\n",
    "- 401 Unauthorized: Authentication is required or has failed.\n",
    "- 403 Forbidden: Authenticated but not allowed to access the resource.\n",
    "- 404 Not Found: Requested resource does not exist.\n",
    "- 409 Conflict: Request could not be completed due to a conflict (e.g., duplicate entry).\n",
    "- 500 Internal Server Error: Generic server-side error.\n",
    "\n",
    "3. Importance in a Flask API\n",
    "\n",
    "- Helps clients understand the result of their requests without parsing the response body.\n",
    "- Enables better error handling on the client side.\n",
    "- Supports RESTful principles for resource management.\n",
    "- Improves debugging, logging, and API monitoring.\n",
    "- Essential for frontend/backend integration and automated testing."
   ]
  },
  {
   "cell_type": "markdown",
   "id": "ed105222-34c5-4edd-9c18-8d755f335021",
   "metadata": {},
   "source": [
    "---"
   ]
  },
  {
   "cell_type": "markdown",
   "id": "3abcca30-d9d0-430d-ab81-249fce10a18b",
   "metadata": {},
   "source": [
    "20.   How do you handle POST requests in Flask?\n",
    "-   Use methods=['POST'] in route decorator\n",
    "-   Use request.form for form data\n",
    "-   Use request.get_json() for JSON payloads\n",
    "-   Always validate incoming data\n",
    "-   Return appropriate HTTP responses"
   ]
  },
  {
   "cell_type": "markdown",
   "id": "03f89701-2a9b-4172-ba04-4db4011aa3a1",
   "metadata": {},
   "source": [
    "---"
   ]
  },
  {
   "cell_type": "markdown",
   "id": "863095bc-0ea5-4509-8b28-63651ccf6d36",
   "metadata": {},
   "source": [
    "21.  How would you secure a Flask API?\n",
    "-    Securing a Flask API is crucial to protect data, prevent misuse, and ensure that only authorized users can access specific endpoints.\n",
    "\n",
    "1. Authentication and Authorization - Authentication confirms the identity of users. Common methods include token-based authentication (such as JWT), API keys, and OAuth 2.0. Authorization determines what an authenticated user is allowed to do. Role-based access control (RBAC) is commonly used.\n",
    "\n",
    "2. Use HTTPS - Always serve the API over HTTPS to encrypt data in transit. This prevents eavesdropping and man-in-the-middle (MITM) attacks.\n",
    "\n",
    "3. Token-Based Authentication (e.g., JWT) - JSON Web Tokens are compact and secure tokens used for stateless authentication. Store minimal user data in the token payload. Verify the signature using a secret key or public/private keys.\n",
    "\n",
    "4. API Keys - Issue unique keys to clients consuming the API. Check for valid API keys in headers or query parameters. Suitable for public or partner facing APIs.\n",
    "\n",
    "5. Rate Limiting and Throttling - Prevent abuse such as denial-of-service attacks by limiting the number of requests per IP address or per token. Flask-Limiter is a common extension used for this.\n",
    "\n",
    "6. Input Validation and Sanitization - Always validate incoming data using libraries like marshmallow, pydantic, or Flask-RESTful’s reqparse. This prevents SQL injection, cross-site scripting (XSS), and other injection-based attacks.\n",
    "\n",
    "7. Error Handling and Logging - Do not expose stack traces or internal error messages in production responses. Log errors securely for debugging and auditing purposes.\n",
    "\n",
    "8. CORS Configuration - Use Flask-CORS to control which domains are allowed to access your API. Avoid allowing all origins with Access-Control-Allow-Origin: * on sensitive APIs.\n",
    "\n",
    "9. Session and Cookie Security (if used) - Set secure, HttpOnly, and SameSite flags on cookies. Use a strong SECRET_KEY to protect session integrity.\n",
    "\n",
    "10. Security Headers - Add HTTP headers to protect against common attacks:\n",
    "- X-Content-Type-Options: nosniff\n",
    "- X-Frame-Options: DENY\n",
    "- Content-Security-Policy\n",
    "- Flask-Talisman is a helpful extension for adding security headers.\n",
    "\n",
    "11. Use a Reverse Proxy - Use a reverse proxy like Nginx to handle SSL termination, load balancing, and additional rate limiting outside of your Flask application.\n",
    "\n",
    "12. Secure the Database  -  Use parameterized queries or ORMs like SQLAlchemy to prevent SQL injection. Restrict database access to only necessary operations. Store credentials in environment variables, not in source code.\n",
    "\n",
    "13. Keep Dependencies Updated - Use tools like pip-audit or Safety to scan for vulnerabilities in your Python packages. Remove unused packages to reduce the attack surface.\n",
    "\n",
    "Summary\n",
    "\n",
    "| Aspect                | Method                                |\n",
    "|-----------------------|----------------------------------------|\n",
    "| Authentication        | JWT, OAuth2, API Keys                  |\n",
    "| Transport Security    | HTTPS only                             |\n",
    "| Access Control        | Role-based permissions                 |\n",
    "| Abuse Prevention      | Rate limiting                          |\n",
    "| Input Security        | Validation & sanitization              |\n",
    "| CORS Control          | Configure allowed origins              |\n",
    "| Response Security     | Hide sensitive error messages          |\n",
    "| Header Hardening      | Security headers (Talisman)            |\n",
    "| Secure Config Storage | Use environment variables              |"
   ]
  },
  {
   "cell_type": "markdown",
   "id": "1eed2906-98b0-4e9a-bba2-802066dab1c5",
   "metadata": {},
   "source": [
    "---"
   ]
  },
  {
   "cell_type": "markdown",
   "id": "56cd3697-fe6d-440e-9f07-58d29e625b9e",
   "metadata": {},
   "source": [
    "22.  What is the significance of the Flask-RESTful extension?\n",
    "-   Significance of Flask-RESTful Extension - `Flask-RESTful` is an extension for Flask that simplifies the creation of RESTful APIs by providing a structured and consistent approach to building web services.\n",
    "\n",
    "\n",
    "Key Features and Significance:\n",
    "\n",
    "\n",
    "**Class-Based Resources**\n",
    "- Encourages a clean, object-oriented structure for handling HTTP methods.\n",
    "- Each resource is represented by a class where methods like `get()`, `post()`, `put()`, and `delete()` correspond to HTTP verbs.\n",
    "\n",
    "**Automatic Routing**\n",
    "- Simplifies URL mapping using `api.add_resource()` instead of manually defining `@app.route()` decorators.\n",
    "\n",
    "**Request Parsing with `reqparse`**\n",
    "- Built-in argument parsing and validation for incoming request data.\n",
    "- Prevents repetitive boilerplate code when extracting and validating input.\n",
    "\n",
    "**Improved Code Organization**\n",
    "- Encourages separation of concerns by organizing logic into resources, rather than putting everything into route functions.\n",
    "- Makes large APIs more readable and easier to maintain.\n",
    "\n",
    "**Automatic HTTP Response Codes**\n",
    "- Returns appropriate HTTP status codes by default (e.g., `404` for missing resources).\n",
    "- Simplifies error handling and improves API consistency.\n",
    "\n",
    "**Serialization Support**\n",
    "- Makes it easier to return JSON responses.\n",
    "- Supports custom formatting and output models for cleaner responses.\n",
    "\n",
    "**Custom Error Handling**\n",
    "- Allows you to define centralized error handlers for better consistency across API responses.\n",
    "\n",
    "\n",
    "Benefits:\n",
    "- Reduces boilerplate code in REST APIs.\n",
    "- Enhances maintainability and readability.\n",
    "- Promotes RESTful best practices.\n",
    "- Speeds up development of resource-oriented APIs.\n",
    "\n",
    "\n",
    "When to Use Flask-RESTful: \n",
    "- For medium to large-scale REST APIs.\n",
    "- When you want to follow a clean, class-based approach to route and logic separation.\n",
    "- When you need built-in request parsing and response formatting.\n",
    "\n",
    "\n",
    "**Flask-RESTful** is a helpful extension for building REST APIs in Flask with less code and better structure. It provides class-based views, built-in parsing, and automatic handling of HTTP methods and responses — making it ideal for scalable and maintainable API design."
   ]
  },
  {
   "cell_type": "markdown",
   "id": "67f5955a-71c1-44b3-9866-cb48f4137395",
   "metadata": {},
   "source": [
    "---"
   ]
  },
  {
   "cell_type": "markdown",
   "id": "2aefa35a-bbb3-4eea-bea8-f600778d251c",
   "metadata": {},
   "source": [
    "23.  What is the role of Flask’s session object?\n",
    "-    The `session` object in Flask allows you to store and retrieve data across multiple requests made by the same user. It is used for managing state in a stateless HTTP environment.\n",
    "\n",
    "- Purpose of `session` - Maintains user-specific data across requests. Stores data like login status, user preferences, and temporary information.\n",
    "\n",
    "-  How It Works - Data is stored **client-side** in **secure cookies**. Flask **signs** the cookies using the `SECRET_KEY` to prevent tampering. Although stored on the client, session data is protected against modification.\n",
    "\n",
    "-  Key Features - Dictionary-like interface (`session['key'] = value`). Data persists between requests for the same user Simple and secure mechanism for session management\n",
    "\n",
    "\n",
    "Common Use Cases\n",
    "- Tracking logged-in users\n",
    "- Storing flash messages or alerts\n",
    "- Shopping cart implementation\n",
    "- Saving language or theme preferences\n",
    "\n",
    "\n",
    "Session Lifetime\n",
    "- By default, session lasts until the browser is closed.\n",
    "- You can make it **permanent** with `session.permanent = True`.\n",
    "- The duration of a permanent session can be controlled using `app.permanent_session_lifetime`.\n",
    "\n",
    "`session` vs `cookies`\n",
    "\n",
    "| Aspect        | Flask `session`         | Raw Cookies               |\n",
    "|---------------|-------------------------|---------------------------|\n",
    "| Interface     | Dict-like (Pythonic)    | Manual string parsing     |\n",
    "| Security      | Signed (tamper-proof)   | Not secure by default     |\n",
    "| Usability     | Easy to use             | Requires extra handling   |\n",
    "| Storage Limit | Few KB (client-side)    | Same as cookies (~4 KB)   |\n",
    "\n",
    "\n",
    "Best Practices\n",
    "\n",
    "- Always set a strong `SECRET_KEY` to ensure session integrity.\n",
    "- Avoid storing large or sensitive data (e.g., passwords) in sessions.\n",
    "- Clean up session data when it's no longer needed (e.g., on logout).\n",
    "\n",
    "\n",
    "Flask’s `session` object is a secure and convenient way to maintain state between HTTP requests. It is ideal for tasks like managing login sessions, storing small bits of user data, and enhancing the user experience across multiple requests."
   ]
  },
  {
   "cell_type": "markdown",
   "id": "0022f7e8-34dc-467e-bdd8-f2a5825ae4e2",
   "metadata": {},
   "source": [
    "---"
   ]
  },
  {
   "cell_type": "markdown",
   "id": "159c683a-05b3-4ba8-af46-16425f4a07fa",
   "metadata": {},
   "source": [
    "---"
   ]
  }
 ],
 "metadata": {
  "kernelspec": {
   "display_name": "Python [conda env:base] *",
   "language": "python",
   "name": "conda-base-py"
  },
  "language_info": {
   "codemirror_mode": {
    "name": "ipython",
    "version": 3
   },
   "file_extension": ".py",
   "mimetype": "text/x-python",
   "name": "python",
   "nbconvert_exporter": "python",
   "pygments_lexer": "ipython3",
   "version": "3.12.7"
  }
 },
 "nbformat": 4,
 "nbformat_minor": 5
}
