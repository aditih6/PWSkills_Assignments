{
 "cells": [
  {
   "cell_type": "markdown",
   "id": "b33b2558-ab99-4544-b3dd-88f5b5453f88",
   "metadata": {},
   "source": [
    "# Module - 05 Functions Assignment "
   ]
  },
  {
   "cell_type": "markdown",
   "id": "b4ceab59-993d-419a-b6d6-5009dac45dbc",
   "metadata": {},
   "source": [
    "## Functions - Theory Questions"
   ]
  },
  {
   "cell_type": "markdown",
   "id": "4ef5eb32-d936-4ec8-9b4d-f61d1c16f447",
   "metadata": {},
   "source": [
    "1.   What is the difference between a function and a method in Python?\n",
    "-   A function is a structured, reusable code block utilized for carrying out a specific task. Functions facilitate the creation of modular code, simplifying maintenance and reusability.\n",
    "\n",
    "  \n",
    "Components of a Function: - Name of the Function: Describes the function and should be meaningful.\n",
    "-   Parameters (Arguments): Variables passed into the function. Functions can have multiple parameters or none at all.\n",
    "-   Docstring: A string that contains information about the purpose and behavior of the function.\n",
    "-   Code Block: Contains the actual code to be executed within the function.\n",
    "-   Return Statement: Determines the value that the function will return. If not included, the function defaults to returning None.\n",
    "\n",
    "-   A method in Python is a function that is defined inside a class and is associated with an object. Methods operate on instances of the class and have access to the data (attributes) of the object they are called on.\n",
    "-   Basically a method is a function that belongs to an object\n",
    "-   All methods are functions, but not all functions are methods."
   ]
  },
  {
   "cell_type": "code",
   "execution_count": 50,
   "id": "ede148ce-0460-4440-94d9-a0f4691e7120",
   "metadata": {},
   "outputs": [
    {
     "name": "stdout",
     "output_type": "stream",
     "text": [
      "Ziva, you scored 85 and your grade is B.\n"
     ]
    }
   ],
   "source": [
    "# Sample for a user definied Function\n",
    "def calculate_grade(name, score):\n",
    "    if score >= 90:\n",
    "        grade = 'A'\n",
    "    elif score >= 80:\n",
    "        grade = 'B'\n",
    "    elif score >= 70:\n",
    "        grade = 'C'\n",
    "    elif score >= 60:\n",
    "        grade = 'D'\n",
    "    else:\n",
    "        grade = 'F'\n",
    "    \n",
    "    return f\"{name}, you scored {score} and your grade is {grade}.\"\n",
    "print(calculate_grade(\"Ziva\", 85))"
   ]
  },
  {
   "cell_type": "code",
   "execution_count": 42,
   "id": "87cd9e4e-1fa0-4544-9661-634b57707a0f",
   "metadata": {},
   "outputs": [
    {
     "name": "stdout",
     "output_type": "stream",
     "text": [
      "Hello, my name is ShadowByte\n"
     ]
    }
   ],
   "source": [
    "# Sample for a method inside a class Student\n",
    "class Student:\n",
    "    def __init__(self, name):\n",
    "        self.name = name  # instance attribute\n",
    "\n",
    "    def greet(self):  # method\n",
    "        return f\"Hello, my name is {self.name}\"\n",
    "\n",
    "s = Student(\"ShadowByte\")\n",
    "print(s.greet())  "
   ]
  },
  {
   "cell_type": "markdown",
   "id": "f4e7034f-07b8-41ac-8eb5-0b6330b9139a",
   "metadata": {},
   "source": [
    "---"
   ]
  },
  {
   "cell_type": "markdown",
   "id": "6e635e87-a927-47e2-9932-93631ad3b62c",
   "metadata": {},
   "source": [
    "2.    Explain the concept of function arguments and parameters in Python.\n",
    "-    In Python, a parameter is a variable listed inside the parentheses in a function definition. Parameters act as placeholders for the values (called arguments) that will be provided when the function is called.\n",
    "-    We define parameters in the function so that you can pass in arguments when calling it.\n",
    "\n",
    "\n",
    "\n",
    "-    In Python, an argument is a value you pass to a function when calling it. Arguments provide the input data that the function needs to operate.\n",
    "-    For instance, if we think of a function as a machine, the arguments are the raw materials that is fed into it\n",
    "-    When a function is defined, it may include parameters, which are placeholders for the values (arguments) it will receive.\n",
    "\n",
    "\n",
    "The different types of arguments in python are as follows:\n",
    "-   Positional Arguments:  These are matched to parameters in order. The first argument goes to the first parameter, the second argument goes to the second parameter and so on.\n",
    "-   Keyword Arguments: One can specify arguments using the parameter names, making the order irrelevant.\n",
    "-   Default Arguments: You can provide default values for parameters in the fuction definiton itself. If in the function call, a value isn't supplied, then default value for that particular argument is used.\n",
    "-   Variable-Length Arguments: Python allows functions to accept any number of arguments.\n",
    "-   *args — Arbitrary Positional Arguments - Collects extra positional arguments into a tuple.\n",
    "-   **kwargs — Arbitrary Keyword Arguments - Collects extra keyword arguments into a dictionary."
   ]
  },
  {
   "cell_type": "code",
   "execution_count": 52,
   "id": "0b1c24bf-3501-40a5-8c86-a9801a0afb92",
   "metadata": {},
   "outputs": [
    {
     "name": "stdout",
     "output_type": "stream",
     "text": [
      "Hello, Good Morning Katniss Everdeen!\n"
     ]
    }
   ],
   "source": [
    "def greet(name):   # 'name' is a parameter\n",
    "    print(f\"Hello, Good Morning {name}!\")\n",
    "\n",
    "greet(\"Katniss Everdeen\")     # \"Alice\" is an argument"
   ]
  },
  {
   "cell_type": "code",
   "execution_count": 67,
   "id": "5cf660fb-2751-476a-92d2-94d98799380d",
   "metadata": {},
   "outputs": [
    {
     "name": "stdout",
     "output_type": "stream",
     "text": [
      "x = 8 \n",
      " y =  10\n"
     ]
    },
    {
     "data": {
      "text/plain": [
       "80"
      ]
     },
     "execution_count": 67,
     "metadata": {},
     "output_type": "execute_result"
    }
   ],
   "source": [
    "# Positional Arguments\n",
    "def prod(x, y):\n",
    "    print(\"x =\", x,\"\\n\",\"y = \",y)\n",
    "    return (x * y)\n",
    "\n",
    "prod(8, 10) # x = 8; y = 10; "
   ]
  },
  {
   "cell_type": "code",
   "execution_count": 69,
   "id": "acd04a71-354f-4ab0-b0ca-1dd99f26a77d",
   "metadata": {},
   "outputs": [
    {
     "name": "stdout",
     "output_type": "stream",
     "text": [
      "My name is Bheem, and I'm 30 years old.\n"
     ]
    }
   ],
   "source": [
    "# Keyword Argument\n",
    "def introduce(name, age):\n",
    "    print(f\"My name is {name}, and I'm {age} years old.\")\n",
    "\n",
    "introduce(age = 30, name = \"Bheem\")"
   ]
  },
  {
   "cell_type": "code",
   "execution_count": 73,
   "id": "46e117f2-7ef9-473c-b417-31c8e5f6ba65",
   "metadata": {},
   "outputs": [
    {
     "name": "stdout",
     "output_type": "stream",
     "text": [
      "Hello, Guest!\n",
      "Hello, Clark!\n"
     ]
    }
   ],
   "source": [
    "# Default Arguments \n",
    "def greet(name = \"Guest\"):\n",
    "    print(f\"Hello, {name}!\")\n",
    "\n",
    "greet()         \n",
    "greet(\"Clark\")    "
   ]
  },
  {
   "cell_type": "code",
   "execution_count": 83,
   "id": "013bd93f-f1aa-4dcd-8a8c-0a7f7c4cf4f0",
   "metadata": {},
   "outputs": [
    {
     "name": "stdout",
     "output_type": "stream",
     "text": [
      "Arbitrary Positional Arguments: 13\n",
      "Arbitrary Keyword Arguments:\n",
      "name: James\n",
      "age: 25\n"
     ]
    }
   ],
   "source": [
    "# Variable Length Arguments\n",
    "def total(*numbers):\n",
    "    return sum(numbers)\n",
    "\n",
    "print(\"Arbitrary Positional Arguments:\", total(1, 2, 3, 7)) \n",
    "\n",
    "def show_info(**kwargs):\n",
    "    for key, value in kwargs.items():\n",
    "        print(f\"{key}: {value}\")\n",
    "\n",
    "print(\"Arbitrary Keyword Arguments:\") \n",
    "show_info(name = \"James\", age = 25)"
   ]
  },
  {
   "cell_type": "markdown",
   "id": "f26472a8-dd27-4b23-b190-1388fb286710",
   "metadata": {},
   "source": [
    "---"
   ]
  },
  {
   "cell_type": "markdown",
   "id": "cc80f906-2ad9-45f3-93a1-5cb8739a8d96",
   "metadata": {},
   "source": [
    "3.    What are the different ways to define and call a function in Python?\n",
    "-   A function in python, is defined using the `def` keyword and can take parameters as input and optionally return a result using the return statement.\n",
    "-   Calling a function means executing it by using its name followed by parentheses (). If the function requires arguments (inputs), you pass them inside the parentheses.\n",
    "\n",
    "\n",
    "There are different ways to define and call a function:\n",
    "-   Simple Function without any parameters\n",
    "-   Functions with parameters\n",
    "-   Functions with default parameters\n",
    "-   Function with a return value\n",
    "-   Functions with multiple arguments\n",
    "-   Lambda Function or Anonymous function\n",
    "-   Function inside a class\n",
    "-   Recursive Function"
   ]
  },
  {
   "cell_type": "code",
   "execution_count": 89,
   "id": "b1e78c34-f5f2-433b-943a-22acd2c98eb4",
   "metadata": {},
   "outputs": [
    {
     "name": "stdout",
     "output_type": "stream",
     "text": [
      "36\n"
     ]
    }
   ],
   "source": [
    "# Lambda Function\n",
    "square = lambda x: x * x\n",
    "print(square(6))"
   ]
  },
  {
   "cell_type": "code",
   "execution_count": 91,
   "id": "d9c3f8f9-8a65-421c-bbfd-b1fe037300a5",
   "metadata": {},
   "outputs": [
    {
     "name": "stdout",
     "output_type": "stream",
     "text": [
      "5040\n"
     ]
    }
   ],
   "source": [
    "# Recursive Function\n",
    "def factorial(n):\n",
    "    if n == 1:\n",
    "        return 1\n",
    "    return n * factorial(n - 1)\n",
    "\n",
    "print(factorial(7)) "
   ]
  },
  {
   "cell_type": "markdown",
   "id": "defaaedf-b2a8-46ff-ae12-592068910847",
   "metadata": {},
   "source": [
    "---"
   ]
  },
  {
   "cell_type": "markdown",
   "id": "18787919-ea31-4d92-b103-ab38dce34b6a",
   "metadata": {},
   "source": [
    "4.   What is the purpose of the `return` statement in a Python function?\n",
    "-    The purpose of of the `return` statement in a Python function is to return a value, exit the function immediately and return nothing or print a statement according to the function definition."
   ]
  },
  {
   "cell_type": "code",
   "execution_count": 98,
   "id": "bbcbf7aa-70c2-4d6b-8ed3-a47d316e23fc",
   "metadata": {},
   "outputs": [
    {
     "name": "stdout",
     "output_type": "stream",
     "text": [
      "8\n",
      "Odd\n",
      "Hello!\n",
      "None\n"
     ]
    }
   ],
   "source": [
    "# returns a value\n",
    "def add(a, b):\n",
    "    return a + b\n",
    "result = add(3, 5)\n",
    "print(result) \n",
    "\n",
    "# Exits the function\n",
    "def check_even(n):\n",
    "    if n % 2 == 0:\n",
    "        return \"Even\"\n",
    "    return \"Odd\"\n",
    "print(check_even(5678375647839))\n",
    "\n",
    "# Returns nothing but just prints a statement\n",
    "def say_hello():\n",
    "    print(\"Hello!\")\n",
    "result = say_hello()\n",
    "print(result) "
   ]
  },
  {
   "cell_type": "markdown",
   "id": "da158ce5-e1c3-4883-85ca-746dd4c6ef9e",
   "metadata": {},
   "source": [
    "---"
   ]
  },
  {
   "cell_type": "markdown",
   "id": "e6e94f5c-a099-4fc0-b8e7-a6f4f0f569bd",
   "metadata": {},
   "source": [
    "5.    What are iterators in Python and how do they differ from iterables?\n",
    "-   Iterable: An iterable is any Python object capable of returning its members one at a time. It must implement the __iter__() method, which returns an iterator.\n",
    "-   An iterator is an object that represents a stream of data. It keeps track of where it is in the sequence and produces the next value when you call next() on it. You can get an iterator from an iterable using the iter() function.\n",
    "\n",
    "It must implement two methods:\n",
    "-  __iter __() -> returns the iterator object itself.\n",
    "-  __next __() -> returns the next item (and raises StopIteration when done)."
   ]
  },
  {
   "cell_type": "code",
   "execution_count": 102,
   "id": "6419721b-54da-41b5-80a1-71faae2164b0",
   "metadata": {},
   "outputs": [
    {
     "name": "stdout",
     "output_type": "stream",
     "text": [
      "1\n",
      "2\n",
      "3\n",
      "1\n",
      "2\n",
      "3\n"
     ]
    }
   ],
   "source": [
    "my_list = [1, 2, 3]  # This is an iterable\n",
    "for item in my_list:\n",
    "    print(item)\n",
    "\n",
    "my_list = [1, 2, 3]\n",
    "iterator = iter(my_list)\n",
    "\n",
    "print(next(iterator))  \n",
    "print(next(iterator)) \n",
    "print(next(iterator)) \n",
    "# print(next(iterator))  # Raises StopIteration"
   ]
  },
  {
   "cell_type": "markdown",
   "id": "d2d7a574-6edb-439c-b07a-045f6965062d",
   "metadata": {},
   "source": [
    "---"
   ]
  },
  {
   "cell_type": "markdown",
   "id": "2bce151f-9662-416a-b302-219452600321",
   "metadata": {},
   "source": [
    "6.  Explain the concept of generators in Python and how they are defined.\n",
    "-   A generator is a special type of iterator in Python that yields values one at a time using the yield keyword, instead of returning them all at once. Generators are used to produce a sequence of values lazily—only when requested—saving memory and improving performance.\n",
    "\n",
    "Advantages of using Generators are as follows:\n",
    "-   Efficient for large datasets or infinite sequences\n",
    "-   Lazy evaluation (values are generated only when needed)\n",
    "-   Reduce memory usage\n",
    "-   Clean, readable syntax\n",
    "\n",
    "How do Generators function:\n",
    "-   Generators return a generator object, which is an iterator. You can use:\n",
    "-   next(generator) to get the next value\n",
    "-   for loop to iterate through it\n",
    "-   It raises StopIteration when done"
   ]
  },
  {
   "cell_type": "code",
   "execution_count": 141,
   "id": "3c15f28a-b6fb-4380-bac6-49b3a0d0e096",
   "metadata": {},
   "outputs": [
    {
     "name": "stdout",
     "output_type": "stream",
     "text": [
      "0\n",
      "1\n",
      "1\n",
      "2\n",
      "3\n",
      "5\n"
     ]
    }
   ],
   "source": [
    "# Fibonacci series using the Generator Function\n",
    "def fibonacci(n):\n",
    "    a, b = 0, 1\n",
    "    for _ in range(n):\n",
    "        yield a\n",
    "        a, b = b, a + b\n",
    "        \n",
    "for num in fibonacci(6):\n",
    "    print(num)"
   ]
  },
  {
   "cell_type": "markdown",
   "id": "f3cebb7f-347d-412d-96e7-728b9bd8fe94",
   "metadata": {},
   "source": [
    "---"
   ]
  },
  {
   "cell_type": "markdown",
   "id": "ea381354-a46c-43ac-bf60-52371576680d",
   "metadata": {},
   "source": [
    "7.   What are the advantages of using generators over regular functions?\n",
    "-    Generators offer several benefits compared to regular functions, especially when dealing with large data or long-running computations.\n",
    "-    Memory efficiency - Generators yield one item at a time and do not store the entire sequence in memory.\n",
    "-    Lazy evaluation - Generators compute values only when needed (on-demand)  - This is useful when: Processing large files or streams, Fetching results from a database, Handling infinite sequences\n",
    "-    Improved performance - Since generators compute items one at a time, they start yielding values immediately, making them faster in scenarios where not all results are needed\n",
    "-  Cleaner Code for Iteration - Generators allow simpler code using yield instead of managing states and loops manually.\n",
    "-  Support for Infinite Sequence - Generators can model infinite or very large sequences (like Fibonacci, stream data) without exhausting memory.\n",
    "-  Pause and Resume Functionality - The yield keyword allows a function to pause execution and resume later, maintaining local variables automatically."
   ]
  },
  {
   "cell_type": "markdown",
   "id": "c050924b-db2b-40b9-b70d-6e40f3035aae",
   "metadata": {},
   "source": [
    "---"
   ]
  },
  {
   "cell_type": "markdown",
   "id": "7f73bf59-6b2a-435e-a297-4a933fe371da",
   "metadata": {},
   "source": [
    "8.   What is a lambda function in Python and when is it typically used?\n",
    "-    A lambda function in Python is a small, anonymous function. Anonymous means it doesn't have a name like regular functions do. It's also called a \"lambda expression.\" In Python, you create a lambda function using the lambda keyword.\n",
    "-    Basic syntax: `lambda arguments: expression`\n",
    "-    Lambda functions are used when you need a simple function for a short time and don’t want to define a full function using def.\n",
    "\n",
    "Features of Lambda Functions\n",
    "-    Compact: Written in a single line.\n",
    "-    No name: Unless assigned to a variable.\n",
    "-    Used where a small function is needed for a short time.\n",
    "-    Can take multiple arguments, but only one expression.\n",
    "\n",
    "A lambda function is a quick way to create a small function without giving it a name. Useful for short, simple operations, especially when passing a function as an argument. Best used for things like sorting, filtering, or mapping data."
   ]
  },
  {
   "cell_type": "code",
   "execution_count": 182,
   "id": "97215716-1f88-49aa-bd05-4de80349311f",
   "metadata": {},
   "outputs": [
    {
     "name": "stdout",
     "output_type": "stream",
     "text": [
      "729\n",
      "100\n"
     ]
    }
   ],
   "source": [
    "# Regular function to square a number\n",
    "def square(x):\n",
    "    return x * x\n",
    "print(square(27))\n",
    "\n",
    "# Lambda version\n",
    "square = lambda x: x * x\n",
    "\n",
    "print(square(10))  "
   ]
  },
  {
   "cell_type": "markdown",
   "id": "0f5d81a2-55bd-4129-b9ae-120319ad1aa8",
   "metadata": {},
   "source": [
    "---"
   ]
  },
  {
   "cell_type": "markdown",
   "id": "3f720b71-4337-4bcb-8d0e-315d3a40482a",
   "metadata": {},
   "source": [
    "9.   Explain the purpose and usage of the `map()` function in Python.\n",
    "-    The `map()` function is a built-in function in Python that allows you to apply a function to each item in an iterable (like a list, tuple, or string) and return a new iterable (specifically, a map object, which can be converted to a list).\n",
    "-    map() takes a function and a collection (like a list), applies the function to every item in that collection, and returns the result.\n",
    "-    Mainly used when you want to transform or modify every item in a list or other iterable.\n",
    "Advantages of using a map() function:\n",
    "-   Makes your code cleaner and shorter.\n",
    "-   Avoids writing long for loops.\n",
    "-   Especially useful when you want to apply the same transformation to all items in a list.\n",
    "\n",
    "The result of map() is a map object, which is an iterator. That means:  You need to convert it to a list or tuple to view the result. Once you loop through it or convert it, it's used up and can’t be used again unless re-created."
   ]
  },
  {
   "cell_type": "code",
   "execution_count": 185,
   "id": "436af422-8b11-4f4c-88a2-a7bbd48cab0c",
   "metadata": {},
   "outputs": [
    {
     "name": "stdout",
     "output_type": "stream",
     "text": [
      "['Alice', 'Bob', 'Charlie']\n"
     ]
    }
   ],
   "source": [
    "names = [\"alice\", \"bob\", \"charlie\"]\n",
    "\n",
    "# Capitalize each name\n",
    "capitalized_names = list(map(str.capitalize, names))\n",
    "\n",
    "print(capitalized_names)"
   ]
  },
  {
   "cell_type": "markdown",
   "id": "1fecc2bf-3b05-4ed5-aee9-dad95a54858a",
   "metadata": {},
   "source": [
    "---"
   ]
  },
  {
   "cell_type": "markdown",
   "id": "bdc227dd-b69f-49e6-9d93-a5a04d8b9bc4",
   "metadata": {},
   "source": [
    "10.   What is the difference between `map()`, `reduce()`, and `filter()` functions in Python?\n",
    "-    map(function, iterable) - Purpose: Applies a function to every item in an iterable, Result: Returns a new iterable (like a list) with transformed values, Use Case: When you want to modify or convert each element.\n",
    "-    filter(function, iterable) - Purpose: Applies a function that returns True/False to each item, and keeps only the items that return True, Result: Returns a new iterable with filtered values, Use Case: When you want to exclude certain items based on a condition.\n",
    "-    reduce(function, iterable) - Purpose: Applies a function of two arguments cumulatively to the items of the iterable to reduce it to a single value, Result: Returns a single combined value (not a list), Use Case: When you want to accumulate or aggregate the elements (sum, product, etc.)"
   ]
  },
  {
   "cell_type": "code",
   "execution_count": 196,
   "id": "eefacab3-378c-4c72-ac05-0446a91c1903",
   "metadata": {},
   "outputs": [
    {
     "name": "stdout",
     "output_type": "stream",
     "text": [
      "Example of Lambda function [1, 4, 9]\n",
      "Example of filter function [2, 4, 82, 90]\n",
      "Example of reduce function 24\n"
     ]
    }
   ],
   "source": [
    "numbers = [1, 2, 3]\n",
    "squares = list(map(lambda x: x ** 2, numbers))\n",
    "print(\"Example of Lambda function\", squares)\n",
    "\n",
    "numbers = [1, 2, 3, 4, 67, 82, 90]\n",
    "evens = list(filter(lambda x: x % 2 == 0, numbers))\n",
    "print(\"Example of filter function\", evens)\n",
    "\n",
    "from functools import reduce\n",
    "\n",
    "numbers = [1, 2, 3, 4]\n",
    "product = reduce(lambda x, y: x * y, numbers) \n",
    "print(\"Example of reduce function\", product)"
   ]
  },
  {
   "cell_type": "markdown",
   "id": "0de8932d-cbf0-49ba-ae3c-b1c7e59275e0",
   "metadata": {},
   "source": [
    "---"
   ]
  },
  {
   "cell_type": "markdown",
   "id": "35124d49-7f38-4dda-b2ef-fa19c84f1ca1",
   "metadata": {},
   "source": [
    "11.   Using pen & Paper write the internal mechanism for sum operation using reduce function on this given list:[47,11,42,13];\n",
    " (Attach paper image for this answer) in doc or colab notebook."
   ]
  },
  {
   "cell_type": "code",
   "execution_count": 224,
   "id": "2497d11a-5162-4299-8fd7-8aca32abcc9b",
   "metadata": {},
   "outputs": [
    {
     "data": {
      "text/plain": [
       "113"
      ]
     },
     "execution_count": 224,
     "metadata": {},
     "output_type": "execute_result"
    }
   ],
   "source": [
    "from functools import reduce\n",
    "reduce(lambda x, y: x + y, [47, 11, 42, 13])"
   ]
  },
  {
   "cell_type": "markdown",
   "id": "8d9a82c9-3f77-4c3c-ac43-8892d3c2431c",
   "metadata": {},
   "source": [
    "![Alt text](C:\\Users\\Dell\\20250623_191745.jpg)"
   ]
  },
  {
   "cell_type": "markdown",
   "id": "3229a58a-ed1e-4450-bc7f-0525467a1de2",
   "metadata": {},
   "source": [
    "---"
   ]
  },
  {
   "cell_type": "markdown",
   "id": "ddde6fc8-316c-4605-81bf-7da226353573",
   "metadata": {},
   "source": [
    "---"
   ]
  },
  {
   "cell_type": "markdown",
   "id": "464c06de-bd61-4738-820c-b8936f7a5a5d",
   "metadata": {},
   "source": [
    "## Practical Questions"
   ]
  },
  {
   "cell_type": "markdown",
   "id": "159b6574-1ac9-4c58-acf1-e1fe26164ce2",
   "metadata": {},
   "source": [
    "1.   Write a Python function that takes a list of numbers as input and returns the sum of all even numbers in the list."
   ]
  },
  {
   "cell_type": "code",
   "execution_count": 111,
   "id": "301d4a37-c09d-4690-9744-7978ba57a083",
   "metadata": {},
   "outputs": [
    {
     "name": "stdout",
     "output_type": "stream",
     "text": [
      "The sum of even numbers given in the list is: 98\n"
     ]
    }
   ],
   "source": [
    "def sum_of_even_numbers(numbers):\n",
    "    total = 0\n",
    "    for num in numbers:\n",
    "        if num % 2 == 0:\n",
    "            total += num\n",
    "    return total\n",
    "\n",
    "nums = [10, 23, 36, 477, 52, 61]\n",
    "result = sum_of_even_numbers(nums)\n",
    "print(\"The sum of even numbers given in the list is:\", result) "
   ]
  },
  {
   "cell_type": "markdown",
   "id": "ebeb51e0-9684-483b-b6c3-79742a51594c",
   "metadata": {},
   "source": [
    "---"
   ]
  },
  {
   "cell_type": "markdown",
   "id": "f538b510-db49-49e5-8388-35f33a96487b",
   "metadata": {},
   "source": [
    "2.   Create a Python function that accepts a string and returns the reverse of that string."
   ]
  },
  {
   "cell_type": "code",
   "execution_count": 116,
   "id": "c765db1a-8556-4530-8bb1-87445fb3d91d",
   "metadata": {},
   "outputs": [
    {
     "data": {
      "text/plain": [
       "'gninrom'"
      ]
     },
     "execution_count": 116,
     "metadata": {},
     "output_type": "execute_result"
    }
   ],
   "source": [
    "# Reverse of a string\n",
    "def reverse_string(str):\n",
    "    return str[::-1]\n",
    "\n",
    "reverse_string(\"morning\")"
   ]
  },
  {
   "cell_type": "markdown",
   "id": "9e1cfa0d-d8a2-4e7e-a8b8-0a29d7913e5e",
   "metadata": {},
   "source": [
    "---"
   ]
  },
  {
   "cell_type": "markdown",
   "id": "a37a9ec1-dd79-43fd-a42a-62b78c002cce",
   "metadata": {},
   "source": [
    "3.   Implement a Python function that takes a list of integers and returns a new list containing the squares of each number."
   ]
  },
  {
   "cell_type": "code",
   "execution_count": 122,
   "id": "6bab98a2-ac04-4169-b28a-7f72644aadb6",
   "metadata": {},
   "outputs": [
    {
     "data": {
      "text/plain": [
       "[36, 49, 9, 4, 1]"
      ]
     },
     "execution_count": 122,
     "metadata": {},
     "output_type": "execute_result"
    }
   ],
   "source": [
    "def square(num):\n",
    "    sq = []\n",
    "    for i in num:\n",
    "        sq.append(i ** 2)\n",
    "    return sq\n",
    "\n",
    "my_list = [6, 7, 3, 2, 1]\n",
    "square(my_list)"
   ]
  },
  {
   "cell_type": "markdown",
   "id": "5ace3f6a-32e2-47ec-86cd-62af3d9dea34",
   "metadata": {},
   "source": [
    "---"
   ]
  },
  {
   "cell_type": "markdown",
   "id": "325a77fe-d7b8-4396-9266-11708024a1f5",
   "metadata": {},
   "source": [
    "4.   Write a Python function that checks if a given number is prime or not from 1 to 200."
   ]
  },
  {
   "cell_type": "code",
   "execution_count": 130,
   "id": "67eb154a-2dd8-4a95-9ad7-27a5b6a50b7c",
   "metadata": {},
   "outputs": [
    {
     "name": "stdout",
     "output_type": "stream",
     "text": [
      "The list of prime numbers between 1 to 200 are:\n",
      "2 3 5 7 11 13 17 19 23 29 31 37 41 43 47 53 59 61 67 71 73 79 83 89 97 101 103 107 109 113 127 131 137 139 149 151 157 163 167 173 179 181 191 193 197 199 \n",
      "\n",
      " List of Non-prime numbers between 1 and 200:\n",
      "1 4 6 8 9 10 12 14 15 16 18 20 21 22 24 25 26 27 28 30 32 33 34 35 36 38 39 40 42 44 45 46 48 49 50 51 52 54 55 56 57 58 60 62 63 64 65 66 68 69 70 72 74 75 76 77 78 80 81 82 84 85 86 87 88 90 91 92 93 94 95 96 98 99 100 102 104 105 106 108 110 111 112 114 115 116 117 118 119 120 121 122 123 124 125 126 128 129 130 132 133 134 135 136 138 140 141 142 143 144 145 146 147 148 150 152 153 154 155 156 158 159 160 161 162 164 165 166 168 169 170 171 172 174 175 176 177 178 180 182 183 184 185 186 187 188 189 190 192 194 195 196 198 200 "
     ]
    }
   ],
   "source": [
    "def is_prime(n):\n",
    "    if n < 2:\n",
    "        return False  # 0 and 1 are not prime\n",
    "    for i in range(2, int(n ** 0.5) + 1):\n",
    "        if n % i == 0:\n",
    "            return False\n",
    "    return True\n",
    "\n",
    "print(\"The list of prime numbers between 1 to 200 are:\")\n",
    "for n in range(1, 201):\n",
    "    if is_prime(n):\n",
    "        print(n, end = \" \")\n",
    "\n",
    "print(\"\\n\\n List of Non-prime numbers between 1 and 200:\")\n",
    "for n in range(1, 201):\n",
    "    if not is_prime(n):\n",
    "        print(n, end=\" \")"
   ]
  },
  {
   "cell_type": "markdown",
   "id": "d13c5a26-8823-48ca-abeb-dc47531bc290",
   "metadata": {},
   "source": [
    "---"
   ]
  },
  {
   "cell_type": "markdown",
   "id": "8d1c4aad-a663-491c-9bd6-dc0d51c53e06",
   "metadata": {},
   "source": [
    "5.   Create an iterator class in Python that generates the Fibonacci sequence up to a specified number of terms."
   ]
  },
  {
   "cell_type": "code",
   "execution_count": 245,
   "id": "74b79e58-b095-40d5-9c05-2d84a84d6f4c",
   "metadata": {},
   "outputs": [
    {
     "name": "stdout",
     "output_type": "stream",
     "text": [
      "0\n",
      "1\n",
      "1\n",
      "2\n",
      "3\n",
      "5\n",
      "8\n",
      "13\n",
      "21\n",
      "34\n"
     ]
    }
   ],
   "source": [
    "class Fibonacci:\n",
    "    def __init__(self, n):\n",
    "        self.n = n\n",
    "        self.a = 0\n",
    "        self.b = 1\n",
    "        self.count = 0\n",
    "\n",
    "    def __iter__(self):\n",
    "        return self\n",
    "\n",
    "    def __next__(self):\n",
    "        if self.count >= self.n:\n",
    "            raise StopIteration\n",
    "        if self.count == 0:\n",
    "            result = 0\n",
    "        elif self.count == 1:\n",
    "            result = 1\n",
    "        else:\n",
    "            result = self.a + self.b\n",
    "            self.a, self.b = self.b, result\n",
    "        self.count += 1\n",
    "        return result\n",
    "\n",
    "# Example usage:\n",
    "for num in Fibonacci(10):\n",
    "    print(num)"
   ]
  },
  {
   "cell_type": "markdown",
   "id": "59e25837-4406-4acd-a789-85ccb57ab22b",
   "metadata": {},
   "source": [
    "---"
   ]
  },
  {
   "cell_type": "markdown",
   "id": "4ac82e0a-f93a-47ad-9f25-23a7e27de4dd",
   "metadata": {},
   "source": [
    "6.   Write a generator function in Python that yields the powers of 2 up to a given exponent."
   ]
  },
  {
   "cell_type": "code",
   "execution_count": 159,
   "id": "73455b3a-4d61-4e9d-baa8-3a258fbeda43",
   "metadata": {},
   "outputs": [
    {
     "data": {
      "text/plain": [
       "<generator object powers_of_two at 0x00000240B7C43E00>"
      ]
     },
     "execution_count": 159,
     "metadata": {},
     "output_type": "execute_result"
    }
   ],
   "source": [
    "def powers_of_two(n):\n",
    "    for i in range(n + 1):\n",
    "        yield 2 ** i\n",
    "\n",
    "powers_of_two(1)"
   ]
  },
  {
   "cell_type": "code",
   "execution_count": 167,
   "id": "92ec2881-e923-4ca8-b88c-0f3405e53ec5",
   "metadata": {},
   "outputs": [
    {
     "name": "stdout",
     "output_type": "stream",
     "text": [
      "1\n"
     ]
    }
   ],
   "source": [
    "gen = powers_of_two(3)\n",
    "\n",
    "print(next(gen)) "
   ]
  },
  {
   "cell_type": "code",
   "execution_count": 169,
   "id": "f6f03100-b466-4688-be1a-ec8c2f4162fb",
   "metadata": {},
   "outputs": [
    {
     "name": "stdout",
     "output_type": "stream",
     "text": [
      "2\n"
     ]
    }
   ],
   "source": [
    "print(next(gen)) "
   ]
  },
  {
   "cell_type": "code",
   "execution_count": 171,
   "id": "ac55182c-35c3-4ef7-9d6f-1e0fe3e9d064",
   "metadata": {},
   "outputs": [
    {
     "name": "stdout",
     "output_type": "stream",
     "text": [
      "4\n"
     ]
    }
   ],
   "source": [
    "print(next(gen))"
   ]
  },
  {
   "cell_type": "markdown",
   "id": "b8761a0e-68b3-497a-8fac-3bd06313fead",
   "metadata": {},
   "source": [
    "---"
   ]
  },
  {
   "cell_type": "markdown",
   "id": "8c84c6c8-272b-4fde-a11e-c6f1ddc12537",
   "metadata": {},
   "source": [
    "7.   Implement a generator function that reads a file line by line and yields each line as a string."
   ]
  },
  {
   "cell_type": "code",
   "execution_count": 211,
   "id": "4db54c36-e79f-495f-b13e-0f0ca5e6db63",
   "metadata": {},
   "outputs": [],
   "source": [
    "# Create a sample text file \n",
    "with open(\"sample.txt\", \"w\") as file:\n",
    "    file.write(\"Hello, world!\\n\")\n",
    "    file.write(\"Welcome to Python.\\n\")\n",
    "    file.write(\"Generators are powerful.\\n\")"
   ]
  },
  {
   "cell_type": "code",
   "execution_count": 213,
   "id": "65d4a768-d8b4-4a73-91e9-b2e97f00fe90",
   "metadata": {},
   "outputs": [],
   "source": [
    "# Generator function to read a file line by line\n",
    "def read_lines(file_path):\n",
    "    with open(file_path, \"r\") as file:\n",
    "        for line in file:\n",
    "            yield line.strip()"
   ]
  },
  {
   "cell_type": "code",
   "execution_count": 215,
   "id": "1b5a4989-48c7-44de-9764-7bae78436dcd",
   "metadata": {},
   "outputs": [
    {
     "name": "stdout",
     "output_type": "stream",
     "text": [
      "Line 1: Hello, world!\n"
     ]
    }
   ],
   "source": [
    "# First, creating the generator object\n",
    "line_reader = read_lines(\"sample.txt\")\n",
    "\n",
    "# Get lines one at a time\n",
    "line1 = next(line_reader)\n",
    "print(\"Line 1:\", line1)"
   ]
  },
  {
   "cell_type": "code",
   "execution_count": 217,
   "id": "95769a67-3eeb-4c96-b713-4d05fc651aa8",
   "metadata": {},
   "outputs": [
    {
     "name": "stdout",
     "output_type": "stream",
     "text": [
      "Line 2: Welcome to Python.\n"
     ]
    }
   ],
   "source": [
    "line2 = next(line_reader)\n",
    "print(\"Line 2:\", line2)"
   ]
  },
  {
   "cell_type": "code",
   "execution_count": 219,
   "id": "d116bc37-2b59-4c4c-8c8e-e6a26c0892df",
   "metadata": {},
   "outputs": [
    {
     "name": "stdout",
     "output_type": "stream",
     "text": [
      "Line 3: Generators are powerful.\n"
     ]
    }
   ],
   "source": [
    "line3 = next(line_reader)\n",
    "print(\"Line 3:\", line3)"
   ]
  },
  {
   "cell_type": "markdown",
   "id": "2af343ff-bf8d-4b80-b8f6-a820683e14d5",
   "metadata": {},
   "source": [
    "---"
   ]
  },
  {
   "cell_type": "markdown",
   "id": "cac85494-eade-4e15-aaaf-da20887abc3c",
   "metadata": {},
   "source": [
    "8.   Use a lambda function in Python to sort a list of tuples based on the second element of each tuple."
   ]
  },
  {
   "cell_type": "code",
   "execution_count": 230,
   "id": "d05d9fee-eb95-481a-9cc4-42ec72df4b13",
   "metadata": {},
   "outputs": [
    {
     "name": "stdout",
     "output_type": "stream",
     "text": [
      "[(4, 1, 7), (10, 2, 9), (1, 3, 5)]\n"
     ]
    }
   ],
   "source": [
    "# Sample list of tuples\n",
    "my_list = [(1, 3, 5), (4, 1, 7), (10, 2, 9)]\n",
    "\n",
    "# Sort using lambda (based on the second element)\n",
    "sorted_list = sorted(my_list, key = lambda x: x[1])\n",
    "\n",
    "print(sorted_list)"
   ]
  },
  {
   "cell_type": "markdown",
   "id": "480ca025-b488-4597-b108-363a09ea16af",
   "metadata": {},
   "source": [
    "---"
   ]
  },
  {
   "cell_type": "markdown",
   "id": "7b9ee4fe-b240-447e-8f15-ddee8de535cd",
   "metadata": {},
   "source": [
    "9.   Write a Python program that uses `map()` to convert a list of temperatures from Celsius to Fahrenheit."
   ]
  },
  {
   "cell_type": "code",
   "execution_count": 247,
   "id": "672c95b4-0820-4c7e-8f82-bce78f8903c2",
   "metadata": {},
   "outputs": [
    {
     "name": "stdout",
     "output_type": "stream",
     "text": [
      "[32.0, 68.0, 98.6, 212.0]\n"
     ]
    }
   ],
   "source": [
    "# List of temperatures in Celsius\n",
    "celsius_temps = [0, 20, 37, 100]\n",
    "\n",
    "# Converting to Fahrenheit using map() and lambda\n",
    "fahrenheit_temps = list(map(lambda c: (c * 9/5) + 32, celsius_temps))\n",
    "\n",
    "print(fahrenheit_temps)"
   ]
  },
  {
   "cell_type": "markdown",
   "id": "15047de9-3d3c-48bd-b62a-8f6cc83651d7",
   "metadata": {},
   "source": [
    "---"
   ]
  },
  {
   "cell_type": "markdown",
   "id": "3765208c-e722-4be1-b223-f5ceb32171ef",
   "metadata": {},
   "source": [
    "10.  Create a Python program that uses `filter()` to remove all the vowels from a given string."
   ]
  },
  {
   "cell_type": "code",
   "execution_count": 238,
   "id": "9c5aceee-b97a-4dc8-91f0-b6208dd9e029",
   "metadata": {},
   "outputs": [
    {
     "name": "stdin",
     "output_type": "stream",
     "text": [
      "Enter a string:  education\n"
     ]
    },
    {
     "name": "stdout",
     "output_type": "stream",
     "text": [
      "dctn\n"
     ]
    }
   ],
   "source": [
    "# Input string\n",
    "input_str = input(\"Enter a string: \")\n",
    "\n",
    "# Use filter() to remove vowels\n",
    "no_vowels = ''.join(filter(lambda ch: ch.lower() not in 'aeiou', input_str))\n",
    "\n",
    "print(no_vowels)"
   ]
  },
  {
   "cell_type": "markdown",
   "id": "1598e2d1-2299-4331-bc09-097d56d90ec5",
   "metadata": {},
   "source": [
    "---"
   ]
  },
  {
   "cell_type": "markdown",
   "id": "09af9c6e-ca27-4575-b2e2-a7882147087c",
   "metadata": {},
   "source": [
    "11.    Imagine an accounting routine used in a book shop. It works on a list with sublists, which look like this:\n",
    "\n",
    "Write a Python program, which returns a list with 2-tuples. Each tuple consists of the order number and the\n",
    "product of the price per item and the quantity. The product should be increased by 10,- € if the value of the\n",
    "order is smaller than 100,00 €.\n",
    "\n",
    "Write a Python program using lambda and map."
   ]
  },
  {
   "cell_type": "code",
   "execution_count": 241,
   "id": "5c4a55fa-320a-4827-8d5d-fe5fb085cdb7",
   "metadata": {},
   "outputs": [
    {
     "name": "stdout",
     "output_type": "stream",
     "text": [
      "[(34587, 163.8), (98762, 284.0), (77226, 108.85), (88112, 84.97)]\n"
     ]
    }
   ],
   "source": [
    "# List of orders: [Order Number, Book Title and Author, Quantity, Price per Item]\n",
    "orders = [\n",
    "    [34587, \"Learning Python, Mark Lutz\", 4, 40.95],\n",
    "    [98762, \"Programming Python, Mark Lutz\", 5, 56.80],\n",
    "    [77226, \"Head First Python, Paul Barry\", 3, 32.95],\n",
    "    [88112, \"Einführung in Python3, Bernd Klein\", 3, 24.99]\n",
    "]\n",
    "\n",
    "# Using map and lambda to calculate final totals\n",
    "final_totals = list(map(lambda order: (\n",
    "    order[0],\n",
    "    round(order[2] * order[3] + (10 if order[2] * order[3] < 100 else 0), 2)\n",
    "), orders))\n",
    "\n",
    "# Output result\n",
    "print(final_totals)"
   ]
  }
 ],
 "metadata": {
  "kernelspec": {
   "display_name": "Python [conda env:base] *",
   "language": "python",
   "name": "conda-base-py"
  },
  "language_info": {
   "codemirror_mode": {
    "name": "ipython",
    "version": 3
   },
   "file_extension": ".py",
   "mimetype": "text/x-python",
   "name": "python",
   "nbconvert_exporter": "python",
   "pygments_lexer": "ipython3",
   "version": "3.12.7"
  }
 },
 "nbformat": 4,
 "nbformat_minor": 5
}
