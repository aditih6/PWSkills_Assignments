{
 "cells": [
  {
   "cell_type": "markdown",
   "id": "7c00e45f-505e-4855-b5fc-87f4bcb120bb",
   "metadata": {},
   "source": [
    "# Files, Exceptional handling, Logging and Memory Management Assignment"
   ]
  },
  {
   "cell_type": "markdown",
   "id": "9408edde-3666-4891-ae20-2a81ad0a2e03",
   "metadata": {},
   "source": [
    "## Theory Questions"
   ]
  },
  {
   "cell_type": "markdown",
   "id": "a68fc06f-6626-40db-9caf-3b63060240cd",
   "metadata": {},
   "source": [
    "1.  What is the difference between interpreted and compiled languages?\n",
    "-    A compiled language uses a compiler to translate the entire source code into machine code (binary) before execution. This compiled file is then run directly by the computer’s processor.\n",
    "\n",
    "\n",
    "Characteristics:\n",
    "-  Faster execution (after compilation)\n",
    "-  Errors found at compile time\n",
    "-  Needs to be recompiled after changes\n",
    "Example: C, C++, Go, Rust, Swift\n",
    "\n",
    "An interpreted language uses an interpreter to translate and execute code line by line at runtime, without producing a separate executable file in advance.\n",
    "\n",
    "Characteristics:\n",
    "-  Slower execution (due to real-time interpretation)\n",
    "-  Easier debugging\n",
    "-  Good for scripting and rapid prototyping\n",
    "Examples: Python, JavaScript, Ruby, PHP, MATLAB"
   ]
  },
  {
   "cell_type": "markdown",
   "id": "eabbf841-b47e-47ca-bedd-0d05479b53e7",
   "metadata": {},
   "source": [
    "---"
   ]
  },
  {
   "cell_type": "markdown",
   "id": "6295bf2e-d939-43bc-a059-85386b1b8001",
   "metadata": {},
   "source": [
    "2.   What is exception handling in Python?\n",
    "-   Exception handling in Python is a way to gracefully manage errors or unexpected events that occur during program execution, instead of crashing the program.\n",
    "-   An exception is an error that occurs at runtime and interrupts the normal flow of a program.\n",
    "Examples: Dividing by zero: `ZeroDivisionError`, Accessing a variable that doesn’t exist: `NameError`, File not found: `FileNotFoundError`\n",
    "\n",
    "Advantages of exception handling:\n",
    "-   Prevents program crashes\n",
    "-   Helps debug errors cleanly\n",
    "-   Makes your code robust, user-friendly, and safe"
   ]
  },
  {
   "cell_type": "code",
   "execution_count": 20,
   "id": "3ea144a7-b6a6-4511-9b38-26a98d4ace4e",
   "metadata": {},
   "outputs": [
    {
     "name": "stdin",
     "output_type": "stream",
     "text": [
      "Enter a number:  0\n"
     ]
    },
    {
     "name": "stdout",
     "output_type": "stream",
     "text": [
      "Cannot divide by zero.\n"
     ]
    }
   ],
   "source": [
    "try:\n",
    "    num = int(input(\"Enter a number: \"))\n",
    "    print(10 / num)\n",
    "except ZeroDivisionError:\n",
    "    print(\"Cannot divide by zero.\")\n",
    "except ValueError:\n",
    "    print(\"Please enter a valid number.\")\n",
    "else:\n",
    "    print(\"Division successful!\")\n",
    "    print(\"----------------------\")"
   ]
  },
  {
   "cell_type": "markdown",
   "id": "972debf6-0d76-4540-a25d-26bc770d1109",
   "metadata": {},
   "source": [
    "---"
   ]
  },
  {
   "cell_type": "markdown",
   "id": "a859d66c-d5eb-47b1-b628-b645557c34f1",
   "metadata": {},
   "source": [
    "3.   What is the purpose of the finally block in exception handling?\n",
    "-   The `finally` block is used in exception handling to define code that should always run, no matter what that means, whether an exception occurred or not.\n",
    "\n",
    "Purpose of using `finally` block:\n",
    "-  To ensure that cleanup actions are always performed.\n",
    "-  Common uses: closing files, releasing resources, logging, or cleaning up connections.\n",
    "-  To avoid memory leaks in the program\n",
    "-   Helps with logging or final status updates"
   ]
  },
  {
   "cell_type": "code",
   "execution_count": 24,
   "id": "748fada8-81ac-4f6f-a6a3-6ed3006b5fb0",
   "metadata": {},
   "outputs": [
    {
     "name": "stdin",
     "output_type": "stream",
     "text": [
      "How many burgers would you like to order?  three\n"
     ]
    },
    {
     "name": "stdout",
     "output_type": "stream",
     "text": [
      "Please enter a valid number.\n"
     ]
    }
   ],
   "source": [
    "try:\n",
    "    burgers = int(input(\"How many burgers would you like to order? \"))\n",
    "    print(f\"You have ordered {burgers} burger(s).\")\n",
    "except ValueError:\n",
    "    print(\"Please enter a valid number.\")"
   ]
  },
  {
   "cell_type": "markdown",
   "id": "19a79f26-80a3-429f-a8d6-8453e0f7b28f",
   "metadata": {},
   "source": [
    "---"
   ]
  },
  {
   "cell_type": "markdown",
   "id": "c7be02f3-844b-44e2-9626-b64a05ffe456",
   "metadata": {},
   "source": [
    "4.  What is logging in Python?\n",
    "-  Logging in Python is a way to track events that happen while your program runs — like errors, warnings, status updates, or important actions.\n",
    "-  Instead of using `print()` for debugging, logging gives you more control, flexibility, and professionalism in how messages are recorded.\n",
    "\n",
    "Purpose of logging:\n",
    "-  Helps debug and monitor your program\n",
    "-  Allows you to save logs to a file\n",
    "-  Can show different levels of importance (info, warning, error, etc.)\n",
    "-  Useful for production-level applications where print statements are not practical\n",
    "\n",
    "Common Logging Levels in Python\n",
    "-  `DEBUG` - Detailed info, mainly for developers\n",
    "-  `INFO` - General information (e.g., program started)\n",
    "-  `WARNING` - Something unexpected, but not an error\n",
    "-  `ERROR` - A serious problem that caused failure\n",
    "-  `CRITICAL` - Very serious error - program may crash"
   ]
  },
  {
   "cell_type": "code",
   "execution_count": 33,
   "id": "afc5d9ec-9d39-4e20-8320-64c18124751e",
   "metadata": {},
   "outputs": [],
   "source": [
    "import logging\n",
    "\n",
    "# This will save the error message to a file called app.log.\n",
    "logging.basicConfig(filename = 'app.log', level = logging.ERROR)\n",
    "logging.error(\"Something went wrong!\")"
   ]
  },
  {
   "cell_type": "markdown",
   "id": "d5d0d57b-c458-42a2-8870-7fd9f2f190d9",
   "metadata": {},
   "source": [
    "---"
   ]
  },
  {
   "cell_type": "markdown",
   "id": "b7896a13-72db-447d-8da9-41c7053bc789",
   "metadata": {},
   "source": [
    "5.    What is the significance of the `__del__` method in Python?\n",
    "-   The `__del__` method in Python is a special method known as a destructor. It is automatically invoked when an object is about to be destroyed, typically when its reference count drops to zero and it becomes eligible for garbage collection.\n",
    "\n",
    "Purpose of `__del__`:\n",
    "-   Resource cleanup: It can be used to clean up resources that aren’t managed automatically by Python’s memory management system—such as open files, network connections, or database handles.\n",
    "-   Notification of object deletion: It may serve as a way to log or signal that an object is being deleted, which can help in debugging or tracking object lifecycles."
   ]
  },
  {
   "cell_type": "markdown",
   "id": "8a9043b0-d051-41a8-b652-af7ff43bd126",
   "metadata": {},
   "source": [
    "---"
   ]
  },
  {
   "cell_type": "markdown",
   "id": "81860ed8-4ad4-4c72-9541-1c227f2b87bd",
   "metadata": {},
   "source": [
    "6.   What is the difference between import and from ... import in Python?\n",
    "-   In Python, both import and from ... import are used to bring external modules and their contents into your code, but they behave differently in what they import and how you access imported items.\n",
    "\n",
    "Import statement:\n",
    "-   Imports the entire module.\n",
    "-   You need to use the module name to access its functions, classes, or variables.\n",
    "\n",
    "from... import statement:\n",
    "-   Imports specific items (functions, classes, variables) directly from a module.\n",
    "-   You can use them without the module prefix"
   ]
  },
  {
   "cell_type": "code",
   "execution_count": 36,
   "id": "c1b62247-0851-4d69-a5e1-96b7a51c1ee6",
   "metadata": {},
   "outputs": [
    {
     "name": "stdout",
     "output_type": "stream",
     "text": [
      "4.0\n"
     ]
    }
   ],
   "source": [
    "import math\n",
    "print(math.sqrt(16))  # Access via module name"
   ]
  },
  {
   "cell_type": "code",
   "execution_count": 44,
   "id": "6fb0fe15-88fb-491e-8d4f-ad32302019ff",
   "metadata": {},
   "outputs": [
    {
     "name": "stdout",
     "output_type": "stream",
     "text": [
      "5\n"
     ]
    }
   ],
   "source": [
    "# Using from ... import\n",
    "from random import randint\n",
    "print(randint(1, 10))"
   ]
  },
  {
   "cell_type": "markdown",
   "id": "7aea6b93-b2f8-4204-947a-283029719168",
   "metadata": {},
   "source": [
    "---"
   ]
  },
  {
   "cell_type": "markdown",
   "id": "c29dfba6-3565-46a6-93d1-c054a404a747",
   "metadata": {},
   "source": [
    "7.    How can you handle multiple exceptions in Python?\n",
    "-  In Python, multiple exceptions can be handled using either a single except block with a tuple of exceptions or multiple separate except blocks for specific exception types.\n",
    "-  This allows the program to respond appropriately to different types of runtime errors without crashing. Python’s exception handling mechanism helps improve code robustness and user experience.\n",
    "\n",
    "There are three main ways to handle multiple exceptions:\n",
    "-   Single except block with a tuple of exceptions – used when the same handling logic applies to multiple exception types.\n",
    "-   Multiple except blocks – used when different exceptions require different handling logic.\n",
    "-   Generic except block (except Exception) – used as a fallback to catch any unexpected exceptions, but should be used cautiously."
   ]
  },
  {
   "cell_type": "code",
   "execution_count": 7,
   "id": "ecb1e267-10ca-4853-9a76-37ab78ec8d1e",
   "metadata": {},
   "outputs": [
    {
     "name": "stdin",
     "output_type": "stream",
     "text": [
      "Enter a number:  0\n"
     ]
    },
    {
     "name": "stdout",
     "output_type": "stream",
     "text": [
      "Error: division by zero\n"
     ]
    }
   ],
   "source": [
    "# Catching multiple exceptions in one block - Scenario: Reading a number from user input and performing division.\n",
    "try:\n",
    "    num = int(input(\"Enter a number: \"))\n",
    "    result = 100 / num\n",
    "except (ValueError, ZeroDivisionError) as e:\n",
    "    print(f\"Error: {e}\")"
   ]
  },
  {
   "cell_type": "code",
   "execution_count": 10,
   "id": "07511b85-1fe3-49d3-b42d-2765073be8ae",
   "metadata": {},
   "outputs": [
    {
     "name": "stdout",
     "output_type": "stream",
     "text": [
      "The file was not found.\n"
     ]
    }
   ],
   "source": [
    "# Handling exceptions separately - Scenario: Reading from a file and parsing data.\n",
    "try:\n",
    "    with open(\"data.txt\") as file:\n",
    "        data = int(file.read())\n",
    "except FileNotFoundError:\n",
    "    print(\"The file was not found.\")\n",
    "except ValueError:\n",
    "    print(\"Could not convert file content to an integer.\")"
   ]
  },
  {
   "cell_type": "markdown",
   "id": "f2309e7c-989b-4632-b358-47a9a0ee5745",
   "metadata": {},
   "source": [
    "---"
   ]
  },
  {
   "cell_type": "markdown",
   "id": "a165a7ba-16cb-4964-a946-c3f960531ab2",
   "metadata": {},
   "source": [
    "8.  What is the purpose of the with statement when handling files in Python?\n",
    "-  The `with` statement in Python is used for resource management and exception handling. It ensures that resources like files, network connections, or database handles are properly acquired and released, even if an error occurs during their use.\n",
    "-  It is often referred to as a context manager.\n",
    "-  So, `with` is best used when working with files or any resource that requires setup and teardown, ensuring clean and safe resource handling.\n",
    "\n",
    "When working with files, the with statement is preferred because it:\n",
    "-   Automatically closes the file after the block is executed.\n",
    "-   Prevents resource leaks, even if an exception occurs.\n",
    "-   Makes code cleaner and more readable."
   ]
  },
  {
   "cell_type": "code",
   "execution_count": 12,
   "id": "25f5bab0-bb7e-4943-a3aa-42144a0ebd33",
   "metadata": {},
   "outputs": [
    {
     "name": "stdout",
     "output_type": "stream",
     "text": [
      "Hello, world!\n"
     ]
    }
   ],
   "source": [
    "# Opening and reading a file using with\n",
    "with open(\"example.txt\", \"r\") as file:\n",
    "    content = file.read()\n",
    "    print(content)\n",
    "\n",
    "# No need to call file.close(); it's done automatically"
   ]
  },
  {
   "cell_type": "markdown",
   "id": "561ac65a-6212-4622-8759-efc81c420eac",
   "metadata": {},
   "source": [
    "---"
   ]
  },
  {
   "cell_type": "markdown",
   "id": "fcb60930-6cda-4c21-86e2-17488907bc68",
   "metadata": {},
   "source": [
    "9.  What is the difference between multithreading and multiprocessing?\n",
    "-  Definition: Multithreading is a technique where multiple threads (lightweight subprocesses) run within a single process, sharing the same memory space.\n",
    "\n",
    "Purpose of using Multithreading:\n",
    "-  Useful when a program needs to perform multiple tasks simultaneously that are I/O-bound (e.g., file reading, API calls, user input).\n",
    "-  Threads share data and memory, which makes communication between them easier.\n",
    "-  It's lightweight, but limited by the Global Interpreter Lock (GIL) in Python, so not ideal for CPU-heavy tasks.\n",
    "\n",
    "Definition: Multiprocessing is a technique where multiple independent processes run in separate memory spaces, each with its own Python interpreter.\n",
    "\n",
    "Purpose of using Multitprocessing:\n",
    "-  Best for CPU-bound tasks (e.g., image processing, data computation).\n",
    "-  Since each process runs independently, it bypasses the GIL, allowing true parallelism.\n",
    "-  Communication is harder than with threads, but it's more robust for heavy tasks."
   ]
  },
  {
   "cell_type": "code",
   "execution_count": 19,
   "id": "fe246580-244a-44bd-9118-4ca3519f6b2b",
   "metadata": {},
   "outputs": [
    {
     "name": "stdout",
     "output_type": "stream",
     "text": [
      "Number: 0\n",
      "Number: 1\n",
      "Number: 2\n",
      "Number: 3\n",
      "Number: 4\n",
      "Number: 0\n",
      "Number: 1\n",
      "Number: 2\n",
      "Number: 3\n",
      "Number: 4\n"
     ]
    }
   ],
   "source": [
    "import threading\n",
    "\n",
    "def print_numbers():\n",
    "    for i in range(5):\n",
    "        print(f\"Number: {i}\")\n",
    "\n",
    "# Create two threads\n",
    "thread1 = threading.Thread(target = print_numbers)\n",
    "thread2 = threading.Thread(target = print_numbers)\n",
    "\n",
    "thread1.start()\n",
    "thread2.start()"
   ]
  },
  {
   "cell_type": "code",
   "execution_count": 25,
   "id": "3e29ed09-d541-4e4b-81e4-965ecd74037e",
   "metadata": {},
   "outputs": [],
   "source": [
    "import multiprocessing\n",
    "\n",
    "def print_numbers():\n",
    "    for i in range(5):\n",
    "        print(f\"Number: {i}\")\n",
    "\n",
    "# Create two processes\n",
    "process1 = multiprocessing.Process(target = print_numbers)\n",
    "process2 = multiprocessing.Process(target = print_numbers)\n",
    "\n",
    "process1.start()\n",
    "process2.start()"
   ]
  },
  {
   "cell_type": "markdown",
   "id": "fce1cd90-df08-4308-bccc-3786e71bcc96",
   "metadata": {},
   "source": [
    "---"
   ]
  },
  {
   "cell_type": "markdown",
   "id": "1d6908b8-d4d4-4b96-b0d6-18de2de50b66",
   "metadata": {},
   "source": [
    "10.  What are the advantages of using logging in a program?\n",
    "\n",
    "Advantages of Using Logging in a Program:\n",
    "-   Tracks Program Execution - Logs help trace the flow of the program and understand what happened and when, especially during debugging.\n",
    "-   Easier Debugging and Troubleshooting - Instead of printing to the console (print()), logs can show detailed information like error traces, variables, and function calls.\n",
    "-   Persistent Record (Log Files) - Logging can be stored in files, making it easier to analyze issues after the program has run, especially in production.\n",
    "-   Supports Log Levels - You can log different types of messages (e.g., DEBUG, INFO, WARNING, ERROR, CRITICAL) and control what gets displayed or stored.\n",
    "-   Better than Print Statements - Unlike print(), logging can be turned off or filtered without changing the code, and logs can include timestamps, source line numbers, and more.\n",
    "-   Useful in Multi-user or Long-running Applications - In web apps, servers, or background scripts, logs provide insight into real-time operations and help catch issues without manual observation.\n",
    "-   Helps in Monitoring and Auditing - Logs are often used to monitor usage patterns, detect unusual activity, and maintain audit trails."
   ]
  },
  {
   "cell_type": "markdown",
   "id": "70b7e359-52f0-4914-92bf-7abcba593795",
   "metadata": {},
   "source": [
    "---"
   ]
  },
  {
   "cell_type": "markdown",
   "id": "3e6ce0c6-83df-4ec0-982e-73108a4af681",
   "metadata": {},
   "source": [
    "11.   What is memory management in Python?\n",
    "-   Memory management in Python refers to the process of efficiently allocating, using, and freeing memory during the execution of a Python program. Python handles memory management automatically, but understanding how it works can help you write more efficient and bug-free code\n",
    "\n",
    "Key Concepts in Python Memory Management:\n",
    "-   Automatic Memory Management - Python uses automatic memory management, meaning the programmer doesn't have to manually allocate or free memory. Python Memory Manager handles memory allocation for objects and data structures.\n",
    "-   Reference Counting - Every object in Python has a reference count, which tracks how many references point to it. When the reference count drops to zero, the memory occupied by the object is automatically deallocated.\n",
    "-   Garbage Collection (GC) - Python includes a garbage collector that handles cyclic references (e.g., objects referencing each other). The gc module provides tools to interact with the garbage collector.\n",
    "-   Private Heap Space - All Python objects and data structures are stored in a private heap, which is managed by the memory manager. Programmers do not have direct access to this heap.\n",
    "-   Memory Pools (PyMalloc) - Python uses a specialized allocator called PyMalloc for small objects to reduce overhead and improve performance.\n",
    "-   Interning - Python may reuse immutable objects like small integers and short strings to save memory (a process known as interning).\n",
    "\n",
    "How to Use Memory Efficiently in Python:\n",
    "-   Avoid creating unnecessary objects\n",
    "-   Use generators instead of lists when dealing with large datasets\n",
    "-   Explicitly break reference cycles when possible\n",
    "-   Use built-in types and libraries which are optimized in memory usage\n",
    "-   Monitor memory usage with modules like tracemalloc or memory_profiler"
   ]
  },
  {
   "cell_type": "markdown",
   "id": "9d87b8c9-fda6-4d6b-9260-f4fd8497caa8",
   "metadata": {},
   "source": [
    "---"
   ]
  },
  {
   "cell_type": "markdown",
   "id": "a855f1ac-a6fe-48bf-8b7e-4d2346692c53",
   "metadata": {},
   "source": [
    "12.   What are the basic steps involved in exception handling in Python?\n",
    "-  In Python, exception handling allows you to manage errors gracefully without crashing your program. The basic steps involved in exception handling follow a structured approach using specific keywords.\n",
    "\n",
    "Basic Steps in Exception Handling:\n",
    "-  Try Block – Write code that might raise an exception\n",
    "-  Except Block – Handle the exception if it occurs\n",
    "-  Else Block (optional) – Run code if no exceptions were raised\n",
    "-  Finally Block (optional) – Always execute this block, whether an exception occurred or not"
   ]
  },
  {
   "cell_type": "code",
   "execution_count": 4,
   "id": "86faa51e-91c8-4906-a455-ffb0628a2521",
   "metadata": {},
   "outputs": [
    {
     "name": "stdin",
     "output_type": "stream",
     "text": [
      "Enter a number:  0\n"
     ]
    },
    {
     "name": "stdout",
     "output_type": "stream",
     "text": [
      "You can't divide by zero!\n",
      "Execution completed.\n"
     ]
    }
   ],
   "source": [
    "try:\n",
    "    x = int(input(\"Enter a number: \"))\n",
    "    result = 10 / x\n",
    "except ZeroDivisionError:\n",
    "    print(\"You can't divide by zero!\")\n",
    "except ValueError:\n",
    "    print(\"That's not a valid number.\")\n",
    "else:\n",
    "    print(\"Result is:\", result)\n",
    "finally:\n",
    "    print(\"Execution completed.\")"
   ]
  },
  {
   "cell_type": "markdown",
   "id": "6327614f-4282-42ef-94bf-74c9a3e7659c",
   "metadata": {},
   "source": [
    "---"
   ]
  },
  {
   "cell_type": "markdown",
   "id": "f295df65-7a81-409b-98e8-1a3e2d2f51ca",
   "metadata": {},
   "source": [
    "13.   Why is memory management important in Python?\n",
    "\n",
    "Memory management is important in Python because it directly impacts the performance, stability, and efficiency of applications. Here's why it matters specifically in Python:\n",
    "\n",
    "-   Efficient Use of System Resources - Memory is a limited resource. Efficient memory management ensures your program uses just the amount of memory it needs, avoiding unnecessary overhead\n",
    "-   Prevention of Memory Leaks - Improper memory handling can lead to memory leaks (unused memory that is never released), which slow down or crash applications. Python’s garbage collector helps prevent this, but developers still need to avoid circular references or large, lingering objects.\n",
    "-   Improved Performance - Efficient memory usage allows programs to run faster and be more responsive, especially with large data processing or long-running applications.\n",
    "-  Automatic Memory Management Reduces Developer Burden - \n",
    "Python’s built-in memory manager (with reference counting and garbage collection) means developers can focus on logic, not manual memory allocation/deallocation.\n",
    "\n",
    "-  Scalability in Applications - \n",
    "Proper memory handling becomes critical in scalable systems like web servers, data pipelines, and machine learning models that handle millions of objects.\n",
    "\n",
    "-   Avoiding Crashes and Bugs - \n",
    "Memory mismanagement can cause runtime errors, crashes, or undefined behavior — Python’s memory manager helps keep programs safer and more predictable."
   ]
  },
  {
   "cell_type": "markdown",
   "id": "c460eb0c-5cb6-429a-a628-9e156dd4ff16",
   "metadata": {},
   "source": [
    "---"
   ]
  },
  {
   "cell_type": "markdown",
   "id": "acb3c317-1b18-4c3c-b610-eb71f00ba26a",
   "metadata": {},
   "source": [
    "14.   What is the role of try and except in exception handling?\n",
    "-   The try and except blocks in Python are the core components of exception handling. They work together to catch and manage errors that occur during program execution, allowing your code to fail gracefully instead of crashing.\n",
    "\n",
    "Role of `try` block:\n",
    "-  The try block is used to wrap code that might raise an exception.\n",
    "-  Python runs the code inside the try block line by line.\n",
    "-  If an exception occurs, Python jumps out of the try block and looks for a matching except block.\n",
    "-  If no error occurs, the except block is skipped.\n",
    "\n",
    "Role of `except` block:\n",
    "-  The except block is used to handle the exception that was raised in the try block.\n",
    "-  You can specify the type of exception to catch specific errors (like ZeroDivisionError, ValueError, etc.).\n",
    "-  This block allows you to provide custom error messages, retry logic, logging, or alternative flows"
   ]
  },
  {
   "cell_type": "markdown",
   "id": "d9de2608-8857-4798-b57f-fc486f2cb5b6",
   "metadata": {},
   "source": [
    "---"
   ]
  },
  {
   "cell_type": "markdown",
   "id": "b5a72e34-9b0b-4945-ad95-fd057c120be1",
   "metadata": {},
   "source": [
    "15.    How does Python's garbage collection system work?\n",
    "\n",
    "Python’s garbage collection (GC) system manages memory automatically using a hybrid approach: reference counting as the primary mechanism, and cyclic garbage collection for handling reference cycles.\n",
    "\n",
    "-   Reference Counting - Each object tracks the number of references to it. When this count reaches zero, the object is immediately deallocated. This is fast and deterministic, which is why destructors (__del__) often run right after an object goes out of scope in CPython.\n",
    "-   Cyclic Garbage Collection - Reference counting can’t detect circular references (e.g., two objects referring to each other but otherwise unreachable). To handle this, Python uses a generational garbage collector: Gen 0: Newly created objects, Gen 1 and Gen 2: Older objects that survived previous collections. The GC periodically checks for cycles in these generations and reclaims memory from unreachable object groups. However, objects with `__del__` methods may be skipped to avoid unsafe cleanup.\n",
    "-   Manual Control - Through the gc module, developers can: Trigger collection manually (gc.collect()), Disable/enable the collector (gc.disable(), gc.enable()), Inspect memory state (gc.get_objects(), gc.get_stats())\n",
    "-  Key Considerations - Python’s GC is CPython-specific; other implementations like PyPy differ. Objects with __del__ methods can create uncollectable garbage. The GC is not free-threaded, as it's governed by the GIL."
   ]
  },
  {
   "cell_type": "markdown",
   "id": "e7738dad-2431-46e9-b43b-fea766b1074d",
   "metadata": {},
   "source": [
    "---"
   ]
  },
  {
   "cell_type": "markdown",
   "id": "c596503a-098b-4191-8049-71a756d6adb3",
   "metadata": {},
   "source": [
    "16.  What is the purpose of the else block in exception handling?\n",
    "-   The else block in Python exception handling serves a specific but often overlooked purpose: it contains code that should run only if no exceptions were raised in the try block.\n",
    "\n",
    "Purpose of the else Block:\n",
    "-  It separates normal execution logic from error-handling code.\n",
    "-  It helps improve readability and structure by clearly indicating what should happen if everything goes right.\n",
    "-  It avoids accidentally catching exceptions from code that shouldn’t be inside the try block, like post-processing or success confirmation\n",
    "\n",
    "How It Works:\n",
    "-  If the code in the try block runs without raising any exceptions, the else block is executed.\n",
    "-  If an exception is raised and caught by an except block, the else block is skipped."
   ]
  },
  {
   "cell_type": "code",
   "execution_count": 17,
   "id": "b2a0514b-bc65-420d-bd06-e939cdb526de",
   "metadata": {},
   "outputs": [
    {
     "name": "stdout",
     "output_type": "stream",
     "text": [
      "File content:\n",
      "This is the 1st line\n",
      "This is the 2nd line\n",
      "This is the 3rd line\n",
      "This is the 4th line\n",
      "\n"
     ]
    }
   ],
   "source": [
    "try:\n",
    "    file = open(\"testfile.txt\",\"r\")\n",
    "except FileNotFoundError:\n",
    "    print(\"File not found. Please check the filename.\")\n",
    "except PermissionError:\n",
    "    print(\"You don't have permission to read this file.\")\n",
    "else:\n",
    "    content = file.read()\n",
    "    print(\"File content:\")\n",
    "    print(content)\n",
    "    file.close()"
   ]
  },
  {
   "cell_type": "markdown",
   "id": "8c65252f-5590-4b2a-9727-0775d65acd06",
   "metadata": {},
   "source": [
    "---"
   ]
  },
  {
   "cell_type": "markdown",
   "id": "6eb44df5-8cb5-4bb5-8aa9-c7074e5b0f40",
   "metadata": {},
   "source": [
    "17.   What are the common logging levels in Python?\n",
    "-  In Python, the built-in logging module provides a flexible framework for emitting log messages from your code. It defines standard logging levels to indicate the severity or importance of messages.\n",
    "\n",
    "Here are the common logging levels, in order of increasing severity:\n",
    "-   `DEBUG` (Level: 10) - Purpose: Detailed information, mainly for diagnostic purposes. Use case: Debugging during development.\n",
    "-    `INFO` (Level: 20) - Purpose: Confirms that things are working as expected. Use case: Routine operations and status updates.\n",
    "-  `WARNING` (Level: 30) - Purpose: Indicates something unexpected happened, but the program is still running. Use case: Deprecated features, non-critical failures.\n",
    "\n",
    "-  `ERROR` (Level: 40) - Purpose: A serious issue has occurred, preventing part of the program from functioning. Use case: Exception handling, failed operations.\n",
    "-   `CRITICAL` (Level: 50) - Purpose: A fatal error indicating the program may not continue running. Use case: System failure, unrecoverable conditions."
   ]
  },
  {
   "cell_type": "markdown",
   "id": "1eab7bb4-9219-4b39-a396-210cd7ee58fe",
   "metadata": {},
   "source": [
    "---"
   ]
  },
  {
   "cell_type": "markdown",
   "id": "82f921b9-0922-4ad4-b82a-fcb03605657b",
   "metadata": {},
   "source": [
    "18.   What is the difference between os.fork() and multiprocessing in Python?\n",
    "-    Both `os.fork()` and the `multiprocessing` module in Python are used to create separate processes, but they differ significantly in terms of abstraction, portability, and usability.\n",
    "\n",
    "`os.fork()`: Low-Level Process Creation\n",
    "-  What it does: Directly creates a new child process by duplicating the current process using the UNIX fork() system call.\n",
    "-  Platform: UNIX-only (Linux, macOS). Not available on Windows.\n",
    "-  Control: Gives you full manual control over both parent and child processes.\n",
    "-  Data Sharing: No shared memory—child gets a copy of the parent’s memory at the time of fork (Copy-on-write).\n",
    "-  When to use: If you need low-level process control and you're working on a UNIX-based system.\n",
    "\n",
    "`multiprocessing`: High-Level Abstraction for Parallelism\n",
    "-   What it does: Provides a cross-platform way to create and manage separate processes with APIs similar to the threading module.\n",
    "-   Platform: Cross-platform — works on Windows, Linux, and macOS.\n",
    "-   Control: Offers higher-level tools like Process, Pool, Queue, Pipe, etc.\n",
    "-   Data Sharing: Supports safe inter-process communication (IPC) using shared memory, queues, and pipes.\n",
    "-   When to use: When you need portable, robust, and scalable multiprocessing logic."
   ]
  },
  {
   "cell_type": "code",
   "execution_count": 28,
   "id": "05d98773-abd5-4dc7-8026-9d76509606a3",
   "metadata": {},
   "outputs": [
    {
     "name": "stdout",
     "output_type": "stream",
     "text": [
      "This is the parent process.\n"
     ]
    }
   ],
   "source": [
    "from multiprocessing import Process\n",
    "\n",
    "def child_task():\n",
    "    print(\"This is the child process.\")\n",
    "\n",
    "if __name__ == \"__main__\":\n",
    "    p = Process(target=child_task)\n",
    "    p.start()\n",
    "    p.join()\n",
    "    print(\"This is the parent process.\")"
   ]
  },
  {
   "cell_type": "markdown",
   "id": "1bd4c88f-695d-4d29-bda1-36c951ff93b0",
   "metadata": {},
   "source": [
    "---"
   ]
  },
  {
   "cell_type": "markdown",
   "id": "36d9ef5f-f919-4914-abec-468ccab4c622",
   "metadata": {},
   "source": [
    "19.    What is the importance of closing a file in Python?\n",
    "When working with files in Python, closing the file using `file.close()` (or automatically with a with statement) is crucial for several reasons:\n",
    "-  Releases System Resources - Each open file uses system-level resources (like memory and file handles), Closing the file frees those resources, which is important in programs that open many files.\n",
    "-  Ensures Data is Written - When writing to a file, data may be buffered (temporarily stored), `close()` ensures that all data is flushed (written) from the buffer to the file.\n",
    "-  Avoids File Corruption - If a file is not properly closed, especially in write mode, it may result in incomplete or corrupted data.\n",
    "-   Prevents Access Errors - Some systems may lock a file while it’s open. Not closing it can prevent other processes or users from accessing it."
   ]
  },
  {
   "cell_type": "markdown",
   "id": "38ddc783-279f-4ac3-a9d6-59fb5f66e358",
   "metadata": {},
   "source": [
    "---"
   ]
  },
  {
   "cell_type": "markdown",
   "id": "fd15355d-27c5-481b-860e-74023a4fe5bb",
   "metadata": {},
   "source": [
    "20.    What is the difference between file.read() and file.readline() in Python?\n",
    "-   `file.read()`: Reads the entire content of the file as a single string\n",
    "-   `file.readline()`: Reads only one line from the file at a time, ending at a newline character (\\n)\n",
    "-   The primary difference lies in how much data is read from the file. `file.read()` loads the whole file into memory, which is efficient for small files but can be memory-intensive for large files. On the other hand, `file.readline()` reads just one line at a time, making it more suitable for large files or when you need to process data line-by-line."
   ]
  },
  {
   "cell_type": "code",
   "execution_count": 30,
   "id": "b2deb517-8007-44a4-b5f2-b1a7569ae729",
   "metadata": {},
   "outputs": [],
   "source": [
    "f = open(\"testfile.txt\", 'w')\n",
    "f.write(\"This is the 1st line\\n\")\n",
    "f.write(\"This is the 2nd line\\n\")\n",
    "f.write(\"This is the 3rd line\\n\")\n",
    "f.write(\"This is the 4th line\\n\")\n",
    "f.close()"
   ]
  },
  {
   "cell_type": "code",
   "execution_count": 32,
   "id": "b24dfa1a-7e93-4ee9-9c7e-17196f22ff9d",
   "metadata": {},
   "outputs": [
    {
     "name": "stdout",
     "output_type": "stream",
     "text": [
      "This is the 1st line\n",
      "This is the 2nd line\n",
      "This is the 3rd line\n",
      "This is the 4th line\n",
      "\n"
     ]
    }
   ],
   "source": [
    "f = open(\"testfile.txt\", 'r')\n",
    "f.seek(0)\n",
    "print(f.read()) # reads all the lines in the file from starting\n",
    "f.close()"
   ]
  },
  {
   "cell_type": "code",
   "execution_count": 34,
   "id": "bbac19b9-c0ca-4e19-b0f9-fc74736f1ad3",
   "metadata": {},
   "outputs": [
    {
     "name": "stdout",
     "output_type": "stream",
     "text": [
      "This is the 1st line\n",
      "\n"
     ]
    }
   ],
   "source": [
    "f = open(\"testfile.txt\", 'r')\n",
    "f.seek(0)\n",
    "print(f.readline()) # reads all the lines in the file from starting\n",
    "f.close()"
   ]
  },
  {
   "cell_type": "markdown",
   "id": "a253d1d2-82d7-4c05-985b-ba5ae84258c7",
   "metadata": {},
   "source": [
    "---"
   ]
  },
  {
   "cell_type": "markdown",
   "id": "5f455ecb-a3c3-4d58-9b3c-b5095ff2d035",
   "metadata": {},
   "source": [
    "21.   What is the logging module in Python used for?\n",
    "-  The logging module in Python is used for tracking events that happen while your program runs. It provides a flexible way to: Record diagnostic messages, Track errors and warnings, Monitor program flow or state, Log data to files, console, or remote servers\n",
    "\n",
    "Main usees of Logging Module:\n",
    "-  Better than using `print()` for debugging or monitoring\n",
    "-  Supports multiple severity levels (DEBUG, INFO, WARNING, ERROR, CRITICAL)\n",
    "-  Allows filtering of messages based on level\n",
    "-  Can write logs to: Console, Files, Log management systems\n",
    "-  Helps with debugging, auditing, and maintaining large applications\n",
    "\n",
    "Typical Use Cases:\n",
    "-  Tracking function calls or user actions, Logging errors to a file for later review\n",
    "-  Capturing runtime details in production apps,  Debugging multi-module or multi-process programs"
   ]
  },
  {
   "cell_type": "markdown",
   "id": "a858d038-face-439a-93bd-f83d9786369a",
   "metadata": {},
   "source": [
    "---"
   ]
  },
  {
   "cell_type": "markdown",
   "id": "9b914a30-269d-4ffe-a4d3-0eea72648353",
   "metadata": {},
   "source": [
    "22.   What is the os module in Python used for in file handling?\n",
    "-   The `os` module in Python provides a way to interact with the operating system, and it's especially useful in file handling tasks. It allows you to perform operations like creating, deleting, renaming, and navigating files and directories - all in a platform-independent way.\n",
    "\n",
    "Common File Handling Tasks Using `os` module:\n",
    "-  `os.path.exists()` -\tCheck file/folder existence\n",
    "-  `os.mkdir()`, `os.makedirs()` - Create directories\n",
    "-  `os.remove()`, `os.rmdir()` - Delete files/directories\n",
    "-  `os.rename()` - Rename files/folders\n",
    "-  `os.listdir()` -  List files in a directory\n",
    "-  `os.getcwd()`, `os.chdir()`\t-  Get/change current directory"
   ]
  },
  {
   "cell_type": "markdown",
   "id": "a7a55914-4e3d-4437-9451-a6ff25d645cf",
   "metadata": {},
   "source": [
    "---"
   ]
  },
  {
   "cell_type": "markdown",
   "id": "d2b68443-d435-43d8-ad74-748d05b84e5f",
   "metadata": {},
   "source": [
    "23.   What are the challenges associated with memory management in Python?\n",
    "-   Memory management in Python is generally handled automatically via its garbage collection system and reference counting, but there are still several challenges developers should be aware of, especially when working with large or long-running applications.\n",
    "\n",
    "Challenges Associated with Memory Management in Python:\n",
    "\n",
    "1. Reference Cycles\n",
    "- Python uses **reference counting** as the primary memory management mechanism.\n",
    "- When objects reference each other in a **circular manner**, their reference count may **never drop to zero**, leading to **memory leaks**.\n",
    "- Python's `gc` module can detect and collect many of these cycles.\n",
    "- However, cycles involving `__del__` methods are more complex and may not be collected automatically.\n",
    "\n",
    "2.  Memory Leaks\n",
    "- Even with garbage collection, it's possible to **accidentally retain references** to unused objects.\n",
    "- Common culprits include:\n",
    "  - Global variables\n",
    "  - Caches\n",
    "  - Long-lived containers\n",
    "- These lingering references prevent memory from being reclaimed.\n",
    "- Memory leaks are especially problematic in **long-running applications** (e.g., servers or web apps).\n",
    "\n",
    "3.  Fragmentation\n",
    "- Python manages memory in **blocks** using its own allocator (`pymalloc`).\n",
    "- Frequent allocations and deallocations of differently-sized objects can cause **fragmentation**.\n",
    "- Fragmentation reduces the efficiency of memory reuse, especially in **long-running processes**.\n",
    "\n",
    "4.  Large Data Structures\n",
    "- Structures like **large lists, dictionaries, or NumPy arrays** can consume significant memory.\n",
    "- Without techniques like:\n",
    "  - **Streaming**\n",
    "  - **Batch processing**\n",
    "  - **Memory-efficient data types**\n",
    "- Programs can run out of memory or experience performance degradation.\n",
    "\n",
    "5.  Global Interpreter Lock (GIL) Limitations\n",
    "- While the GIL mainly affects **CPU-bound multithreading**, it has indirect effects on memory.\n",
    "- To bypass GIL limitations, developers often use **multiprocessing**.\n",
    "- Multiprocessing spawns **separate memory spaces**, increasing overall memory consumption.\n",
    "\n",
    "6.  Poor Use of Built-in Tools\n",
    "- Developers often overlook helpful memory management tools in Python:\n",
    "  - `del` — manually delete references to objects\n",
    "  - `gc.collect()` — explicitly trigger garbage collection\n",
    "  - Profiling tools like:\n",
    "    - `tracemalloc`\n",
    "    - `memory_profiler`\n",
    "    - `objgraph`\n",
    "- Failure to use these tools can lead to **inefficient memory usage** and hard-to-diagnose leaks."
   ]
  },
  {
   "cell_type": "markdown",
   "id": "1130b616-d377-43fc-a7dd-96344aabaf4e",
   "metadata": {},
   "source": [
    "---"
   ]
  },
  {
   "cell_type": "markdown",
   "id": "cdf6616c-6220-4800-93bb-c870a5bfe433",
   "metadata": {},
   "source": [
    "24.  How do you raise an exception manually in Python?\n",
    "-  Raising an exception is the process of intentionally triggering an error using the `raise` statement to stop normal program execution and optionally pass control to exception-handling code.\n",
    "-  In Python, raising an exception manually means that you deliberately trigger an error condition using the raise keyword. This is useful when: You want to enforce certain rules or conditions in your code, You detect invalid input or an unexpected situation, You want to alert the user or another part of your program that something went wrong."
   ]
  },
  {
   "cell_type": "code",
   "execution_count": 57,
   "id": "4084389b-eae2-4b06-8fec-ebfd4a702f70",
   "metadata": {},
   "outputs": [
    {
     "ename": "ValueError",
     "evalue": "Insufficient balance.",
     "output_type": "error",
     "traceback": [
      "\u001b[1;31m---------------------------------------------------------------------------\u001b[0m",
      "\u001b[1;31mValueError\u001b[0m                                Traceback (most recent call last)",
      "Cell \u001b[1;32mIn[57], line 6\u001b[0m\n\u001b[0;32m      3\u001b[0m         \u001b[38;5;28;01mraise\u001b[39;00m \u001b[38;5;167;01mValueError\u001b[39;00m(\u001b[38;5;124m\"\u001b[39m\u001b[38;5;124mInsufficient balance.\u001b[39m\u001b[38;5;124m\"\u001b[39m)\n\u001b[0;32m      4\u001b[0m     \u001b[38;5;28;01mreturn\u001b[39;00m balance \u001b[38;5;241m-\u001b[39m amount\n\u001b[1;32m----> 6\u001b[0m \u001b[38;5;28mprint\u001b[39m(withdraw(\u001b[38;5;241m100\u001b[39m, \u001b[38;5;241m150\u001b[39m))\n",
      "Cell \u001b[1;32mIn[57], line 3\u001b[0m, in \u001b[0;36mwithdraw\u001b[1;34m(balance, amount)\u001b[0m\n\u001b[0;32m      1\u001b[0m \u001b[38;5;28;01mdef\u001b[39;00m \u001b[38;5;21mwithdraw\u001b[39m(balance, amount):\n\u001b[0;32m      2\u001b[0m     \u001b[38;5;28;01mif\u001b[39;00m amount \u001b[38;5;241m>\u001b[39m balance:\n\u001b[1;32m----> 3\u001b[0m         \u001b[38;5;28;01mraise\u001b[39;00m \u001b[38;5;167;01mValueError\u001b[39;00m(\u001b[38;5;124m\"\u001b[39m\u001b[38;5;124mInsufficient balance.\u001b[39m\u001b[38;5;124m\"\u001b[39m)\n\u001b[0;32m      4\u001b[0m     \u001b[38;5;28;01mreturn\u001b[39;00m balance \u001b[38;5;241m-\u001b[39m amount\n",
      "\u001b[1;31mValueError\u001b[0m: Insufficient balance."
     ]
    }
   ],
   "source": [
    "def withdraw(balance, amount):\n",
    "    if amount > balance:\n",
    "        raise ValueError(\"Insufficient balance.\")\n",
    "    return balance - amount\n",
    "\n",
    "print(withdraw(100, 150))  # Raises ValueError"
   ]
  },
  {
   "cell_type": "code",
   "execution_count": 61,
   "id": "6eb9223c-7e3f-48f9-9e58-56818b4f5283",
   "metadata": {},
   "outputs": [
    {
     "name": "stdout",
     "output_type": "stream",
     "text": [
      "Withdrawal failed: Insufficient balance for withdrawal.\n"
     ]
    }
   ],
   "source": [
    "def withdraw(balance, amount):\n",
    "    if amount > balance:\n",
    "        raise ValueError(\"Insufficient balance for withdrawal.\")\n",
    "    return balance - amount\n",
    "\n",
    "# Simulate a bank account\n",
    "bank_balance = 1000  # Starting balance\n",
    "withdraw_amount = 1200  # Try to withdraw more than available\n",
    "\n",
    "try:\n",
    "    bank_balance = withdraw(bank_balance, withdraw_amount)\n",
    "    print(f\"Withdrawal successful. New balance: ₹{bank_balance}\")\n",
    "except ValueError as e:\n",
    "    print(f\"Withdrawal failed: {e}\")"
   ]
  },
  {
   "cell_type": "markdown",
   "id": "57c30f6b-c3dd-4dac-ba26-dc14cb174cc1",
   "metadata": {},
   "source": [
    "---"
   ]
  },
  {
   "cell_type": "markdown",
   "id": "421be572-f227-4b51-a94b-deff89204e42",
   "metadata": {},
   "source": [
    "25.   Why is it important to use multithreading in certain applications?\n",
    "-    Multithreading is important in certain applications because it allows programs to do multiple tasks at the same time, improving efficiency, responsiveness, and resource usage, especially in I/O-bound scenarios.\n",
    "\n",
    "Key Reasons to Use Multithreading\n",
    "\n",
    "- Improves Responsiveness - In GUI or web applications, multithreading allows the interface to stay responsive while background tasks (like loading data or downloading files) are running. Without it, the UI might freeze until the task completes.\n",
    "\n",
    "- Efficient Handling of I/O-bound Tasks - Multithreading is ideal for tasks that involve waiting, such as: Reading/writing files, Network requests, Database access. Threads can run while others are waiting, reducing idle time and improving overall efficiency.\n",
    "\n",
    "- Concurrency - Threads allow concurrent execution within a single process. This is useful in applications that need to monitor or serve multiple clients at once, such as chat servers or real-time dashboards.\n",
    "\n",
    "- Better Resource Utilization - Threads share the same memory space, making them lighter than processes. This reduces overhead and memory usage, particularly when tasks need to share data or communicate frequently.\n",
    "\n",
    "- Parallelism (to a limited extent) - While Python’s Global Interpreter Lock (GIL) limits true parallelism for CPU-bound tasks, multithreading can still improve performance in I/O-heavy workloads. For CPU-bound operations, it's better to use multiprocessing instead of multithreading."
   ]
  },
  {
   "cell_type": "markdown",
   "id": "e185d6b9-c20d-4657-bad3-ba1985f6216b",
   "metadata": {},
   "source": [
    "---"
   ]
  },
  {
   "cell_type": "markdown",
   "id": "fd606ac8-5d2e-4f07-8bb4-dd6c01d0c158",
   "metadata": {},
   "source": [
    "---"
   ]
  },
  {
   "cell_type": "markdown",
   "id": "3c09357a-e8f5-4759-a732-989eb150e690",
   "metadata": {},
   "source": [
    "# Practical Questions"
   ]
  },
  {
   "cell_type": "markdown",
   "id": "75baddd0-8d72-47c2-b822-eacd3c078840",
   "metadata": {},
   "source": [
    "1.  How can you open a file for writing in Python and write a string to it?"
   ]
  },
  {
   "cell_type": "code",
   "execution_count": 50,
   "id": "320b1de0-0221-4609-838b-e9c4011cdcf7",
   "metadata": {},
   "outputs": [],
   "source": [
    "file = open(\"test.txt\", 'w')"
   ]
  },
  {
   "cell_type": "code",
   "execution_count": 52,
   "id": "ff61b850-c404-4ed0-9b4d-1be01b61e1fb",
   "metadata": {},
   "outputs": [],
   "source": [
    "file.write(\" Answer to the first practical question in Module 7 assignment\")\n",
    "file.close()"
   ]
  },
  {
   "cell_type": "code",
   "execution_count": 55,
   "id": "9e56a935-e035-43be-a789-cdab60481617",
   "metadata": {},
   "outputs": [],
   "source": [
    "# Open a file in write mode and write a string to it\n",
    "with open(\"example.txt\", \"w\") as file:\n",
    "    file.write(\"Hello, world!\")"
   ]
  },
  {
   "cell_type": "markdown",
   "id": "98f5fb6d-1a40-4f5f-9a38-ffe671385170",
   "metadata": {},
   "source": [
    "---"
   ]
  },
  {
   "cell_type": "markdown",
   "id": "94cde8df-43e8-47e0-ba74-67e3ab7e4ed7",
   "metadata": {},
   "source": [
    "2.    Write a Python program to read the contents of a file and print each line."
   ]
  },
  {
   "cell_type": "code",
   "execution_count": 40,
   "id": "47b1726a-932c-482c-bf60-e37aa750b9e2",
   "metadata": {},
   "outputs": [
    {
     "name": "stdin",
     "output_type": "stream",
     "text": [
      "Enter the file name:  testfile.txt\n"
     ]
    },
    {
     "name": "stdout",
     "output_type": "stream",
     "text": [
      "This is the 1st line\n",
      "This is the 2nd line\n",
      "This is the 3rd line\n",
      "This is the 4th line\n",
      "This is the 6th line\n",
      "This is the 7th line\n"
     ]
    }
   ],
   "source": [
    "# Ask for the file name (or path)\n",
    "filename = input(\"Enter the file name: \")\n",
    "\n",
    "try:\n",
    "    with open(filename, 'r') as file:\n",
    "        for line in file:\n",
    "            print(line.strip())   # strip() removes trailing newline characters\n",
    "except FileNotFoundError:\n",
    "    print(\"The specified file was not found.\")\n",
    "except PermissionError:\n",
    "    print(\"You do not have permission to read this file.\")\n",
    "except Exception as e:\n",
    "    print(f\"An error occurred: {e}\")"
   ]
  },
  {
   "cell_type": "markdown",
   "id": "f519cb22-1138-4d4e-b75f-ec5f2dcc5d38",
   "metadata": {},
   "source": [
    "---"
   ]
  },
  {
   "cell_type": "markdown",
   "id": "546e1da7-4f49-41a1-a5af-013e20682eda",
   "metadata": {},
   "source": [
    "3.   How would you handle a case where the file doesn't exist while trying to open it for reading?"
   ]
  },
  {
   "cell_type": "code",
   "execution_count": 42,
   "id": "bf145c77-8201-49a5-9cbc-a4002daea06f",
   "metadata": {},
   "outputs": [
    {
     "name": "stdin",
     "output_type": "stream",
     "text": [
      "Enter the file name: dfdfesfa.txt\n"
     ]
    },
    {
     "name": "stdout",
     "output_type": "stream",
     "text": [
      "This file does not exist.\n",
      "Please enter a valid file name\n"
     ]
    }
   ],
   "source": [
    "filename = input(\"Enter the file name:\")\n",
    "try:\n",
    "    with open(\"data.txt\", 'r') as file:\n",
    "        contents = file.read()\n",
    "        print(contents)\n",
    "except: \n",
    "    print(\"This file does not exist.\\nPlease enter a valid file name\")"
   ]
  },
  {
   "cell_type": "markdown",
   "id": "d488b296-1658-4212-a78b-713953dbf9bd",
   "metadata": {},
   "source": [
    "---"
   ]
  },
  {
   "cell_type": "markdown",
   "id": "5bfffc7d-e183-4951-95aa-45314f6ba6f7",
   "metadata": {},
   "source": [
    "4.  Write a Python script that reads from one file and writes its content to another file."
   ]
  },
  {
   "cell_type": "code",
   "execution_count": 68,
   "id": "28b8ef50-f871-4194-8f9c-b84c9a33e7c9",
   "metadata": {},
   "outputs": [
    {
     "name": "stdout",
     "output_type": "stream",
     "text": [
      "File copied successfully.\n"
     ]
    }
   ],
   "source": [
    "def copy_file(source_path, destination_path):\n",
    "    try:\n",
    "        with open(source_path, 'r') as source_file:\n",
    "            content = source_file.read()\n",
    "\n",
    "        with open(destination_path, 'w') as dest_file:\n",
    "            dest_file.write(content)\n",
    "\n",
    "        print(\"File copied successfully.\")\n",
    "\n",
    "    except FileNotFoundError:\n",
    "        print(f\"Error: The file '{source_path}' does not exist.\")\n",
    "    except IOError as e:\n",
    "        print(f\"I/O error occurred: {e}\")\n",
    "\n",
    "# Example usage\n",
    "copy_file('testfile.txt', 'file1.txt')"
   ]
  },
  {
   "cell_type": "code",
   "execution_count": 74,
   "id": "306322a7-c303-4542-a2c6-5bfb5ff8c9c5",
   "metadata": {},
   "outputs": [
    {
     "name": "stdin",
     "output_type": "stream",
     "text": [
      "Enter the file name:  file1.txt\n"
     ]
    },
    {
     "name": "stdout",
     "output_type": "stream",
     "text": [
      "This is the 1st line\n",
      "This is the 2nd line\n",
      "This is the 3rd line\n",
      "This is the 4th line\n",
      "This is the 6th line\n",
      "This is the 7th line\n"
     ]
    }
   ],
   "source": [
    "# Verifying that the file has been copied successfully to the destination file\n",
    "filename = input(\"Enter the file name: \")\n",
    "try:\n",
    "    with open(filename, 'r') as file:\n",
    "        for line in file:\n",
    "            print(line.strip())\n",
    "except FileNotFoundError:\n",
    "    print(\"The specified file was not found.\")\n",
    "except PermissionError:\n",
    "    print(\"You do not have permission to read this file.\")\n",
    "except Exception as e:\n",
    "    print(f\"An error occurred: {e}\")"
   ]
  },
  {
   "cell_type": "markdown",
   "id": "799208f2-4bb3-44e4-8205-b083b78108c5",
   "metadata": {},
   "source": [
    "---"
   ]
  },
  {
   "cell_type": "markdown",
   "id": "51a491e0-a5f8-4d82-81c3-a3b43d9ff389",
   "metadata": {},
   "source": [
    "5.  How would you catch and handle division by zero error in Python?  "
   ]
  },
  {
   "cell_type": "code",
   "execution_count": 80,
   "id": "e904e331-7812-4702-ab2f-7fd6c9bf278f",
   "metadata": {},
   "outputs": [
    {
     "name": "stdin",
     "output_type": "stream",
     "text": [
      "Enter a number: 0\n"
     ]
    },
    {
     "name": "stdout",
     "output_type": "stream",
     "text": [
      "Error: Cannot divide by zero\n"
     ]
    }
   ],
   "source": [
    "num = int(input(\"Enter a number:\"))\n",
    "try:\n",
    "    result = 100 / num\n",
    "except ZeroDivisionError:\n",
    "    print(\"Error: Cannot divide by zero\")\n",
    "else:\n",
    "    print(f\"Result: {result}\")"
   ]
  },
  {
   "cell_type": "markdown",
   "id": "ff3b9fc5-25e8-4c97-b7cf-4328a48577c5",
   "metadata": {},
   "source": [
    "---"
   ]
  },
  {
   "cell_type": "markdown",
   "id": "200cf799-f373-41df-af5e-243a03dfc642",
   "metadata": {},
   "source": [
    "6.  Write a Python program that logs an error message to a log file when a division by zero exception occurs."
   ]
  },
  {
   "cell_type": "code",
   "execution_count": 83,
   "id": "dc4d36b7-84c6-48c4-b913-1cd07d39e078",
   "metadata": {},
   "outputs": [
    {
     "name": "stdout",
     "output_type": "stream",
     "text": [
      "Error: Cannot divide by zero.\n"
     ]
    }
   ],
   "source": [
    "import logging\n",
    "\n",
    "# Configure logging\n",
    "logging.basicConfig(\n",
    "    filename = 'error_log.log',\n",
    "    level = logging.ERROR,\n",
    "    format = '%(asctime)s - %(levelname)s - %(message)s'\n",
    ")\n",
    "\n",
    "def divide(a, b):\n",
    "    try:\n",
    "        result = a / b\n",
    "        print(f\"The result is {result}\")\n",
    "    except ZeroDivisionError as e:\n",
    "        logging.error(\"Attempted to divide by zero.\")\n",
    "        print(\"Error: Cannot divide by zero.\")\n",
    "\n",
    "# Example usage\n",
    "num1 = 10\n",
    "num2 = 0  # This will cause a ZeroDivisionError\n",
    "\n",
    "divide(num1, num2)"
   ]
  },
  {
   "cell_type": "markdown",
   "id": "b660e941-09ab-4a78-8b08-f6c9fa48fed2",
   "metadata": {},
   "source": [
    "---"
   ]
  },
  {
   "cell_type": "markdown",
   "id": "f0dc60a5-e9ac-4bda-960f-984b45e80df1",
   "metadata": {},
   "source": [
    "7.    How do you log information at different levels (INFO, ERROR, WARNING) in Python using the logging module?"
   ]
  },
  {
   "cell_type": "code",
   "execution_count": 85,
   "id": "d1b9accb-453d-4bbb-b5ad-3fa1efdf1380",
   "metadata": {},
   "outputs": [],
   "source": [
    "import logging\n",
    "\n",
    "# Configure the logging system\n",
    "logging.basicConfig(\n",
    "    level = logging.DEBUG,\n",
    "    filename = 'app.log',\n",
    "    filemode = 'w',  # Overwrites log file each run\n",
    "    format = '%(asctime)s - %(levelname)s - %(message)s'\n",
    ")\n",
    "\n",
    "# Log messages at different severity levels\n",
    "logging.debug(\"This is a debug message (for developers).\")\n",
    "logging.info(\"This is an info message (general updates).\")\n",
    "logging.warning(\"This is a warning message (something unexpected happened).\")\n",
    "logging.error(\"This is an error message (operation failed).\")\n",
    "logging.critical(\"This is a critical message (program may crash).\")"
   ]
  },
  {
   "cell_type": "markdown",
   "id": "6832adf9-6c48-41c5-b78d-82175a5e3c78",
   "metadata": {},
   "source": [
    "---"
   ]
  },
  {
   "cell_type": "markdown",
   "id": "b84e3ba0-88e4-4125-b75c-6a5dba634f74",
   "metadata": {},
   "source": [
    "8.   Write a program to handle a file opening error using exception handling."
   ]
  },
  {
   "cell_type": "code",
   "execution_count": 89,
   "id": "86a5f1e3-fabc-4023-bbe1-b933d7fbd4c0",
   "metadata": {},
   "outputs": [
    {
     "name": "stdout",
     "output_type": "stream",
     "text": [
      "Error: The file 'qwerty.txt' was not found.\n"
     ]
    }
   ],
   "source": [
    "def read_file(filename):\n",
    "    try:\n",
    "        with open(filename, 'r') as file:\n",
    "            content = file.read()\n",
    "            print(\"File content:\\n\", content)\n",
    "    except FileNotFoundError:\n",
    "        print(f\"Error: The file '{filename}' was not found.\")\n",
    "    except PermissionError:\n",
    "        print(f\"Error: You don't have permission to access '{filename}'.\")\n",
    "    except Exception as e:\n",
    "        print(f\"An unexpected error occurred: {e}\")\n",
    "\n",
    "# Example usage\n",
    "read_file(\"qwerty.txt\")"
   ]
  },
  {
   "cell_type": "markdown",
   "id": "dd57fda9-20f9-40dd-af1a-4ec8e495eed5",
   "metadata": {},
   "source": [
    "---"
   ]
  },
  {
   "cell_type": "markdown",
   "id": "402fc848-b069-401b-936e-ad532ebd3d85",
   "metadata": {},
   "source": [
    "9.    How can you read a file line by line and store its content in a list in Python?"
   ]
  },
  {
   "cell_type": "code",
   "execution_count": 91,
   "id": "27215b3f-19cf-494c-b931-69dedc1af651",
   "metadata": {},
   "outputs": [
    {
     "name": "stdout",
     "output_type": "stream",
     "text": [
      "['This is the 1st line\\n', 'This is the 2nd line\\n', 'This is the 3rd line\\n', 'This is the 4th line\\n', 'This is the 6th line\\n', 'This is the 7th line\\n']\n"
     ]
    }
   ],
   "source": [
    "f = open(\"file1.txt\", 'r')\n",
    "f.seek(0)\n",
    "print(f.readlines()) # all the lines will be in the form of a list\n",
    "f.close()"
   ]
  },
  {
   "cell_type": "code",
   "execution_count": 93,
   "id": "82f9c7d4-3118-4e22-a8b6-931060cfe9ae",
   "metadata": {},
   "outputs": [
    {
     "name": "stdout",
     "output_type": "stream",
     "text": [
      "['This is the 1st line', 'This is the 2nd line', 'This is the 3rd line', 'This is the 4th line', 'This is the 6th line', 'This is the 7th line']\n"
     ]
    }
   ],
   "source": [
    "def read_file_to_list(filename):\n",
    "    lines = []\n",
    "    try:\n",
    "        with open(filename, 'r') as file:\n",
    "            for line in file:\n",
    "                lines.append(line.strip())  # Remove newline character\n",
    "    except FileNotFoundError:\n",
    "        print(f\"File '{filename}' not found.\")\n",
    "    return lines\n",
    "\n",
    "# Example usage\n",
    "lines_list = read_file_to_list(\"testfile.txt\")\n",
    "print(lines_list)"
   ]
  },
  {
   "cell_type": "markdown",
   "id": "3e7dee05-42d8-4455-9abd-7a7c3f50a25a",
   "metadata": {},
   "source": [
    "---"
   ]
  },
  {
   "cell_type": "markdown",
   "id": "0d5ef321-43df-4f63-821a-28fc3e32d25d",
   "metadata": {},
   "source": [
    "10.   How can you append data to an existing file in Python?"
   ]
  },
  {
   "cell_type": "code",
   "execution_count": 95,
   "id": "0c0fbf44-660d-41c0-ba6e-adc300f5f267",
   "metadata": {},
   "outputs": [
    {
     "name": "stdout",
     "output_type": "stream",
     "text": [
      "Data appended successfully.\n"
     ]
    }
   ],
   "source": [
    "def append_to_file(filename, data):\n",
    "    try:\n",
    "        with open(filename, 'a') as file:\n",
    "            file.write(data + '\\n')  # Add a newline after the data\n",
    "        print(\"Data appended successfully.\")\n",
    "    except Exception as e:\n",
    "        print(f\"An error occurred: {e}\")\n",
    "\n",
    "# Example usage\n",
    "append_to_file(\"testfile.txt\", \"This is a new line.\")"
   ]
  },
  {
   "cell_type": "markdown",
   "id": "e8e83837-9ee8-4dce-9a55-d0e8146505bc",
   "metadata": {},
   "source": [
    "---"
   ]
  },
  {
   "cell_type": "markdown",
   "id": "f82af5e1-2686-4a40-a089-890e556503d2",
   "metadata": {},
   "source": [
    "11.   Write a Python program that uses a try-except block to handle an error when attempting to access a\n",
    "dictionary key that doesn't exist."
   ]
  },
  {
   "cell_type": "code",
   "execution_count": 1,
   "id": "2ef0b70f-bc63-46a9-8ab1-0e4988b02e9d",
   "metadata": {},
   "outputs": [
    {
     "name": "stdout",
     "output_type": "stream",
     "text": [
      "Charlie's score is 78\n",
      "Error: 'David' not found in the student scores.\n"
     ]
    }
   ],
   "source": [
    "def get_student_score(student_scores, name):\n",
    "    try:\n",
    "        score = student_scores[name]\n",
    "        print(f\"{name}'s score is {score}\")\n",
    "    except KeyError:\n",
    "        print(f\"Error: '{name}' not found in the student scores.\")\n",
    "\n",
    "# Example dictionary\n",
    "scores = {\n",
    "    \"Rocky\": 85,\n",
    "    \"Tom\": 92,\n",
    "    \"Charlie\": 78\n",
    "}\n",
    "\n",
    "# Example usage\n",
    "get_student_score(scores, \"Charlie\")     # Exists\n",
    "get_student_score(scores, \"David\")     # Does not exist"
   ]
  },
  {
   "cell_type": "markdown",
   "id": "12c52cc7-6e19-46b4-afcc-8c7434692840",
   "metadata": {},
   "source": [
    "---"
   ]
  },
  {
   "cell_type": "markdown",
   "id": "0c9be847-5f8f-4cbf-ab43-5f89326272a3",
   "metadata": {},
   "source": [
    "12.   Write a program that demonstrates using multiple except blocks to handle different types of exceptions."
   ]
  },
  {
   "cell_type": "code",
   "execution_count": 3,
   "id": "188ab6f0-fd89-4331-887b-9d9687731660",
   "metadata": {},
   "outputs": [
    {
     "name": "stdin",
     "output_type": "stream",
     "text": [
      "Enter the numerator:  50\n",
      "Enter the denominator:  0\n"
     ]
    },
    {
     "name": "stdout",
     "output_type": "stream",
     "text": [
      "Error: You can't divide by zero.\n"
     ]
    }
   ],
   "source": [
    "def divide_numbers():\n",
    "    try:\n",
    "        num1 = int(input(\"Enter the numerator: \"))\n",
    "        num2 = int(input(\"Enter the denominator: \"))\n",
    "        result = num1 / num2\n",
    "        print(f\"Result: {result}\")\n",
    "\n",
    "    except ValueError:\n",
    "        print(\"Error: Please enter valid integers.\")\n",
    "\n",
    "    except ZeroDivisionError:\n",
    "        print(\"Error: You can't divide by zero.\")\n",
    "\n",
    "    except Exception as e:\n",
    "        print(f\"An unexpected error occurred: {e}\")\n",
    "\n",
    "# Run the function\n",
    "divide_numbers()"
   ]
  },
  {
   "cell_type": "markdown",
   "id": "de7fdd6c-1df6-4114-8db4-e2984cb13a88",
   "metadata": {},
   "source": [
    "---"
   ]
  },
  {
   "cell_type": "markdown",
   "id": "ee2051e5-fe97-44a5-b72e-fc7144729981",
   "metadata": {},
   "source": [
    "13.  How would you check if a file exists before attempting to read it in Python?"
   ]
  },
  {
   "cell_type": "code",
   "execution_count": 5,
   "id": "c9f9e749-685b-47c3-bac4-ede647231b6b",
   "metadata": {},
   "outputs": [
    {
     "name": "stdout",
     "output_type": "stream",
     "text": [
      "Hello, world!\n"
     ]
    }
   ],
   "source": [
    "import os\n",
    "\n",
    "filename = \"example.txt\"\n",
    "\n",
    "if os.path.exists(filename):\n",
    "    with open(filename, 'r') as file:\n",
    "        content = file.read()\n",
    "        print(content)\n",
    "else:\n",
    "    print(f\"File '{filename}' does not exist.\")"
   ]
  },
  {
   "cell_type": "markdown",
   "id": "61c3f05e-7add-41e4-bb0e-aa318e02ed8d",
   "metadata": {},
   "source": [
    "---"
   ]
  },
  {
   "cell_type": "markdown",
   "id": "e9e11173-092d-4826-b57e-88f61802bc8f",
   "metadata": {},
   "source": [
    "14.  Write a program that uses the logging module to log both informational and error messages."
   ]
  },
  {
   "cell_type": "code",
   "execution_count": 7,
   "id": "53dd3ff0-b0e4-4a01-93cb-cfbd07d25589",
   "metadata": {},
   "outputs": [
    {
     "name": "stderr",
     "output_type": "stream",
     "text": [
      "INFO - Attempting to divide 10 by 2\n",
      "INFO - Result: 5.0\n",
      "INFO - Attempting to divide 5 by 0\n",
      "ERROR - Division by zero is not allowed.\n"
     ]
    }
   ],
   "source": [
    "import logging\n",
    "\n",
    "# Configure logging\n",
    "logging.basicConfig(\n",
    "    level=logging.DEBUG,\n",
    "    format='%(asctime)s - %(levelname)s - %(message)s',\n",
    "    filename='app.log',  # Log file\n",
    "    filemode='w'         # Overwrites the file each run; use 'a' to append\n",
    ")\n",
    "\n",
    "# Also log to console\n",
    "console = logging.StreamHandler()\n",
    "console.setLevel(logging.INFO)\n",
    "formatter = logging.Formatter('%(levelname)s - %(message)s')\n",
    "console.setFormatter(formatter)\n",
    "logging.getLogger('').addHandler(console)\n",
    "\n",
    "# Sample application logic\n",
    "def divide(a, b):\n",
    "    logging.info(f\"Attempting to divide {a} by {b}\")\n",
    "    try:\n",
    "        result = a / b\n",
    "        logging.info(f\"Result: {result}\")\n",
    "        return result\n",
    "    except ZeroDivisionError:\n",
    "        logging.error(\"Division by zero is not allowed.\")\n",
    "    except Exception as e:\n",
    "        logging.error(f\"An unexpected error occurred: {e}\")\n",
    "\n",
    "# Example usage\n",
    "divide(10, 2) \n",
    "divide(5, 0)    "
   ]
  },
  {
   "cell_type": "markdown",
   "id": "5adef825-d436-4d5e-b8e5-78f368e8bc02",
   "metadata": {},
   "source": [
    "---"
   ]
  },
  {
   "cell_type": "markdown",
   "id": "b18bd46e-e80b-453e-8742-9e7e07442467",
   "metadata": {},
   "source": [
    "15.  Write a Python program that prints the content of a file and handles the case when the file is empty."
   ]
  },
  {
   "cell_type": "code",
   "execution_count": 9,
   "id": "84a2961d-2433-414d-875f-58001809a6c5",
   "metadata": {},
   "outputs": [
    {
     "name": "stdout",
     "output_type": "stream",
     "text": [
      "File content:\n",
      "This is the 1st line\n",
      "This is the 2nd line\n",
      "This is the 3rd line\n",
      "This is the 4th line\n",
      "This is the 6th line\n",
      "This is the 7th line\n",
      "This is a new line.\n",
      "\n"
     ]
    }
   ],
   "source": [
    "def print_file_content(filename):\n",
    "    try:\n",
    "        with open(filename, 'r') as file:\n",
    "            content = file.read()\n",
    "            if content.strip() == \"\":\n",
    "                print(f\"The file '{filename}' is empty.\")\n",
    "            else:\n",
    "                print(\"File content:\")\n",
    "                print(content)\n",
    "    except FileNotFoundError:\n",
    "        print(f\"Error: File '{filename}' not found.\")\n",
    "    except Exception as e:\n",
    "        print(f\"An unexpected error occurred: {e}\")\n",
    "\n",
    "# Example usage\n",
    "print_file_content(\"testfile.txt\")"
   ]
  },
  {
   "cell_type": "markdown",
   "id": "6942151a-e62b-42ab-9d02-af6df113e5ed",
   "metadata": {},
   "source": [
    "---"
   ]
  },
  {
   "cell_type": "markdown",
   "id": "384dd117-9dc9-4840-89aa-8c031e3ccf41",
   "metadata": {},
   "source": [
    "16.   Demonstrate how to use memory profiling to check the memory usage of a small program."
   ]
  },
  {
   "cell_type": "code",
   "execution_count": 12,
   "id": "cd2fd931-f369-4216-9bb3-3bdc872e2cfc",
   "metadata": {},
   "outputs": [
    {
     "name": "stdout",
     "output_type": "stream",
     "text": [
      "Collecting memory-profilerNote: you may need to restart the kernel to use updated packages.\n",
      "\n",
      "  Downloading memory_profiler-0.61.0-py3-none-any.whl.metadata (20 kB)\n",
      "Requirement already satisfied: psutil in c:\\users\\dell\\anaconda3\\lib\\site-packages (from memory-profiler) (5.9.0)\n",
      "Downloading memory_profiler-0.61.0-py3-none-any.whl (31 kB)\n",
      "Installing collected packages: memory-profiler\n",
      "Successfully installed memory-profiler-0.61.0\n"
     ]
    }
   ],
   "source": [
    "pip install memory-profiler"
   ]
  },
  {
   "cell_type": "code",
   "execution_count": 20,
   "id": "da2fd353-bb11-4461-8a46-880011d1c72a",
   "metadata": {},
   "outputs": [],
   "source": [
    "%load_ext memory_profiler"
   ]
  },
  {
   "cell_type": "code",
   "execution_count": 22,
   "id": "bdf12def-b59d-4519-b2e0-720cde71880e",
   "metadata": {},
   "outputs": [
    {
     "name": "stdout",
     "output_type": "stream",
     "text": [
      "peak memory: 116.61 MiB, increment: 29.16 MiB\n"
     ]
    }
   ],
   "source": [
    "def create_large_list():\n",
    "    data = [x * 2 for x in range(1000000)]\n",
    "    return data\n",
    "\n",
    "%memit create_large_list()"
   ]
  },
  {
   "cell_type": "markdown",
   "id": "a47ad488-1f3e-44d7-987f-b8f056134802",
   "metadata": {},
   "source": [
    "---"
   ]
  },
  {
   "cell_type": "markdown",
   "id": "ba7d5ec4-aa6a-4e04-80cf-3fe122b1425d",
   "metadata": {},
   "source": [
    "17.  Write a Python program to create and write a list of numbers to a file, one number per line."
   ]
  },
  {
   "cell_type": "code",
   "execution_count": 24,
   "id": "2fe6bf50-5800-4311-96a7-a9353ea2295f",
   "metadata": {},
   "outputs": [
    {
     "name": "stdout",
     "output_type": "stream",
     "text": [
      "Successfully wrote 10 numbers to 'numbers.txt'.\n"
     ]
    }
   ],
   "source": [
    "def write_numbers_to_file(filename, numbers):\n",
    "    try:\n",
    "        with open(filename, 'w') as file:\n",
    "            for number in numbers:\n",
    "                file.write(f\"{number}\\n\")\n",
    "        print(f\"Successfully wrote {len(numbers)} numbers to '{filename}'.\")\n",
    "    except Exception as e:\n",
    "        print(f\"An error occurred: {e}\")\n",
    "\n",
    "# Example usage\n",
    "numbers = list(range(1, 11))  # Numbers from 1 to 10\n",
    "write_numbers_to_file(\"numbers.txt\", numbers)"
   ]
  },
  {
   "cell_type": "markdown",
   "id": "6bd75824-3bfd-4c10-a96b-393c23559a3d",
   "metadata": {},
   "source": [
    "---"
   ]
  },
  {
   "cell_type": "markdown",
   "id": "5c96d948-5cd5-4528-bca3-ead2b5b253bd",
   "metadata": {},
   "source": [
    "18.    How would you implement a basic logging setup that logs to a file with rotation after 1MB?"
   ]
  },
  {
   "cell_type": "code",
   "execution_count": 48,
   "id": "03d0bd9b-88a0-4932-947d-adbc1d3f65c5",
   "metadata": {},
   "outputs": [
    {
     "name": "stderr",
     "output_type": "stream",
     "text": [
      "INFO - Log entry 0\n",
      "INFO - Log entry 1\n",
      "INFO - Log entry 2\n",
      "INFO - Log entry 3\n",
      "INFO - Log entry 4\n",
      "INFO - Log entry 5\n",
      "INFO - Log entry 6\n",
      "INFO - Log entry 7\n",
      "INFO - Log entry 8\n",
      "INFO - Log entry 9\n"
     ]
    }
   ],
   "source": [
    "import logging\n",
    "from logging.handlers import RotatingFileHandler\n",
    "\n",
    "# Set up a rotating log handler\n",
    "handler = RotatingFileHandler('app.log', maxBytes=1_000_000, backupCount=2)\n",
    "logging.basicConfig(level=logging.INFO, handlers=[handler])\n",
    "\n",
    "# Log example messages\n",
    "for i in range(10):\n",
    "    logging.info(f\"Log entry {i}\")"
   ]
  },
  {
   "cell_type": "markdown",
   "id": "822507ca-1245-49e5-a463-07a8b4a06e68",
   "metadata": {},
   "source": [
    "---"
   ]
  },
  {
   "cell_type": "markdown",
   "id": "8bb08481-ac75-4ef5-88fc-c109c7acd6d1",
   "metadata": {},
   "source": [
    "19.   Write a program that handles both IndexError and KeyError using a try-except block."
   ]
  },
  {
   "cell_type": "code",
   "execution_count": 28,
   "id": "ffa240e7-791e-4640-b7a5-e27fb8a761b0",
   "metadata": {},
   "outputs": [
    {
     "name": "stdout",
     "output_type": "stream",
     "text": [
      "IndexError: List index is out of range.\n"
     ]
    }
   ],
   "source": [
    "my_list = [10, 20, 30]\n",
    "my_dict = {'a': 1, 'b': 2}\n",
    "\n",
    "try:\n",
    "    # Accessing invalid index\n",
    "    print(my_list[5])\n",
    "    \n",
    "    # Accessing non-existent key\n",
    "    print(my_dict['z'])\n",
    "\n",
    "except IndexError:\n",
    "    print(\"IndexError: List index is out of range.\")\n",
    "\n",
    "except KeyError:\n",
    "    print(\"KeyError: Dictionary key not found.\")"
   ]
  },
  {
   "cell_type": "markdown",
   "id": "f05ec961-4035-4f64-b10d-81d9657d8d25",
   "metadata": {},
   "source": [
    "---"
   ]
  },
  {
   "cell_type": "markdown",
   "id": "2d062993-cf2a-4b01-ace6-18e46338d375",
   "metadata": {},
   "source": [
    "20.   How would you open a file and read its contents using a context manager in Python?"
   ]
  },
  {
   "cell_type": "code",
   "execution_count": 34,
   "id": "284d3f91-8f3e-423e-8a57-997a282740e9",
   "metadata": {},
   "outputs": [
    {
     "name": "stdout",
     "output_type": "stream",
     "text": [
      "Hello, world!\n"
     ]
    }
   ],
   "source": [
    "filename = \"example.txt\"\n",
    "\n",
    "try:\n",
    "    with open(filename, 'r') as file:\n",
    "        contents = file.read()\n",
    "        print(contents)\n",
    "except FileNotFoundError:\n",
    "    print(f\"The file '{filename}' was not found.\")"
   ]
  },
  {
   "cell_type": "markdown",
   "id": "0da10c71-547a-4387-9197-fb2247b28ee9",
   "metadata": {},
   "source": [
    "---"
   ]
  },
  {
   "cell_type": "markdown",
   "id": "68b5e0ee-cc95-4066-bede-1dcef0aa389c",
   "metadata": {},
   "source": [
    "21.   Write a Python program that reads a file and prints the number of occurrences of a specific word."
   ]
  },
  {
   "cell_type": "code",
   "execution_count": 36,
   "id": "009caa75-85e4-4a1c-b670-a8bc3415c926",
   "metadata": {},
   "outputs": [
    {
     "name": "stdout",
     "output_type": "stream",
     "text": [
      "The word 'python' occurs 0 times in 'sample.txt'.\n"
     ]
    }
   ],
   "source": [
    "def count_word_occurrences(filename, target_word):\n",
    "    try:\n",
    "        with open(filename, 'r') as file:\n",
    "            content = file.read().lower()  # Convert to lowercase for case-insensitive matching\n",
    "            words = content.split()\n",
    "            count = words.count(target_word.lower())\n",
    "            print(f\"The word '{target_word}' occurs {count} times in '{filename}'.\")\n",
    "    except FileNotFoundError:\n",
    "        print(f\"The file '{filename}' was not found.\")\n",
    "    except Exception as e:\n",
    "        print(f\"An error occurred: {e}\")\n",
    "\n",
    "# Example usage\n",
    "count_word_occurrences(\"sample.txt\", \"python\")"
   ]
  },
  {
   "cell_type": "markdown",
   "id": "2e101ae8-6a0f-4cfc-888d-473132f492d0",
   "metadata": {},
   "source": [
    "---"
   ]
  },
  {
   "cell_type": "markdown",
   "id": "397bdba9-01aa-4000-a175-1cc7df1c51d2",
   "metadata": {},
   "source": [
    "22.   How can you check if a file is empty before attempting to read its contents."
   ]
  },
  {
   "cell_type": "code",
   "execution_count": 42,
   "id": "579283fd-511c-4352-866c-cfcdb1bde3fc",
   "metadata": {},
   "outputs": [
    {
     "name": "stdout",
     "output_type": "stream",
     "text": [
      "Hello, world!\n"
     ]
    }
   ],
   "source": [
    "import os\n",
    "\n",
    "filename = \"example.txt\"\n",
    "\n",
    "if os.path.exists(filename):\n",
    "    if os.path.getsize(filename) == 0:\n",
    "        print(\"The file is empty.\")\n",
    "    else:\n",
    "        with open(filename, 'r') as file:\n",
    "            content = file.read()\n",
    "            print(content)\n",
    "else:\n",
    "    print(f\"The file '{filename}' does not exist.\")"
   ]
  },
  {
   "cell_type": "markdown",
   "id": "1b9b9a4a-ef8b-4f0d-98e0-3811f4597e61",
   "metadata": {},
   "source": [
    "---"
   ]
  },
  {
   "cell_type": "markdown",
   "id": "cdd86fd7-b163-469f-9b12-b28b2ec2fb16",
   "metadata": {},
   "source": [
    "23.  Write a Python program that writes to a log file when an error occurs during file handling."
   ]
  },
  {
   "cell_type": "code",
   "execution_count": 44,
   "id": "47699e17-fd62-4dc7-a22f-491465579c65",
   "metadata": {},
   "outputs": [
    {
     "name": "stderr",
     "output_type": "stream",
     "text": [
      "ERROR - Error while reading file 'non_file.txt': [Errno 2] No such file or directory: 'non_file.txt'\n"
     ]
    },
    {
     "name": "stdout",
     "output_type": "stream",
     "text": [
      "An error occurred. Please check the log file.\n"
     ]
    }
   ],
   "source": [
    "import logging\n",
    "\n",
    "# Set up basic logging configuration\n",
    "logging.basicConfig(\n",
    "    filename='file_error.log',     # Log file name\n",
    "    level=logging.ERROR,           # Log only ERROR and above\n",
    "    format='%(asctime)s - %(levelname)s - %(message)s'\n",
    ")\n",
    "\n",
    "def read_file(filename):\n",
    "    try:\n",
    "        with open(filename, 'r') as file:\n",
    "            contents = file.read()\n",
    "            print(contents)\n",
    "    except Exception as e:\n",
    "        logging.error(f\"Error while reading file '{filename}': {e}\")\n",
    "        print(\"An error occurred. Please check the log file.\")\n",
    "\n",
    "# Example usage\n",
    "read_file(\"non_file.txt\")"
   ]
  },
  {
   "cell_type": "code",
   "execution_count": null,
   "id": "fc5b5ca2-11fb-412a-ab34-46369a236a06",
   "metadata": {},
   "outputs": [],
   "source": []
  }
 ],
 "metadata": {
  "kernelspec": {
   "display_name": "Python [conda env:base] *",
   "language": "python",
   "name": "conda-base-py"
  },
  "language_info": {
   "codemirror_mode": {
    "name": "ipython",
    "version": 3
   },
   "file_extension": ".py",
   "mimetype": "text/x-python",
   "name": "python",
   "nbconvert_exporter": "python",
   "pygments_lexer": "ipython3",
   "version": "3.12.7"
  }
 },
 "nbformat": 4,
 "nbformat_minor": 5
}
