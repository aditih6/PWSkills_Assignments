{
 "cells": [
  {
   "cell_type": "markdown",
   "id": "4f48119e-4ebb-4e29-a991-e961cff68f82",
   "metadata": {},
   "source": [
    "# Module 04 - Data Structures Asssignment "
   ]
  },
  {
   "cell_type": "markdown",
   "id": "3c7020ad-6b4d-45f6-bc74-219fd7a59a6a",
   "metadata": {},
   "source": [
    "## Data Structures - Theory Questions "
   ]
  },
  {
   "cell_type": "markdown",
   "id": "918d3973-b80b-45aa-bfb0-1da147895f0d",
   "metadata": {},
   "source": [
    "1.   "
   ]
  },
  {
   "cell_type": "markdown",
   "id": "2a11350e-a1a4-4559-86d1-9b5e76171384",
   "metadata": {},
   "source": [
    "2.   "
   ]
  },
  {
   "cell_type": "markdown",
   "id": "0b148f5c-907a-4ee3-804a-f56c92e83ee1",
   "metadata": {},
   "source": [
    "3.  "
   ]
  },
  {
   "cell_type": "markdown",
   "id": "43f02042-8a0c-4cc8-8c49-5ee3523d75ef",
   "metadata": {},
   "source": [
    "4.   "
   ]
  },
  {
   "cell_type": "markdown",
   "id": "b5cee65a-a987-4034-a5ce-adaf6fbdeff9",
   "metadata": {},
   "source": [
    "5.   "
   ]
  },
  {
   "cell_type": "markdown",
   "id": "745911ef-2e73-48fe-ad01-cd1c0dbd81d5",
   "metadata": {},
   "source": [
    "6.   "
   ]
  },
  {
   "cell_type": "markdown",
   "id": "5803a066-3119-4f73-be34-5346a8bda750",
   "metadata": {},
   "source": [
    "7.   "
   ]
  },
  {
   "cell_type": "markdown",
   "id": "7a68b79d-a062-43eb-ace1-a5fbbb5eda7c",
   "metadata": {},
   "source": [
    "8.   "
   ]
  },
  {
   "cell_type": "markdown",
   "id": "5e1c2823-3b7b-45d6-93b8-6bb756f8f70e",
   "metadata": {},
   "source": [
    "9.   "
   ]
  },
  {
   "cell_type": "markdown",
   "id": "074bc55b-55e4-44ea-8473-bde7affb6794",
   "metadata": {},
   "source": [
    "10.   "
   ]
  },
  {
   "cell_type": "markdown",
   "id": "1526f163-d438-48cf-b49a-d46891be6ad5",
   "metadata": {},
   "source": []
  },
  {
   "cell_type": "markdown",
   "id": "e158cddd-430c-44b2-b296-a4b80c867ab6",
   "metadata": {},
   "source": []
  },
  {
   "cell_type": "markdown",
   "id": "da3a6323-f8fa-4b6e-8bf4-01ac60ce5f63",
   "metadata": {},
   "source": []
  },
  {
   "cell_type": "markdown",
   "id": "231a1bcf-199a-425a-bc48-be4e9fd2dc8f",
   "metadata": {},
   "source": []
  },
  {
   "cell_type": "markdown",
   "id": "4a8afa1d-fb6c-4724-92dd-32621be184a8",
   "metadata": {},
   "source": []
  },
  {
   "cell_type": "markdown",
   "id": "f448a961-f4f8-4b9f-bef0-76597e0a0a9b",
   "metadata": {},
   "source": []
  },
  {
   "cell_type": "markdown",
   "id": "685b1a83-95e8-4793-9a26-63c7e728af84",
   "metadata": {},
   "source": []
  },
  {
   "cell_type": "markdown",
   "id": "3c6a1ab8-8889-4f61-b158-d054f6e824bd",
   "metadata": {},
   "source": []
  },
  {
   "cell_type": "markdown",
   "id": "4a8e5157-984d-4408-8f32-0bbeb2c8ab29",
   "metadata": {},
   "source": [
    "---"
   ]
  },
  {
   "cell_type": "markdown",
   "id": "e3506893-71aa-4ece-8c57-14374a78c8e3",
   "metadata": {},
   "source": [
    "---"
   ]
  },
  {
   "cell_type": "markdown",
   "id": "9f66bea6-6408-4539-909f-0ac083604895",
   "metadata": {},
   "source": [
    "## Practical Questions"
   ]
  },
  {
   "cell_type": "markdown",
   "id": "49de2a19-f310-4e99-a6d2-7682cf5271c2",
   "metadata": {},
   "source": [
    "1.   Write a code to create a string with your name and print it."
   ]
  },
  {
   "cell_type": "code",
   "execution_count": 15,
   "id": "371b8b73-ebae-41f0-bb1f-893e066c9059",
   "metadata": {},
   "outputs": [
    {
     "name": "stdout",
     "output_type": "stream",
     "text": [
      "My name is  Aditi Harish\n"
     ]
    }
   ],
   "source": [
    "name = \"Aditi Harish\"\n",
    "print(\"My name is \",name)"
   ]
  },
  {
   "cell_type": "markdown",
   "id": "4fedee26-8c7d-414d-8a33-6fdaf177a589",
   "metadata": {},
   "source": [
    "---"
   ]
  },
  {
   "cell_type": "markdown",
   "id": "31a4b11b-85cd-4dc5-90bf-879d0bad2f7b",
   "metadata": {},
   "source": [
    "2.   Write a code to find the length of the string \"Hello World\"."
   ]
  },
  {
   "cell_type": "code",
   "execution_count": 31,
   "id": "3b1fe76f-5820-4066-8201-8ca8ad558772",
   "metadata": {},
   "outputs": [
    {
     "name": "stdout",
     "output_type": "stream",
     "text": [
      "The length of the string \"Hello World\" is: 11\n"
     ]
    }
   ],
   "source": [
    "str = \"Hello World\"\n",
    "length = len(str)\n",
    "print(\"The length of the string \\\"Hello World\\\" is:\",length)"
   ]
  },
  {
   "cell_type": "markdown",
   "id": "b19d86bd-02a6-4e29-a1a5-3e2ffe053a29",
   "metadata": {},
   "source": [
    "---"
   ]
  },
  {
   "cell_type": "markdown",
   "id": "08f8c6fd-ae7c-47fa-8f79-973a65032723",
   "metadata": {},
   "source": [
    "3.   Write a code to slice the first 3 characters from the string \"Python Programming\"."
   ]
  },
  {
   "cell_type": "code",
   "execution_count": 21,
   "id": "48eb6d53-8ce5-4fff-93dd-4738f23864dd",
   "metadata": {},
   "outputs": [
    {
     "data": {
      "text/plain": [
       "'Pyt'"
      ]
     },
     "execution_count": 21,
     "metadata": {},
     "output_type": "execute_result"
    }
   ],
   "source": [
    "str = \"Python Programming\"\n",
    "str[:3]"
   ]
  },
  {
   "cell_type": "markdown",
   "id": "8d3671dd-fa19-42a6-a5fc-3f5d181b6bdf",
   "metadata": {},
   "source": [
    "---"
   ]
  },
  {
   "cell_type": "markdown",
   "id": "8be2945b-fc1c-42e3-b260-caf32f375605",
   "metadata": {},
   "source": [
    "4.   Write a code to convert the string \"hello\" to uppercase"
   ]
  },
  {
   "cell_type": "code",
   "execution_count": 24,
   "id": "4b5969ac-c04f-48a2-8577-0d4184e26cfc",
   "metadata": {},
   "outputs": [
    {
     "data": {
      "text/plain": [
       "'HELLO'"
      ]
     },
     "execution_count": 24,
     "metadata": {},
     "output_type": "execute_result"
    }
   ],
   "source": [
    "word = \"hello\"\n",
    "word.upper()"
   ]
  },
  {
   "cell_type": "markdown",
   "id": "34140fec-6590-4879-bf48-0da8d980a48f",
   "metadata": {},
   "source": [
    "---"
   ]
  },
  {
   "cell_type": "markdown",
   "id": "9e3a6597-c421-48b3-b0b4-1fd3d4ecb0f7",
   "metadata": {},
   "source": [
    "5.   Write a code to replace the word \"apple\" with \"orange\" in the string \"I like apple\"."
   ]
  },
  {
   "cell_type": "code",
   "execution_count": 27,
   "id": "38dbb7b9-2188-4537-86a7-509af5da6d98",
   "metadata": {},
   "outputs": [
    {
     "data": {
      "text/plain": [
       "'I like orange'"
      ]
     },
     "execution_count": 27,
     "metadata": {},
     "output_type": "execute_result"
    }
   ],
   "source": [
    "user_string = \"I like apple\"\n",
    "user_string.replace(\"apple\", \"orange\")"
   ]
  },
  {
   "cell_type": "markdown",
   "id": "a579ded2-737e-484e-9f4b-a5a85b706ad7",
   "metadata": {},
   "source": [
    "---"
   ]
  },
  {
   "cell_type": "markdown",
   "id": "7ceb31a3-6310-4fb4-a9a8-61f0b73e2595",
   "metadata": {},
   "source": [
    "6.   Write a code to create a list with numbers 1 to 5 and print it"
   ]
  },
  {
   "cell_type": "code",
   "execution_count": 47,
   "id": "b8fb1a6c-b9eb-427a-a665-128ea4923869",
   "metadata": {},
   "outputs": [
    {
     "name": "stdout",
     "output_type": "stream",
     "text": [
      "[1, 2, 3, 4, 5]\n",
      "[1, 2, 3, 4, 5]\n"
     ]
    }
   ],
   "source": [
    "my_list = [1, 2, 3, 4, 5]\n",
    "print(my_list)\n",
    "\n",
    "# Alternate way to create lists - Using List Comprehension\n",
    "list_numbers = [i for i in range(1, 6)]\n",
    "print(list_numbers)"
   ]
  },
  {
   "cell_type": "markdown",
   "id": "c7cb6b86-135c-476f-b415-81b95a9bf785",
   "metadata": {},
   "source": [
    "---"
   ]
  },
  {
   "cell_type": "markdown",
   "id": "5485808f-6bc5-4247-94c5-9fa46c56347b",
   "metadata": {},
   "source": [
    "7.   Write a code to append the number 10 to the list [1, 2, 3, 4]"
   ]
  },
  {
   "cell_type": "code",
   "execution_count": null,
   "id": "ec928a66-11c3-4af6-9e1f-01913d595501",
   "metadata": {},
   "outputs": [],
   "source": []
  },
  {
   "cell_type": "markdown",
   "id": "8efdfcc2-5a7a-49ed-9dda-9ba31e5b231b",
   "metadata": {},
   "source": [
    "---"
   ]
  },
  {
   "cell_type": "markdown",
   "id": "01c092b0-d635-42a3-8b8b-477ad5e8ade4",
   "metadata": {},
   "source": [
    "8.   Write a code to remove the number 3 from the list [1, 2, 3, 4, 5]. "
   ]
  },
  {
   "cell_type": "markdown",
   "id": "2afab203-7d09-4746-a004-24bcd18e170f",
   "metadata": {},
   "source": [
    "9.   Write a code to access the second element in the list ['a', 'b', 'c', 'd']"
   ]
  },
  {
   "cell_type": "markdown",
   "id": "bd11e38b-1dfe-4b01-8cfe-69872a1466c4",
   "metadata": {},
   "source": [
    "10.   Write a code to reverse the list [10, 20, 30, 40, 50]"
   ]
  },
  {
   "cell_type": "markdown",
   "id": "7b26a6f3-e239-4538-9aac-e4e8345fbe6a",
   "metadata": {},
   "source": [
    "11.   "
   ]
  },
  {
   "cell_type": "markdown",
   "id": "9709480f-0d3f-47e6-b6fe-299b0cd689c3",
   "metadata": {},
   "source": [
    "12.   "
   ]
  },
  {
   "cell_type": "markdown",
   "id": "21761952-cd24-42e0-b89c-150ab0b18474",
   "metadata": {},
   "source": [
    "13.   "
   ]
  },
  {
   "cell_type": "markdown",
   "id": "cbf78f0b-a784-4d00-b457-5353c4323503",
   "metadata": {},
   "source": [
    "14.   "
   ]
  },
  {
   "cell_type": "markdown",
   "id": "a5217cc1-8eb5-4d40-82be-8b4040729ae5",
   "metadata": {},
   "source": [
    "15.    "
   ]
  },
  {
   "cell_type": "markdown",
   "id": "b68a9b66-20c3-4c1a-ae4e-cabc0e0f7db4",
   "metadata": {},
   "source": [
    "16.  "
   ]
  },
  {
   "cell_type": "markdown",
   "id": "19ea32b6-3c15-4778-a02b-1d507c083356",
   "metadata": {},
   "source": [
    "17.   "
   ]
  },
  {
   "cell_type": "markdown",
   "id": "f3ebe4d3-a7ad-46ab-886a-4822dd77ceb7",
   "metadata": {},
   "source": [
    "18.  "
   ]
  },
  {
   "cell_type": "markdown",
   "id": "e1a463c6-b7ba-4a17-b35c-d50fcac46345",
   "metadata": {},
   "source": [
    "19.  "
   ]
  },
  {
   "cell_type": "markdown",
   "id": "70fd1316-80f4-473d-a654-11fce65f494b",
   "metadata": {},
   "source": [
    "20.  "
   ]
  },
  {
   "cell_type": "markdown",
   "id": "61da1fea-7050-4530-8e66-a52cabbf8afa",
   "metadata": {},
   "source": [
    "21.  "
   ]
  }
 ],
 "metadata": {
  "kernelspec": {
   "display_name": "Python [conda env:base] *",
   "language": "python",
   "name": "conda-base-py"
  },
  "language_info": {
   "codemirror_mode": {
    "name": "ipython",
    "version": 3
   },
   "file_extension": ".py",
   "mimetype": "text/x-python",
   "name": "python",
   "nbconvert_exporter": "python",
   "pygments_lexer": "ipython3",
   "version": "3.12.7"
  }
 },
 "nbformat": 4,
 "nbformat_minor": 5
}
