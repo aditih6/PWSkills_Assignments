{
 "cells": [
  {
   "cell_type": "markdown",
   "id": "4f48119e-4ebb-4e29-a991-e961cff68f82",
   "metadata": {},
   "source": [
    "# Module 04 - Data Structures Asssignment "
   ]
  },
  {
   "cell_type": "markdown",
   "id": "3c7020ad-6b4d-45f6-bc74-219fd7a59a6a",
   "metadata": {},
   "source": [
    "## Data Structures - Theory Questions "
   ]
  },
  {
   "cell_type": "markdown",
   "id": "918d3973-b80b-45aa-bfb0-1da147895f0d",
   "metadata": {},
   "source": [
    "1.   What are data structures, and why are they important?"
   ]
  },
  {
   "cell_type": "markdown",
   "id": "5dbb3045-b38e-4d6b-a8ed-073d530fdc0b",
   "metadata": {},
   "source": [
    "---"
   ]
  },
  {
   "cell_type": "markdown",
   "id": "2a11350e-a1a4-4559-86d1-9b5e76171384",
   "metadata": {},
   "source": [
    "2.   Explain the difference between mutable and immutable data types with examples."
   ]
  },
  {
   "cell_type": "markdown",
   "id": "7ce4e4ff-4782-4918-b008-795df9e1501c",
   "metadata": {},
   "source": [
    "---"
   ]
  },
  {
   "cell_type": "markdown",
   "id": "0b148f5c-907a-4ee3-804a-f56c92e83ee1",
   "metadata": {},
   "source": [
    "3.   What are the main differences between lists and tuples in Python?"
   ]
  },
  {
   "cell_type": "markdown",
   "id": "e3ead43c-3582-427e-a555-b55afff4a308",
   "metadata": {},
   "source": [
    "---"
   ]
  },
  {
   "cell_type": "markdown",
   "id": "43f02042-8a0c-4cc8-8c49-5ee3523d75ef",
   "metadata": {},
   "source": [
    "4.   Describe how dictionaries store data."
   ]
  },
  {
   "cell_type": "markdown",
   "id": "23691b9f-50de-48b1-bd4a-293ff460e8c7",
   "metadata": {},
   "source": [
    "---"
   ]
  },
  {
   "cell_type": "markdown",
   "id": "b5cee65a-a987-4034-a5ce-adaf6fbdeff9",
   "metadata": {},
   "source": [
    "5.   Why might you use a set instead of a list in Python?"
   ]
  },
  {
   "cell_type": "markdown",
   "id": "404d59b1-fc0b-4c64-a5a1-bb7695104ac6",
   "metadata": {},
   "source": [
    "---"
   ]
  },
  {
   "cell_type": "markdown",
   "id": "745911ef-2e73-48fe-ad01-cd1c0dbd81d5",
   "metadata": {},
   "source": [
    "6.   What is a string in Python, and how is it different from a list?"
   ]
  },
  {
   "cell_type": "markdown",
   "id": "7a8a59a9-103d-4449-b341-364c6e6ffea9",
   "metadata": {},
   "source": [
    "---"
   ]
  },
  {
   "cell_type": "markdown",
   "id": "5803a066-3119-4f73-be34-5346a8bda750",
   "metadata": {},
   "source": [
    "7.   How do tuples ensure data integrity in Python?   "
   ]
  },
  {
   "cell_type": "markdown",
   "id": "bb2a52b9-a7e0-4a56-a438-b2beacf3b264",
   "metadata": {},
   "source": [
    "---"
   ]
  },
  {
   "cell_type": "markdown",
   "id": "7a68b79d-a062-43eb-ace1-a5fbbb5eda7c",
   "metadata": {},
   "source": [
    "8.   What is a hash table, and how does it relate to dictionaries in Python?"
   ]
  },
  {
   "cell_type": "markdown",
   "id": "39ceee58-951e-4461-9efb-fcb75d8e0f48",
   "metadata": {},
   "source": [
    "---"
   ]
  },
  {
   "cell_type": "markdown",
   "id": "5e1c2823-3b7b-45d6-93b8-6bb756f8f70e",
   "metadata": {},
   "source": [
    "9.   Can lists contain different data types in Python?"
   ]
  },
  {
   "cell_type": "markdown",
   "id": "9ea44591-b529-47d9-b6a1-c0ad7b10f9f3",
   "metadata": {},
   "source": [
    "---"
   ]
  },
  {
   "cell_type": "markdown",
   "id": "074bc55b-55e4-44ea-8473-bde7affb6794",
   "metadata": {},
   "source": [
    "10.   Explain why strings are immutable in Python."
   ]
  },
  {
   "cell_type": "markdown",
   "id": "7aa12bcd-39f3-4151-89e3-d4ddf6d4cc58",
   "metadata": {},
   "source": [
    "---"
   ]
  },
  {
   "cell_type": "markdown",
   "id": "1526f163-d438-48cf-b49a-d46891be6ad5",
   "metadata": {},
   "source": [
    "11.   What advantages do dictionaries offer over lists for certain tasks?"
   ]
  },
  {
   "cell_type": "markdown",
   "id": "c87f7996-cb00-4fd6-9d08-eb56765a1a5c",
   "metadata": {},
   "source": [
    "---"
   ]
  },
  {
   "cell_type": "markdown",
   "id": "e158cddd-430c-44b2-b296-a4b80c867ab6",
   "metadata": {},
   "source": [
    "12.   Describe a scenario where using a tuple would be preferable over a list."
   ]
  },
  {
   "cell_type": "markdown",
   "id": "bbddc308-560c-4f5f-a9c3-84fe9d6dc2d8",
   "metadata": {},
   "source": [
    "---"
   ]
  },
  {
   "cell_type": "markdown",
   "id": "da3a6323-f8fa-4b6e-8bf4-01ac60ce5f63",
   "metadata": {},
   "source": [
    "13.   How do set?s handle duplicate values in Python?"
   ]
  },
  {
   "cell_type": "markdown",
   "id": "0f9cd08a-6cba-4069-ba99-fdabbae85e10",
   "metadata": {},
   "source": [
    "---"
   ]
  },
  {
   "cell_type": "markdown",
   "id": "231a1bcf-199a-425a-bc48-be4e9fd2dc8f",
   "metadata": {},
   "source": [
    "14.   How does the “in” keyword work differently for lists and dictionaries?"
   ]
  },
  {
   "cell_type": "markdown",
   "id": "b8b2543d-56f2-4fe6-8688-a723a0271761",
   "metadata": {},
   "source": [
    "---"
   ]
  },
  {
   "cell_type": "markdown",
   "id": "4a8afa1d-fb6c-4724-92dd-32621be184a8",
   "metadata": {},
   "source": [
    "15.   Can you modify the elements of a tuple? Explain why or why not?  "
   ]
  },
  {
   "cell_type": "markdown",
   "id": "58d592dd-60a1-4061-8b4f-b4c9320bfddb",
   "metadata": {},
   "source": [
    "---"
   ]
  },
  {
   "cell_type": "markdown",
   "id": "f448a961-f4f8-4b9f-bef0-76597e0a0a9b",
   "metadata": {},
   "source": [
    "16.    What is a nested dictionary, and give an example of its use case?"
   ]
  },
  {
   "cell_type": "markdown",
   "id": "3cf78b74-d12c-4881-9efe-ff0cf00d1510",
   "metadata": {},
   "source": [
    "---"
   ]
  },
  {
   "cell_type": "markdown",
   "id": "685b1a83-95e8-4793-9a26-63c7e728af84",
   "metadata": {},
   "source": [
    "17.    Describe the time complexity of accessing elements in a dictionary.  "
   ]
  },
  {
   "cell_type": "markdown",
   "id": "6d8a801d-c179-4d0f-801b-da89f52c1c12",
   "metadata": {},
   "source": [
    "---"
   ]
  },
  {
   "cell_type": "markdown",
   "id": "3c6a1ab8-8889-4f61-b158-d054f6e824bd",
   "metadata": {},
   "source": [
    "18.   In what situations are lists preferred over dictionaries."
   ]
  },
  {
   "cell_type": "markdown",
   "id": "6e28b65c-68fd-40a4-b12a-40e748b1f7fc",
   "metadata": {},
   "source": [
    "---"
   ]
  },
  {
   "cell_type": "markdown",
   "id": "a8145d1d-323c-48b8-a341-6813e5756aa2",
   "metadata": {},
   "source": [
    "19.   Why are dictionaries considered unordered, and how does that affect data retrieval?"
   ]
  },
  {
   "cell_type": "markdown",
   "id": "d13f94b7-ce7a-43a8-80ff-83a853bd6752",
   "metadata": {},
   "source": [
    "---"
   ]
  },
  {
   "cell_type": "markdown",
   "id": "0d482686-ccd0-4320-a4b2-0d0972c4b69d",
   "metadata": {},
   "source": [
    "20.   Explain the difference between a list and a dictionary in terms of data retrieval."
   ]
  },
  {
   "cell_type": "markdown",
   "id": "4a8e5157-984d-4408-8f32-0bbeb2c8ab29",
   "metadata": {},
   "source": [
    "---"
   ]
  },
  {
   "cell_type": "markdown",
   "id": "e3506893-71aa-4ece-8c57-14374a78c8e3",
   "metadata": {},
   "source": [
    "---"
   ]
  },
  {
   "cell_type": "markdown",
   "id": "9f66bea6-6408-4539-909f-0ac083604895",
   "metadata": {},
   "source": [
    "## Practical Questions"
   ]
  },
  {
   "cell_type": "markdown",
   "id": "49de2a19-f310-4e99-a6d2-7682cf5271c2",
   "metadata": {},
   "source": [
    "1.   Write a code to create a string with your name and print it."
   ]
  },
  {
   "cell_type": "code",
   "execution_count": 15,
   "id": "371b8b73-ebae-41f0-bb1f-893e066c9059",
   "metadata": {},
   "outputs": [
    {
     "name": "stdout",
     "output_type": "stream",
     "text": [
      "My name is  Aditi Harish\n"
     ]
    }
   ],
   "source": [
    "name = \"Aditi Harish\"\n",
    "print(\"My name is \",name)"
   ]
  },
  {
   "cell_type": "markdown",
   "id": "4fedee26-8c7d-414d-8a33-6fdaf177a589",
   "metadata": {},
   "source": [
    "---"
   ]
  },
  {
   "cell_type": "markdown",
   "id": "31a4b11b-85cd-4dc5-90bf-879d0bad2f7b",
   "metadata": {},
   "source": [
    "2.   Write a code to find the length of the string \"Hello World\"."
   ]
  },
  {
   "cell_type": "code",
   "execution_count": 31,
   "id": "3b1fe76f-5820-4066-8201-8ca8ad558772",
   "metadata": {},
   "outputs": [
    {
     "name": "stdout",
     "output_type": "stream",
     "text": [
      "The length of the string \"Hello World\" is: 11\n"
     ]
    }
   ],
   "source": [
    "str = \"Hello World\"\n",
    "length = len(str)\n",
    "print(\"The length of the string \\\"Hello World\\\" is:\",length)"
   ]
  },
  {
   "cell_type": "markdown",
   "id": "b19d86bd-02a6-4e29-a1a5-3e2ffe053a29",
   "metadata": {},
   "source": [
    "---"
   ]
  },
  {
   "cell_type": "markdown",
   "id": "08f8c6fd-ae7c-47fa-8f79-973a65032723",
   "metadata": {},
   "source": [
    "3.   Write a code to slice the first 3 characters from the string \"Python Programming\"."
   ]
  },
  {
   "cell_type": "code",
   "execution_count": 21,
   "id": "48eb6d53-8ce5-4fff-93dd-4738f23864dd",
   "metadata": {},
   "outputs": [
    {
     "data": {
      "text/plain": [
       "'Pyt'"
      ]
     },
     "execution_count": 21,
     "metadata": {},
     "output_type": "execute_result"
    }
   ],
   "source": [
    "str = \"Python Programming\"\n",
    "str[:3]"
   ]
  },
  {
   "cell_type": "markdown",
   "id": "8d3671dd-fa19-42a6-a5fc-3f5d181b6bdf",
   "metadata": {},
   "source": [
    "---"
   ]
  },
  {
   "cell_type": "markdown",
   "id": "8be2945b-fc1c-42e3-b260-caf32f375605",
   "metadata": {},
   "source": [
    "4.   Write a code to convert the string \"hello\" to uppercase"
   ]
  },
  {
   "cell_type": "code",
   "execution_count": 24,
   "id": "4b5969ac-c04f-48a2-8577-0d4184e26cfc",
   "metadata": {},
   "outputs": [
    {
     "data": {
      "text/plain": [
       "'HELLO'"
      ]
     },
     "execution_count": 24,
     "metadata": {},
     "output_type": "execute_result"
    }
   ],
   "source": [
    "word = \"hello\"\n",
    "word.upper()"
   ]
  },
  {
   "cell_type": "markdown",
   "id": "34140fec-6590-4879-bf48-0da8d980a48f",
   "metadata": {},
   "source": [
    "---"
   ]
  },
  {
   "cell_type": "markdown",
   "id": "9e3a6597-c421-48b3-b0b4-1fd3d4ecb0f7",
   "metadata": {},
   "source": [
    "5.   Write a code to replace the word \"apple\" with \"orange\" in the string \"I like apple\"."
   ]
  },
  {
   "cell_type": "code",
   "execution_count": 27,
   "id": "38dbb7b9-2188-4537-86a7-509af5da6d98",
   "metadata": {},
   "outputs": [
    {
     "data": {
      "text/plain": [
       "'I like orange'"
      ]
     },
     "execution_count": 27,
     "metadata": {},
     "output_type": "execute_result"
    }
   ],
   "source": [
    "user_string = \"I like apple\"\n",
    "user_string.replace(\"apple\", \"orange\")"
   ]
  },
  {
   "cell_type": "markdown",
   "id": "a579ded2-737e-484e-9f4b-a5a85b706ad7",
   "metadata": {},
   "source": [
    "---"
   ]
  },
  {
   "cell_type": "markdown",
   "id": "7ceb31a3-6310-4fb4-a9a8-61f0b73e2595",
   "metadata": {},
   "source": [
    "6.   Write a code to create a list with numbers 1 to 5 and print it"
   ]
  },
  {
   "cell_type": "code",
   "execution_count": 47,
   "id": "b8fb1a6c-b9eb-427a-a665-128ea4923869",
   "metadata": {},
   "outputs": [
    {
     "name": "stdout",
     "output_type": "stream",
     "text": [
      "[1, 2, 3, 4, 5]\n",
      "[1, 2, 3, 4, 5]\n"
     ]
    }
   ],
   "source": [
    "my_list = [1, 2, 3, 4, 5]\n",
    "print(my_list)\n",
    "\n",
    "# Alternate way to create lists - Using List Comprehension\n",
    "list_numbers = [i for i in range(1, 6)]\n",
    "print(list_numbers)"
   ]
  },
  {
   "cell_type": "markdown",
   "id": "c7cb6b86-135c-476f-b415-81b95a9bf785",
   "metadata": {},
   "source": [
    "---"
   ]
  },
  {
   "cell_type": "markdown",
   "id": "5485808f-6bc5-4247-94c5-9fa46c56347b",
   "metadata": {},
   "source": [
    "7.   Write a code to append the number 10 to the list [1, 2, 3, 4]"
   ]
  },
  {
   "cell_type": "code",
   "execution_count": 52,
   "id": "ec928a66-11c3-4af6-9e1f-01913d595501",
   "metadata": {},
   "outputs": [
    {
     "name": "stdout",
     "output_type": "stream",
     "text": [
      "Orginal List:  [1, 2, 3, 4, 5]\n",
      "New list:  [1, 2, 3, 4, 5, 10]\n"
     ]
    }
   ],
   "source": [
    "my_list = [1, 2, 3, 4, 5]\n",
    "print(\"Orginal List: \", my_list)\n",
    "\n",
    "# appending the number 10 to the list\n",
    "my_list.append(10)\n",
    "print(\"New list: \", my_list)"
   ]
  },
  {
   "cell_type": "markdown",
   "id": "8efdfcc2-5a7a-49ed-9dda-9ba31e5b231b",
   "metadata": {},
   "source": [
    "---"
   ]
  },
  {
   "cell_type": "markdown",
   "id": "01c092b0-d635-42a3-8b8b-477ad5e8ade4",
   "metadata": {},
   "source": [
    "8.   Write a code to remove the number 3 from the list [1, 2, 3, 4, 5]. "
   ]
  },
  {
   "cell_type": "code",
   "execution_count": 54,
   "id": "0ad3a4c0-4695-4e7c-a33a-7bcc5c1721b2",
   "metadata": {},
   "outputs": [
    {
     "name": "stdout",
     "output_type": "stream",
     "text": [
      "Original List:  [1, 2, 3, 4, 5]\n",
      "New list:  [1, 2, 4, 5]\n"
     ]
    }
   ],
   "source": [
    "lis = [1, 2, 3, 4, 5]\n",
    "print(\"Original List: \", lis)\n",
    "\n",
    "# Removing number 3\n",
    "lis.remove(3)\n",
    "print(\"New list: \", lis)"
   ]
  },
  {
   "cell_type": "markdown",
   "id": "9ead4aa8-2bd9-49eb-8d52-b40f4a3eaed3",
   "metadata": {},
   "source": [
    "---"
   ]
  },
  {
   "cell_type": "markdown",
   "id": "2afab203-7d09-4746-a004-24bcd18e170f",
   "metadata": {},
   "source": [
    "9.   Write a code to access the second element in the list ['a', 'b', 'c', 'd']"
   ]
  },
  {
   "cell_type": "code",
   "execution_count": 56,
   "id": "acc03df8-e570-4ec6-ac76-3c8fa2ea372b",
   "metadata": {},
   "outputs": [
    {
     "name": "stdout",
     "output_type": "stream",
     "text": [
      " Original list:  ['a', 'b', 'c', 'd']\n",
      " Accessing the second element in my list:  b\n"
     ]
    }
   ],
   "source": [
    "my_list = ['a', 'b', 'c', 'd']\n",
    "print(\" Original list: \", my_list)\n",
    "\n",
    "# accessing the second element\n",
    "print(\" Accessing the second element in my list: \", my_list[1])"
   ]
  },
  {
   "cell_type": "markdown",
   "id": "4af4b03f-2fe3-4167-8e17-e22f5f20aca4",
   "metadata": {},
   "source": [
    "---"
   ]
  },
  {
   "cell_type": "markdown",
   "id": "bd11e38b-1dfe-4b01-8cfe-69872a1466c4",
   "metadata": {},
   "source": [
    "10.   Write a code to reverse the list [10, 20, 30, 40, 50]"
   ]
  },
  {
   "cell_type": "code",
   "execution_count": 58,
   "id": "8103215b-bf65-4121-a309-0fd0725ec18a",
   "metadata": {},
   "outputs": [
    {
     "name": "stdout",
     "output_type": "stream",
     "text": [
      "Original List:  [10, 20, 30, 40, 50]\n",
      "Reveresd List:  [10, 20, 30, 40, 50]\n"
     ]
    }
   ],
   "source": [
    "lis = [10, 20, 30, 40, 50]\n",
    "print(\"Original List: \", lis)\n",
    "\n",
    "rev_lis = [i for i in lis]\n",
    "print(\"Reveresd List: \", rev_lis)"
   ]
  },
  {
   "cell_type": "markdown",
   "id": "855cb843-d78d-49ef-b5c3-5b66e3f15df1",
   "metadata": {},
   "source": [
    "---"
   ]
  },
  {
   "cell_type": "markdown",
   "id": "7b26a6f3-e239-4538-9aac-e4e8345fbe6a",
   "metadata": {},
   "source": [
    "11.   Write a code to create a tuple with the elements 100, 200, 300 and print it."
   ]
  },
  {
   "cell_type": "code",
   "execution_count": 72,
   "id": "b9d71a86-2402-453f-99aa-6ceb6a1a9699",
   "metadata": {},
   "outputs": [
    {
     "name": "stdout",
     "output_type": "stream",
     "text": [
      "Tuple: (100, 200, 300)\n"
     ]
    }
   ],
   "source": [
    "tuple_sam = (100, 200, 300)\n",
    "print(\"Tuple:\", tuple_sam)"
   ]
  },
  {
   "cell_type": "markdown",
   "id": "2560b680-a725-4da4-b4a6-cf8adcba1d64",
   "metadata": {},
   "source": [
    "---"
   ]
  },
  {
   "cell_type": "markdown",
   "id": "9709480f-0d3f-47e6-b6fe-299b0cd689c3",
   "metadata": {},
   "source": [
    "12.   Write a code to access the second-to-last element of the tuple ('red', 'green', 'blue', 'yellow')."
   ]
  },
  {
   "cell_type": "code",
   "execution_count": 76,
   "id": "3cc7de65-13c4-408e-a3c7-20d5b9238c15",
   "metadata": {},
   "outputs": [
    {
     "name": "stdout",
     "output_type": "stream",
     "text": [
      "Original List:  ('red', 'green', 'blue', 'yellow')\n",
      "\n",
      "The second to last element in the tuple is: blue\n"
     ]
    }
   ],
   "source": [
    "tuple_sam = ('red', 'green', 'blue', 'yellow')\n",
    "print(\"Original List: \", tuple_sam)\n",
    "\n",
    "print(\"\\nThe second to last element in the tuple is:\", tuple_sam[-2])"
   ]
  },
  {
   "cell_type": "markdown",
   "id": "6760d1ed-3758-4759-8345-71b19bf7691b",
   "metadata": {},
   "source": [
    "---"
   ]
  },
  {
   "cell_type": "markdown",
   "id": "21761952-cd24-42e0-b89c-150ab0b18474",
   "metadata": {},
   "source": [
    "13.   Write a code to find the minimum number in the tuple (10, 20, 5, 15)."
   ]
  },
  {
   "cell_type": "code",
   "execution_count": 78,
   "id": "82daa22d-0f9f-4cee-bb24-30c7e1f4fcb9",
   "metadata": {},
   "outputs": [
    {
     "name": "stdout",
     "output_type": "stream",
     "text": [
      "Original List:  (10, 20, 5, 15)\n",
      "Minimum number in the tuple: 5\n"
     ]
    }
   ],
   "source": [
    "tuple_sam = (10, 20, 5, 15)\n",
    "print(\"Original List: \", tuple_sam)\n",
    "\n",
    "print(\"Minimum number in the tuple:\", min(tuple_sam))"
   ]
  },
  {
   "cell_type": "markdown",
   "id": "2346c8a1-dc85-40d2-8121-67a64a9db1bd",
   "metadata": {},
   "source": [
    "---"
   ]
  },
  {
   "cell_type": "markdown",
   "id": "cbf78f0b-a784-4d00-b457-5353c4323503",
   "metadata": {},
   "source": [
    "14.   Write a code to find the index of the element \"cat\" in the tuple ('dog', 'cat', 'rabbit')."
   ]
  },
  {
   "cell_type": "code",
   "execution_count": 100,
   "id": "5320fb25-e63b-412b-9b9a-8a59ced6d584",
   "metadata": {},
   "outputs": [
    {
     "name": "stdout",
     "output_type": "stream",
     "text": [
      "The original tuple is:  ('dog', 'cat', 'rabbit')\n",
      "The index of the element cat in the tuple is:  1\n"
     ]
    }
   ],
   "source": [
    "tuple_sample = ('dog', 'cat', 'rabbit')\n",
    "print(\"The original tuple is: \", tuple_sample)\n",
    "\n",
    "print(\"The index of the element cat in the tuple is: \", tuple_sample.index('cat'))"
   ]
  },
  {
   "cell_type": "markdown",
   "id": "612589c9-cd8d-40f0-8fef-707d180cfd2c",
   "metadata": {},
   "source": [
    "---"
   ]
  },
  {
   "cell_type": "markdown",
   "id": "a5217cc1-8eb5-4d40-82be-8b4040729ae5",
   "metadata": {},
   "source": [
    "15.    Write a code to create a tuple containing three different fruits and check if \"kiwi\" is in it."
   ]
  },
  {
   "cell_type": "code",
   "execution_count": 1,
   "id": "eecdcae2-0d49-41ce-8432-f739dcb249f4",
   "metadata": {},
   "outputs": [
    {
     "name": "stdout",
     "output_type": "stream",
     "text": [
      "The original tuple is: ('apple', 'banana', 'orange', 'kiwi', 'lychee')\n",
      "The string 'kiwi' is present in the tuple\n"
     ]
    }
   ],
   "source": [
    "tuple_fruits = ('apple', 'banana', 'orange', 'kiwi', 'lychee')\n",
    "print(\"The original tuple is:\", tuple_fruits)\n",
    "\n",
    "if 'kiwi' in tuple_fruits:\n",
    "    print(\"The string \\'kiwi\\' is present in the tuple\")\n",
    "else:\n",
    "    print(\"The string \\'kiwi\\' is not present in the tuple\")"
   ]
  },
  {
   "cell_type": "markdown",
   "id": "499155e4-15be-41af-b8f5-d6471dd2a98c",
   "metadata": {},
   "source": [
    "---"
   ]
  },
  {
   "cell_type": "markdown",
   "id": "b68a9b66-20c3-4c1a-ae4e-cabc0e0f7db4",
   "metadata": {},
   "source": [
    "16.   Write a code to create a set with the elements 'a', 'b', 'c' and print it."
   ]
  },
  {
   "cell_type": "code",
   "execution_count": 86,
   "id": "ca68d4b2-3421-4db4-9bd9-2bf5b6cb3652",
   "metadata": {},
   "outputs": [
    {
     "name": "stdout",
     "output_type": "stream",
     "text": [
      "{'a', 'b', 'c'}\n"
     ]
    }
   ],
   "source": [
    "set_sample = {'a', 'b', 'c'}\n",
    "print(set_sample)"
   ]
  },
  {
   "cell_type": "markdown",
   "id": "fe35d3c8-b146-4954-8144-c447fca8f6d5",
   "metadata": {},
   "source": [
    "---"
   ]
  },
  {
   "cell_type": "markdown",
   "id": "19ea32b6-3c15-4778-a02b-1d507c083356",
   "metadata": {},
   "source": [
    "17.   Write a code to clear all elements from the set {1, 2, 3, 4, 5}."
   ]
  },
  {
   "cell_type": "code",
   "execution_count": 96,
   "id": "35ded821-ae5a-4fbd-b8a9-ad910c5b7019",
   "metadata": {},
   "outputs": [
    {
     "name": "stdout",
     "output_type": "stream",
     "text": [
      "The original set is:  {1, 2, 3, 4, 5}\n"
     ]
    }
   ],
   "source": [
    "sample_set = {1, 2, 3, 4, 5}\n",
    "print(\"The original set is: \", sample_set) \n",
    "\n",
    "sample_set.clear()"
   ]
  },
  {
   "cell_type": "markdown",
   "id": "13acca20-d1db-4c4d-93ec-c999c708e5af",
   "metadata": {},
   "source": [
    "---"
   ]
  },
  {
   "cell_type": "markdown",
   "id": "f3ebe4d3-a7ad-46ab-886a-4822dd77ceb7",
   "metadata": {},
   "source": [
    "18.   Write a code to remove the element 4 from the set {1, 2, 3, 4}."
   ]
  },
  {
   "cell_type": "code",
   "execution_count": 108,
   "id": "a2e3a4c7-e54c-403b-957b-2308930923ad",
   "metadata": {},
   "outputs": [
    {
     "name": "stdout",
     "output_type": "stream",
     "text": [
      "The original set is: {1, 2, 3, 4}\n",
      "Set after removing the element 4: {1, 2, 3}\n"
     ]
    }
   ],
   "source": [
    "set_sample = {1, 2, 3, 4}\n",
    "print(\"The original set is:\", set_sample)\n",
    "\n",
    "set_sample.remove(4)\n",
    "print(\"Set after removing the element 4:\", set_sample)"
   ]
  },
  {
   "cell_type": "markdown",
   "id": "785263af-45d4-48bf-a34e-9545364a21f5",
   "metadata": {},
   "source": [
    "---"
   ]
  },
  {
   "cell_type": "markdown",
   "id": "e1a463c6-b7ba-4a17-b35c-d50fcac46345",
   "metadata": {},
   "source": [
    "19.   Write a code to find the union of two sets {1, 2, 3} and {3, 4, 5}."
   ]
  },
  {
   "cell_type": "code",
   "execution_count": 116,
   "id": "889a799c-7774-458e-b5b4-166f38986a7b",
   "metadata": {},
   "outputs": [
    {
     "name": "stdout",
     "output_type": "stream",
     "text": [
      "The union of two sets: {1, 2, 3, 4, 5}\n"
     ]
    }
   ],
   "source": [
    "set1 = {1, 2, 3}\n",
    "set2 = {3, 4, 5}\n",
    "\n",
    "union = set1 | set2\n",
    "print(\"The union of two sets:\", union)"
   ]
  },
  {
   "cell_type": "markdown",
   "id": "83542e4f-f26f-41a1-915a-f149f2069172",
   "metadata": {},
   "source": [
    "---"
   ]
  },
  {
   "cell_type": "markdown",
   "id": "70fd1316-80f4-473d-a654-11fce65f494b",
   "metadata": {},
   "source": [
    "20.  Write a code to find the intersection of two sets {1, 2, 3} and {2, 3, 4}."
   ]
  },
  {
   "cell_type": "code",
   "execution_count": 118,
   "id": "a1c3b96d-ea0c-4ada-8938-43a0fbc6eb78",
   "metadata": {},
   "outputs": [
    {
     "name": "stdout",
     "output_type": "stream",
     "text": [
      "The intersection of two sets: {3}\n"
     ]
    }
   ],
   "source": [
    "set1 = {1, 2, 3}\n",
    "set2 = {3, 4, 5}\n",
    "\n",
    "intersection = set1 & set2\n",
    "print(\"The intersection of two sets:\", intersection)"
   ]
  },
  {
   "cell_type": "markdown",
   "id": "47e8ce1d-17eb-4bcf-be37-13892900afd1",
   "metadata": {},
   "source": [
    "---"
   ]
  },
  {
   "cell_type": "markdown",
   "id": "61da1fea-7050-4530-8e66-a52cabbf8afa",
   "metadata": {},
   "source": [
    "21.   Write a code to create a dictionary with the keys \"name\", \"age\", and \"city\", and print it."
   ]
  },
  {
   "cell_type": "code",
   "execution_count": 126,
   "id": "41a7954a-dcd6-4cdc-8d8f-508956965d45",
   "metadata": {},
   "outputs": [
    {
     "name": "stdout",
     "output_type": "stream",
     "text": [
      "Name: Eva\n",
      "Age: 35 years\n",
      "City: Bengaluru\n"
     ]
    }
   ],
   "source": [
    "dict_sample = {\"Name:\": \"Eva\", \"Age:\": \"35 years\", \"City:\": \"Bengaluru\"}\n",
    "\n",
    "for (k, val) in dict_sample.items(): \n",
    "    print(k, val)"
   ]
  },
  {
   "cell_type": "markdown",
   "id": "49820751-9ccb-46b7-891f-51d0f02fc0f8",
   "metadata": {},
   "source": [
    "---"
   ]
  },
  {
   "cell_type": "markdown",
   "id": "75e6bbe2-ed49-4490-8206-dc1af7490d74",
   "metadata": {},
   "source": [
    "22.  Write a code to add a new key-value pair \"country\": \"USA\" to the dictionary {'name': 'John', 'age': 25}."
   ]
  },
  {
   "cell_type": "code",
   "execution_count": 13,
   "id": "20815b39-bee7-477c-b6ec-9c0d31669220",
   "metadata": {},
   "outputs": [
    {
     "name": "stdout",
     "output_type": "stream",
     "text": [
      "The original dictionary is as below:\n",
      "name John\n",
      "age 25\n",
      "New dictionary is:  {'name': 'John', 'age': 25, 'country': 'USA'}\n"
     ]
    }
   ],
   "source": [
    "dic_sample = {'name': 'John', 'age': 25}\n",
    "print(\"The original dictionary is as below:\")\n",
    "for (k, val) in dic_sample.items():\n",
    "    print(k, val)\n",
    "\n",
    "dic_sample['country'] = 'USA'\n",
    "print(\"New dictionary is: \", dic_sample)"
   ]
  },
  {
   "cell_type": "markdown",
   "id": "d49d1089-a278-41a4-a3a4-c6975e346a86",
   "metadata": {},
   "source": [
    "---"
   ]
  },
  {
   "cell_type": "markdown",
   "id": "8d74597c-e7fc-465b-9132-30de20ba8a03",
   "metadata": {},
   "source": [
    "23.  Write a code to access the value associated with the key \"name\" in the dictionary {'name': 'Alice', 'age': 30}."
   ]
  },
  {
   "cell_type": "code",
   "execution_count": 24,
   "id": "9d9a289a-a924-4d4a-8382-609495c6062e",
   "metadata": {},
   "outputs": [
    {
     "name": "stdout",
     "output_type": "stream",
     "text": [
      "The value associated with name is: Alice\n"
     ]
    }
   ],
   "source": [
    "sample_dic = {'name': 'Alice', 'age': 30}\n",
    "\n",
    "name_val = sample_dic['name']\n",
    "print(\"The value associated with name is:\", name_val)"
   ]
  },
  {
   "cell_type": "markdown",
   "id": "a9769448-8fe3-4b71-b83b-11d1e2ed36d3",
   "metadata": {},
   "source": [
    "---"
   ]
  },
  {
   "cell_type": "markdown",
   "id": "4b8d0ddf-7d28-4630-87f4-80695faf1193",
   "metadata": {},
   "source": [
    "24.   Write a code to remove the key \"age\" from the dictionary {'name': 'Bob', 'age': 22, 'city': 'New York'}"
   ]
  },
  {
   "cell_type": "code",
   "execution_count": 32,
   "id": "fd489083-f859-408f-bd31-98c9e93b6366",
   "metadata": {},
   "outputs": [
    {
     "name": "stdout",
     "output_type": "stream",
     "text": [
      "The original dictionary is: {'name': 'Bob', 'age': 22, 'city': 'New York'}\n",
      "New dictionary:\n",
      "{'name': 'Bob', 'city': 'New York'}\n"
     ]
    }
   ],
   "source": [
    "dic = {'name': 'Bob', 'age': 22, 'city': 'New York'}\n",
    "print(\"The original dictionary is:\", dic)\n",
    "\n",
    "dic.pop('age')\n",
    "print(\"New dictionary:\")\n",
    "print(dic)"
   ]
  },
  {
   "cell_type": "markdown",
   "id": "828a9e93-7268-42b0-a3f3-777a959454e0",
   "metadata": {},
   "source": [
    "---"
   ]
  },
  {
   "cell_type": "markdown",
   "id": "4f4f6ae3-2b5b-451f-8b2e-f884ae4319cd",
   "metadata": {},
   "source": [
    "25.    Write a code to check if the key \"city\" exists in the dictionary {'name': 'Alice', 'city': 'Paris'}."
   ]
  },
  {
   "cell_type": "code",
   "execution_count": 36,
   "id": "344ee509-0c94-4932-9137-2ed663cebff1",
   "metadata": {},
   "outputs": [
    {
     "name": "stdout",
     "output_type": "stream",
     "text": [
      "Yes, key 'name' exists in the dictionary\n"
     ]
    }
   ],
   "source": [
    "dic_sam = {'name': 'Alice', 'city': 'Paris'}\n",
    "\n",
    "if 'name' in dic_sam:\n",
    "    print(\"Yes, key 'name' exists in the dictionary\")\n",
    "else:\n",
    "    print(\"The key 'name' does not exist in the dictionary\")"
   ]
  },
  {
   "cell_type": "markdown",
   "id": "ec9e15cb-0784-4f09-9d38-9eaf1f38c72d",
   "metadata": {},
   "source": [
    "---"
   ]
  },
  {
   "cell_type": "markdown",
   "id": "b89a6c93-994c-4efe-aeb5-167eee6cdbd6",
   "metadata": {},
   "source": [
    "26.  "
   ]
  },
  {
   "cell_type": "markdown",
   "id": "17c4d89b-a508-40e3-9352-c53450919814",
   "metadata": {},
   "source": [
    "---"
   ]
  },
  {
   "cell_type": "markdown",
   "id": "1d60daea-af3b-420e-8e50-71815def30d2",
   "metadata": {},
   "source": [
    "27.   "
   ]
  },
  {
   "cell_type": "markdown",
   "id": "a946def9-c017-4ecd-b009-fc93a8d38e24",
   "metadata": {},
   "source": [
    "---"
   ]
  },
  {
   "cell_type": "markdown",
   "id": "32e7b6fd-b31b-4e5b-892d-e714d903caf8",
   "metadata": {},
   "source": [
    "28.  "
   ]
  },
  {
   "cell_type": "markdown",
   "id": "b22bcb0c-0d5a-43db-b927-eb8ff646e6c4",
   "metadata": {},
   "source": [
    "---"
   ]
  },
  {
   "cell_type": "markdown",
   "id": "3d63bc0c-18c6-414a-9d9b-cefa25881592",
   "metadata": {},
   "source": [
    "29.   "
   ]
  },
  {
   "cell_type": "markdown",
   "id": "276c6260-6175-4406-a24b-0514c85bc0be",
   "metadata": {},
   "source": [
    "---"
   ]
  },
  {
   "cell_type": "markdown",
   "id": "2a90fb5e-68f9-43fd-91af-49ada8355f1f",
   "metadata": {},
   "source": [
    "30.  "
   ]
  }
 ],
 "metadata": {
  "kernelspec": {
   "display_name": "Python [conda env:base] *",
   "language": "python",
   "name": "conda-base-py"
  },
  "language_info": {
   "codemirror_mode": {
    "name": "ipython",
    "version": 3
   },
   "file_extension": ".py",
   "mimetype": "text/x-python",
   "name": "python",
   "nbconvert_exporter": "python",
   "pygments_lexer": "ipython3",
   "version": "3.12.7"
  }
 },
 "nbformat": 4,
 "nbformat_minor": 5
}
