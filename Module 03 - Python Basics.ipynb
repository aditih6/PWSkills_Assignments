{
 "cells": [
  {
   "cell_type": "markdown",
   "id": "853acb38-0b35-45d7-a923-d701349db000",
   "metadata": {},
   "source": [
    "# Module 03 - Python Basics Assignment"
   ]
  },
  {
   "cell_type": "markdown",
   "id": "a68a474c-b543-4c00-8569-c0c08d26f658",
   "metadata": {},
   "source": [
    "## Python Basics Questions - Theory"
   ]
  },
  {
   "cell_type": "markdown",
   "id": "0ed8e00f-f41b-484f-a1d0-6a8d6b3ff5ee",
   "metadata": {},
   "source": [
    "1. What is Python, and why is it popular?\n",
    "\n",
    "-    Python is a high-level, interpreted programming language known for its clear and readable syntax. It supports multiple programming paradigms, including procedural, object-oriented, and functional programming. Python is dynamically typed and features automatic memory management, which contributes to faster development and ease of use.\n",
    "\n",
    "-    Python was created by Guido van Rossum and was first released in 1991. He began developing Python in the late 1980s as a hobby project during his time at the Centrum Wiskunde & Informatica (CWI) in the Netherlands.\n",
    "  \n",
    "-    Python's popularity is largely due to its simplicity in its syntax, extensive standard libraries that support various fields such as web development, data analysis, machine learning, automation, and scripting. Its strong community support and cross-platform compatibility make it an ideal choice for beginners and experienced developers alike. Additionally, Python's role in emerging technologies like artificial intelligence and data science has significantly contributed to its widespread adoption."
   ]
  },
  {
   "cell_type": "markdown",
   "id": "ad0c51aa-ffcc-4f92-a228-cce43c751484",
   "metadata": {},
   "source": [
    "---"
   ]
  },
  {
   "cell_type": "markdown",
   "id": "7a1350e7-b0c7-4a4a-954c-796b7df32b66",
   "metadata": {},
   "source": [
    "2. What is an interpreter in Python?\n",
    "-    An interpreter in Python is a program that reads and executes Python code line by line. Unlike compiled languages, where the entire code is translated into machine language before execution, Python's interpreter processes the code one statement at a time, which makes it easier to test and debug programs.\n",
    "\n",
    "-    When a Python script is run, the interpreter first converts the code into an intermediate form called bytecode, not the machine code and then the Python Virtual Machine (PVM) executes this bytecode. This allows Python to be platform-independent, as the same bytecode can run on different operating systems as long as a compatible interpreter is installed."
   ]
  },
  {
   "cell_type": "markdown",
   "id": "ec751a59-f130-439e-bbf4-cf973ce7b8a0",
   "metadata": {},
   "source": [
    "---"
   ]
  },
  {
   "cell_type": "markdown",
   "id": "3c643edc-443e-4892-ace9-80b186a27747",
   "metadata": {},
   "source": [
    "3. What are pre-defined keywords in Python?\n",
    "-    Pre-defined keywords in Python are reserved words that have special meaning in the language's syntax and structure.\n",
    "-    These keywords cannot be used as identifiers, for example, as variable or function names, because they are essential for control flow of      a executable and valid python code\n",
    "-    Examples for keywords are: ```if```, `elif`, `else`, `def`, `import`, etc "
   ]
  },
  {
   "cell_type": "markdown",
   "id": "26a87514-d5de-447d-97ad-55cbab5e3f94",
   "metadata": {},
   "source": [
    "---"
   ]
  },
  {
   "cell_type": "markdown",
   "id": "4f6ad93a-a9ac-47f8-8f75-14a0c6a79c3d",
   "metadata": {},
   "source": [
    "4. Can keywords be used as variable names?\n",
    "-   No, keywords cannot be used as variable names in Python.\n",
    "-   Keywords are reserved words that have special meaning in the Python language. They are part of the syntax and structure, so Python uses       them to understand how the code should be executed. "
   ]
  },
  {
   "cell_type": "markdown",
   "id": "c108e2b1-b5e3-4d20-820e-58c886e3e080",
   "metadata": {},
   "source": [
    "---"
   ]
  },
  {
   "cell_type": "markdown",
   "id": "56b524a6-030d-4e15-8a51-6f2ce8b412ce",
   "metadata": {},
   "source": [
    "5.   What is mutability in Python?\n",
    "-    In Python, mutability refers to whether or not an object can be changed after it is created. Mutability affects how variables behave          when passed to functions. It’s important for memory efficiency, performance, and data safety.\n",
    "-    If an object allows its content (such as elements, attributes, or values) to be altered without changing its identity (i.e., memory           location), it is considered mutable. If not, it is immutable."
   ]
  },
  {
   "cell_type": "markdown",
   "id": "00d61ed2-7af0-4793-8faf-488e8044c13a",
   "metadata": {},
   "source": [
    "---"
   ]
  },
  {
   "cell_type": "markdown",
   "id": "1efdbb01-d4f0-4a34-a7de-295167907d63",
   "metadata": {},
   "source": [
    "6. Why are lists mutable, but tuples are immutable?\n",
    "-   Lists ae mutable because they are designed to be flexible and dynamic. We can add, remove, or change elements in a list after it's been       created. This makes lists useful in situations where the data is expected to change over time.\n",
    "-   Examples of Lists, Shopping Cart in an E-commerce App - A list can hold items a user adds to their cart and can remove or add items           dynamically. Task Manager or To-Do List - Tasks can be added, removed, or marked complete.\n",
    "\n",
    "-   Tuples, are immutable by design. Once a tuple is created, its contents cannot be altered, that is you can't add, remove, or change            elements. Tuples offer certain advantages due to their immutability. From a performance standpoint, tuples are slightly more memory-          efficient and faster than lists in certain contexts, as their fixed size allows for optimizations under the hood.\n",
    "-   Examples of tuples, To store Geographic Coordinates - Latitude and longitude are constant pairs. RGB Color Values - Colors are fixed 3-       value tuples (Red, Green, Blue)."
   ]
  },
  {
   "cell_type": "markdown",
   "id": "9d065ae1-6992-42f9-8a00-35de558ae6e7",
   "metadata": {},
   "source": [
    "---"
   ]
  },
  {
   "cell_type": "markdown",
   "id": "15ea9dd8-9198-4c43-b619-74dc11b04432",
   "metadata": {},
   "source": [
    "7. What is the difference between “==” and “is” operators in Python?\n",
    "-   `==` - Equality Operator is used to check is the values of two objects are equal or not.\n",
    "-   `is` - Is operator is used to check whether two variables refer to the same object in memory or not\n"
   ]
  },
  {
   "cell_type": "code",
   "execution_count": 6,
   "id": "caaaf0a3-e1e9-464a-bae5-fe58351af34c",
   "metadata": {},
   "outputs": [
    {
     "name": "stdout",
     "output_type": "stream",
     "text": [
      "not equal\n",
      "False\n",
      "True\n"
     ]
    }
   ],
   "source": [
    "# Eg for compaing both \"==\" and \"is\" operator\n",
    "a = a = [1, 4, 6, 8, 10]\n",
    "b = [3, 5, 7, 19, 56]\n",
    "c = a\n",
    "\n",
    "if (a == b):\n",
    "    print(\"Equal\")\n",
    "else:\n",
    "    print(\"not equal\")\n",
    "\n",
    "print(a is b)\n",
    "print(a is c) "
   ]
  },
  {
   "cell_type": "markdown",
   "id": "36a363e7-8fb7-41e4-b9d9-8480e28c7060",
   "metadata": {},
   "source": [
    "Explanation of the above code:\n",
    "\"if (a == b)\" returns Not equal because the values in the lists a and b are different. \n",
    "\n",
    "print(a is b) also returns False because a and b are distinct objects in memory, regardless of their contents. However, print(a is c) returns True since c was assigned to a, meaning both variables point to the exact same object in memory. "
   ]
  },
  {
   "cell_type": "markdown",
   "id": "f56d2562-eda0-42de-b238-587cfa05c5df",
   "metadata": {},
   "source": [
    "---"
   ]
  },
  {
   "cell_type": "markdown",
   "id": "32acc65c-8689-458f-9dff-1818f9b14903",
   "metadata": {},
   "source": [
    "8.  What are logical operators in Python?\n",
    "-   Logical operators in Python are tools used to evaluate and combine multiple conditions, returning a Boolean value (True or False). They       are essential in decision-making, especially when more than one condition affects the outcome. Python provides three logical operators:       `and`, `or`, and `not`. These operators are concise tools to control program flow based on multiple conditions, making the code more          readable and reflective of real-world logic\n",
    "-   and is used when all conditions must be true. For instance, To enter a secure building, you must have both an ID card and know the access     code.\n",
    "-   or is used when at least one condition being true is enough.\n",
    "-   not reverses the condition's truth value. For example, You are allowed to enter the exam hall only if you're not late."
   ]
  },
  {
   "cell_type": "markdown",
   "id": "74c4b275-2107-4523-a47a-33ac4642a77f",
   "metadata": {},
   "source": [
    "---"
   ]
  },
  {
   "cell_type": "markdown",
   "id": "601fac20-15d9-4029-9b32-4e505493102d",
   "metadata": {},
   "source": [
    "9. What is type casting in Python?\n",
    "-  Type casting in Python refers to the process of converting a value from one data type to another. Type casting ensures data compatibility     between operations, prevents type errors, and allows developers to control how data is interpreted or used.\n",
    "-  Type casting in Python is a crucial concept that enables flexibility and safety in programming by converting values between compatible        data types—either manually through built-in functions or automatically during expression evaluation.\n",
    "-  There are two types of Type casting, which are Explicit Type Casting or Manual Conversion and Implicit Type casting or Automatic conversion"
   ]
  },
  {
   "cell_type": "markdown",
   "id": "b7e2ae5a-f3b8-49f4-8e40-0fb83a3008ef",
   "metadata": {},
   "source": [
    "---"
   ]
  },
  {
   "cell_type": "markdown",
   "id": "5cd2a084-45bf-4b8c-b64d-01d611269b08",
   "metadata": {},
   "source": [
    "10.   What is the difference between implicit and explicit type casting?\n",
    "-    Type casting is the process of converting one data type into another. In Python, there are two types of type casting, which are,              implicitly (automatically) or explicitly (manually)\n",
    "-    Implicit type casting - Implicit type casting occurs automatically when Python evaluates expressions with mixed data types.\n",
    "-    Explicit type casting is when the user manually converts a value from one type to another using built-in functions like int(), float(),       or str()."
   ]
  },
  {
   "cell_type": "code",
   "execution_count": 119,
   "id": "5e1cb0c5-5577-4bd7-9114-671c4cdd5125",
   "metadata": {},
   "outputs": [
    {
     "name": "stdout",
     "output_type": "stream",
     "text": [
      "--- Implicit Conversion ---\n",
      "Result: 7.0\n",
      "Type of result: <class 'float'>\n",
      "\n",
      " --- Explicit Conversion ---\n",
      "Type of num_str <class 'str'>\n",
      "Converted number plus 5: 15\n",
      "Type of num_int: <class 'int'>\n"
     ]
    }
   ],
   "source": [
    "# Implicit Type Casting - Python automatically converts int to float during the operation\n",
    "\n",
    "a = 5         # int\n",
    "b = 2.0       # float\n",
    "\n",
    "result = a + b  # a is implicitly converted to float\n",
    "print(\"--- Implicit Conversion ---\")\n",
    "print(\"Result:\", result)         \n",
    "print(\"Type of result:\", type(result))  \n",
    "\n",
    "# Explicit Type Casting - Manually converting a string to an integer\n",
    "print(\"\\n --- Explicit Conversion ---\")\n",
    "num_str = \"10\"             # string\n",
    "print(\"Type of num_str\", type(num_str))\n",
    "num_int = int(num_str)     # explicitly cast to int\n",
    "\n",
    "print(\"Converted number plus 5:\", num_int + 5) \n",
    "print(\"Type of num_int:\", type(num_int))   "
   ]
  },
  {
   "cell_type": "markdown",
   "id": "df94cbbd-7151-4334-bf45-18cb45dbe3ad",
   "metadata": {},
   "source": [
    "---"
   ]
  },
  {
   "cell_type": "markdown",
   "id": "1aea89d6-c860-4db7-9c5f-26df16a00909",
   "metadata": {},
   "source": [
    "11.  What is the purpose of conditional statements in Python?\n",
    "-    The purpose of conditional statements in Python is to allow the program to make decisions and execute specific blocks of code based on        whether a condition is true or false. This adds logic and control flow to a program, enabling it to behave differently under different        circumstances.\n",
    "-    They make programs dynamic and interactive. They allow branching, so your code can respond to different inputs, situations, or values.\n",
    "-    Conditional statement in Python is `if`, `else`, `elif`, `nested if`"
   ]
  },
  {
   "cell_type": "code",
   "execution_count": 122,
   "id": "bf5e768e-5868-4e81-9b6c-983975a5a277",
   "metadata": {},
   "outputs": [
    {
     "name": "stdout",
     "output_type": "stream",
     "text": [
      "You are eligible to vote.\n"
     ]
    }
   ],
   "source": [
    "# demonstration of conditional statment if else\n",
    "age = 18\n",
    "\n",
    "if age >= 18:\n",
    "    print(\"You are eligible to vote.\")\n",
    "else:\n",
    "    print(\"You are not eligible to vote yet.\")"
   ]
  },
  {
   "cell_type": "markdown",
   "id": "f39cbf84-9cf8-434b-b300-95bd09d34f01",
   "metadata": {},
   "source": [
    "---"
   ]
  },
  {
   "cell_type": "markdown",
   "id": "c1b6a333-938d-4bc8-8474-4ffa471508f3",
   "metadata": {},
   "source": [
    "12. How does the elif statement work?\n",
    "-   The elif statement (short for \"else if\") is used when you want to check multiple conditions in a sequential and controlled way."
   ]
  },
  {
   "cell_type": "code",
   "execution_count": 131,
   "id": "d365819b-c53a-40ed-ab04-480e7d4d0438",
   "metadata": {},
   "outputs": [
    {
     "name": "stdout",
     "output_type": "stream",
     "text": [
      "Grade: B\n"
     ]
    }
   ],
   "source": [
    "score = 85\n",
    "\n",
    "if score >= 90:\n",
    "    print(\"Grade: A\")\n",
    "elif score >= 80:\n",
    "    print(\"Grade: B\")\n",
    "elif score >= 70:\n",
    "    print(\"Grade: C\")\n",
    "else:\n",
    "    print(\"Grade: D\")"
   ]
  },
  {
   "cell_type": "markdown",
   "id": "148c7cef-5507-4500-bbe2-5306bd7ce3e3",
   "metadata": {},
   "source": [
    "---"
   ]
  },
  {
   "cell_type": "markdown",
   "id": "835ced3e-0a11-4fa5-8626-1447a756a37f",
   "metadata": {},
   "source": [
    "13. What is the difference between for and while loops?\n",
    "-   The main difference between for and while loops in Python lies in how they control iteration. A for loop is typically used when the           number of iterations is known ahead of time. It iterates over a sequence such as a list, string, or range, making it ideal for count-         controlled loops.\n",
    "-   For example, for i in range(5): will run exactly five times, from 0 to 4.\n",
    "-   On the other hand, a while loop is used when the number of iterations is not known in advance. It continues to execute as long as a           specified condition remains true, making it better suited for condition-controlled loops. It's also important to note that while loops        carry a higher risk of becoming infinite if the condition is never updated properly.\n",
    "-   For instance, a while loop is appropriate when waiting for valid user input or for a specific state to occur, such as when we need to         take a user input for password."
   ]
  },
  {
   "cell_type": "markdown",
   "id": "bcc096dd-97c6-4b55-8b1e-d501a1921dd3",
   "metadata": {},
   "source": [
    "---"
   ]
  },
  {
   "cell_type": "markdown",
   "id": "e3126481-9295-4193-98c3-0aa0e924e636",
   "metadata": {},
   "source": [
    "14.  Describe a scenario where a while loop is more suitable than a for loop.\n",
    "-    A while loop is more suitable than a for loop when you don’t know in advance how many times the loop should run — that is, when the           number of iterations depends on a condition being met rather than a fixed range."
   ]
  },
  {
   "cell_type": "code",
   "execution_count": 101,
   "id": "47ab04ea-a8d2-4dd5-aab4-b6dd333e9643",
   "metadata": {},
   "outputs": [
    {
     "name": "stdin",
     "output_type": "stream",
     "text": [
      "Enter the password:  alskj\n"
     ]
    },
    {
     "name": "stdout",
     "output_type": "stream",
     "text": [
      "Incorrect password. Try again\n"
     ]
    },
    {
     "name": "stdin",
     "output_type": "stream",
     "text": [
      "Enter the password:  yuoe667\n"
     ]
    },
    {
     "name": "stdout",
     "output_type": "stream",
     "text": [
      "Incorrect password. Try again\n"
     ]
    },
    {
     "name": "stdin",
     "output_type": "stream",
     "text": [
      "Enter the password:  QAZplm$2025\n"
     ]
    },
    {
     "name": "stdout",
     "output_type": "stream",
     "text": [
      "Access granted\n"
     ]
    }
   ],
   "source": [
    "# Sample code to demonstrate while loop is more suitable than for loop \n",
    "\n",
    "password = \"QAZplm$2025\"\n",
    "user_input = input(\"Enter the password: \")\n",
    "\n",
    "while user_input != password:\n",
    "    print(\"Incorrect password. Try again\")\n",
    "    user_input = input(\"Enter the password: \")\n",
    "print(\"Access granted\")"
   ]
  },
  {
   "cell_type": "markdown",
   "id": "74c3679c-3eaf-4b02-9e8d-3d8194e8e264",
   "metadata": {},
   "source": [
    "---"
   ]
  },
  {
   "cell_type": "markdown",
   "id": "be032206-c25f-4ebe-bc62-7c2f747f1e37",
   "metadata": {},
   "source": [
    "---"
   ]
  },
  {
   "cell_type": "markdown",
   "id": "2f3d5835-9aab-412e-84b4-a219fe7ff413",
   "metadata": {},
   "source": [
    "## Practical Questions"
   ]
  },
  {
   "cell_type": "markdown",
   "id": "a31c3c65-500e-43c7-986a-9037a744741f",
   "metadata": {},
   "source": [
    "1. Write a Python program to print \"Hello, World!"
   ]
  },
  {
   "cell_type": "code",
   "execution_count": 30,
   "id": "2b6c3dc9-f20d-480a-9f1f-c4b8d1a19a42",
   "metadata": {},
   "outputs": [
    {
     "name": "stdout",
     "output_type": "stream",
     "text": [
      "Hello, World!\n"
     ]
    }
   ],
   "source": [
    "# Answer \n",
    "print(\"Hello, World!\")"
   ]
  },
  {
   "cell_type": "markdown",
   "id": "1a2223bc-2462-4328-8a03-55da44e88deb",
   "metadata": {},
   "source": [
    "---"
   ]
  },
  {
   "cell_type": "markdown",
   "id": "8b3c7593-5c70-49ea-a56c-4fe29adf8ac9",
   "metadata": {},
   "source": [
    "2. Write a Python program that displays your name and age."
   ]
  },
  {
   "cell_type": "code",
   "execution_count": 91,
   "id": "6d9b9aea-f405-4228-a99f-68a99a8bd3e1",
   "metadata": {},
   "outputs": [
    {
     "name": "stdin",
     "output_type": "stream",
     "text": [
      "Enter your name:  Eva\n",
      "Enter your age:  24\n"
     ]
    },
    {
     "name": "stdout",
     "output_type": "stream",
     "text": [
      "My name is Eva\n",
      "I am 24 years old.\n"
     ]
    }
   ],
   "source": [
    "name = input(\"Enter your name: \")\n",
    "age = input(\"Enter your age: \")\n",
    "\n",
    "print(f\"My name is {name}\")\n",
    "print(f\"I am {age} years old.\")"
   ]
  },
  {
   "cell_type": "markdown",
   "id": "9425ee55-aac0-4d4d-a4b6-8bbdb0e34dd8",
   "metadata": {},
   "source": [
    "---"
   ]
  },
  {
   "cell_type": "markdown",
   "id": "17ffdcff-407f-48fa-8de8-a90673fd3b02",
   "metadata": {},
   "source": [
    "3. Write code to print all the pre-defined keywords in Python using the keyword library"
   ]
  },
  {
   "cell_type": "code",
   "execution_count": 27,
   "id": "a922958d-828e-4c7f-9fdc-1f9e8a72dc26",
   "metadata": {},
   "outputs": [
    {
     "name": "stdout",
     "output_type": "stream",
     "text": [
      "Python Keywords:\n",
      "['False', 'None', 'True', 'and', 'as', 'assert', 'async', 'await', 'break', 'class', 'continue', 'def', 'del', 'elif', 'else', 'except', 'finally', 'for', 'from', 'global', 'if', 'import', 'in', 'is', 'lambda', 'nonlocal', 'not', 'or', 'pass', 'raise', 'return', 'try', 'while', 'with', 'yield']\n"
     ]
    }
   ],
   "source": [
    "import keyword \n",
    "\n",
    "print(\"Python Keywords:\")\n",
    "print(keyword.kwlist)"
   ]
  },
  {
   "cell_type": "code",
   "execution_count": 29,
   "id": "502e4625-adfc-41e4-b6b7-4b8c0b11f1d2",
   "metadata": {},
   "outputs": [
    {
     "name": "stdout",
     "output_type": "stream",
     "text": [
      "\n",
      "Here is a list of the Python keywords.  Enter any keyword to get more help.\n",
      "\n",
      "False               class               from                or\n",
      "None                continue            global              pass\n",
      "True                def                 if                  raise\n",
      "and                 del                 import              return\n",
      "as                  elif                in                  try\n",
      "assert              else                is                  while\n",
      "async               except              lambda              with\n",
      "await               finally             nonlocal            yield\n",
      "break               for                 not                 \n",
      "\n"
     ]
    }
   ],
   "source": [
    "# Alternate way of listing all the keywords in python\n",
    "help('keywords')"
   ]
  },
  {
   "cell_type": "markdown",
   "id": "d68d636f-3478-41fd-8bac-401fb3ef5733",
   "metadata": {},
   "source": [
    "---"
   ]
  },
  {
   "cell_type": "markdown",
   "id": "e432a9b3-96e4-4560-bbab-8659136a0296",
   "metadata": {},
   "source": [
    "4.  Write a program that checks if a given word is a Python keyword."
   ]
  },
  {
   "cell_type": "code",
   "execution_count": 93,
   "id": "1210a748-af5c-4abe-a419-0e005e3be40c",
   "metadata": {},
   "outputs": [
    {
     "name": "stdin",
     "output_type": "stream",
     "text": [
      "Enter a word:  not\n"
     ]
    },
    {
     "name": "stdout",
     "output_type": "stream",
     "text": [
      " not is a Python keyword\n"
     ]
    }
   ],
   "source": [
    "# we use iskeyword to check if a given input is a Python keyword or not\n",
    "import keyword as key\n",
    "\n",
    "word = input(\"Enter a word: \")\n",
    "if key.iskeyword(word):\n",
    "    print(f\" {word} is a Python keyword\")\n",
    "else:\n",
    "    print(f\" {word} is not a Python keyword\")"
   ]
  },
  {
   "cell_type": "code",
   "execution_count": 33,
   "id": "9540fcc8-871c-45d2-b6fe-a1c347ec720e",
   "metadata": {},
   "outputs": [
    {
     "name": "stdin",
     "output_type": "stream",
     "text": [
      "Enter a word:  num\n"
     ]
    },
    {
     "name": "stdout",
     "output_type": "stream",
     "text": [
      " num is not a Python keyword\n"
     ]
    }
   ],
   "source": [
    "# we use iskeyword to check if a given input is a Python keyword or not\n",
    "\n",
    "import keyword as key\n",
    "\n",
    "word = input(\"Enter a word: \")\n",
    "if key.iskeyword(word):\n",
    "    print(f\" {word} is a Python keyword\")\n",
    "else:\n",
    "    print(f\" {word} is not a Python keyword\")"
   ]
  },
  {
   "cell_type": "markdown",
   "id": "d48ab691-32f9-49b4-a892-d18209e2fc4c",
   "metadata": {},
   "source": [
    "---"
   ]
  },
  {
   "cell_type": "markdown",
   "id": "6f210886-2474-4123-8563-7bf2920adaa0",
   "metadata": {},
   "source": [
    "5.  Create a list and tuple in Python, and demonstrate how attempting to change an element works differently\n",
    "for each."
   ]
  },
  {
   "cell_type": "code",
   "execution_count": 83,
   "id": "fdf60a9c-cd85-471a-9ab9-c55b4228e4c2",
   "metadata": {},
   "outputs": [
    {
     "name": "stdout",
     "output_type": "stream",
     "text": [
      "Original list: [10, 20, 30, 40, 50, 60, 80, 90, 100]\n",
      "Original tuple: (10, 20, 30)\n",
      "\n",
      "Modified list (after changing index 1): [10, 64, 30, 40, 50, 60, 80, 90, 100]\n",
      "\n",
      "Error when trying to modify tuple: 'tuple' object does not support item assignment\n"
     ]
    }
   ],
   "source": [
    "lst = [10, 20, 30, 40, 50, 60, 80, 90, 100]\n",
    "my_tuple = (10, 20, 30)\n",
    "\n",
    "print(\"Original list:\", lst)\n",
    "print(\"Original tuple:\", my_tuple)\n",
    "\n",
    "# Modify an element in the list\n",
    "lst[1] = 64\n",
    "print(\"\\nModified list (after changing index 1):\", lst)\n",
    "\n",
    "# Attempt to modify an element in the tuple\n",
    "try:\n",
    "    my_tuple[1] = 99\n",
    "except TypeError as e:\n",
    "    print(\"\\nError when trying to modify tuple:\", e)"
   ]
  },
  {
   "cell_type": "markdown",
   "id": "4e3a3679-9203-44f6-8883-b4dc0caa404d",
   "metadata": {},
   "source": [
    "---"
   ]
  },
  {
   "cell_type": "markdown",
   "id": "8bb67f0e-19dd-4068-8de0-050e3c3a527c",
   "metadata": {},
   "source": [
    "6.  Write a function to demonstrate the behavior of mutable and immutable arguments"
   ]
  },
  {
   "cell_type": "code",
   "execution_count": 79,
   "id": "47b16336-54be-465a-8369-220f381b0a71",
   "metadata": {},
   "outputs": [
    {
     "name": "stdout",
     "output_type": "stream",
     "text": [
      "=== Before Function Call ===\n",
      "message: hello\n",
      "my_list: ['apple', 'banana']\n",
      "\n",
      "--- Inside Function ---\n",
      "Modified text (str): hello world\n",
      "Modified items (list): ['apple', 'banana', 'new item']\n",
      "\n",
      "=== After Function Call ===\n",
      "message: hello\n",
      "my_list: ['apple', 'banana', 'new item']\n"
     ]
    }
   ],
   "source": [
    "def modify_arguments(text, items):\n",
    "    print(\"\\n--- Inside Function ---\")\n",
    "    \n",
    "    # Attempt to modify the immutable arguments\n",
    "    text += \" world\"\n",
    "\n",
    "    # Modify the mutable list\n",
    "    items.append(\"new item\")\n",
    "\n",
    "    # Show modified values inside the function\n",
    "    print(\"Modified text (str):\", text)\n",
    "    print(\"Modified items (list):\", items)\n",
    "\n",
    "# --- Outside the function ---\n",
    "# Initial values\n",
    "message = \"hello\"\n",
    "my_list = [\"apple\", \"banana\"]\n",
    "\n",
    "# Call the function\n",
    "print(\"=== Before Function Call ===\")\n",
    "print(\"message:\", message)\n",
    "print(\"my_list:\", my_list)\n",
    "\n",
    "modify_arguments(message, my_list)\n",
    "\n",
    "# Values after function call\n",
    "print(\"\\n=== After Function Call ===\")\n",
    "print(\"message:\", message) # unchanged\n",
    "print(\"my_list:\", my_list) # changed"
   ]
  },
  {
   "cell_type": "markdown",
   "id": "396343b3-cddf-4a49-baad-ce6764fa7f27",
   "metadata": {},
   "source": [
    "---"
   ]
  },
  {
   "cell_type": "markdown",
   "id": "d95534e0-1973-422f-9580-9c4f3115e398",
   "metadata": {},
   "source": [
    "7.  Write a program that performs basic arithmetic operations on two user-input numbers"
   ]
  },
  {
   "cell_type": "code",
   "execution_count": 75,
   "id": "aada49d7-a0c5-4898-bb26-ad802f35afdb",
   "metadata": {},
   "outputs": [
    {
     "name": "stdin",
     "output_type": "stream",
     "text": [
      "Enter the first number:  10\n",
      "Enter the second number:  84\n"
     ]
    },
    {
     "name": "stdout",
     "output_type": "stream",
     "text": [
      "\n",
      "===== Arithmetic Operations =====\n",
      "The sum of 10.0 and 84.0 is: 94.0\n",
      "The difference of 10.0 and 84.0 is: -74.0\n",
      "The product of 10.0 and 84.0 is: 840.0\n",
      "The sum of 10.0 and 84.0 is: 0.11904761904761904\n"
     ]
    }
   ],
   "source": [
    "num1 = float(input(\"Enter the first number: \"))\n",
    "num2 = float(input(\"Enter the second number: \"))\n",
    "\n",
    "print(\"\\n===== Arithmetic Operations =====\")\n",
    "print(f\"The sum of {num1} and {num2} is:\", num1 + num2)\n",
    "print(f\"The difference of {num1} and {num2} is:\", num1 - num2)\n",
    "print(f\"The product of {num1} and {num2} is:\", num1 * num2)\n",
    "\n",
    "div_res = num1 / num2 if num2 != 0 else \"Undefinied - division by zero\"\n",
    "print(f\"The sum of {num1} and {num2} is:\",div_res)"
   ]
  },
  {
   "cell_type": "markdown",
   "id": "30699296-917c-43f5-91fa-b888589e033b",
   "metadata": {},
   "source": [
    "---"
   ]
  },
  {
   "cell_type": "markdown",
   "id": "161c6b33-3bd7-4b1e-97e3-b13ad471e56d",
   "metadata": {},
   "source": [
    "8.  Write a program to demonstrate the use of logical operators"
   ]
  },
  {
   "cell_type": "code",
   "execution_count": 77,
   "id": "c1f31077-e8e7-4c84-8e08-a2931194d789",
   "metadata": {},
   "outputs": [
    {
     "name": "stdout",
     "output_type": "stream",
     "text": [
      "----- Logical Operators -----\n",
      "Enter values as: true/false, yes/no, 1/0\n",
      "\n"
     ]
    },
    {
     "name": "stdin",
     "output_type": "stream",
     "text": [
      "Enter value for A:  true\n",
      "Enter value for B:  no\n"
     ]
    },
    {
     "name": "stdout",
     "output_type": "stream",
     "text": [
      "\n",
      " You entered: A = True, B = False\n",
      "\n",
      "~=~= Logical Results ~=~=\n",
      "A AND B : False\n",
      "A OR B  : True\n",
      "NOT A   : False\n",
      "NOT B   : True\n"
     ]
    }
   ],
   "source": [
    "def str_to_bool(value):\n",
    "    # Convert user-friendly input to boolean.\n",
    "    return value.strip().lower() in [\"true\", \"t\", \"yes\", \"1\"]\n",
    "\n",
    "# Title\n",
    "print(\"----- Logical Operators -----\")\n",
    "print(\"Enter values as: true/false, yes/no, 1/0\\n\")\n",
    "\n",
    "# Get Boolean inputs from the user\n",
    "a_input = input(\"Enter value for A: \")\n",
    "b_input = input(\"Enter value for B: \")\n",
    "\n",
    "# Convert to boolean\n",
    "A = str_to_bool(a_input)\n",
    "B = str_to_bool(b_input)\n",
    "\n",
    "# Display input values\n",
    "print(f\"\\n You entered: A = {A}, B = {B}\")\n",
    "\n",
    "# Logical operations\n",
    "print(\"\\n~=~= Logical Results ~=~=\")\n",
    "print(f\"A AND B : {A and B}\")\n",
    "print(f\"A OR B  : {A or B}\")\n",
    "print(f\"NOT A   : {not A}\")\n",
    "print(f\"NOT B   : {not B}\")\n"
   ]
  },
  {
   "cell_type": "markdown",
   "id": "9e0ebd22-5112-4724-98f6-18f937b2174f",
   "metadata": {},
   "source": [
    "---"
   ]
  },
  {
   "cell_type": "markdown",
   "id": "aeaafb2e-5c3a-4c25-814c-91ad07487931",
   "metadata": {},
   "source": [
    "9.  Write a Python program to convert user input from string to integer, float, and boolean types"
   ]
  },
  {
   "cell_type": "code",
   "execution_count": 71,
   "id": "2b07a6ab-9f2c-401e-826b-f98cf34eb818",
   "metadata": {},
   "outputs": [
    {
     "name": "stdin",
     "output_type": "stream",
     "text": [
      "Enter a value:  \"34562\"\n"
     ]
    },
    {
     "name": "stdout",
     "output_type": "stream",
     "text": [
      "Cannot convert to integer.\n",
      "Cannot convert to float.\n",
      "Boolean value: True\n"
     ]
    }
   ],
   "source": [
    "str = input(\"Enter a value: \")\n",
    "\n",
    "# interger conversion\n",
    "try:\n",
    "    int_value = int(str)\n",
    "    print(\"Integer value:\", int_value)\n",
    "except ValueError:\n",
    "    print(\"Cannot convert to integer.\")\n",
    "\n",
    "# float conversion\n",
    "try:\n",
    "    float_value = float(str)\n",
    "    print(\"Float value:\", float_value)\n",
    "except ValueError:\n",
    "    print(\"Cannot convert to float.\")\n",
    "\n",
    "# boolean value conversion\n",
    "bool_val = str.strip().lower() not in [\" \",\"\",\"false\", \"0\", \"no\"]\n",
    "print(\"Boolean value:\", bool_val)"
   ]
  },
  {
   "cell_type": "markdown",
   "id": "43aa976b-379a-4c07-ab37-54f68b82a411",
   "metadata": {},
   "source": [
    "---"
   ]
  },
  {
   "cell_type": "markdown",
   "id": "654d836d-8285-4a24-817f-0aee96bda687",
   "metadata": {},
   "source": [
    "10.   Write code to demonstrate type casting with list elements"
   ]
  },
  {
   "cell_type": "code",
   "execution_count": 41,
   "id": "0978b143-c585-422a-892c-981e59690d2c",
   "metadata": {},
   "outputs": [
    {
     "name": "stdout",
     "output_type": "stream",
     "text": [
      "Original string list:  ['1', '2', '3', '4', '5']\n",
      "After casting to integers:  [1, 2, 3, 4, 5]\n",
      "After casting to floats:  [1.0, 2.0, 3.0, 4.0, 5.0]\n"
     ]
    }
   ],
   "source": [
    "# Original list of strings representing numbers - explicit conversion \n",
    "# explicit conversion - Manual conversion of datatypes using functions\n",
    "str_list = [\"1\", \"2\", \"3\", \"4\", \"5\"]\n",
    "\n",
    "print(\"Original string list: \", str_list)\n",
    "\n",
    "# Type cast to integers\n",
    "int_list = []\n",
    "for i in str_list:\n",
    "    int_list.append(int(i))  # string → integer\n",
    "print(\"After casting to integers: \", int_list)\n",
    "\n",
    "# Type cast to floats\n",
    "float_list = []\n",
    "for num in int_list:\n",
    "    float_list.append(float(num))  # integer → float\n",
    "print(\"After casting to floats: \", float_list)"
   ]
  },
  {
   "cell_type": "code",
   "execution_count": 95,
   "id": "e6bda5b3-262d-471e-b0ef-e18f64cbd8a5",
   "metadata": {},
   "outputs": [
    {
     "name": "stdout",
     "output_type": "stream",
     "text": [
      "Result of implicit conversion (int + float): [3.5, 4.5, 5.5]\n"
     ]
    }
   ],
   "source": [
    "# Implicit conversion - Automatic conversion\n",
    "int_list = [1, 2, 3]\n",
    "result_list = []\n",
    "\n",
    "for num in int_list:\n",
    "    result = num + 2.5  # int + float → float (implicit)\n",
    "    result_list.append(result)\n",
    "\n",
    "print(\"Result of implicit conversion (int + float):\", result_list)"
   ]
  },
  {
   "cell_type": "markdown",
   "id": "523a5c2f-c130-4655-81f0-2b676c375278",
   "metadata": {},
   "source": [
    "---"
   ]
  },
  {
   "cell_type": "markdown",
   "id": "4f1c36d4-fdae-4df0-8b94-912dcc65832d",
   "metadata": {},
   "source": [
    "11.  Write a program that checks if a number is positive, negative, or zero."
   ]
  },
  {
   "cell_type": "code",
   "execution_count": 65,
   "id": "91f4e118-b749-4af6-b9bd-334cb6ab28c5",
   "metadata": {},
   "outputs": [
    {
     "name": "stdin",
     "output_type": "stream",
     "text": [
      "Enter a number:  8.55\n"
     ]
    },
    {
     "name": "stdout",
     "output_type": "stream",
     "text": [
      " 8.55 is a Positive number\n"
     ]
    }
   ],
   "source": [
    "# A program to check if a given number is positive, negative or zero\n",
    "\n",
    "num = float(input(\"Enter a number: \"))\n",
    "\n",
    "if (num > 0):\n",
    "    print(f\" {num} is a Positive number\")\n",
    "elif (num < 0):\n",
    "    print(f\" {num} is a Negative number\")\n",
    "else:\n",
    "    print(\" The entered number is Zero\")"
   ]
  },
  {
   "cell_type": "markdown",
   "id": "862aba58-5269-4b91-8475-b0879fbeebfe",
   "metadata": {},
   "source": [
    "---"
   ]
  },
  {
   "cell_type": "markdown",
   "id": "96edc01a-110a-40e9-be59-7b27b8b8deee",
   "metadata": {},
   "source": [
    "12.  Write a for loop to print numbers from 1 to 10."
   ]
  },
  {
   "cell_type": "code",
   "execution_count": 1,
   "id": "e11a5984-017a-49e2-9427-54ea44ae2d41",
   "metadata": {},
   "outputs": [
    {
     "name": "stdout",
     "output_type": "stream",
     "text": [
      "1\n",
      "2\n",
      "3\n",
      "4\n",
      "5\n",
      "6\n",
      "7\n",
      "8\n",
      "9\n",
      "10\n"
     ]
    }
   ],
   "source": [
    "# printing 10 numbers using the for loop \n",
    "for i in range(1,11):\n",
    "    print(i)"
   ]
  },
  {
   "cell_type": "markdown",
   "id": "6e08f7b6-88b8-4172-81ae-004a6a5bee83",
   "metadata": {},
   "source": [
    "---"
   ]
  },
  {
   "cell_type": "markdown",
   "id": "0334c082-e60b-4f4b-a5cc-feaab751f0f4",
   "metadata": {},
   "source": [
    "13.  Write a Python program to find the sum of all even numbers between 1 and 50."
   ]
  },
  {
   "cell_type": "code",
   "execution_count": 97,
   "id": "6fe5fdc1-d70a-49ac-9977-42b7a5509961",
   "metadata": {},
   "outputs": [
    {
     "name": "stdout",
     "output_type": "stream",
     "text": [
      "The sum of even numbers between 1 and 50: 650\n"
     ]
    }
   ],
   "source": [
    "# to find the sum of even numbers in the range 1 to 50\n",
    "\n",
    "sum = 0\n",
    "for num in range(1, 51):\n",
    "    if (num % 2 == 0):\n",
    "        sum += num\n",
    "print(\"The sum of even numbers between 1 and 50:\", sum)"
   ]
  },
  {
   "cell_type": "markdown",
   "id": "5de2761c-5243-4b66-9d75-b34a44afd794",
   "metadata": {},
   "source": [
    "---"
   ]
  },
  {
   "cell_type": "markdown",
   "id": "909f401d-bcfe-4911-b9d9-bf4ff51232aa",
   "metadata": {},
   "source": [
    "14.  Write a program to reverse a string using a while loop."
   ]
  },
  {
   "cell_type": "code",
   "execution_count": 27,
   "id": "f831c8c5-9a2b-431d-a4ef-022b3da71ccd",
   "metadata": {},
   "outputs": [
    {
     "name": "stdin",
     "output_type": "stream",
     "text": [
      "Enter a string:  pwskills\n"
     ]
    },
    {
     "name": "stdout",
     "output_type": "stream",
     "text": [
      "The reversed string is:  sllikswp\n"
     ]
    }
   ],
   "source": [
    "str = input(\"Enter a string: \")\n",
    "\n",
    "i = len(str) - 1\n",
    "rev_str = \"\"\n",
    "\n",
    "while i >= 0:\n",
    "    rev_str += str[i]\n",
    "    i -= 1\n",
    "print(\"The reversed string is: \", rev_str)"
   ]
  },
  {
   "cell_type": "markdown",
   "id": "32014658-1de7-45b2-99c5-c29521f64fc9",
   "metadata": {},
   "source": [
    "---"
   ]
  },
  {
   "cell_type": "markdown",
   "id": "e479a852-191b-4c23-8c1c-715e3db38596",
   "metadata": {},
   "source": [
    "15.  Write a Python program to calculate the factorial of a number provided by the user using a while loop."
   ]
  },
  {
   "cell_type": "code",
   "execution_count": 19,
   "id": "4105ffc9-d547-46e6-a2ef-57e033c349be",
   "metadata": {},
   "outputs": [
    {
     "name": "stdin",
     "output_type": "stream",
     "text": [
      "Enter a number: 4\n"
     ]
    },
    {
     "name": "stdout",
     "output_type": "stream",
     "text": [
      "The factorial of 4 is:  24\n"
     ]
    }
   ],
   "source": [
    "num = int(input(\"Enter a number:\" ))\n",
    "\n",
    "fact = 1\n",
    "i = 1\n",
    "\n",
    "if i < 0:\n",
    "    print(\"Factiorial is not defined for negative numbers\")\n",
    "else:\n",
    "    while i <= num:\n",
    "        fact *= i\n",
    "        i += 1\n",
    "    print(f\"The factorial of {num} is: \", fact)"
   ]
  }
 ],
 "metadata": {
  "kernelspec": {
   "display_name": "Python [conda env:base] *",
   "language": "python",
   "name": "conda-base-py"
  },
  "language_info": {
   "codemirror_mode": {
    "name": "ipython",
    "version": 3
   },
   "file_extension": ".py",
   "mimetype": "text/x-python",
   "name": "python",
   "nbconvert_exporter": "python",
   "pygments_lexer": "ipython3",
   "version": "3.12.7"
  }
 },
 "nbformat": 4,
 "nbformat_minor": 5
}
