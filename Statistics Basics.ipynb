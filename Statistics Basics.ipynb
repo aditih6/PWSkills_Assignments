{
 "cells": [
  {
   "cell_type": "markdown",
   "id": "d64cf67a-fa4f-47ad-80e9-e28c53103d03",
   "metadata": {},
   "source": [
    "# Statistics Basics Assignment "
   ]
  },
  {
   "cell_type": "markdown",
   "id": "406485f2-5cd9-4b39-8e6e-b60bca9f0e38",
   "metadata": {},
   "source": [
    "1.  What is the difference between descriptive statistics and inferential statistics? Explain with examples.\n",
    "-   Introduction - Statistics is a branch of mathematics that deals with collecting, organizing, analyzing, and interpreting data. It is broadly divided into two major categories: descriptive statistics and inferential statistics. While both deal with data, their purposes, methods, and interpretations are fundamentally different.\n",
    "\n",
    "1. Descriptive Statistics\n",
    "\n",
    "\n",
    "Definition - Descriptive statistics refers to methods used to summarize and organize data so it can be easily understood. These methods describe the main features of a dataset by providing simple summaries, often through numerical measures, tables, or graphical representations.\n",
    "\n",
    "Purpose\n",
    "-  To present raw data in a meaningful way.\n",
    "-  To highlight patterns, trends, and characteristics of the dataset.\n",
    "\n",
    "Common Measures\n",
    "-  Measures of Central Tendency: Mean, median, mode\n",
    "-  Measures of Dispersion: Range, variance, standard deviation\n",
    "-  Data Visualization: Bar charts, histograms, pie charts, box plots\n",
    "\n",
    "Example\n",
    "A teacher wants to understand student performance in a test taken by 30 students. She calculates:\n",
    "-  Average score: 76\n",
    "-  Highest score: 98\n",
    "-  Lowest score: 52\n",
    "\n",
    "Standard deviation: 12\n",
    "\n",
    "\n",
    "This is descriptive because it summarizes what happened in that specific group.\n",
    "\n",
    "2. Inferential Statistics\n",
    "Definition\n",
    "Inferential statistics refers to techniques used to make predictions, estimates, or decisions about a larger population based on a sample of data.\n",
    "\n",
    "Purpose\n",
    "To draw conclusions beyond the data at hand.\n",
    "\n",
    "To estimate population parameters, test hypotheses, and assess relationships between variables.\n",
    "\n",
    "Common Techniques\n",
    "Hypothesis Testing (e.g., t-tests, chi-square tests)\n",
    "\n",
    "Confidence Intervals\n",
    "\n",
    "Correlation and Regression Analysis\n",
    "\n",
    "ANOVA (Analysis of Variance)\n",
    "\n",
    "Example\n",
    "A company surveys 200 customers out of its 10,000 total customers. From the sample, 70% report satisfaction. Using inferential statistics, the company estimates that approximately 70% of all customers are satisfied, with a margin of error of ±5%.\n",
    "\n",
    "This inference helps them make business decisions, such as whether to launch a new product or improve services.\n",
    "\n",
    "| Feature        | Descriptive Statistics   | Inferential Statistics                   |\n",
    "| -------------- | ------------------------ | ---------------------------------------- |\n",
    "| **Purpose**    | Summarizes the data      | Makes predictions or generalizations     |\n",
    "| **Based on**   | Entire dataset or sample | Sample used to infer about population    |\n",
    "| **Outcome**    | Describes what is known  | Predicts what is unknown                 |\n",
    "| **Examples**   | Mean, mode, charts       | Hypothesis testing, confidence intervals |\n",
    "| **Data Scope** | Limited to observed data | Extends beyond observed data             |\n",
    "| **Complexity** | Basic level              | Advanced and probabilistic               |\n",
    "\n",
    "\n",
    "-  Relationship Between the Two\n",
    "Descriptive and inferential statistics are complementary. Descriptive statistics often act as a preliminary step, providing insights that inform inferential procedures. For instance, summary statistics may reveal patterns in data that suggest the need for further hypothesis testing.\n",
    "\n",
    "-  Conclusion\n",
    "In summary, descriptive statistics helps in organizing and presenting data clearly, while inferential statistics enables decision-making based on a sample, extending findings to a broader population. Both are essential in statistical analysis and play distinct yet interconnected roles in research, business analytics, health sciences, and many other fields."
   ]
  },
  {
   "cell_type": "markdown",
   "id": "432f21b6-4279-4974-8be2-bae9b0379044",
   "metadata": {},
   "source": [
    "---"
   ]
  },
  {
   "cell_type": "markdown",
   "id": "d85478d1-85a4-43cb-9882-e165df7a6173",
   "metadata": {},
   "source": [
    "2.  What is sampling in statistics? Explain the differences between random and stratified sampling.\n",
    "\n",
    "Introduction - In statistics, working with an entire population is often impractical due to time, cost, and logistical constraints. Instead, researchers collect data from a subset of the population known as a sample. This process is called sampling. Sampling enables statisticians to draw conclusions or make inferences about the population without studying every individual within it.\n",
    "\n",
    "\n",
    "Sampling is the process of selecting a representative group from a larger population to analyze and draw conclusions. The main goal of sampling is to ensure that the sample reflects the characteristics of the overall population as accurately as possible.\n",
    "\n",
    "Why Sampling is Important?\n",
    "-  Reduces cost and time\n",
    "-  Makes large-scale studies feasible\n",
    "-  Allows researchers to draw reliable inferences\n",
    "-  Enables hypothesis testing with manageable datasets\n",
    "\n",
    "There are several types of sampling techniques. Among the most commonly used are random sampling and stratified sampling, each suited for different research contexts.\n",
    "\n",
    "Random Sampling - Random sampling, also known as simple random sampling, is a method where every member of the population has an equal chance of being selected. This is typically done using random number generators or lottery methods.\n",
    "\n",
    "Features\n",
    "-  Unbiased selection process\n",
    "-  Each sample has the same probability of selection\n",
    "-  Suitable for homogeneous populations\n",
    "\n",
    "Example - A teacher wants to assess class performance and randomly selects 10 students out of a class of 50. Each student has an equal chance of being chosen, regardless of gender, grade, or background.\n",
    "\n",
    "Stratified Sampling - Stratified sampling involves dividing the population into distinct subgroups (strata) based on specific characteristics (e.g., age, gender, income), and then selecting random samples from each subgroup proportionally or equally.\n",
    "\n",
    "Features\n",
    "-  Ensures representation of key subgroups\n",
    "-  Reduces sampling bias\n",
    "-  Useful when population is heterogeneous\n",
    "\n",
    "Example - A university wants to survey students on campus satisfaction. Students are first grouped into strata by faculty (Science, Arts, Commerce), and then a random sample is taken from each faculty to ensure fair representation.\n",
    "\n",
    "\n",
    "Conclusion - Sampling is a fundamental concept in statistics that enables researchers to work efficiently with large populations. Both random and stratified sampling have their advantages and are chosen based on the nature of the population and the objectives of the study. While random sampling is ideal for uniform populations and simplicity, stratified sampling offers greater precision and representation in diverse populations. Understanding these methods helps ensure the validity and reliability of statistical analysis."
   ]
  },
  {
   "cell_type": "markdown",
   "id": "fe32c7e4-23dc-4328-896c-0819b6d13cd6",
   "metadata": {},
   "source": [
    "---"
   ]
  },
  {
   "cell_type": "markdown",
   "id": "bbdff2e3-d76c-4f1d-bf39-dc17422a8e99",
   "metadata": {},
   "source": [
    "3.  Define mean, median, and mode. Explain why these measures of central tendency are important.\n",
    "-   Mean (Average) - The mean is the sum of all values in a dataset divided by the number of values.\n",
    "\n",
    "\n",
    "Formula:\n",
    "**Mean (Arithmetic Mean):**\n",
    "\n",
    "$$\n",
    "\\text{Mean} = \\frac{\\sum x_i}{n}\n",
    "$$\n",
    "\n",
    "Where:  \n",
    "- \\( \\sum x_i \\) = sum of all data values  \n",
    "- \\( n \\) = number of data values\n",
    "\n",
    "\n",
    "Median:\n",
    "-  The median is the middle value in a dataset when the values are arranged in ascending or descending order.\n",
    "-  If there is an odd number of values, the median is the center value.\n",
    "-  If there is an even number, it is the average of the two middle values.\n",
    "\n",
    "\n",
    "**Median:**\n",
    "\n",
    "Arrange the data in ascending order.\n",
    "\n",
    "- If \\( n \\) is **odd**:\n",
    "\n",
    "$$\n",
    "\\text{Median} = x_{\\left(\\frac{n+1}{2}\\right)}\n",
    "$$\n",
    "\n",
    "- If \\( n \\) is **even**:\n",
    "\n",
    "$$\n",
    "\\text{Median} = \\frac{x_{\\left(\\frac{n}{2}\\right)} + x_{\\left(\\frac{n}{2} + 1\\right)}}{2}\n",
    "$$\n",
    "\n",
    "Where \\( x \\) is the ordered data.\n",
    "\n",
    "\n",
    "Mode - The mode is the value that occurs most frequently in a dataset. A dataset may have one mode (unimodal), more than one mode (bimodal or multimodal), or no mode at all.\n",
    "\n",
    "\n",
    "Importance of These Measures of Central Tendency:\n",
    "Summarize Data Simply: They provide a quick summary or \"snapshot\" of a large dataset, helping to understand the general trend.\n",
    "\n",
    "Support Decision-Making: Businesses, governments, and researchers use these measures to make informed decisions. For example:\n",
    "\n",
    "Mean: Useful for calculating average income, temperature, test scores, etc.\n",
    "\n",
    "Median: Often used in real estate or income data where extreme values (outliers) can skew the mean.\n",
    "\n",
    "Mode: Helps identify the most common category or value, useful in marketing and inventory management.\n",
    "\n",
    "Handle Different Types of Data:\n",
    "- Mean works best with interval and ratio data.\n",
    "- Median is better when data are skewed or contain outliers.\n",
    "- Mode is useful for categorical data."
   ]
  },
  {
   "cell_type": "markdown",
   "id": "c617bfea-588d-455b-b36d-8eb0b256297c",
   "metadata": {},
   "source": [
    "---"
   ]
  },
  {
   "cell_type": "markdown",
   "id": "b134e267-a1d5-4a93-932b-7aa0b3e41159",
   "metadata": {},
   "source": [
    "4.   Explain skewness and kurtosis. What does a positive skew imply about the data?\n",
    "\n",
    "1. Skewness - Skewness measures the **asymmetry** of the distribution of values in a dataset.\n",
    "\n",
    "-  Positive skew (right-skewed): The right tail (higher values) is longer or fatter than the left.\n",
    "-  Mean > Median > Mode\n",
    "\n",
    "\n",
    "- Negative skew (left-skewed): The left tail (lower values) is longer or fatter than the right.\n",
    "- Mean < Median < Mode\n",
    "\n",
    "\n",
    "- Zero skewness: The distribution is **symmetrical** (like a normal distribution).\n",
    "- Mean = Median = Mode\n",
    "\n",
    "**Formula for sample skewness:**\n",
    "\n",
    "$$\n",
    "\\text{Skewness} = \\frac{n}{(n - 1)(n - 2)} \\sum \\left( \\frac{x_i - \\bar{x}}{s} \\right)^3\n",
    "$$\n",
    "\n",
    "Where:  \n",
    "- \\( x_i \\) = data values  \n",
    "- \\( \\bar{x} \\) = mean  \n",
    "- \\( s \\) = standard deviation  \n",
    "- \\( n \\) = number of observations\n",
    "\n",
    "2. Kurtosis - Kurtosis measures the **\"tailedness\"** or **peakedness** of a distribution — how heavy or light the tails are compared to a normal distribution.\n",
    "\n",
    "-  Mesokurtic (Kurtosis ≈ 3): Normal distribution (moderate tails)\n",
    "\n",
    "-  Leptokurtic (Kurtosis > 3): Heavy tails and a sharp peak — more extreme values (outliers)\n",
    "\n",
    "- Platykurtic (Kurtosis < 3): Light tails and a flatter peak — fewer outliers\n",
    "\n",
    "**Excess Kurtosis** is often reported as:\n",
    "\n",
    "$$\n",
    "\\text{Excess Kurtosis} = \\text{Kurtosis} - 3\n",
    "$$\n",
    "\n",
    "So:  \n",
    "- Excess Kurtosis = 0 → Normal distribution  \n",
    "- > 0 → Leptokurtic  \n",
    "- < 0 → Platykurtic\n",
    "\n",
    "What Does Positive Skew Imply About the Data?\n",
    "\n",
    "A **positive skew** implies:\n",
    "\n",
    "- The distribution has a **long right tail**\n",
    "- Most values are concentrated on the **left** (lower values)\n",
    "- There are **a few extremely high values** pulling the mean to the right\n",
    "- **Mean > Median > Mode**\n",
    "\n",
    "**Example:** Income distribution — most people earn modest incomes, but a few earn very high incomes, causing a right (positive) skew.\n"
   ]
  },
  {
   "cell_type": "markdown",
   "id": "60038ce1-3b07-42c0-92ca-40c9d96631f5",
   "metadata": {},
   "source": [
    "---"
   ]
  },
  {
   "cell_type": "markdown",
   "id": "f9fb67aa-7826-4d67-a404-67ff27ce3f77",
   "metadata": {},
   "source": [
    "5.  Implement a Python program to compute the mean, median, and mode of a given list of numbers."
   ]
  },
  {
   "cell_type": "code",
   "execution_count": 10,
   "id": "6634dd31-ec59-4807-9a7a-041dec1a0d64",
   "metadata": {},
   "outputs": [
    {
     "name": "stdout",
     "output_type": "stream",
     "text": [
      "Mean: 5.133333333333334\n",
      "Median: 5\n",
      "Mode: 2\n"
     ]
    }
   ],
   "source": [
    "import statistics\n",
    "\n",
    "def compute_stats(data):\n",
    "    if not data:\n",
    "        return \"The list is empty.\"\n",
    "\n",
    "    mean_value = statistics.mean(data)\n",
    "    median_value = statistics.median(data)\n",
    "    try:\n",
    "        mode_value = statistics.mode(data)\n",
    "    except statistics.StatisticsError:\n",
    "        mode_value = \"No unique mode found\"\n",
    "\n",
    "    return {\n",
    "        \"Mean\": mean_value,\n",
    "        \"Median\": median_value,\n",
    "        \"Mode\": mode_value\n",
    "    }\n",
    "\n",
    "# Example usage:\n",
    "numbers = [4, 2, 7, 9, 2, 5, 2, 6, 9, 1, 3, 9, 4, 6, 8]\n",
    "result = compute_stats(numbers)\n",
    "\n",
    "print(\"Mean:\", result[\"Mean\"])\n",
    "print(\"Median:\", result[\"Median\"])\n",
    "print(\"Mode:\", result[\"Mode\"])"
   ]
  },
  {
   "cell_type": "markdown",
   "id": "43789cf8-124d-47b2-9aac-7fcc9f25ab99",
   "metadata": {},
   "source": [
    "---"
   ]
  },
  {
   "cell_type": "markdown",
   "id": "47724ba5-29c5-4152-b1e9-4d4216ed5e6f",
   "metadata": {},
   "source": [
    "6.  Compute the covariance and correlation coefficient between the following two datasets provided as lists in Python:\n",
    "\n",
    "\n",
    "list_x = [10, 20, 30, 40, 50]\n",
    "\n",
    "\n",
    "list_y = [15, 25, 35, 45, 60]\n",
    "\n",
    "\n",
    "(Include your Python code and output in the code box below.)"
   ]
  },
  {
   "cell_type": "code",
   "execution_count": 12,
   "id": "a785b936-31ec-4ce9-bce3-009b16a74530",
   "metadata": {},
   "outputs": [
    {
     "name": "stdout",
     "output_type": "stream",
     "text": [
      "Covariance between X and Y: 275.0\n",
      "Correlation Coefficient between X and Y: 0.995893206467704\n"
     ]
    }
   ],
   "source": [
    "import numpy as np\n",
    "\n",
    "# Given datasets\n",
    "list_x = [10, 20, 30, 40, 50]\n",
    "list_y = [15, 25, 35, 45, 60]\n",
    "\n",
    "# Convert to numpy arrays\n",
    "x = np.array(list_x)\n",
    "y = np.array(list_y)\n",
    "\n",
    "# Compute covariance matrix\n",
    "cov_matrix = np.cov(x, y, ddof=1)\n",
    "cov_xy = cov_matrix[0, 1]\n",
    "\n",
    "# Compute correlation coefficient matrix\n",
    "corr_matrix = np.corrcoef(x, y)\n",
    "corr_xy = corr_matrix[0, 1]\n",
    "\n",
    "# Print results\n",
    "print(\"Covariance between X and Y:\", cov_xy)\n",
    "print(\"Correlation Coefficient between X and Y:\", corr_xy)"
   ]
  },
  {
   "cell_type": "markdown",
   "id": "548752e5-e998-43e1-9de4-c35cc6bc0093",
   "metadata": {},
   "source": [
    "---"
   ]
  },
  {
   "cell_type": "markdown",
   "id": "6f8b76c2-cd29-4fa5-98e9-4779c32cf04e",
   "metadata": {},
   "source": [
    "7.  Write a Python script to draw a boxplot for the following numeric list and identify its outliers. Explain the result:\n",
    "\n",
    "\n",
    "data = [12, 14, 14, 15, 18, 19, 19, 21, 22, 22, 23, 23, 24, 26, 29, 35]\n",
    "\n",
    "\n",
    "(Include your Python code and output in the code box below.)"
   ]
  },
  {
   "cell_type": "code",
   "execution_count": 14,
   "id": "cfdeb6bb-5ea7-495d-8888-388f2f400bd1",
   "metadata": {},
   "outputs": [
    {
     "data": {
      "image/png": "[encoded data removed]",
      "text/plain": [
       "<Figure size 800x400 with 1 Axes>"
      ]
     },
     "metadata": {},
     "output_type": "display_data"
    },
    {
     "name": "stdout",
     "output_type": "stream",
     "text": [
      "Q1 (25th percentile): 17.25\n",
      "Q3 (75th percentile): 23.25\n",
      "IQR: 6.0\n",
      "Lower Bound: 8.25\n",
      "Upper Bound: 32.25\n",
      "Outliers: [35]\n"
     ]
    }
   ],
   "source": [
    "import matplotlib.pyplot as plt\n",
    "import seaborn as sns\n",
    "import numpy as np\n",
    "\n",
    "# Given data\n",
    "data = [12, 14, 14, 15, 18, 19, 19, 21, 22, 22, 23, 23, 24, 26, 29, 35]\n",
    "\n",
    "# Create boxplot\n",
    "plt.figure(figsize = (8, 4))\n",
    "sns.boxplot(data, orient = \"h\")\n",
    "plt.title(\"Boxplot of Given Data\")\n",
    "plt.xlabel(\"Values\")\n",
    "plt.grid(True)\n",
    "plt.show()\n",
    "\n",
    "# Calculate IQR and identify outliers\n",
    "q1 = np.percentile(data, 25)\n",
    "q3 = np.percentile(data, 75)\n",
    "iqr = q3 - q1\n",
    "\n",
    "lower_bound = q1 - 1.5 * iqr\n",
    "upper_bound = q3 + 1.5 * iqr\n",
    "\n",
    "outliers = [x for x in data if x < lower_bound or x > upper_bound]\n",
    "\n",
    "# Print results\n",
    "print(f\"Q1 (25th percentile): {q1}\")\n",
    "print(f\"Q3 (75th percentile): {q3}\")\n",
    "print(f\"IQR: {iqr}\")\n",
    "print(f\"Lower Bound: {lower_bound}\")\n",
    "print(f\"Upper Bound: {upper_bound}\")\n",
    "print(f\"Outliers: {outliers}\")"
   ]
  },
  {
   "cell_type": "markdown",
   "id": "21cda0c7-2c56-47d4-978d-215b37c61ef3",
   "metadata": {},
   "source": [
    "---"
   ]
  },
  {
   "cell_type": "markdown",
   "id": "bf84c3ba-5ed0-41c2-970a-b7e9db92be74",
   "metadata": {},
   "source": [
    "8.  You are working as a data analyst in an e-commerce company. The marketing team wants to know if there is a relationship between advertising spend and daily sales.\n",
    "\n",
    "\n",
    "-   Explain how you would use covariance and correlation to explore this relationship.\n",
    "-   Write Python code to compute the correlation between the two lists:\n",
    "\n",
    "\n",
    "advertising_spend = [200, 250, 300, 400, 500]\n",
    "\n",
    "\n",
    "daily_sales = [2200, 2450, 2750, 3200, 4000]\n",
    "\n",
    "(Include your Python code and output in the code box below.)"
   ]
  },
  {
   "cell_type": "markdown",
   "id": "793b7bbd-bd54-4995-85b0-847fe2916600",
   "metadata": {},
   "source": [
    "1.  Covariance - Measures how two variables change together.\n",
    "\n",
    "Interpretation:\n",
    "\n",
    "-  Positive -->> variables increase together\n",
    "-  Negative -->> one increases while the other decreases\n",
    "-  Magnitude is not standardized, so it's hard to interpret on its own.\n",
    "\n",
    "2. Correlation (Pearson’s r) - Measures the strength and direction of a linear relationship between two variables.\n",
    "- Range: From -1 to +1\n",
    "-  +1 -->> perfect positive linear relationship\n",
    "-  0 -->> no linear relationship\n",
    "-  -1 -->> perfect negative linear relationship\n",
    "-  Interpretation: Easy to compare across datasets."
   ]
  },
  {
   "cell_type": "code",
   "execution_count": 19,
   "id": "67c36bbc-a4a7-46ca-94ad-3b9fdbb941fe",
   "metadata": {},
   "outputs": [
    {
     "name": "stdout",
     "output_type": "stream",
     "text": [
      "Covariance between Advertising Spend and Daily Sales: 84875.0\n",
      "Correlation Coefficient: 0.9935824101653329\n"
     ]
    }
   ],
   "source": [
    "import numpy as np\n",
    "\n",
    "# Data\n",
    "advertising_spend = [200, 250, 300, 400, 500]\n",
    "daily_sales = [2200, 2450, 2750, 3200, 4000]\n",
    "\n",
    "# Convert to numpy arrays\n",
    "x = np.array(advertising_spend)\n",
    "y = np.array(daily_sales)\n",
    "\n",
    "# Compute covariance\n",
    "cov_matrix = np.cov(x, y, ddof = 1)\n",
    "cov_xy = cov_matrix[0, 1]\n",
    "\n",
    "# Compute correlation coefficient\n",
    "corr_matrix = np.corrcoef(x, y)\n",
    "corr_xy = corr_matrix[0, 1]\n",
    "\n",
    "# Output\n",
    "print(\"Covariance between Advertising Spend and Daily Sales:\", cov_xy)\n",
    "print(\"Correlation Coefficient:\", corr_xy)"
   ]
  },
  {
   "cell_type": "markdown",
   "id": "0df7f899-d88a-4d6d-a48f-37a60842e0fd",
   "metadata": {},
   "source": [
    "---"
   ]
  },
  {
   "cell_type": "markdown",
   "id": "76cb2d7a-4156-4862-a552-657695eed675",
   "metadata": {},
   "source": [
    "9.  Your team has collected customer satisfaction survey data on a scale of 1-10 and wants to understand its distribution before launching a new product.\n",
    "-  Explain which summary statistics and visualizations (e.g. mean, standard deviation, histogram) you’d use.\n",
    "-  Write Python code to create a histogram using Matplotlib for the survey data:\n",
    "\n",
    "\n",
    "survey_scores = [7, 8, 5, 9, 6, 7, 8, 9, 10, 4, 7, 6, 9, 8, 7]\n",
    "\n",
    "\n",
    "(Include your Python code and output in the code box below.)"
   ]
  },
  {
   "cell_type": "markdown",
   "id": "a363dc37-d08f-4d37-aa1e-0364ce081589",
   "metadata": {},
   "source": [
    "Summary Statistics:\n",
    "-  Mean: Average satisfaction score\n",
    "-  Median: Middle score (robust to outliers)\n",
    "-  Mode: Most common score\n",
    "-  Standard Deviation: How spread out the scores are\n",
    "-  Minimum and Maximum: To know the range\n",
    "\n",
    "Visualizations:\n",
    "-  Histogram: Shows the frequency distribution of scores\n",
    "-  Boxplot: Highlights spread, median, and outliers\n",
    "-  Bar Plot (for mode): Visualizes the most frequent scores"
   ]
  },
  {
   "cell_type": "code",
   "execution_count": 23,
   "id": "d8405c11-a008-456c-aa90-266900d7a183",
   "metadata": {},
   "outputs": [
    {
     "name": "stdout",
     "output_type": "stream",
     "text": [
      "Mean: 7.333333333333333\n",
      "Median: 7.0\n",
      "Mode: 7\n",
      "Standard Deviation: 1.63\n",
      "Min: 4\n",
      "Max: 10\n"
     ]
    },
    {
     "data": {
      "image/png": "[encoded data removed]",
      "text/plain": [
       "<Figure size 800x500 with 1 Axes>"
      ]
     },
     "metadata": {},
     "output_type": "display_data"
    }
   ],
   "source": [
    "import matplotlib.pyplot as plt\n",
    "import numpy as np\n",
    "import statistics\n",
    "\n",
    "# Survey scores\n",
    "survey_scores = [7, 8, 5, 9, 6, 7, 8, 9, 10, 4, 7, 6, 9, 8, 7]\n",
    "\n",
    "# Summary statistics\n",
    "mean_score = np.mean(survey_scores)\n",
    "median_score = np.median(survey_scores)\n",
    "mode_score = statistics.mode(survey_scores)\n",
    "std_dev = np.std(survey_scores, ddof=1)\n",
    "\n",
    "# Print summary\n",
    "print(f\"Mean: {mean_score}\")\n",
    "print(f\"Median: {median_score}\")\n",
    "print(f\"Mode: {mode_score}\")\n",
    "print(f\"Standard Deviation: {std_dev:.2f}\")\n",
    "print(f\"Min: {min(survey_scores)}\")\n",
    "print(f\"Max: {max(survey_scores)}\")\n",
    "\n",
    "# Plot histogram\n",
    "plt.figure(figsize = (8, 5))\n",
    "plt.hist(survey_scores, bins=range(1, 12), edgecolor = 'black', align = 'left')\n",
    "plt.title(\"Histogram of Customer Satisfaction Survey Scores\")\n",
    "plt.xlabel(\"Survey Score (1–10)\")\n",
    "plt.ylabel(\"Frequency\")\n",
    "plt.xticks(range(1, 11))\n",
    "plt.grid(axis = 'y', linestyle = '--', alpha = 0.7)\n",
    "plt.show()"
   ]
  }
 ],
 "metadata": {
  "kernelspec": {
   "display_name": "Python [conda env:base] *",
   "language": "python",
   "name": "conda-base-py"
  },
  "language_info": {
   "codemirror_mode": {
    "name": "ipython",
    "version": 3
   },
   "file_extension": ".py",
   "mimetype": "text/x-python",
   "name": "python",
   "nbconvert_exporter": "python",
   "pygments_lexer": "ipython3",
   "version": "3.12.7"
  }
 },
 "nbformat": 4,
 "nbformat_minor": 5
}
