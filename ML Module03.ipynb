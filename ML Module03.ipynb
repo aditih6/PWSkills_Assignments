{
 "cells": [
  {
   "cell_type": "markdown",
   "id": "dd49a079-b4b2-485b-8e93-5ba9750811f4",
   "metadata": {},
   "source": [
    "# Regression & it's evaluation Assignment "
   ]
  },
  {
   "cell_type": "markdown",
   "id": "0f80587f-a13a-4a85-90e7-bc105328a65b",
   "metadata": {},
   "source": [
    "1.  What is Simple Linear Regression?\n",
    "\n",
    "\n",
    "Simple Linear Regression (SLR) is a statistical method used to model the relationship between two variables:\n",
    "-  Independent variable (X) → predictor, input, or cause\n",
    "-  Dependent variable (Y) → outcome, response, or effect\n",
    "\n",
    "\n",
    "It assumes that the relationship between X and Y is linear (a straight line).\n",
    "\n",
    "$Y = a + bX + \\varepsilon$\n",
    "\n",
    "Where:\n",
    "Y = Dependent variable (predicted value)\n",
    "X = Independent variable\n",
    "a = Intercept (value of Y when X = 0)\n",
    "b = Slope (change in Y for each unit change in X)\n",
    "ε = Error term (difference between actual and predicted Y)\n",
    "\n",
    "Main Uses:\n",
    "-  Predict outcomes (e.g., sales based on advertising spend)\n",
    "-  Identify relationships between variables\n",
    "-  Quantify the strength of impact of X on Y"
   ]
  },
  {
   "cell_type": "markdown",
   "id": "501f742c-6ddd-4545-8c1f-d2407800642e",
   "metadata": {},
   "source": [
    "---"
   ]
  },
  {
   "cell_type": "markdown",
   "id": "e4e607aa-5b2e-4987-b43f-c754f6b4db83",
   "metadata": {},
   "source": [
    "2.   What are the key assumptions of Simple Linear Regression?\n",
    "\n",
    "- **Linearity** - The relationship between the independent variable (X) and the dependent variable (Y) is linear. Mathematically:\n",
    "- **Independence of Errors** - The residuals (errors) are independent of each other. No autocorrelation (important for time series data).\n",
    "- **Homoscedasticity** (Constant Variance of Errors) - The variance of residuals is constant across all values of X. In other words, the spread of errors does not increase or decrease with X.\n",
    "- **Normality of Errors** - The residuals (ε) should follow a normal distribution (especially important for hypothesis testing and confidence intervals).\n",
    "- **No (or Minimal) Multicollinearity** - In Simple Linear Regression, there’s only one X, so this is not a concern. (But in Multiple Linear Regression, predictors should not be highly correlated).\n",
    "\n",
    "\n",
    "Summary of Assumptions:\n",
    "For linear regression to work well, we usually assume:\n",
    "-  Linearity → Relationship between X and Y is straight-line\n",
    "-  Independence → Observations are independent\n",
    "-  Homoscedasticity → Constant variance of errors\n",
    "-  Normality → Errors (residuals) follow a normal distribution"
   ]
  },
  {
   "cell_type": "markdown",
   "id": "eacf5cdf-231b-492d-9450-b09b3d388aba",
   "metadata": {},
   "source": [
    "---"
   ]
  },
  {
   "cell_type": "markdown",
   "id": "4172662b-6424-4cd9-b619-de2c688f7520",
   "metadata": {},
   "source": [
    "3.  What is heteroscedasticity, and why is it important to address in regression models?\n",
    "\n",
    "\n",
    "In regression analysis, heteroscedasticity means that the variance of the error terms (residuals) is not constant across all levels of the independent variable(s).\n",
    "-  In an ideal regression (with homoscedasticity), the residuals are spread out evenly\n",
    "-  With heteroscedasticity, the residuals fan out or narrow in, meaning variability increases or decreases with X\n",
    "\n",
    "\n",
    "Why is it Important to Address?\n",
    "\n",
    "-  Bias in Standard Errors - The estimated coefficients (a, b) are still unbiased, but their standard errors become unreliable.\n",
    "-  Incorrect Hypothesis Tests - Because of biased standard errors, your t-tests and F-tests may give wrong conclusions (false positives or negatives).\n",
    "-  Inefficient Estimates - Ordinary Least Squares (OLS) is no longer the Best Linear Unbiased Estimator (BLUE) under heteroscedasticity. Meaning predictions are less efficient (higher variance).\n",
    "-  Poor Confidence Intervals & Predictions - Confidence intervals may be too narrow or too wide, misleading decision-making.\n",
    "\n",
    "\n",
    "How to Detect Heteroscedasticity?\n",
    "-  Residual plots (fitted values vs. residuals → look for a funnel shape)\n",
    "-  Breusch–Pagan test\n",
    "-  White’s test\n",
    "\n",
    "\n",
    "How to Handle It?\n",
    "-  Transform variables (e.g., log transformation of Y)\n",
    "-  Weighted Least Squares (WLS)\n",
    "-  Robust standard errors (e.g., Huber-White sandwich estimators)"
   ]
  },
  {
   "cell_type": "markdown",
   "id": "923a9510-e460-46bb-a98d-cc6a05f4a0de",
   "metadata": {},
   "source": [
    "---"
   ]
  },
  {
   "cell_type": "markdown",
   "id": "3d2e7193-1d23-4ad3-8701-ac1038507097",
   "metadata": {},
   "source": [
    "4.  What is Multiple Linear Regression?\n",
    "\n",
    "\n",
    "Multiple Linear Regression (MLR) is an extension of Simple Linear Regression that models the relationship between one dependent variable (Y) and two or more independent variables (X₁, X₂, …, Xₙ).\n",
    "\n",
    "\n",
    "It helps us understand how several predictors together influence the outcome.\n",
    "\n",
    "$Y = a + b_{1}X_{1} + b_{2}X_{2} + \\dots + b_{n}X_{n} + \\varepsilon$\n",
    "\n",
    "Where:\n",
    "- $Y$ = Dependent variable (outcome we want to predict)  \n",
    "- $X_{1}, X_{2}, \\dots, X_{n}$ = Independent variables (predictors)  \n",
    "- $a$ = Intercept  \n",
    "- $b_{1}, b_{2}, \\dots, b_{n}$ = Coefficients (effect of each predictor on $Y$)  \n",
    "- $\\varepsilon$ = Error term (unexplained variation)  \n",
    "\n",
    "\n",
    "Key Uses:\n",
    "-  Predict outcomes from multiple factors\n",
    "-  Understand relative importance of predictors\n",
    "-  Control for confounding variables\n",
    "-  Build forecasting models in economics, business, healthcare, etc\n",
    "\n",
    "\n",
    "Assumptions of Multiple Linear Regression:\n",
    "-  Linearity → Relationship between predictors and Y is linear\n",
    "-  Independence → Residuals are independent\n",
    "-  Homoscedasticity → Constant variance of residuals\n",
    "-  Normality of residuals → Errors follow a normal distribution\n",
    "-  No multicollinearity → Predictors shouldn’t be too highly correlated"
   ]
  },
  {
   "cell_type": "markdown",
   "id": "aa679b66-de40-42db-bec3-26dcc16c4af7",
   "metadata": {},
   "source": [
    "---"
   ]
  },
  {
   "cell_type": "markdown",
   "id": "3e575494-518e-40e6-be55-c0bd692441b0",
   "metadata": {},
   "source": [
    "5.  What is polynomial regression, and how does it differ from linear regression?\n",
    "\n",
    "\n",
    "Polynomial Regression is a type of regression analysis where the relationship between the independent variable(s) 𝑋 and the dependent variable 𝑌 is modeled as an nth-degree polynomial.\n",
    "\n",
    "| Aspect       | **Linear Regression**                                    | **Polynomial Regression**                              |\n",
    "| ------------ | -------------------------------------------------------- | ------------------------------------------------------ |\n",
    "| Equation     | $Y = a + bX + \\varepsilon$                               | $Y = a + b_1X + b_2X^2 + \\dots + b_nX^n + \\varepsilon$ |\n",
    "| Relationship | Assumes a **straight-line** relationship between X and Y | Models **curved or non-linear** relationships          |\n",
    "| Flexibility  | Simple, less flexible                                    | More flexible (can fit complex patterns)               |\n",
    "| Risk         | May underfit if data has curvature                       | May overfit if polynomial degree is too high           |\n",
    "| Example      | Predicting height from age (linear growth)               | Predicting sales trend over time with ups and downs    |\n",
    "\n",
    "\n",
    "In summary:\n",
    "- Linear Regression fits a straight line.  \n",
    "- Polynomial Regression allows for curves by adding higher-degree terms of the predictor(s).  \n",
    "- Polynomial regression is still a linear model in the coefficients (because the parameters $a, b_{1}, b_{2}, \\dots$ are linear), but it models non-linear relationships in the data"
   ]
  },
  {
   "cell_type": "markdown",
   "id": "7f6b38bc-ebc2-4d66-b48a-4e16a1bf9289",
   "metadata": {},
   "source": [
    "---"
   ]
  },
  {
   "cell_type": "markdown",
   "id": "c6987d2e-1b9a-41c2-bbba-9224f62c53b5",
   "metadata": {},
   "source": [
    "6.  Implement a Python program to fit a Simple Linear Regression model to the following sample data:\n",
    "\n",
    "\n",
    "-  X = [1, 2, 3, 4, 5]\n",
    "-  Y = [2.1, 4.3, 6.1, 7.9, 10.2]\n",
    "\n",
    "\n",
    "Plot the regression line over the data points.\n",
    "\n",
    "\n",
    "(Include your Python code and output in the code box below.)"
   ]
  },
  {
   "cell_type": "code",
   "execution_count": 36,
   "id": "270460fd-8c4b-4519-ba8e-cff8f2e5fe72",
   "metadata": {},
   "outputs": [
    {
     "name": "stdout",
     "output_type": "stream",
     "text": [
      "Intercept: 0.17999999999999705\n",
      "Slope: 1.9800000000000006\n"
     ]
    }
   ],
   "source": [
    "import numpy as np\n",
    "import matplotlib.pyplot as plt\n",
    "from sklearn.linear_model import LinearRegression\n",
    "\n",
    "# Sample data\n",
    "X = np.array([1, 2, 3, 4, 5]).reshape(-1, 1)\n",
    "Y = np.array([2.1, 4.3, 6.1, 7.9, 10.2])\n",
    "\n",
    "# Fit Simple Linear Regression\n",
    "model = LinearRegression()\n",
    "model.fit(X, Y)\n",
    "\n",
    "# Predictions\n",
    "Y_pred = model.predict(X)\n",
    "\n",
    "# Print coefficients\n",
    "print(\"Intercept:\", model.intercept_)\n",
    "print(\"Slope:\", model.coef_[0])"
   ]
  },
  {
   "cell_type": "code",
   "execution_count": 38,
   "id": "fa53215b-adf0-4601-8e31-2c78a4974c6e",
   "metadata": {},
   "outputs": [
    {
     "data": {
      "image/png": "[encoded data removed]",
      "text/plain": [
       "<Figure size 640x480 with 1 Axes>"
      ]
     },
     "metadata": {},
     "output_type": "display_data"
    }
   ],
   "source": [
    "# Plotting the regression line\n",
    "plt.scatter(X, Y, color = 'blue', label = \"Data Points\")\n",
    "plt.plot(X, Y_pred, color = 'red', linewidth = 2, label = \"Regression Line\")\n",
    "plt.xlabel(\"X\")\n",
    "plt.ylabel(\"Y\")\n",
    "plt.title(\"Simple Linear Regression\")\n",
    "plt.legend()\n",
    "plt.show()"
   ]
  },
  {
   "cell_type": "markdown",
   "id": "e10a0e62-d8c9-4890-be05-64ffee58f0bc",
   "metadata": {},
   "source": [
    "---"
   ]
  },
  {
   "cell_type": "markdown",
   "id": "84cb6dac-bf1e-417a-bd2d-37dbae54e79c",
   "metadata": {},
   "source": [
    "7.  Fit a Multiple Linear Regression model on this sample data:\n",
    "\n",
    "\n",
    "-  Area = [1200, 1500, 1800, 2000]\n",
    "-  Rooms = [2, 3, 3, 4]\n",
    "-  Price = [250000, 300000, 320000, 370000]\n",
    "\n",
    "\n",
    "Check for multicollinearity using VIF and report the results.\n",
    "\n",
    "\n",
    "(Include your Python code and output in the code box below)"
   ]
  },
  {
   "cell_type": "code",
   "execution_count": 40,
   "id": "d4b4ccc2-060c-4812-a99d-ffde789c3490",
   "metadata": {},
   "outputs": [
    {
     "name": "stdout",
     "output_type": "stream",
     "text": [
      "Intercept: 103157.89473684214\n",
      "Coefficients: {'Area': np.float64(63.15789473684212), 'Rooms': np.float64(34736.84210526314)}\n"
     ]
    }
   ],
   "source": [
    "import numpy as np\n",
    "import pandas as pd\n",
    "from sklearn.linear_model import LinearRegression\n",
    "from statsmodels.stats.outliers_influence import variance_inflation_factor\n",
    "import statsmodels.api as sm\n",
    "\n",
    "# Sample data\n",
    "Area = [1200, 1500, 1800, 2000]\n",
    "Rooms = [2, 3, 3, 4]\n",
    "Price = [250000, 300000, 320000, 370000]\n",
    "\n",
    "# Create DataFrame\n",
    "df = pd.DataFrame({\n",
    "    \"Area\": Area,\n",
    "    \"Rooms\": Rooms,\n",
    "    \"Price\": Price\n",
    "})\n",
    "\n",
    "# Features and target\n",
    "X = df[[\"Area\", \"Rooms\"]]\n",
    "y = df[\"Price\"]\n",
    "\n",
    "# Fit Multiple Linear Regression\n",
    "model = LinearRegression()\n",
    "model.fit(X, y)\n",
    "\n",
    "# Print coefficients\n",
    "print(\"Intercept:\", model.intercept_)\n",
    "print(\"Coefficients:\", dict(zip(X.columns, model.coef_)))"
   ]
  },
  {
   "cell_type": "code",
   "execution_count": 42,
   "id": "5025744a-0aeb-466c-8fec-329e0e1d3107",
   "metadata": {},
   "outputs": [
    {
     "name": "stdout",
     "output_type": "stream",
     "text": [
      "\n",
      "Variance Inflation Factor (VIF):\n",
      "  Feature        VIF\n",
      "0   const  34.210526\n",
      "1    Area   7.736842\n",
      "2   Rooms   7.736842\n"
     ]
    }
   ],
   "source": [
    "# Calculate VIF\n",
    "X_const = sm.add_constant(X)  # add intercept term\n",
    "vif_data = pd.DataFrame()\n",
    "vif_data[\"Feature\"] = X_const.columns\n",
    "vif_data[\"VIF\"] = [variance_inflation_factor(X_const.values, i)\n",
    "                   for i in range(X_const.shape[1])]\n",
    "\n",
    "print(\"\\nVariance Inflation Factor (VIF):\")\n",
    "print(vif_data)"
   ]
  },
  {
   "cell_type": "markdown",
   "id": "050345df-c5bf-4f27-a2d4-3c36e006c491",
   "metadata": {},
   "source": [
    "---"
   ]
  },
  {
   "cell_type": "markdown",
   "id": "9380d86c-d8bf-482f-a0d8-f3a81ea88904",
   "metadata": {},
   "source": [
    "8.   Implement polynomial regression on the following data:\n",
    "\n",
    "\n",
    "-  X = [1, 2, 3, 4, 5]\n",
    "-  Y = [2.2, 4.8, 7.5, 11.2, 14.7\n",
    "\n",
    "\n",
    "Fit a 2nd-degree polynomial and plot the resulting curve.\n",
    "\n",
    "\n",
    "(Include your Python code and output in the code box below.)"
   ]
  },
  {
   "cell_type": "code",
   "execution_count": 46,
   "id": "7af5e64a-6a81-4fd7-a490-3fddeba4774e",
   "metadata": {},
   "outputs": [
    {
     "name": "stdout",
     "output_type": "stream",
     "text": [
      "Intercept: 0.06000000000001293\n",
      "Coefficients: [0.   1.94 0.2 ]\n"
     ]
    }
   ],
   "source": [
    "import numpy as np\n",
    "import matplotlib.pyplot as plt\n",
    "from sklearn.preprocessing import PolynomialFeatures\n",
    "from sklearn.linear_model import LinearRegression\n",
    "\n",
    "# Sample data\n",
    "X = np.array([1, 2, 3, 4, 5]).reshape(-1, 1)\n",
    "Y = np.array([2.2, 4.8, 7.5, 11.2, 14.7])\n",
    "\n",
    "# Transform features to polynomial (degree 2)\n",
    "poly = PolynomialFeatures(degree=2)\n",
    "X_poly = poly.fit_transform(X)\n",
    "\n",
    "# Fit Polynomial Regression\n",
    "model = LinearRegression()\n",
    "model.fit(X_poly, Y)\n",
    "\n",
    "# Predictions\n",
    "X_range = np.linspace(1, 5, 100).reshape(-1, 1)\n",
    "Y_pred = model.predict(poly.transform(X_range))\n",
    "\n",
    "# Print coefficients\n",
    "print(\"Intercept:\", model.intercept_)\n",
    "print(\"Coefficients:\", model.coef_)"
   ]
  },
  {
   "cell_type": "code",
   "execution_count": 48,
   "id": "11232a31-49cc-4eaf-9df2-3cb314d07588",
   "metadata": {},
   "outputs": [
    {
     "data": {
      "image/png": "[encoded data removed]",
      "text/plain": [
       "<Figure size 640x480 with 1 Axes>"
      ]
     },
     "metadata": {},
     "output_type": "display_data"
    }
   ],
   "source": [
    "# Plotting\n",
    "plt.scatter(X, Y, color='blue', label=\"Data Points\")\n",
    "plt.plot(X_range, Y_pred, color='red', linewidth=2, label=\"Polynomial Fit (Degree 2)\")\n",
    "plt.xlabel(\"X\")\n",
    "plt.ylabel(\"Y\")\n",
    "plt.title(\"Polynomial Regression (Degree 2)\")\n",
    "plt.legend()\n",
    "plt.show()"
   ]
  },
  {
   "cell_type": "markdown",
   "id": "c411a259-6877-45d2-9430-fe74cfb84182",
   "metadata": {},
   "source": [
    "---"
   ]
  },
  {
   "cell_type": "markdown",
   "id": "b5a421d2-a07d-40c7-b21e-9b9584efbc80",
   "metadata": {},
   "source": [
    "9.   Create a residuals plot for a regression model trained on this data:\n",
    "-  X = [10, 20, 30, 40, 50]\n",
    "-  Y = [15, 35, 40, 50, 65]\n",
    "\n",
    "\n",
    "Assess heteroscedasticity by examining the spread of residuals.\n",
    "\n",
    "\n",
    "(Include your Python code and output in the code box below.)"
   ]
  },
  {
   "cell_type": "code",
   "execution_count": 50,
   "id": "1ad70fe1-6ad1-4bf3-bce5-d5cac9525b24",
   "metadata": {},
   "outputs": [
    {
     "name": "stdout",
     "output_type": "stream",
     "text": [
      "Intercept: 6.499999999999993\n",
      "Slope: 1.1500000000000001\n",
      "Residuals: [-3.   5.5 -1.  -2.5  1. ]\n"
     ]
    }
   ],
   "source": [
    "import numpy as np\n",
    "import matplotlib.pyplot as plt\n",
    "from sklearn.linear_model import LinearRegression\n",
    "\n",
    "# Sample data\n",
    "X = np.array([10, 20, 30, 40, 50]).reshape(-1, 1)\n",
    "Y = np.array([15, 35, 40, 50, 65])\n",
    "\n",
    "# Fit Linear Regression\n",
    "model = LinearRegression()\n",
    "model.fit(X, Y)\n",
    "\n",
    "# Predictions\n",
    "Y_pred = model.predict(X)\n",
    "\n",
    "# Residuals\n",
    "residuals = Y - Y_pred\n",
    "\n",
    "# Print coefficients\n",
    "print(\"Intercept:\", model.intercept_)\n",
    "print(\"Slope:\", model.coef_[0])\n",
    "print(\"Residuals:\", residuals)"
   ]
  },
  {
   "cell_type": "code",
   "execution_count": 52,
   "id": "4926aebd-2a0c-499a-9a39-d689a3c769b1",
   "metadata": {},
   "outputs": [
    {
     "data": {
      "image/png": "[encoded data removed]",
      "text/plain": [
       "<Figure size 640x480 with 1 Axes>"
      ]
     },
     "metadata": {},
     "output_type": "display_data"
    }
   ],
   "source": [
    "# Residual plot\n",
    "plt.scatter(X, residuals, color='blue')\n",
    "plt.axhline(y=0, color = 'red', linestyle='--')\n",
    "plt.xlabel(\"X\")\n",
    "plt.ylabel(\"Residuals\")\n",
    "plt.title(\"Residual Plot\")\n",
    "plt.show()"
   ]
  },
  {
   "cell_type": "markdown",
   "id": "f1a8373f-585b-4d93-961e-109b34b90b8c",
   "metadata": {},
   "source": [
    "---"
   ]
  },
  {
   "cell_type": "markdown",
   "id": "bc3efc42-ff02-4447-a7ce-82f65720b815",
   "metadata": {},
   "source": [
    "10.   Imagine you are a data scientist working for a real estate company. You need to predict house prices using features like area, number of rooms, and location.\n",
    "\n",
    "\n",
    "However, you detect heteroscedasticity and multicollinearity in your regression model. Explain the steps you would take to address these issues and ensure a robust model."
   ]
  },
  {
   "cell_type": "markdown",
   "id": "2bbf49d7-b6a3-4327-8aa2-9d9534f82e0b",
   "metadata": {},
   "source": [
    "- In predicting house prices, heteroscedasticity means the variance of residuals is not constant, making predictions less reliable for certain ranges of data.  \n",
    "  - Transform the target variable (logarithmic, square-root, or Box-Cox) to stabilize variance.  \n",
    "  - Use weighted least squares to assign lower weights to observations with higher variance.  \n",
    "  - Apply robust regression methods such as heteroscedasticity-consistent standard errors or Huber regression.  \n",
    "  - Add missing predictors through feature engineering (e.g., neighborhood, proximity to city center) to reduce residual variance.  \n",
    "\n",
    "- Multicollinearity occurs when predictors are highly correlated, making coefficients unstable.  \n",
    "  - Run variance inflation factor (VIF) analysis to detect and drop or combine redundant variables.  \n",
    "  - Use regularization methods like ridge regression (L2) or lasso regression (L1); lasso can also perform feature selection.  \n",
    "  - Apply principal component regression (PCR) by combining correlated features into uncorrelated components.  \n",
    "  - Use domain knowledge to simplify features (e.g., retain area instead of both area and rooms if they overlap).  \n",
    "\n",
    "- A robust strategy would include:  \n",
    "  - Checking residual plots and applying transformations if heteroscedasticity persists.  \n",
    "  - Running VIF diagnostics to address multicollinearity.  \n",
    "  - Trying log-transformed prices as the target variable for better variance stabilization.  \n",
    "  - Validating the model with cross-validation.  \n",
    "  - Comparing plain linear regression with regularized approaches and selecting the one with stable coefficients and lower error"
   ]
  },
  {
   "cell_type": "markdown",
   "id": "bf4873e4-f06a-4b73-8546-4d1ac4c66b6b",
   "metadata": {},
   "source": [
    "---"
   ]
  },
  {
   "cell_type": "code",
   "execution_count": null,
   "id": "1de730d3-fcec-412c-8380-395bd4e4e4a5",
   "metadata": {},
   "outputs": [],
   "source": []
  }
 ],
 "metadata": {
  "kernelspec": {
   "display_name": "Python [conda env:anaconda3]",
   "language": "python",
   "name": "conda-env-anaconda3-py"
  },
  "language_info": {
   "codemirror_mode": {
    "name": "ipython",
    "version": 3
   },
   "file_extension": ".py",
   "mimetype": "text/x-python",
   "name": "python",
   "nbconvert_exporter": "python",
   "pygments_lexer": "ipython3",
   "version": "3.13.5"
  }
 },
 "nbformat": 4,
 "nbformat_minor": 5
}
