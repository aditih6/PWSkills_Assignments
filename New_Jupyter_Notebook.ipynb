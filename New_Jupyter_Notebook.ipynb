{
 "cells": [
  {
   "cell_type": "code",
   "execution_count": 1,
   "id": "9949b870",
   "metadata": {},
   "outputs": [
    {
     "name": "stdout",
     "output_type": "stream",
     "text": [
      " * Serving Flask app '__main__'\n",
      " * Debug mode: on\n"
     ]
    },
    {
     "name": "stderr",
     "output_type": "stream",
     "text": [
      "WARNING: This is a development server. Do not use it in a production deployment. Use a production WSGI server instead.\n",
      " * Running on http://127.0.0.1:5000\n",
      "Press CTRL+C to quit\n",
      "127.0.0.1 - - [30/Jul/2025 12:59:28] \"GET / HTTP/1.1\" 200 -\n",
      "127.0.0.1 - - [30/Jul/2025 12:59:28] \"GET /favicon.ico HTTP/1.1\" 404 -\n"
     ]
    }
   ],
   "source": [
    "# Question 1: How do you create a basic Flask application?\n",
    "\n",
    "# import flask \n",
    "from flask import Flask, jsonify\n",
    "\n",
    "# create flask instance \n",
    "app = Flask(__name__)\n",
    "\n",
    "# define function and route\n",
    "@app.route('/') # Adding a decorator here\n",
    "def home():\n",
    "  return \"Welcome to my first and basic Flask application\"\n",
    "\n",
    "# Trigger the flask app\n",
    "if __name__ == '__main__':\n",
    "  app.run(debug = True, use_reloader = False)"
   ]
  },
  {
   "cell_type": "code",
   "execution_count": 2,
   "id": "70524efe",
   "metadata": {},
   "outputs": [
    {
     "data": {
      "text/html": [
       "\n",
       "<!DOCTYPE html>\n",
       "<html>\n",
       "<head>\n",
       "    <title>My Flask App</title>\n",
       "    <style>\n",
       "        body {\n",
       "            background-color: #f9f9f9;\n",
       "            font-family: Arial, sans-serif;\n",
       "            text-align: center;\n",
       "        }\n",
       "    </style>\n",
       "</head>\n",
       "<body>\n",
       "    <h1>Welcome to Flask!</h1>\n",
       "    <img src=\"https://via.placeholder.com/300\" alt=\"image\" width=\"300\">\n",
       "\n",
       "    <form method=\"POST\" action=\"/form\">\n",
       "        <label>Name</label> \n",
       "        <input name=\"Name\" type=\"text\"><br>\n",
       "        <label>Password</label>\n",
       "        <input name=\"Password\" type=\"text\"><br>\n",
       "        <button type=\"submit\">Submit</button>\n",
       "    </form>\n",
       "</body>\n",
       "</html>\n"
      ],
      "text/plain": [
       "<IPython.core.display.HTML object>"
      ]
     },
     "metadata": {},
     "output_type": "display_data"
    }
   ],
   "source": [
    "from IPython.display import display, HTML\n",
    "\n",
    "html_code = \"\"\"\n",
    "<!DOCTYPE html>\n",
    "<html>\n",
    "<head>\n",
    "    <title>My Flask App</title>\n",
    "    <style>\n",
    "        body {\n",
    "            background-color: #f9f9f9;\n",
    "            font-family: Arial, sans-serif;\n",
    "            text-align: center;\n",
    "        }\n",
    "    </style>\n",
    "</head>\n",
    "<body>\n",
    "    <h1>Welcome to Flask!</h1>\n",
    "    <img src=\"https://via.placeholder.com/300\" alt=\"image\" width=\"300\">\n",
    "\n",
    "    <form method=\"POST\" action=\"/form\">\n",
    "        <label>Name</label> \n",
    "        <input name=\"Name\" type=\"text\"><br>\n",
    "        <label>Password</label>\n",
    "        <input name=\"Password\" type=\"text\"><br>\n",
    "        <button type=\"submit\">Submit</button>\n",
    "    </form>\n",
    "</body>\n",
    "</html>\n",
    "\"\"\"\n",
    "\n",
    "display(HTML(html_code))"
   ]
  },
  {
   "cell_type": "code",
   "execution_count": 4,
   "id": "ccdb20fa",
   "metadata": {},
   "outputs": [
    {
     "name": "stdout",
     "output_type": "stream",
     "text": [
      " * Serving Flask app '__main__'\n",
      " * Debug mode: on\n"
     ]
    },
    {
     "name": "stderr",
     "output_type": "stream",
     "text": [
      "WARNING: This is a development server. Do not use it in a production deployment. Use a production WSGI server instead.\n",
      " * Running on http://127.0.0.1:5000\n",
      "Press CTRL+C to quit\n"
     ]
    }
   ],
   "source": [
    "# Question 2:  How do you serve static files like images or CSS in Flask?\n",
    "\n",
    "from flask import Flask, render_template\n",
    "\n",
    "app = Flask(__name__)  # Create the Flask app\n",
    "\n",
    "@app.route(\"/\")  # Set the home page route\n",
    "def home():\n",
    "   return render_template(\"index.html\")  # Load index.html from templates\n",
    "\n",
    "if __name__ == \"__main__\":\n",
    "   app.run(debug = True, use_reloader = False)  # Run the app in debug mode"
   ]
  },
  {
   "cell_type": "code",
   "execution_count": 5,
   "id": "5e5c790a",
   "metadata": {},
   "outputs": [
    {
     "name": "stdout",
     "output_type": "stream",
     "text": [
      " * Serving Flask app '__main__'\n",
      " * Debug mode: on\n"
     ]
    },
    {
     "name": "stderr",
     "output_type": "stream",
     "text": [
      "WARNING: This is a development server. Do not use it in a production deployment. Use a production WSGI server instead.\n",
      " * Running on http://127.0.0.1:5000\n",
      "Press CTRL+C to quit\n"
     ]
    }
   ],
   "source": [
    "# QUestion 3: How do you define different routes with different HTTP methods in Flask\n",
    "\n",
    "from flask import Flask, request, render_template\n",
    "\n",
    "app = Flask(__name__)\n",
    "\n",
    "@app.route('/', methods = ['GET'])\n",
    "def home():\n",
    "    return render_template('index.html')  # this renders your HTML page\n",
    "\n",
    "@app.route('/form', methods = ['POST'])\n",
    "def welcome():\n",
    "    return \"We have received your information\"\n",
    "\n",
    "if __name__ == \"__main__\":\n",
    "    app.run(debug = True, use_reloader = False)"
   ]
  },
  {
   "cell_type": "code",
   "execution_count": 6,
   "id": "db2c5a19",
   "metadata": {},
   "outputs": [
    {
     "data": {
      "text/html": [
       "\n",
       "<!DOCTYPE html>\n",
       "<html>\n",
       "<head>\n",
       "    <title>Flask Template</title>\n",
       "</head>\n",
       "<body>\n",
       "    <h1>Hello, Zentrix Void!</h1>\n",
       "</body>\n",
       "</html>\n"
      ],
      "text/plain": [
       "<IPython.core.display.HTML object>"
      ]
     },
     "metadata": {},
     "output_type": "display_data"
    }
   ],
   "source": [
    "from IPython.display import display, HTML\n",
    "\n",
    "name = \"Zentrix Void\"  # you can change this to any name\n",
    "\n",
    "html_code = f\"\"\"\n",
    "<!DOCTYPE html>\n",
    "<html>\n",
    "<head>\n",
    "    <title>Flask Template</title>\n",
    "</head>\n",
    "<body>\n",
    "    <h1>Hello, {name}!</h1>\n",
    "</body>\n",
    "</html>\n",
    "\"\"\"\n",
    "\n",
    "display(HTML(html_code))"
   ]
  },
  {
   "cell_type": "code",
   "execution_count": 7,
   "id": "33e107ea",
   "metadata": {},
   "outputs": [
    {
     "name": "stdout",
     "output_type": "stream",
     "text": [
      " * Serving Flask app '__main__'\n",
      " * Debug mode: on\n"
     ]
    },
    {
     "name": "stderr",
     "output_type": "stream",
     "text": [
      "WARNING: This is a development server. Do not use it in a production deployment. Use a production WSGI server instead.\n",
      " * Running on http://127.0.0.1:5000\n",
      "Press CTRL+C to quit\n"
     ]
    }
   ],
   "source": [
    "# Question 4: How do you render HTML templates in Flask?\n",
    "\n",
    "from flask import Flask, render_template\n",
    "\n",
    "app = Flask(__name__)\n",
    "\n",
    "@app.route('/')\n",
    "def home():\n",
    "    return render_template('index.html', name = 'ByteNova')\n",
    "\n",
    "if __name__ == \"__main__\":\n",
    "    app.run(debug = True, use_reloader = False)"
   ]
  },
  {
   "cell_type": "code",
   "execution_count": 8,
   "id": "7758b746",
   "metadata": {},
   "outputs": [
    {
     "data": {
      "text/html": [
       "\n",
       "<!DOCTYPE html>\n",
       "<html>\n",
       "<head>\n",
       "    <title>Profile</title>\n",
       "</head>\n",
       "<body>\n",
       "    <h1>User Profile: Zentrix Void</h1>\n",
       "    <a href=\"#\">Back to Home</a>\n",
       "</body>\n",
       "</html>\n"
      ],
      "text/plain": [
       "<IPython.core.display.HTML object>"
      ]
     },
     "metadata": {},
     "output_type": "display_data"
    }
   ],
   "source": [
    "from IPython.display import display, HTML\n",
    "\n",
    "username = \"Zentrix Void\"\n",
    "home_url = \"#\"  # Replace with actual URL if needed\n",
    "\n",
    "html_code = f\"\"\"\n",
    "<!DOCTYPE html>\n",
    "<html>\n",
    "<head>\n",
    "    <title>Profile</title>\n",
    "</head>\n",
    "<body>\n",
    "    <h1>User Profile: {username}</h1>\n",
    "    <a href=\"{home_url}\">Back to Home</a>\n",
    "</body>\n",
    "</html>\n",
    "\"\"\"\n",
    "\n",
    "display(HTML(html_code))\n"
   ]
  },
  {
   "cell_type": "code",
   "execution_count": 9,
   "id": "9b3641b4",
   "metadata": {},
   "outputs": [
    {
     "data": {
      "text/html": [
       "\n",
       "<!DOCTYPE html>\n",
       "<html>\n",
       "<head>\n",
       "    <title>Profile</title>\n",
       "</head>\n",
       "<body>\n",
       "    <h1>User Profile: Zentrix Void</h1>\n",
       "    <a href=\"#\">Back to Home</a>\n",
       "</body>\n",
       "</html>\n"
      ],
      "text/plain": [
       "<IPython.core.display.HTML object>"
      ]
     },
     "metadata": {},
     "output_type": "display_data"
    }
   ],
   "source": [
    "from IPython.display import display, HTML\n",
    "\n",
    "html_code = \"\"\"\n",
    "<!DOCTYPE html>\n",
    "<html>\n",
    "<head>\n",
    "    <title>Profile</title>\n",
    "</head>\n",
    "<body>\n",
    "    <h1>User Profile: Zentrix Void</h1>\n",
    "    <a href=\"#\">Back to Home</a>\n",
    "</body>\n",
    "</html>\n",
    "\"\"\"\n",
    "\n",
    "display(HTML(html_code))"
   ]
  },
  {
   "cell_type": "code",
   "execution_count": 11,
   "id": "92f9cc4d",
   "metadata": {},
   "outputs": [
    {
     "name": "stdout",
     "output_type": "stream",
     "text": [
      " * Serving Flask app '__main__'\n",
      " * Debug mode: on\n"
     ]
    },
    {
     "name": "stderr",
     "output_type": "stream",
     "text": [
      "WARNING: This is a development server. Do not use it in a production deployment. Use a production WSGI server instead.\n",
      " * Running on http://127.0.0.1:5000\n",
      "Press CTRL+C to quit\n"
     ]
    }
   ],
   "source": [
    "# Question 5: How can you generate URLs for routes in Flask using url_for?\n",
    "# In Flask, the url_for() function is used to generate URLs for your \n",
    "# routes dynamically. This is useful because it avoids hardcoding URLs and allows your app to remain flexible if routes change.\n",
    "\n",
    "from flask import Flask, render_template, url_for, redirect\n",
    "\n",
    "app = Flask(__name__)\n",
    "\n",
    "@app.route('/')\n",
    "def home():\n",
    "    return render_template('home.html')\n",
    "\n",
    "@app.route('/user/<username>')\n",
    "def profile(username):\n",
    "    return render_template('profile.html', username = username)\n",
    "\n",
    "@app.route('/go-to-zentrix')\n",
    "def go_to_zentrix():\n",
    "    return redirect(url_for('profile', username = 'ZentrixVoid'))\n",
    "\n",
    "if __name__ == '__main__':\n",
    "    app.run(debug = True, use_reloader = False)"
   ]
  },
  {
   "cell_type": "code",
   "execution_count": 12,
   "id": "be00002f",
   "metadata": {},
   "outputs": [
    {
     "data": {
      "text/html": [
       "\n",
       "<!DOCTYPE html>\n",
       "<html>\n",
       "<head>\n",
       "    <title>Home</title>\n",
       "</head>\n",
       "<body>\n",
       "    <h1>Welcome to the Home Page</h1>\n",
       "    <p>Try entering a username:</p>\n",
       "    <a href=\"#\">Go to Form</a>\n",
       "</body>\n",
       "</html>\n"
      ],
      "text/plain": [
       "<IPython.core.display.HTML object>"
      ]
     },
     "metadata": {},
     "output_type": "display_data"
    }
   ],
   "source": [
    "from IPython.display import display, HTML\n",
    "\n",
    "html_home = \"\"\"\n",
    "<!DOCTYPE html>\n",
    "<html>\n",
    "<head>\n",
    "    <title>Home</title>\n",
    "</head>\n",
    "<body>\n",
    "    <h1>Welcome to the Home Page</h1>\n",
    "    <p>Try entering a username:</p>\n",
    "    <a href=\"#\">Go to Form</a>\n",
    "</body>\n",
    "</html>\n",
    "\"\"\"\n",
    "\n",
    "display(HTML(html_home))"
   ]
  },
  {
   "cell_type": "code",
   "execution_count": 13,
   "id": "3c2ee68e",
   "metadata": {},
   "outputs": [
    {
     "data": {
      "text/html": [
       "\n",
       "<!DOCTYPE html>\n",
       "<html>\n",
       "<head>\n",
       "    <title>Enter Username</title>\n",
       "</head>\n",
       "<body>\n",
       "    <h1>Enter Username</h1>\n",
       "    <form action=\"#\" method=\"POST\">\n",
       "        <input type=\"text\" name=\"username\" placeholder=\"Enter your username\" required>\n",
       "        <button type=\"submit\">Submit</button>\n",
       "    </form>\n",
       "    <br>\n",
       "    <a href=\"#\">Back to Home</a>\n",
       "</body>\n",
       "</html>\n"
      ],
      "text/plain": [
       "<IPython.core.display.HTML object>"
      ]
     },
     "metadata": {},
     "output_type": "display_data"
    }
   ],
   "source": [
    "html_form = \"\"\"\n",
    "<!DOCTYPE html>\n",
    "<html>\n",
    "<head>\n",
    "    <title>Enter Username</title>\n",
    "</head>\n",
    "<body>\n",
    "    <h1>Enter Username</h1>\n",
    "    <form action=\"#\" method=\"POST\">\n",
    "        <input type=\"text\" name=\"username\" placeholder=\"Enter your username\" required>\n",
    "        <button type=\"submit\">Submit</button>\n",
    "    </form>\n",
    "    <br>\n",
    "    <a href=\"#\">Back to Home</a>\n",
    "</body>\n",
    "</html>\n",
    "\"\"\"\n",
    "\n",
    "display(HTML(html_form))"
   ]
  },
  {
   "cell_type": "code",
   "execution_count": 14,
   "id": "bf2a0be4",
   "metadata": {},
   "outputs": [
    {
     "data": {
      "text/html": [
       "\n",
       "<!DOCTYPE html>\n",
       "<html>\n",
       "<head>\n",
       "    <title>Profile</title>\n",
       "</head>\n",
       "<body>\n",
       "    <h1>Hello, Zentrix Void!</h1>\n",
       "    <a href=\"#\">Try Another Username</a><br>\n",
       "    <a href=\"#\">Back to Home</a>\n",
       "</body>\n",
       "</html>\n"
      ],
      "text/plain": [
       "<IPython.core.display.HTML object>"
      ]
     },
     "metadata": {},
     "output_type": "display_data"
    }
   ],
   "source": [
    "from IPython.display import display, HTML\n",
    "\n",
    "html_profile = \"\"\"\n",
    "<!DOCTYPE html>\n",
    "<html>\n",
    "<head>\n",
    "    <title>Profile</title>\n",
    "</head>\n",
    "<body>\n",
    "    <h1>Hello, Zentrix Void!</h1>\n",
    "    <a href=\"#\">Try Another Username</a><br>\n",
    "    <a href=\"#\">Back to Home</a>\n",
    "</body>\n",
    "</html>\n",
    "\"\"\"\n",
    "\n",
    "display(HTML(html_profile))"
   ]
  },
  {
   "cell_type": "code",
   "execution_count": 15,
   "id": "e1ff0607",
   "metadata": {},
   "outputs": [
    {
     "name": "stdout",
     "output_type": "stream",
     "text": [
      " * Serving Flask app '__main__'\n",
      " * Debug mode: on\n"
     ]
    },
    {
     "name": "stderr",
     "output_type": "stream",
     "text": [
      "WARNING: This is a development server. Do not use it in a production deployment. Use a production WSGI server instead.\n",
      " * Running on http://127.0.0.1:5000\n",
      "Press CTRL+C to quit\n",
      " * Restarting with stat\n"
     ]
    },
    {
     "ename": "SystemExit",
     "evalue": "1",
     "output_type": "error",
     "traceback": [
      "An exception has occurred, use %tb to see the full traceback.\n",
      "\u001b[31mSystemExit\u001b[39m\u001b[31m:\u001b[39m 1\n"
     ]
    },
    {
     "name": "stderr",
     "output_type": "stream",
     "text": [
      "c:\\Users\\Dell\\Flask App\\PWSkills_Assignment Module - 09\\myvenv\\Lib\\site-packages\\IPython\\core\\interactiveshell.py:3707: UserWarning: To exit: use 'exit', 'quit', or Ctrl-D.\n",
      "  warn(\"To exit: use 'exit', 'quit', or Ctrl-D.\", stacklevel=1)\n"
     ]
    }
   ],
   "source": [
    "# Question 6: How do you handle forms in Flask?\n",
    "from flask import Flask, render_template, request, redirect, url_for\n",
    "\n",
    "app = Flask(__name__)\n",
    "\n",
    "@app.route('/')\n",
    "def home():\n",
    "    return render_template('home.html')\n",
    "\n",
    "@app.route('/form')\n",
    "def form():\n",
    "    return render_template('form.html')\n",
    "\n",
    "@app.route('/submit', methods = ['POST'])\n",
    "def submit():\n",
    "    username = request.form['username']\n",
    "    return redirect(url_for('profile', username = username))\n",
    "\n",
    "@app.route('/user/<username>')\n",
    "def profile(username):\n",
    "    return render_template('profile.html', username = username)\n",
    "\n",
    "if __name__ == '__main__':\n",
    "    app.run(debug = True)"
   ]
  },
  {
   "cell_type": "code",
   "execution_count": 16,
   "id": "2cb04826",
   "metadata": {},
   "outputs": [
    {
     "data": {
      "text/html": [
       "\n",
       "<!DOCTYPE html>\n",
       "<html>\n",
       "<head><title>Form</title></head>\n",
       "<body>\n",
       "    <h2>Enter Username</h2>\n",
       "    <ul style=\"color:red;\">\n",
       "        <li>Username is required</li>\n",
       "    </ul>\n",
       "    <form method=\"POST\" action=\"#\">\n",
       "        <input type=\"text\" name=\"username\" placeholder=\"Username\">\n",
       "        <button type=\"submit\">Submit</button>\n",
       "    </form>\n",
       "</body>\n",
       "</html>\n"
      ],
      "text/plain": [
       "<IPython.core.display.HTML object>"
      ]
     },
     "metadata": {},
     "output_type": "display_data"
    }
   ],
   "source": [
    "from IPython.display import display, HTML\n",
    "\n",
    "html_form_page = \"\"\"\n",
    "<!DOCTYPE html>\n",
    "<html>\n",
    "<head><title>Form</title></head>\n",
    "<body>\n",
    "    <h2>Enter Username</h2>\n",
    "    <ul style=\"color:red;\">\n",
    "        <li>Username is required</li>\n",
    "    </ul>\n",
    "    <form method=\"POST\" action=\"#\">\n",
    "        <input type=\"text\" name=\"username\" placeholder=\"Username\">\n",
    "        <button type=\"submit\">Submit</button>\n",
    "    </form>\n",
    "</body>\n",
    "</html>\n",
    "\"\"\"\n",
    "\n",
    "display(HTML(html_form_page))\n"
   ]
  },
  {
   "cell_type": "code",
   "execution_count": 17,
   "id": "1d5dd287",
   "metadata": {},
   "outputs": [
    {
     "data": {
      "text/html": [
       "\n",
       "<!DOCTYPE html>\n",
       "<html>\n",
       "<head><title>Success</title></head>\n",
       "<body>\n",
       "    <h1>Hello, Zentrix Void!</h1>\n",
       "    <p>Form submitted successfully.</p>\n",
       "</body>\n",
       "</html>\n"
      ],
      "text/plain": [
       "<IPython.core.display.HTML object>"
      ]
     },
     "metadata": {},
     "output_type": "display_data"
    }
   ],
   "source": [
    "html_success_page = \"\"\"\n",
    "<!DOCTYPE html>\n",
    "<html>\n",
    "<head><title>Success</title></head>\n",
    "<body>\n",
    "    <h1>Hello, Zentrix Void!</h1>\n",
    "    <p>Form submitted successfully.</p>\n",
    "</body>\n",
    "</html>\n",
    "\"\"\"\n",
    "\n",
    "display(HTML(html_success_page))\n"
   ]
  },
  {
   "cell_type": "code",
   "execution_count": 18,
   "id": "44a3749f",
   "metadata": {},
   "outputs": [
    {
     "name": "stdout",
     "output_type": "stream",
     "text": [
      " * Serving Flask app '__main__'\n",
      " * Debug mode: on\n"
     ]
    },
    {
     "name": "stderr",
     "output_type": "stream",
     "text": [
      "WARNING: This is a development server. Do not use it in a production deployment. Use a production WSGI server instead.\n",
      " * Running on http://127.0.0.1:5000\n",
      "Press CTRL+C to quit\n"
     ]
    }
   ],
   "source": [
    "# Question 7:  How can you validate form data in Flask?\n",
    "\n",
    "from flask import Flask, render_template, request, redirect, url_for, flash\n",
    "\n",
    "app = Flask(__name__)\n",
    "app.secret_key = 'secret123'  # Required for flashing messages\n",
    "\n",
    "@app.route('/')\n",
    "def home():\n",
    "    return render_template('form.html')\n",
    "\n",
    "@app.route('/submit', methods = ['POST'])\n",
    "def submit():\n",
    "  username = request.form.get('username')\n",
    "\n",
    "  if not username:\n",
    "    flash('Username is required!')\n",
    "    return redirect(url_for('form'))\n",
    "  \n",
    "  if len(username) < 3:\n",
    "    flash('Username must be at least 3 characters.')\n",
    "    return redirect(url_for('form'))\n",
    "\n",
    "  return render_template('success.html', username = username)\n",
    "\n",
    "if __name__ == '__main__':\n",
    "    app.run(debug = True, use_reloader = False)\n"
   ]
  },
  {
   "cell_type": "code",
   "execution_count": 22,
   "id": "30bb28b7",
   "metadata": {},
   "outputs": [
    {
     "name": "stdout",
     "output_type": "stream",
     "text": [
      " * Serving Flask app '__main__'\n",
      " * Debug mode: on\n"
     ]
    },
    {
     "name": "stderr",
     "output_type": "stream",
     "text": [
      "WARNING: This is a development server. Do not use it in a production deployment. Use a production WSGI server instead.\n",
      " * Running on http://127.0.0.1:5000\n",
      "Press CTRL+C to quit\n"
     ]
    }
   ],
   "source": [
    "# Question 8: How do you manage sessions in Flask?\n",
    "\n",
    "from flask import Flask, session, redirect, url_for, request, render_template\n",
    "\n",
    "app = Flask(__name__)\n",
    "app.secret_key = 'my_super_secret_key'  # Required to use sessions\n",
    "\n",
    "@app.route('/')\n",
    "def index():\n",
    "    username = session.get('username')\n",
    "    if username:\n",
    "        return f'Logged in as {username} <br><a href=\"/logout\">Logout</a>'\n",
    "    return 'You are not logged in <br><a href=\"/login\">Login</a>'\n",
    "\n",
    "@app.route('/login', methods=['GET', 'POST'])\n",
    "def login():\n",
    "    if request.method == 'POST':\n",
    "        # Save username in session\n",
    "        session['username'] = request.form['username']\n",
    "        return redirect(url_for('index'))\n",
    "    return '''\n",
    "        <form method=\"POST\">\n",
    "            <input type = \"text\" name = \"username\" placeholder = \"Enter username\">\n",
    "            <input type = \"submit\" value = \"Login\">\n",
    "        </form>\n",
    "    '''\n",
    "\n",
    "@app.route('/logout')\n",
    "def logout():\n",
    "    # Remove username from session\n",
    "    session.pop('username', None)\n",
    "    return redirect(url_for('index'))\n",
    "\n",
    "if __name__ == '__main__':\n",
    "    app.run(debug = True, use_reloader = False)"
   ]
  },
  {
   "cell_type": "code",
   "execution_count": null,
   "id": "bf05bb38",
   "metadata": {},
   "outputs": [],
   "source": [
    "# Question 9: How do you redirect to a different route in Flask?\n",
    "\n",
    "from flask import Flask, redirect, url_for, request\n",
    "\n",
    "app = Flask(__name__)\n",
    "\n",
    "@app.route('/')\n",
    "def home():\n",
    "    return 'Welcome to the homepage!'\n",
    "\n",
    "@app.route('/login', methods = ['GET', 'POST'])\n",
    "def login():\n",
    "    if request.method == 'POST':\n",
    "        # Simulating a successful login\n",
    "        return redirect(url_for('dashboard'))\n",
    "    return '''\n",
    "        <form method = \"POST\">\n",
    "            <input type = \"submit\" value = \"Login\">\n",
    "        </form>\n",
    "    '''\n",
    "\n",
    "@app.route('/dashboard')\n",
    "def dashboard():\n",
    "    return 'Welcome to your dashboard!'\n",
    "    "
   ]
  },
  {
   "cell_type": "code",
   "execution_count": 25,
   "id": "07fd28e1",
   "metadata": {},
   "outputs": [
    {
     "data": {
      "text/html": [
       "\n",
       "<!DOCTYPE html>\n",
       "<html lang=\"en\">\n",
       "<head>\n",
       "    <meta charset=\"UTF-8\">\n",
       "    <title>Page Not Found</title>\n",
       "</head>\n",
       "<body>\n",
       "    <h1>Oops! 404 Error</h1>\n",
       "    <p>The page you're looking for doesn't exist.</p>\n",
       "    <a href=\"/\">Return Home</a>\n",
       "</body>\n",
       "</html>\n"
      ],
      "text/plain": [
       "<IPython.core.display.HTML object>"
      ]
     },
     "metadata": {},
     "output_type": "display_data"
    }
   ],
   "source": [
    "from IPython.display import display, HTML\n",
    "\n",
    "html_code = \"\"\"\n",
    "<!DOCTYPE html>\n",
    "<html lang=\"en\">\n",
    "<head>\n",
    "    <meta charset=\"UTF-8\">\n",
    "    <title>Page Not Found</title>\n",
    "</head>\n",
    "<body>\n",
    "    <h1>Oops! 404 Error</h1>\n",
    "    <p>The page you're looking for doesn't exist.</p>\n",
    "    <a href=\"/\">Return Home</a>\n",
    "</body>\n",
    "</html>\n",
    "\"\"\"\n",
    "\n",
    "display(HTML(html_code))"
   ]
  },
  {
   "cell_type": "code",
   "execution_count": 26,
   "id": "5a218c73",
   "metadata": {},
   "outputs": [
    {
     "name": "stdout",
     "output_type": "stream",
     "text": [
      " * Serving Flask app '__main__'\n",
      " * Debug mode: on\n"
     ]
    },
    {
     "name": "stderr",
     "output_type": "stream",
     "text": [
      "WARNING: This is a development server. Do not use it in a production deployment. Use a production WSGI server instead.\n",
      " * Running on http://127.0.0.1:5000\n",
      "Press CTRL+C to quit\n"
     ]
    }
   ],
   "source": [
    "# Question 10: How do you handle errors in Flask (e.g., 404)?\n",
    "\n",
    "from flask import Flask, render_template\n",
    "\n",
    "app = Flask(__name__)\n",
    "\n",
    "@app.route('/')\n",
    "def home():\n",
    "    return \"Welcome to the Homepage!\"\n",
    "\n",
    "@app.route('/about')\n",
    "def about():\n",
    "    return \"About Page\"\n",
    "\n",
    "@app.errorhandler(404)\n",
    "def page_not_found(error):\n",
    "    return render_template('404.html'), 404\n",
    "\n",
    "if __name__ == '__main__':\n",
    "    app.run(debug = True, use_reloader = False)\n"
   ]
  },
  {
   "cell_type": "code",
   "execution_count": 27,
   "id": "4db45da5",
   "metadata": {},
   "outputs": [],
   "source": [
    "from flask import Blueprint\n",
    "\n",
    "auth_bp = Blueprint('auth', __name__, url_prefix = '/auth')\n",
    "\n",
    "@auth_bp.route('/login')\n",
    "def login():\n",
    "    return \"Login Page\"\n",
    "\n",
    "@auth_bp.route('/logout')\n",
    "def logout():\n",
    "    return \"Logout Page\""
   ]
  },
  {
   "cell_type": "code",
   "execution_count": 28,
   "id": "47db13ee",
   "metadata": {},
   "outputs": [],
   "source": [
    "from flask import Blueprint\n",
    "\n",
    "main_bp = Blueprint('main', __name__)\n",
    "\n",
    "@main_bp.route('/')\n",
    "def home():\n",
    "    return \"Welcome to the Home Page\"\n",
    "\n",
    "@main_bp.route('/about')\n",
    "def about():\n",
    "    return \"About Page\""
   ]
  },
  {
   "cell_type": "code",
   "execution_count": 30,
   "id": "25853461",
   "metadata": {},
   "outputs": [
    {
     "name": "stdout",
     "output_type": "stream",
     "text": [
      " * Serving Flask app '__main__'\n",
      " * Debug mode: on\n"
     ]
    },
    {
     "name": "stderr",
     "output_type": "stream",
     "text": [
      "WARNING: This is a development server. Do not use it in a production deployment. Use a production WSGI server instead.\n",
      " * Running on http://127.0.0.1:5000\n",
      "Press CTRL+C to quit\n"
     ]
    }
   ],
   "source": [
    "# Question 12: How do you define a custom Jinja filter in Flask?\n",
    "\n",
    "from flask import Flask, render_template_string\n",
    "\n",
    "app = Flask(__name__)\n",
    "\n",
    "# Step 1: Define a custom filter\n",
    "def reverse_string(s):\n",
    "    return s[::-1]\n",
    "\n",
    "# Step 2: Register it with Jinja\n",
    "app.jinja_env.filters['reverse'] = reverse_string\n",
    "\n",
    "# Step 3: Define a route and render a template string\n",
    "@app.route('/')\n",
    "def index():\n",
    "    return render_template_string('''\n",
    "        <!doctype html>\n",
    "        <html>\n",
    "        <head><title>Custom Filter Test</title></head>\n",
    "        <body>\n",
    "            {% set my_text = \"Hello World\" %}\n",
    "            <p>Original: {{ my_text }}</p>\n",
    "            <p>Reversed: {{ my_text | reverse }}</p>\n",
    "        </body>\n",
    "        </html>\n",
    "    ''')\n",
    "\n",
    "# Step 4: Run the app\n",
    "if __name__ == '__main__':\n",
    "    app.run(debug = True, use_reloader = False)"
   ]
  },
  {
   "cell_type": "code",
   "execution_count": 31,
   "id": "1fde1932",
   "metadata": {},
   "outputs": [
    {
     "name": "stdout",
     "output_type": "stream",
     "text": [
      " * Serving Flask app '__main__'\n",
      " * Debug mode: on\n"
     ]
    },
    {
     "name": "stderr",
     "output_type": "stream",
     "text": [
      "WARNING: This is a development server. Do not use it in a production deployment. Use a production WSGI server instead.\n",
      " * Running on http://127.0.0.1:5000\n",
      "Press CTRL+C to quit\n"
     ]
    }
   ],
   "source": [
    "# Question 13: How can you redirect with query parameters in Flask? \n",
    "\n",
    "from flask import Flask, redirect, url_for, request\n",
    "\n",
    "app = Flask(__name__)\n",
    "\n",
    "# Target route\n",
    "@app.route('/greet')\n",
    "def greet():\n",
    "    name = request.args.get('name', 'Guest')\n",
    "    return f\"Hello, {name}!\"\n",
    "\n",
    "# Redirect route\n",
    "@app.route('/go-to-greet')\n",
    "def go_to_greet():\n",
    "    # Redirect with query parameter name = Matrix\n",
    "    return redirect(url_for('greet', name = 'Matrix'))  # http://localhost:5000/go-to-greet\n",
    "\n",
    "if __name__ == '__main__':\n",
    "    app.run(debug = True, use_reloader = False)"
   ]
  },
  {
   "cell_type": "code",
   "execution_count": 32,
   "id": "0dfef7cd",
   "metadata": {},
   "outputs": [
    {
     "name": "stdout",
     "output_type": "stream",
     "text": [
      " * Serving Flask app '__main__'\n",
      " * Debug mode: on\n"
     ]
    },
    {
     "name": "stderr",
     "output_type": "stream",
     "text": [
      "WARNING: This is a development server. Do not use it in a production deployment. Use a production WSGI server instead.\n",
      " * Running on http://127.0.0.1:5000\n",
      "Press CTRL+C to quit\n"
     ]
    }
   ],
   "source": [
    "# Question 14:  How do you return JSON responses in Flask?\n",
    "\n",
    "from flask import Flask, jsonify\n",
    "\n",
    "app = Flask(__name__)\n",
    "\n",
    "@app.route('/')\n",
    "def get_data():\n",
    "    data = {\n",
    "        'name': 'Zentrix Void',\n",
    "        'age': 27,\n",
    "        'city': 'Neo Tokyo',\n",
    "        'profession': 'Cybersecurity Engineer',\n",
    "        'skills': ['Python', 'Flask', 'Linux', 'Penetration Testing'],\n",
    "        'active': True\n",
    "    }\n",
    "    return jsonify(data)\n",
    "\n",
    "if __name__ == '__main__':\n",
    "    app.run(debug = True, use_reloader = False)"
   ]
  },
  {
   "cell_type": "code",
   "execution_count": 33,
   "id": "74b566d4",
   "metadata": {},
   "outputs": [
    {
     "name": "stdout",
     "output_type": "stream",
     "text": [
      " * Serving Flask app '__main__'\n",
      " * Debug mode: on\n"
     ]
    },
    {
     "name": "stderr",
     "output_type": "stream",
     "text": [
      "WARNING: This is a development server. Do not use it in a production deployment. Use a production WSGI server instead.\n",
      " * Running on http://127.0.0.1:5000\n",
      "Press CTRL+C to quit\n"
     ]
    }
   ],
   "source": [
    "# Question 15: How do you capture URL parameters in Flask?\n",
    "\n",
    "from flask import Flask\n",
    "\n",
    "app = Flask(__name__)\n",
    "\n",
    "@app.route('/user/<username>')\n",
    "def show_user(username):\n",
    "    return f\"Hello, {username}!\"\n",
    "\n",
    "\n",
    "if __name__ == '__main__':\n",
    "    app.run(debug=True, use_reloader = False)"
   ]
  },
  {
   "cell_type": "code",
   "execution_count": null,
   "id": "3a532e07",
   "metadata": {},
   "outputs": [],
   "source": []
  }
 ],
 "metadata": {
  "kernelspec": {
   "display_name": "myvenv (3.13.1)",
   "language": "python",
   "name": "python3"
  },
  "language_info": {
   "codemirror_mode": {
    "name": "ipython",
    "version": 3
   },
   "file_extension": ".py",
   "mimetype": "text/x-python",
   "name": "python",
   "nbconvert_exporter": "python",
   "pygments_lexer": "ipython3",
   "version": "3.13.1"
  }
 },
 "nbformat": 4,
 "nbformat_minor": 5
}
