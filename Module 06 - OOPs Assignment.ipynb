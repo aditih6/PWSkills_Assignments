{
 "cells": [
  {
   "cell_type": "markdown",
   "id": "a255fd7e-ffdd-427c-9889-4307cf961559",
   "metadata": {},
   "source": [
    "# Module - 06  OOPs Assignment"
   ]
  },
  {
   "cell_type": "markdown",
   "id": "3b9f866d-8578-419b-ab1c-39c9ac65815d",
   "metadata": {},
   "source": [
    "## Theory Questions"
   ]
  },
  {
   "cell_type": "markdown",
   "id": "47764e54-9df7-43ed-b55c-22c14efabb57",
   "metadata": {},
   "source": [
    "1.   What is Object-Oriented Programming (OOP)?\n",
    "-    In Python, Object-Oriented Programming (OOP) is a paradigm centered around the concept of objects—structures that encapsulate state (attributes) and behavior (methods). Python offers a highly flexible and dynamic OOP model compared to statically typed languages like Java or C++.\n",
    "-    Object-Oriented Programming (OOP) is a way of writing code that organizes data and functions together into objects. Instead of writing everything as separate functions and variables, OOP lets you group related things together, which makes code easier to understand, reuse, and maintain.\n",
    "\n",
    "Advantages of Object-oriented programming:\n",
    "-   Keeps related data and functions together\n",
    "-   Makes code reusable (you can create multiple cars, for example)\n",
    "-   Easier to manage large programs\n",
    "-   Used in real-world applications like games, GUIs, and web apps"
   ]
  },
  {
   "cell_type": "markdown",
   "id": "6e4d8286-cb78-4c02-8717-95401953284f",
   "metadata": {},
   "source": [
    "---"
   ]
  },
  {
   "cell_type": "markdown",
   "id": "10d9c129-8e16-4c50-a815-8cd83ed788fd",
   "metadata": {},
   "source": [
    "2.   What is a class in OOP?\n",
    "-    In Python, a class is a blueprint for creating objects, encapsulating both data (attributes) and behavior (methods). It’s a key construct in object-oriented programming (OOP), allowing you to define custom types that model real-world or abstract entities with structure and behavior.\n",
    "-    In Python, A class is a callable object that returns an instance of type.\n",
    "-    When you define a class using the class keyword, you're actually creating a class object, which itself is an instance of the type metaclass.\n",
    "-    Class bodies are executed like a normal block of code — all variables/functions defined there become part of the class's `__dict__`.\n",
    "-    A class is basically, a flexible, dynamic construct for defining custom data types, Core to building scalable and maintainable OOP architectures, backed by Python’s powerful runtime type system (type, metaclasses), more than a static definition: it's executable, introspectable, and extensible"
   ]
  },
  {
   "cell_type": "code",
   "execution_count": 6,
   "id": "b403c44f-9551-48a2-ba66-c119ba5b8c83",
   "metadata": {},
   "outputs": [],
   "source": [
    "class Car:\n",
    "    wheels = 4  # class attribute\n",
    "\n",
    "    def __init__(self, brand, model):\n",
    "        self.brand = brand      # instance attribute\n",
    "        self.model = model\n",
    "\n",
    "    def drive(self):\n",
    "        return f\"{self.brand} {self.model} is driving.\""
   ]
  },
  {
   "cell_type": "code",
   "execution_count": 8,
   "id": "c0f80e53-a81d-4c8c-b6c3-f1684caef8d1",
   "metadata": {},
   "outputs": [
    {
     "name": "stdout",
     "output_type": "stream",
     "text": [
      "<class 'type'>\n",
      "True\n"
     ]
    }
   ],
   "source": [
    "print(type(Car)) \n",
    "print(isinstance(Car, object))  "
   ]
  },
  {
   "cell_type": "markdown",
   "id": "64b6ce4b-60ec-407b-9e49-c04a59398448",
   "metadata": {},
   "source": [
    "---"
   ]
  },
  {
   "cell_type": "markdown",
   "id": "b5c4239f-e7e2-426a-8457-4ccd6e93e185",
   "metadata": {},
   "source": [
    "3.   What is an object in OOP?\n",
    "-    An object in Object-Oriented Programming (OOP) is an instance of a class. It is a self-contained entity that contains both: Data (called attributes), and Functions (called methods) that operate on that data.\n",
    "-    In simpler terms, a class is the blueprint, and an object is the real-world version created using that blueprint.\n",
    "-    Objects are created by instantiating a class.\n",
    "-    Every object has its own namespace, so multiple objects from the same class can have different data.\n",
    "-    Internally, every object in Python is a dictionary-like structure (backed by __dict__ for most user-defined objects)."
   ]
  },
  {
   "cell_type": "code",
   "execution_count": 15,
   "id": "925f9ce1-e2d6-4cef-82ea-0c28e3543118",
   "metadata": {},
   "outputs": [
    {
     "name": "stdout",
     "output_type": "stream",
     "text": [
      "Toyota Corolla is driving!\n",
      "Tesla Model S is driving!\n"
     ]
    }
   ],
   "source": [
    "class Car:\n",
    "    def __init__(self, brand, model):\n",
    "        self.brand = brand\n",
    "        self.model = model\n",
    "\n",
    "    def drive(self):\n",
    "        return f\"{self.brand} {self.model} is driving!\"\n",
    "\n",
    "# Creating objects (instances)\n",
    "car1 = Car(\"Toyota\", \"Corolla\")\n",
    "car2 = Car(\"Tesla\", \"Model S\")\n",
    "\n",
    "print(car1.drive())\n",
    "print(car2.drive())"
   ]
  },
  {
   "cell_type": "markdown",
   "id": "0bd9cb49-f2bf-41ce-bb48-90495c709d4b",
   "metadata": {},
   "source": [
    "---"
   ]
  },
  {
   "cell_type": "markdown",
   "id": "b4e3f936-e5a9-4842-8f4c-e4f603fca76b",
   "metadata": {},
   "source": [
    "4.   What is the difference between abstraction and encapsulation?\n",
    "-    Abstraction means hiding the internal details and showing only the relevant functionality to the user. Abstraction is to simplify complexity by exposing only the essential features of an object. It basically focuses on what an object does, not how it does it.\n",
    "-    Achieved using abstract base classes and the @abstractmethod decorator from the abc module. Commonly used when you want to enforce a structure in subclasses.\n",
    "-    On the other hand, encapsulation is about bundling data (attributes) and methods that operate on that data into a single unit — the class — and restricting direct access to some of the object’s components.\n",
    "-    In Python, encapsulation is implemented by using access modifiers such as single underscore _ for protected members and double underscore __ for private members.\n",
    "-    While abstraction simplifies the interface and hides the internal logic, encapsulation protects the internal state of an object and prevents unauthorized access or modification. Together, they help create clean, maintainable, and secure code."
   ]
  },
  {
   "cell_type": "markdown",
   "id": "d016598f-a355-4997-b1bc-5d2a7b1798da",
   "metadata": {},
   "source": [
    "---"
   ]
  },
  {
   "cell_type": "markdown",
   "id": "0b5c6948-5150-402c-9623-b4235ee57377",
   "metadata": {},
   "source": [
    "5.    What are dunder methods in Python?\n",
    "-    Dunder methods (short for “double underscore” methods) are special methods in Python that have names starting and ending with double underscores, like `__init__`, `__str__`, `__len__`, etc.\n",
    "-    They are also called magic methods or special methods, and are used to give your custom objects built-in Python behavior such as:  Creating and initializing objects, Controlling how objects are printed, compared, added, etc., Enabling operator overloading and type conversions"
   ]
  },
  {
   "cell_type": "code",
   "execution_count": 19,
   "id": "88edb3f5-c095-4a0a-bfb7-1adae2cf73e6",
   "metadata": {},
   "outputs": [
    {
     "name": "stdout",
     "output_type": "stream",
     "text": [
      "Book: Python Basics\n",
      "13\n"
     ]
    }
   ],
   "source": [
    "class Book:\n",
    "    def __init__(self, title):\n",
    "        self.title = title\n",
    "\n",
    "    def __str__(self):\n",
    "        return f\"Book: {self.title}\"\n",
    "\n",
    "    def __len__(self):\n",
    "        return len(self.title)\n",
    "\n",
    "book = Book(\"Python Basics\")\n",
    "\n",
    "print(book)       \n",
    "print(len(book))   "
   ]
  },
  {
   "cell_type": "markdown",
   "id": "2b12a1e1-9632-4cbe-996b-55d86f3da61c",
   "metadata": {},
   "source": [
    "---"
   ]
  },
  {
   "cell_type": "markdown",
   "id": "6214131e-70e8-4f62-963e-cad46899d29f",
   "metadata": {},
   "source": [
    "6.  Explain the concept of inheritance in OOP.\n",
    "-   Inheritance is a fundamental principle of Object-Oriented Programming (OOP) that allows one class (called the child class or subclass) to inherit the attributes and methods of another class (called the parent class or superclass).\n",
    "\n",
    "Purpose of Inheritance:\n",
    "-   Code Reusability: Reuse existing code instead of rewriting it.\n",
    "-   Hierarchy Representation: Model real-world relationships like \"is-a\" (e.g., a Dog is an Animal).\n",
    "-   Extendability: Add or modify features in a child class without altering the parent class.\n",
    "\n",
    "Types of Inheritance:\n",
    "-  Single Inheritance: One child, one parent\n",
    "-  Multiple Inheritance: Child inherits from multiple parents\n",
    "-  Multilevel Inheritance: Inheritance through multiple levels (A -->> B -->> C).\n",
    "-  Hierarchical Inheritance: Multiple children from one parent"
   ]
  },
  {
   "cell_type": "code",
   "execution_count": 90,
   "id": "178001c7-3658-413d-82c3-03e1dbe3a685",
   "metadata": {},
   "outputs": [
    {
     "name": "stdout",
     "output_type": "stream",
     "text": [
      "This is the parent class\n",
      "Some sound\n",
      "------------------------------------\n",
      "This is the child or derived class\n",
      "Meow\n"
     ]
    }
   ],
   "source": [
    "class Animal:\n",
    "    def sound1(self):\n",
    "        print(\"This is the parent class\")\n",
    "        return \"Some sound\"\n",
    "\n",
    "class Cat(Animal):\n",
    "    def sound2(self):\n",
    "        print(\"This is the child or derived class\")\n",
    "        return \"Meow\"\n",
    "\n",
    "d = Cat() # Can access the method from the object of the child class\n",
    "print(d.sound1())\n",
    "print(\"------------------------------------\")\n",
    "print(d.sound2())"
   ]
  },
  {
   "cell_type": "markdown",
   "id": "075818a1-922f-4d53-858e-d1422343e2a1",
   "metadata": {},
   "source": [
    "---"
   ]
  },
  {
   "cell_type": "markdown",
   "id": "04fdb43c-0adb-4b7d-99ea-211f70e4a628",
   "metadata": {},
   "source": [
    "7.   What is polymorphism in OOP?\n",
    "-   Polymorphism means \"many forms\", and in the context of OOP, it refers to the ability of different objects to respond to the same method or function call in different ways.\n",
    "-   In simple terms, polymorphism allows the same method name to behave differently depending on the object calling it.\n",
    "-   Polymorphism in OOP allows the same interface (method or function) to work with different underlying data types or classes.\n",
    "It helps make code general, reusable, and easier to extend.\n",
    "\n",
    "Advantages of polymorphism:\n",
    "-   It makes your code flexible, extensible, and easier to maintain.\n",
    "-   You can write general code that works with a variety of object types."
   ]
  },
  {
   "cell_type": "code",
   "execution_count": 47,
   "id": "0cde857c-3907-4dc4-9cbd-f313ce3640ae",
   "metadata": {},
   "outputs": [
    {
     "name": "stdout",
     "output_type": "stream",
     "text": [
      "5\n",
      "3\n"
     ]
    }
   ],
   "source": [
    "# The function len() works differently depending on the type of data it’s given — that’s polymorphism in action.\n",
    "print(len(\"hello\"))    \n",
    "print(len([1, 2, 3])) "
   ]
  },
  {
   "cell_type": "markdown",
   "id": "b728746b-eef2-41fe-883f-2c1d3685bf9d",
   "metadata": {},
   "source": [
    "---"
   ]
  },
  {
   "cell_type": "markdown",
   "id": "dcaf9748-fda1-44b6-af66-e8f6d06a4a55",
   "metadata": {},
   "source": [
    "8.   How is encapsulation achieved in Python?\n",
    "-    Encapsulation in Python is achieved primarily through classes and the use of access modifiers (although Python doesn't enforce strict access control like some other languages such as Java or C++).\n",
    "-    It involves restricting access to some of the object's components to prevent accidental modification and promote modularity.\n",
    "-    Encapsulation in Python is not enforced like in some languages (e.g., Java or C++), but naming conventions and property mechanisms provide a practical and effective way to achieve it.\n",
    "\n",
    "Using Access Modifiers, Python achieves encapsulation.\n",
    "-    Public - `self.value` - Accessible from anywhere\n",
    "-    Protected - `self._value` - Convention: internal use only\n",
    "-    Private - `self.__value` - Name mangling: not directly accessible"
   ]
  },
  {
   "cell_type": "code",
   "execution_count": 56,
   "id": "be274a51-4f3d-4c4f-83d0-bcbeda0f7098",
   "metadata": {},
   "outputs": [
    {
     "name": "stdout",
     "output_type": "stream",
     "text": [
      "Name: Parker\n",
      "Updated Name: Andrew\n"
     ]
    }
   ],
   "source": [
    "class Person:\n",
    "    def __init__(self):\n",
    "        self.__name = \"Parker\"  # Private variable\n",
    "\n",
    "    # Getter method\n",
    "    def get_name(self):\n",
    "        return self.__name\n",
    "\n",
    "    # Setter method\n",
    "    def set_name(self, name):\n",
    "        self.__name = name\n",
    "\n",
    "# Using the class\n",
    "p = Person()\n",
    "\n",
    "# Accessing private variable via getter\n",
    "print(\"Name:\", p.get_name())\n",
    "\n",
    "# Modifying private variable via setter\n",
    "p.set_name(\"Andrew\")\n",
    "print(\"Updated Name:\", p.get_name())\n",
    "# Trying to access private variable directly (not allowed)\n",
    "# print(p.__name)  # This will raise an AttributeError"
   ]
  },
  {
   "cell_type": "markdown",
   "id": "76148d60-fe25-4a80-85f1-85d10e482919",
   "metadata": {},
   "source": [
    "---"
   ]
  },
  {
   "cell_type": "markdown",
   "id": "19a39dfd-41e5-4aa4-b9e6-3455be40de38",
   "metadata": {},
   "source": [
    "9.  What is a constructor in Python?\n",
    "-   In Python, a constructor is a special method used to initialize objects when a class is instantiated. It sets up the initial state (attributes) of the object.\n",
    "-   It's a key part of making your objects meaningful right from creation.\n",
    "\n",
    "The Constructor Method\n",
    "-   In Python, the constructor method is named `__init__()`\n",
    "-   It is automatically called when you create a new object of a class.\n",
    "-   It is commonly used to assign default or user-defined values to object attributes.\n",
    "-   `self` refers to the current object instance.\n",
    "-   You can overload the constructor using default arguments (since Python doesn’t support true constructor overloading)"
   ]
  },
  {
   "cell_type": "code",
   "execution_count": 62,
   "id": "f2296922-a006-43c2-a154-fd9e0e22b969",
   "metadata": {},
   "outputs": [
    {
     "name": "stdout",
     "output_type": "stream",
     "text": [
      "Ethan Hunt\n",
      "25\n"
     ]
    }
   ],
   "source": [
    "class Person:\n",
    "    def __init__(self, name, age):  # Constructor\n",
    "        self.name = name\n",
    "        self.age = age\n",
    "\n",
    "# Create an object\n",
    "p = Person(\"Ethan Hunt\", 25)\n",
    "\n",
    "print(p.name)  \n",
    "print(p.age) "
   ]
  },
  {
   "cell_type": "markdown",
   "id": "8d35344b-3907-45a4-8351-811f1664f945",
   "metadata": {},
   "source": [
    "---"
   ]
  },
  {
   "cell_type": "markdown",
   "id": "814a531b-9277-48cc-b338-9517fb215fe3",
   "metadata": {},
   "source": [
    "10.   What are class and static methods in Python?\n",
    "-    A class method is a method that is bound to the class and not the instance of the class. It takes the class itself as its first argument (`cls`) and can access or modify class state (such as class variables). It is defined using the @classmethod decorator.\n",
    "-    A static method is a method that does not take either the instance (`self`) or the class (`cls`) as its first argument. It cannot access or modify class or instance data. It is defined using the @staticmethod decorator and is typically used to perform a task in isolation."
   ]
  },
  {
   "cell_type": "code",
   "execution_count": 86,
   "id": "9287f0cd-2406-45b6-b223-90272d10c329",
   "metadata": {},
   "outputs": [
    {
     "name": "stdout",
     "output_type": "stream",
     "text": [
      "1\n"
     ]
    }
   ],
   "source": [
    "# Class method\n",
    "class MyClass:\n",
    "    count = 0\n",
    "\n",
    "    @classmethod\n",
    "    def increment_count(cls):\n",
    "        cls.count += 1\n",
    "\n",
    "c1 = MyClass()\n",
    "c1.increment_count()  # or MyClass.increment_count()\n",
    "print(c1.count)  "
   ]
  },
  {
   "cell_type": "code",
   "execution_count": 84,
   "id": "59ff0e59-8383-4299-a322-8dc7cd08aa53",
   "metadata": {},
   "outputs": [
    {
     "name": "stdout",
     "output_type": "stream",
     "text": [
      "12\n"
     ]
    }
   ],
   "source": [
    "# Static method\n",
    "class MyClass:\n",
    "    @staticmethod\n",
    "    def multiply(x, y):\n",
    "        return x * y\n",
    "\n",
    "c2 = MyClass()\n",
    "print(c2.multiply(3, 4)) "
   ]
  },
  {
   "cell_type": "markdown",
   "id": "cc046bb0-fd43-49c2-b3bd-651f73a1e88b",
   "metadata": {},
   "source": [
    "---"
   ]
  },
  {
   "cell_type": "markdown",
   "id": "05a35238-e926-43bf-85d5-a8e4caec15c9",
   "metadata": {},
   "source": [
    "11.   What is method overloading in Python?\n",
    "-    Method overloading refers to defining multiple methods with the same name but with different types or numbers of arguments.\n",
    "-    Python is a dynamically typed language and does not support method overloading natively. You can't define multiple methods with the same name — only the last definition will be retained.\n",
    "\n",
    "Python allows simulation of overloading using:\n",
    "1. Default Arguments\n",
    "2. Variable-Length Arguments (*args, **kwargs)\n",
    "3. Type Checking or Conditional Logic Inside the Method"
   ]
  },
  {
   "cell_type": "code",
   "execution_count": 125,
   "id": "6a3b9856-5771-49d4-9d16-f9042773ab36",
   "metadata": {},
   "outputs": [
    {
     "name": "stdout",
     "output_type": "stream",
     "text": [
      "No values provided\n",
      "Single value: 10\n",
      "Sum of values: 30\n",
      "Sum of values: 15\n"
     ]
    }
   ],
   "source": [
    "class Calculator:\n",
    "    # Method using variable number of arguments\n",
    "    def add(self, *args):\n",
    "        if not args:\n",
    "            return \"No values provided\"\n",
    "        elif len(args) == 1:\n",
    "            return f\"Single value: {args[0]}\"\n",
    "        else:\n",
    "            return f\"Sum of values: {sum(args)}\"\n",
    "\n",
    "# Creating an object of Calculator\n",
    "calc = Calculator()\n",
    "\n",
    "# Test cases demonstrating simulated overloading\n",
    "print(calc.add())                  # No values provided\n",
    "print(calc.add(10))                \n",
    "print(calc.add(10, 20))          \n",
    "print(calc.add(1, 2, 3, 4, 5))    "
   ]
  },
  {
   "cell_type": "markdown",
   "id": "398b49ff-25ce-438a-88c6-a2991d02ba74",
   "metadata": {},
   "source": [
    "---"
   ]
  },
  {
   "cell_type": "markdown",
   "id": "d2cd4ed4-b6d9-4f90-a2ec-24c422722d04",
   "metadata": {},
   "source": [
    "12.   What is method overriding in OOP?\n",
    "-    Method Overriding is an Object-Oriented Programming (OOP) concept where a subclass provides a specific implementation of a method that is already defined in its parent class.\n",
    "-    The child class has a method with the same name, parameters, and return type as one in the parent class. When you call the method on an object of the child class, the child’s version is executed, not the parent’s.\n",
    "\n",
    "Purpose of method overriding in OOP:\n",
    "-  Customize or extend the behavior of a parent class method.\n",
    "-  Implement runtime polymorphism (same method, different behavior)."
   ]
  },
  {
   "cell_type": "code",
   "execution_count": 127,
   "id": "27e59094-3552-4345-8cdb-d77aeaa48997",
   "metadata": {},
   "outputs": [
    {
     "name": "stdout",
     "output_type": "stream",
     "text": [
      "Hello from Child\n"
     ]
    }
   ],
   "source": [
    "class Parent:\n",
    "    def greet(self):\n",
    "        print(\"Hello from Parent\")\n",
    "\n",
    "class Child(Parent):\n",
    "    def greet(self):  # This method overrides the parent version\n",
    "        print(\"Hello from Child\")\n",
    "\n",
    "# Example\n",
    "obj = Child()\n",
    "obj.greet() "
   ]
  },
  {
   "cell_type": "markdown",
   "id": "c73ad7a7-6535-480b-92fe-a1499e6227c2",
   "metadata": {},
   "source": [
    "---"
   ]
  },
  {
   "cell_type": "markdown",
   "id": "dee2740b-491b-46e1-8906-c029e6fa7dc3",
   "metadata": {},
   "source": [
    "13.   What is a property decorator in Python?\n",
    "-    In Python, the @property decorator is a way to turn a method into a read-only attribute — so you can access it like a variable, even though it’s actually calling a function behind the scenes.\n",
    "-    A decorator is something you write above a method with an @ symbol. It changes how the method behaves.In this case, @property makes a method act like an attribute.\n",
    "\n",
    "Property decorator is used because sometimes:\n",
    "-  You want to hide complex calculations or logic behind a simple attribute access.\n",
    "-  You want an attribute to be read-only (not settable directly).\n",
    "-  You want to control how data is accessed or changed, without changing the way it’s used."
   ]
  },
  {
   "cell_type": "code",
   "execution_count": 135,
   "id": "6de33737-5704-42e8-8b2c-3c40dd299872",
   "metadata": {},
   "outputs": [
    {
     "name": "stdout",
     "output_type": "stream",
     "text": [
      "25.132741228718345\n"
     ]
    }
   ],
   "source": [
    "import math as math\n",
    "class circle:\n",
    "    def __init__(self, radius):\n",
    "        self.radius = radius\n",
    "\n",
    "    @property\n",
    "    def area(self): # No need to call this like a method\n",
    "        area = 2 * math.pi * self.radius\n",
    "        return area\n",
    "\n",
    "c = circle(4)\n",
    "print(c.area) # Look! No parentheses needed\n",
    "# Now area looks like an attribute, but it’s actually calling a function in the background. "
   ]
  },
  {
   "cell_type": "markdown",
   "id": "8bd3cba3-d6b5-4aa6-b029-0e6b4fbf1e6e",
   "metadata": {},
   "source": [
    "---"
   ]
  },
  {
   "cell_type": "markdown",
   "id": "4e492a75-c8be-44f4-b3b7-4a42c6c1473d",
   "metadata": {},
   "source": [
    "14.    Why is polymorphism important in OOP?\n",
    "-    Code Reusability - Write common code that works with different object types.\n",
    "-    Simplifies Code – One method can handle different classes with the same interface.\n",
    "-    Supports Runtime Flexibility – Automatically calls the correct method at runtime (dynamic binding).\n",
    "-    Promotes Interface-Based Design – Focus on what an object can do, not how it does it.\n",
    "-    Improves Maintainability – Easier to manage and update code with fewer changes.\n",
    "-    Encourages Extensibility – New classes can be added without modifying existing logic.\\\n",
    "-    Reduces Duplication – Avoid writing multiple versions of similar code.\n",
    "-    Supports Inheritance and Overriding – Child classes can change behavior while keeping the same method name."
   ]
  },
  {
   "cell_type": "markdown",
   "id": "9b0197cd-1df3-478e-ac4d-09d669b47055",
   "metadata": {},
   "source": [
    "---"
   ]
  },
  {
   "cell_type": "markdown",
   "id": "38411767-3bc3-4822-9dd6-68cd2668757b",
   "metadata": {},
   "source": [
    "15.   What is an abstract class in Python?\n",
    "-   An abstract class in Python is a class that cannot be instantiated directly and is meant to be inherited by other classes. It can define abstract methods that must be implemented by any subclass.\n",
    "-   Cannot be used to create objects. Contains abstract methods (methods without implementation).\n",
    "-   Forces subclasses to provide specific implementations. Used to define a common interface for related classes.\n",
    "-   Abstract class is used to enforce a structure or blueprint for subclasses, To ensure all subclasses implement required methods, to support polymorphism."
   ]
  },
  {
   "cell_type": "code",
   "execution_count": 142,
   "id": "e516a625-851f-48df-b0fa-152ac4ec2d5d",
   "metadata": {},
   "outputs": [
    {
     "name": "stdout",
     "output_type": "stream",
     "text": [
      "20\n"
     ]
    }
   ],
   "source": [
    "from abc import ABC, abstractmethod\n",
    "\n",
    "class Shape(ABC):               # Abstract class\n",
    "    @abstractmethod\n",
    "    def area(self):\n",
    "        pass\n",
    "\n",
    "class Rectangle(Shape):         # Subclass\n",
    "    def __init__(self, l, w):\n",
    "        self.l = l\n",
    "        self.w = w\n",
    "\n",
    "    def area(self):\n",
    "        return self.l * self.w\n",
    "\n",
    "r = Rectangle(4, 5)\n",
    "print(r.area())                 "
   ]
  },
  {
   "cell_type": "markdown",
   "id": "77d94009-3bdd-4171-941a-d6d276c0dca5",
   "metadata": {},
   "source": [
    "---"
   ]
  },
  {
   "cell_type": "markdown",
   "id": "6615decc-6b39-4351-85e5-c147eac9390f",
   "metadata": {},
   "source": [
    "16.   What are the advantages of OOP?\n",
    "-    Modularity – Code is divided into independent classes, making development and debugging easier.\n",
    "-    Reusability – Existing classes can be reused through inheritance, saving time and effort.\n",
    "-    Encapsulation – Data and functions are bundled together, protecting internal object state.\n",
    "-    Inheritance – Child classes can inherit and extend features from parent classes, promoting code reuse.\n",
    "-    Polymorphism – Same interface or method can behave differently depending on the object type.\n",
    "-    Abstraction – Hides complex implementation details and exposes only what is necessary.\n",
    "-    Scalability – Easier to manage and extend large applications due to organized structure.\n",
    "-    Maintainability – Changes in one class have minimal impact on others, making updates easier.\n",
    "-    Security – Access control features help restrict unauthorized access to class data.\n",
    "-    Real-World Mapping – Objects closely represent real-world entities, making design more intuitive."
   ]
  },
  {
   "cell_type": "markdown",
   "id": "631dc362-8021-4cc5-83a3-b285d6ca1e62",
   "metadata": {},
   "source": [
    "---"
   ]
  },
  {
   "cell_type": "markdown",
   "id": "8bffe174-644d-4c00-8ee6-997ff31352bb",
   "metadata": {},
   "source": [
    "17.  What is the difference between a class variable and an instance variable?\n",
    "-    A class variable is a variable that is shared by all objects (instances) of a class. It is declared inside the class, but outside of any instance methods (like `__init__`). All instances refer to the same memory location for this variable.\n",
    "-    An instance variable is a variable that is unique to each object of the class. It is usually defined inside the `__init__` method using `self`. Every object has its own separate copy of an instance variable.\n",
    "\n",
    "In Python, class variables and instance variables differ in several important ways:\n",
    "-   A class variable belongs to the class itself, meaning it is shared by all instances of the class. In contrast, an instance variable belongs to each individual object, so every object maintains its own separate copy.\n",
    "-   Class variables are declared inside the class, but outside of any methods. On the other hand, instance variables are usually defined inside the __init__() method (or any method), and are assigned using self.\n",
    "-   You can access a class variable using either the class name (e.g., ClassName.var) or an object name (e.g., object.var). In contrast, instance variables are accessed only through the object (e.g., object.var).\n",
    "-   Class variables are shared across all instances of a class, meaning there is only one memory location for that variable. In contrast, instance variables are not shared—each object stores its own unique value in a separate memory space.\n",
    "-   Class variables are typically used when you want to store information that should be common to all objects—such as a counter, category, or a class-wide configuration. Instance variables, however, are used when you want each object to hold its own unique data, such as a person’s name, age, or other personal attributes."
   ]
  },
  {
   "cell_type": "code",
   "execution_count": 151,
   "id": "a3a77db7-069f-4e57-a22b-5351a495af5f",
   "metadata": {},
   "outputs": [
    {
     "name": "stdout",
     "output_type": "stream",
     "text": [
      "Tommy\n",
      "Rocky\n",
      "--------------\n",
      "Canine\n",
      "Canine\n"
     ]
    }
   ],
   "source": [
    "class Dog:\n",
    "    species = \"Canine\"        # Class variable\n",
    "\n",
    "    def __init__(self, name):\n",
    "        self.name = name      # Instance variable\n",
    "\n",
    "# Creating two objects\n",
    "d1 = Dog(\"Tommy\")\n",
    "d2 = Dog(\"Rocky\")\n",
    "\n",
    "# Instance variable (each dog has its own name)\n",
    "print(d1.name)     \n",
    "print(d2.name)     \n",
    "print(\"--------------\")\n",
    "# Class variable (shared by all dogs)\n",
    "print(d1.species)  \n",
    "print(d2.species)  "
   ]
  },
  {
   "cell_type": "markdown",
   "id": "ea671257-b576-4abb-82f0-7314840b517e",
   "metadata": {},
   "source": [
    "---"
   ]
  },
  {
   "cell_type": "markdown",
   "id": "46a786e3-7efb-40fd-96d9-b8e5cba9fe22",
   "metadata": {},
   "source": [
    "18.  What is multiple inheritance in Python?\n",
    "-   Multiple inheritance is a feature in Python where a class can inherit from more than one parent class. This allows a child class to access attributes and methods of multiple base classes, combining their behavior."
   ]
  },
  {
   "cell_type": "code",
   "execution_count": 154,
   "id": "e95545cb-8a9e-4b2b-8bbb-821c1832b1a8",
   "metadata": {},
   "outputs": [
    {
     "name": "stdout",
     "output_type": "stream",
     "text": [
      "Photo taken.\n",
      "Calling...\n",
      "Browsing internet.\n"
     ]
    }
   ],
   "source": [
    "class Camera:\n",
    "    def take_photo(self):\n",
    "        print(\"Photo taken.\")\n",
    "\n",
    "class Phone:\n",
    "    def make_call(self):\n",
    "        print(\"Calling...\")\n",
    "\n",
    "# Smartphone inherits from both Camera and Phone\n",
    "class Smartphone(Camera, Phone):\n",
    "    def browse_internet(self):\n",
    "        print(\"Browsing internet.\")\n",
    "\n",
    "# Creating object of Smartphone\n",
    "s = Smartphone()\n",
    "s.take_photo()        # Inherited from Camera\n",
    "s.make_call()         # Inherited from Phone\n",
    "s.browse_internet()   # Defined in Smartphone"
   ]
  },
  {
   "cell_type": "markdown",
   "id": "78ad3ed7-bce2-4104-8409-6d273eecfe30",
   "metadata": {},
   "source": [
    "---"
   ]
  },
  {
   "cell_type": "markdown",
   "id": "137b75a8-004f-402b-8930-0e20fd8e9f6d",
   "metadata": {},
   "source": [
    "19.    Explain the purpose of `__str__` and `__repr__` methods in Python.\n",
    "-  `__str__` – Human-Readable String\n",
    "-  Purpose: Returns a nicely formatted string for end users.\n",
    "-  Called by: The built-in str() function or print().\n",
    "-  Use `__str__` when you want a friendly, readable description of the object.\n",
    "\n",
    "\n",
    "`__repr__` – Developer-Friendly String\n",
    "-  Purpose: Returns a precise string that can be used to recreate the object (if possible).\n",
    "-  Called by: The built-in repr() function, and when printing objects in a list or shell.\n",
    "-  Fallback: If __str__ is not defined, Python uses __repr__.\n",
    "-  Use `__repr__` for debugging and logging—it should be unambiguous."
   ]
  },
  {
   "cell_type": "markdown",
   "id": "9d8547a9-ac47-4773-b28d-c5b8026dc17f",
   "metadata": {},
   "source": [
    "---"
   ]
  },
  {
   "cell_type": "markdown",
   "id": "ae488a8c-119a-48e4-bbbe-339c693d89fb",
   "metadata": {},
   "source": [
    "20.  What is the significanc of the `super()` function in Python?\n",
    "-    The `super()` function in Python is used to call methods from a parent (or superclass) from within a child (subclass). It allows clean and maintainable code when you’re dealing with inheritance.\n",
    "\n",
    "Main Purposes of super():\n",
    "-    Access Parent Methods - Lets the child class reuse code from the parent class without explicitly naming it.\n",
    "-    Avoid Redundancy - Prevents code duplication in classes that extend or override behavior.\n",
    "-    Support Multiple Inheritance - Works with Python's Method Resolution Order (MRO) to ensure all parent classes are called properly."
   ]
  },
  {
   "cell_type": "markdown",
   "id": "e06cb89c-3253-405d-a14d-e6d5120b2cc7",
   "metadata": {},
   "source": [
    "---"
   ]
  },
  {
   "cell_type": "markdown",
   "id": "4424581e-07aa-41a9-9ae5-9ae51fd4fa85",
   "metadata": {},
   "source": [
    "21.   What is the significance of the `__del__` method in Python?\n",
    "-   The `__del__` method in Python is a special method, also known as a destructor. It is called automatically when an object is about to be destroyed—typically when there are no more references to the object.\n",
    "\n",
    "Purpose of `__del__`:\n",
    "-   It allows you to clean up resources (like closing files, network connections, or releasing memory) before the object is deleted.\n",
    "-   It's like a final goodbye method for an object.\n",
    "\n",
    "Caution While Using `__del__`:\n",
    "-  Not always predictable: Python's garbage collector decides when to destroy an object, so `__del__` may not run immediately.\n",
    "-  Avoid complex logic: It's risky to raise exceptions or depend on other objects in `__del__`, as they may already be deleted.\n",
    "-  Use context managers (with statement) for better resource handling in most cases."
   ]
  },
  {
   "cell_type": "code",
   "execution_count": 159,
   "id": "891f018c-a3db-4fd4-84bd-d247218de90a",
   "metadata": {},
   "outputs": [
    {
     "name": "stdout",
     "output_type": "stream",
     "text": [
      "File 'test.txt' opened.\n",
      "File closed and object deleted.\n"
     ]
    }
   ],
   "source": [
    "class FileHandler:\n",
    "    def __init__(self, filename):\n",
    "        self.file = open(filename, 'w')\n",
    "        print(f\"File '{filename}' opened.\")\n",
    "\n",
    "    def write(self, data):\n",
    "        self.file.write(data)\n",
    "\n",
    "    def __del__(self):\n",
    "        self.file.close()\n",
    "        print(\"File closed and object deleted.\")\n",
    "\n",
    "# Using the class\n",
    "f = FileHandler(\"test.txt\")\n",
    "f.write(\"Hello, world!\")\n",
    "\n",
    "# Object goes out of scope here or gets deleted manually\n",
    "del f"
   ]
  },
  {
   "cell_type": "markdown",
   "id": "4ce026ca-cc7e-4277-a6e5-a9686d67408b",
   "metadata": {},
   "source": [
    "---"
   ]
  },
  {
   "cell_type": "markdown",
   "id": "3fb465b0-f035-42d8-946a-eb040e7f0d57",
   "metadata": {},
   "source": [
    "22.  What is the difference between @staticmethod and @classmethod in Python?\n",
    "-    `@staticmethod` - A static method does not receive any reference to the class or instance when called. It behaves just like a regular function, but it belongs to the class’s namespace. Use it when the method doesn’t need access to class or instance data.\n",
    "-    `@classmethod` - A class method receives the class itself (cls) as the first argument. It can access and modify class variables and is often used as factory methods. Use it when you want to access or modify class-level data."
   ]
  },
  {
   "cell_type": "code",
   "execution_count": 166,
   "id": "fd45b4c1-0397-4449-bd64-74c150ca0305",
   "metadata": {},
   "outputs": [
    {
     "name": "stdout",
     "output_type": "stream",
     "text": [
      "Hello, Gwen Stacy!\n",
      "1\n"
     ]
    }
   ],
   "source": [
    "class Demo:\n",
    "    class_var = 0\n",
    "\n",
    "    @staticmethod\n",
    "    def greet(name):\n",
    "        return f\"Hello, {name}!\"\n",
    "\n",
    "    @classmethod\n",
    "    def increment_class_var(cls):\n",
    "        cls.class_var += 1\n",
    "        return cls.class_var\n",
    "\n",
    "print(Demo.greet(\"Gwen Stacy\"))            # Static method call\n",
    "print(Demo.increment_class_var())          # Class method call"
   ]
  },
  {
   "cell_type": "markdown",
   "id": "218ad1f4-11f8-4866-80f5-1a2dac535411",
   "metadata": {},
   "source": [
    "---"
   ]
  },
  {
   "cell_type": "markdown",
   "id": "cf3e10ef-ed52-4ee3-b14d-b0e3e54f6588",
   "metadata": {},
   "source": [
    "23.   How does polymorphism work in Python with inheritance?\n",
    "-   Polymorphism in Python means “many forms” — it allows objects of different classes to be treated through a common interface, especially when they share a parent-child (inheritance) relationship.\n",
    "\n",
    "In object-oriented programming, polymorphism via inheritance lets you:\n",
    "\n",
    "-  Call the same method name on different classes.\n",
    "-  Each class provides its own implementation.\n",
    "-  The code calling the method doesn’t need to know the object’s exact class."
   ]
  },
  {
   "cell_type": "code",
   "execution_count": 169,
   "id": "5f7a38a1-1cc1-4ddb-8ba9-cbc311bc10f7",
   "metadata": {},
   "outputs": [
    {
     "name": "stdout",
     "output_type": "stream",
     "text": [
      "Sweet rose fragrance\n",
      "Strong jasmine scent\n"
     ]
    }
   ],
   "source": [
    "class Flower:\n",
    "    def fragrance(self):\n",
    "        return \"Some fragrance\"\n",
    "\n",
    "class Rose(Flower):\n",
    "    def fragrance(self):\n",
    "        return \"Sweet rose fragrance\"\n",
    "\n",
    "class Jasmine(Flower):\n",
    "    def fragrance(self):\n",
    "        return \"Strong jasmine scent\"\n",
    "\n",
    "# Polymorphism in action\n",
    "def describe_flower_smell(flower):\n",
    "    print(flower.fragrance())\n",
    "\n",
    "# Create instances\n",
    "rose = Rose()\n",
    "jasmine = Jasmine()\n",
    "\n",
    "# Same interface, different behavior\n",
    "describe_flower_smell(rose)     \n",
    "describe_flower_smell(jasmine)   "
   ]
  },
  {
   "cell_type": "markdown",
   "id": "4b589137-2ec0-4454-b7d2-a52877684ecb",
   "metadata": {},
   "source": [
    "---"
   ]
  },
  {
   "cell_type": "markdown",
   "id": "77af40b4-0003-4085-a48c-f452e5ab4347",
   "metadata": {},
   "source": [
    "24.  What is method chaining in Python OOP?\n",
    "-    Method chaining is a programming technique where multiple method calls are made on the same object in a single line, one after the other. Each method returns the object itself (usually self), allowing the next method to be called.\n",
    "-    Method chaining in Python refers to calling several methods on the same object sequentially in a single expression, by ensuring each method returns the object (usually `self`).\n",
    "\n",
    "Purpose of using method chaining:\n",
    "-  Cleaner, more concise code\n",
    "-  Improves readability (especially with configuration or setup code)\n",
    "-  Reduces repetitive object references"
   ]
  },
  {
   "cell_type": "code",
   "execution_count": 173,
   "id": "544d3ee2-f5ce-4ea4-ba14-cf1d4ae36e82",
   "metadata": {},
   "outputs": [
    {
     "name": "stdout",
     "output_type": "stream",
     "text": [
      "Name: Clark, Age: 25, City: New York\n"
     ]
    },
    {
     "data": {
      "text/plain": [
       "<__main__.Person at 0x1fee2c02570>"
      ]
     },
     "execution_count": 173,
     "metadata": {},
     "output_type": "execute_result"
    }
   ],
   "source": [
    "class Person:\n",
    "    def __init__(self, name):\n",
    "        self.name = name\n",
    "        self.age = None\n",
    "        self.city = None\n",
    "\n",
    "    def set_age(self, age):\n",
    "        self.age = age\n",
    "        return self  # returning self enables chaining\n",
    "\n",
    "    def set_city(self, city):\n",
    "        self.city = city\n",
    "        return self\n",
    "\n",
    "    def show_info(self):\n",
    "        print(f\"Name: {self.name}, Age: {self.age}, City: {self.city}\")\n",
    "        return self\n",
    "\n",
    "# Method chaining in action\n",
    "p = Person(\"Clark\")\n",
    "p.set_age(25).set_city(\"New York\").show_info()"
   ]
  },
  {
   "cell_type": "markdown",
   "id": "ec697284-4119-4d8a-9cb4-3b2591435b1f",
   "metadata": {},
   "source": [
    "---"
   ]
  },
  {
   "cell_type": "markdown",
   "id": "3ab9f948-8453-4daa-8a40-7d15ca8b71cf",
   "metadata": {},
   "source": [
    "25.   What is the purpose of the `__call__` method in Python?\n",
    "-    The `__call__` method in Python is a special (dunder) method that allows an instance of a class to be called like a function.\n",
    "-    `__call__` lets you make an object behave like a function. When you write object(), Python will internally call `object.__call__()`."
   ]
  },
  {
   "cell_type": "code",
   "execution_count": 176,
   "id": "07edf852-fc40-42e8-9e06-a349bb28602e",
   "metadata": {},
   "outputs": [
    {
     "name": "stdout",
     "output_type": "stream",
     "text": [
      "Hello, Jane Austen!\n"
     ]
    }
   ],
   "source": [
    "class Greeter:\n",
    "    def __init__(self, name):\n",
    "        self.name = name\n",
    "\n",
    "    def __call__(self):\n",
    "        return f\"Hello, {self.name}!\"\n",
    "\n",
    "g = Greeter(\"Jane Austen\")\n",
    "print(g())  # Equivalent to g.__call__()"
   ]
  },
  {
   "cell_type": "markdown",
   "id": "1d7ce1ba-986a-47e2-91eb-13266b77f2e9",
   "metadata": {},
   "source": [
    "---"
   ]
  },
  {
   "cell_type": "markdown",
   "id": "56c4a654-4431-49ff-9730-174316d0cb21",
   "metadata": {},
   "source": [
    "---"
   ]
  },
  {
   "cell_type": "markdown",
   "id": "e60ce56c-6ebc-4fba-b54e-6e7d5371faff",
   "metadata": {},
   "source": [
    "# Practical Questions"
   ]
  },
  {
   "cell_type": "markdown",
   "id": "703008c8-8589-49fc-b025-23a84d46398c",
   "metadata": {},
   "source": [
    "1.   Create a parent class Animal with a method speak() that prints a generic message. Create a child class Dog that overrides the speak() method to print \"Bark!\"."
   ]
  },
  {
   "cell_type": "code",
   "execution_count": 100,
   "id": "fc86e6b4-e1f9-4655-b391-adf948d9ed54",
   "metadata": {},
   "outputs": [
    {
     "name": "stdout",
     "output_type": "stream",
     "text": [
      "This is the child or derived class (Overriding speak)\n",
      "Bark!\n"
     ]
    }
   ],
   "source": [
    "class Animal:\n",
    "    def speak(self):\n",
    "        print(\"This is the parent class\")\n",
    "        return \"Some sound\"\n",
    "\n",
    "class Dog(Animal):\n",
    "    def speak(self):\n",
    "        print(\"This is the child or derived class (Overriding speak)\")\n",
    "        return \"Bark!\"\n",
    "\n",
    "# Creating an object of Dog (child class)\n",
    "d = Dog()\n",
    "\n",
    "# Calls the overridden method from Dog, not Animal\n",
    "print(d.speak())"
   ]
  },
  {
   "cell_type": "markdown",
   "id": "b3dc065d-419b-40bc-a6c4-d4427c91eb37",
   "metadata": {},
   "source": [
    "---"
   ]
  },
  {
   "cell_type": "markdown",
   "id": "c82804ed-ac7a-4ea4-93a7-65c9eff703e3",
   "metadata": {},
   "source": [
    "2.    Write a program to create an abstract class Shape with a method area(). Derive classes Circle and Rectangle from it and implement the area() method in both."
   ]
  },
  {
   "cell_type": "code",
   "execution_count": 105,
   "id": "9eef38b6-452d-435d-8ceb-566005a6b7ae",
   "metadata": {},
   "outputs": [
    {
     "name": "stdout",
     "output_type": "stream",
     "text": [
      "Area of Circle: 78.53981633974483\n",
      "Area of Rectangle: 24\n"
     ]
    }
   ],
   "source": [
    "from abc import ABC, abstractmethod\n",
    "import math\n",
    "\n",
    "# Abstract class\n",
    "class Shape(ABC):\n",
    "    @abstractmethod\n",
    "    def area(self):\n",
    "        pass\n",
    "\n",
    "# Circle class inheriting from Shape\n",
    "class Circle(Shape):\n",
    "    def __init__(self, radius):\n",
    "        self.radius = radius\n",
    "\n",
    "    def area(self):\n",
    "        return math.pi * self.radius ** 2\n",
    "\n",
    "# Rectangle class inheriting from Shape\n",
    "class Rectangle(Shape):\n",
    "    def __init__(self, length, width):\n",
    "        self.length = length\n",
    "        self.width = width\n",
    "\n",
    "    def area(self):\n",
    "        return self.length * self.width\n",
    "\n",
    "# Testing the classes\n",
    "circle = Circle(5)\n",
    "rectangle = Rectangle(4, 6)\n",
    "\n",
    "print(\"Area of Circle:\", circle.area())\n",
    "print(\"Area of Rectangle:\", rectangle.area())"
   ]
  },
  {
   "cell_type": "markdown",
   "id": "18a38086-50d5-4093-b823-9c9dc671b7c3",
   "metadata": {},
   "source": [
    "---"
   ]
  },
  {
   "cell_type": "markdown",
   "id": "3167d875-3256-4b8e-829e-43ff169bd099",
   "metadata": {},
   "source": [
    "3.  Implement a multi-level inheritance scenario where a class Vehicle has an attribute type. Derive a class Car and further derive a class ElectricCar that adds a battery attribute"
   ]
  },
  {
   "cell_type": "code",
   "execution_count": 108,
   "id": "79227ce8-24e1-474b-a4a2-4b18f636c49f",
   "metadata": {},
   "outputs": [
    {
     "name": "stdout",
     "output_type": "stream",
     "text": [
      "Vehicle Type: Four Wheeler\n",
      "Car Brand: Tesla\n",
      "Battery Capacity: 75 kWh\n"
     ]
    }
   ],
   "source": [
    "# Base class\n",
    "class Vehicle:\n",
    "    def __init__(self, vehicle_type):\n",
    "        self.type = vehicle_type\n",
    "\n",
    "    def display_type(self):\n",
    "        print(f\"Vehicle Type: {self.type}\")\n",
    "\n",
    "# First derived class\n",
    "class Car(Vehicle):\n",
    "    def __init__(self, vehicle_type, brand):\n",
    "        super().__init__(vehicle_type)\n",
    "        self.brand = brand\n",
    "\n",
    "    def display_brand(self):\n",
    "        print(f\"Car Brand: {self.brand}\")\n",
    "\n",
    "# Second derived class (multi-level)\n",
    "class ElectricCar(Car):\n",
    "    def __init__(self, vehicle_type, brand, battery_capacity):\n",
    "        super().__init__(vehicle_type, brand)\n",
    "        self.battery = battery_capacity\n",
    "\n",
    "    def display_battery(self):\n",
    "        print(f\"Battery Capacity: {self.battery} kWh\")\n",
    "\n",
    "# Testing the classes\n",
    "e_car = ElectricCar(\"Four Wheeler\", \"Tesla\", 75)\n",
    "\n",
    "e_car.display_type()       # From Vehicle\n",
    "e_car.display_brand()      # From Car\n",
    "e_car.display_battery()    # From ElectricCar"
   ]
  },
  {
   "cell_type": "markdown",
   "id": "efa78f93-e98c-45bf-8d5c-2d3e6394cc7d",
   "metadata": {},
   "source": [
    "---"
   ]
  },
  {
   "cell_type": "markdown",
   "id": "29cc34b8-8c02-47fc-a202-ca65647ae14f",
   "metadata": {},
   "source": [
    "4.   Demonstrate polymorphism by creating a base class Bird with a method `fly()`. Create two derived classes Sparrow and Penguin that override the fly() method."
   ]
  },
  {
   "cell_type": "code",
   "execution_count": 115,
   "id": "3119cadc-a328-42e0-8146-55824f7e598e",
   "metadata": {},
   "outputs": [
    {
     "name": "stdout",
     "output_type": "stream",
     "text": [
      "Sparrow can fly high!\n",
      "Penguin can't fly, it swims instead!\n"
     ]
    }
   ],
   "source": [
    "# Base class\n",
    "class Bird:\n",
    "    def fly(self):\n",
    "        print(\"Bird is flying\")\n",
    "\n",
    "# Derived class 1\n",
    "class Sparrow(Bird):\n",
    "    def fly(self):\n",
    "        print(\"Sparrow can fly high!\")\n",
    "\n",
    "# Derived class 2\n",
    "class Penguin(Bird):\n",
    "    def fly(self):\n",
    "        print(\"Penguin can't fly, it swims instead!\")\n",
    "\n",
    "# Polymorphism demonstration\n",
    "def bird_flight(bird):\n",
    "    bird.fly()\n",
    "\n",
    "b1 = Sparrow()\n",
    "b2 = Penguin()\n",
    "\n",
    "bird_flight(b1)  \n",
    "bird_flight(b2)  "
   ]
  },
  {
   "cell_type": "markdown",
   "id": "5816dcfb-b350-4007-afdc-5b8d84fe79b5",
   "metadata": {},
   "source": [
    "---"
   ]
  },
  {
   "cell_type": "markdown",
   "id": "58891e54-5929-4c36-bf21-f745a371aebf",
   "metadata": {},
   "source": [
    "5.   Write a program to demonstrate encapsulation by creating a class BankAccount with private attributes balance and methods to deposit, withdraw, and check balance."
   ]
  },
  {
   "cell_type": "code",
   "execution_count": 121,
   "id": "15e7c017-33cc-4bb2-bd70-6a5848f9a2ad",
   "metadata": {},
   "outputs": [
    {
     "name": "stdout",
     "output_type": "stream",
     "text": [
      "Current Balance: 1000\n",
      "Deposited: 500\n",
      "Withdrawn: 300\n",
      "Current Balance: 1200\n"
     ]
    }
   ],
   "source": [
    "class BankAccount:\n",
    "    def __init__(self, initial_balance=0):\n",
    "        self.__balance = initial_balance  # Private attribute\n",
    "\n",
    "    def deposit(self, amount):\n",
    "        if amount > 0:\n",
    "            self.__balance += amount\n",
    "            print(f\"Deposited: {amount}\")\n",
    "        else:\n",
    "            print(\"Deposit amount must be positive.\")\n",
    "\n",
    "    def withdraw(self, amount):\n",
    "        if amount <= self.__balance:\n",
    "            self.__balance -= amount\n",
    "            print(f\"Withdrawn: {amount}\")\n",
    "        else:\n",
    "            print(\"Insufficient balance!\")\n",
    "\n",
    "    def check_balance(self):\n",
    "        print(f\"Current Balance: {self.__balance}\")\n",
    "\n",
    "\n",
    "# Testing the BankAccount class\n",
    "account = BankAccount(1000)\n",
    "\n",
    "account.check_balance()   # ₹1000\n",
    "account.deposit(500)      # Deposited: ₹500\n",
    "account.withdraw(300)     # Withdrawn: ₹300\n",
    "account.check_balance()   # ₹1200"
   ]
  },
  {
   "cell_type": "markdown",
   "id": "7cb86db7-8192-4b28-b611-be5e9ecc6a4b",
   "metadata": {},
   "source": [
    "---"
   ]
  },
  {
   "cell_type": "markdown",
   "id": "40279f98-d595-4dfa-8f78-356cb4b53856",
   "metadata": {},
   "source": [
    "6.    Demonstrate runtime polymorphism using a method play() in a base class Instrument. Derive classes Guitar and Piano that implement their own version of play()."
   ]
  },
  {
   "cell_type": "code",
   "execution_count": 188,
   "id": "f48978df-43c8-4061-88b8-72247764ce8e",
   "metadata": {},
   "outputs": [
    {
     "name": "stdout",
     "output_type": "stream",
     "text": [
      "Strumming the guitar\n",
      "Playing the Piano\n"
     ]
    }
   ],
   "source": [
    "class Instrument:\n",
    "    def play(self):\n",
    "        print(\"Playing an instrument\")\n",
    "\n",
    "class Guitar(Instrument):\n",
    "    def play(self):\n",
    "        print(\"Strumming the guitar\")\n",
    "\n",
    "class Piano(Instrument):\n",
    "    def play(self):\n",
    "        print(\"Playing the Piano\")\n",
    "\n",
    "# Function that demonstrates polymorphism\n",
    "def perform(instrument):\n",
    "    instrument.play()\n",
    "\n",
    "# Create objects\n",
    "g = Guitar()\n",
    "p = Piano()\n",
    "\n",
    "# Runtime polymorphism in action\n",
    "perform(g)  \n",
    "perform(p)  "
   ]
  },
  {
   "cell_type": "markdown",
   "id": "479ba44d-3572-4459-a469-6c7551518963",
   "metadata": {},
   "source": [
    "---"
   ]
  },
  {
   "cell_type": "markdown",
   "id": "41bc530d-6a05-4656-80d7-31540ffda2b6",
   "metadata": {},
   "source": [
    "7.    Create a class MathOperations with a class method add_numbers() to add two numbers and a static method subtract_numbers() to subtract two numbers."
   ]
  },
  {
   "cell_type": "code",
   "execution_count": 191,
   "id": "56ca73b2-dc66-46a5-abd1-bc562a1bfca3",
   "metadata": {},
   "outputs": [
    {
     "name": "stdout",
     "output_type": "stream",
     "text": [
      "Sum: 15\n",
      "Difference: 5\n"
     ]
    }
   ],
   "source": [
    "class MathOperations:\n",
    "    @classmethod\n",
    "    def add_numbers(cls, a, b):\n",
    "        return a + b\n",
    "\n",
    "    @staticmethod\n",
    "    def subtract_numbers(a, b):\n",
    "        return a - b\n",
    "\n",
    "# Using the class method\n",
    "sum_result = MathOperations.add_numbers(10, 5)\n",
    "print(\"Sum:\", sum_result)  \n",
    "\n",
    "# Using the static method\n",
    "diff_result = MathOperations.subtract_numbers(10, 5)\n",
    "print(\"Difference:\", diff_result)  "
   ]
  },
  {
   "cell_type": "markdown",
   "id": "c8949fc6-ac93-4788-b57a-a1925253f4b8",
   "metadata": {},
   "source": [
    "---"
   ]
  },
  {
   "cell_type": "markdown",
   "id": "66a32c97-dcb6-404b-b83b-f21cffe5cf1d",
   "metadata": {},
   "source": [
    "8.    Implement a class Person with a class method to count the total number of persons created."
   ]
  },
  {
   "cell_type": "code",
   "execution_count": 193,
   "id": "bb13158b-5b3d-4fbf-bd69-5e7b568514e1",
   "metadata": {},
   "outputs": [
    {
     "name": "stdout",
     "output_type": "stream",
     "text": [
      "Total persons created: 3\n"
     ]
    }
   ],
   "source": [
    "class Person:\n",
    "    count = 0  # Class variable to track number of persons\n",
    "\n",
    "    def __init__(self, name):\n",
    "        self.name = name\n",
    "        Person.count += 1  # Increment count when a new person is created\n",
    "\n",
    "    @classmethod\n",
    "    def total_persons(cls):\n",
    "        return cls.count\n",
    "\n",
    "# Creating Person objects\n",
    "p1 = Person(\"Clark\")\n",
    "p2 = Person(\"William\")\n",
    "p3 = Person(\"Patrick\")\n",
    "\n",
    "# Checking total persons created\n",
    "print(\"Total persons created:\", Person.total_persons()) "
   ]
  },
  {
   "cell_type": "markdown",
   "id": "3b66bb0e-6f23-4037-8424-cacf4069ccbb",
   "metadata": {},
   "source": [
    "---"
   ]
  },
  {
   "cell_type": "markdown",
   "id": "027a55cd-4b14-4c07-936f-053e28499e12",
   "metadata": {},
   "source": [
    "9.   Write a class Fraction with attributes numerator and denominator. Override the str method to display the fraction as \"numerator/denominator\". "
   ]
  },
  {
   "cell_type": "code",
   "execution_count": 195,
   "id": "075360af-fe66-4b00-9a8a-0dcdef6cc6b5",
   "metadata": {},
   "outputs": [
    {
     "name": "stdout",
     "output_type": "stream",
     "text": [
      "3/4\n"
     ]
    }
   ],
   "source": [
    "class Fraction:\n",
    "    def __init__(self, numerator, denominator):\n",
    "        self.numerator = numerator\n",
    "        self.denominator = denominator\n",
    "\n",
    "    def __str__(self):\n",
    "        return f\"{self.numerator}/{self.denominator}\"\n",
    "\n",
    "# Creating a Fraction object\n",
    "f = Fraction(3, 4)\n",
    "print(f)  "
   ]
  },
  {
   "cell_type": "markdown",
   "id": "1b6967be-2f2b-41e7-8d6d-188220539cce",
   "metadata": {},
   "source": [
    "---"
   ]
  },
  {
   "cell_type": "markdown",
   "id": "183e5100-0718-456c-93d7-13d4de38fe81",
   "metadata": {},
   "source": [
    "10.  Demonstrate operator overloading by creating a class Vector and overriding the add method to add two vectors"
   ]
  },
  {
   "cell_type": "code",
   "execution_count": 197,
   "id": "07ea4057-d608-4599-aafe-69957b493c41",
   "metadata": {},
   "outputs": [
    {
     "name": "stdout",
     "output_type": "stream",
     "text": [
      "Vector(6, 8)\n"
     ]
    }
   ],
   "source": [
    "class Vector:\n",
    "    def __init__(self, x, y):\n",
    "        self.x = x\n",
    "        self.y = y\n",
    "\n",
    "    def __add__(self, other):\n",
    "        return Vector(self.x + other.x, self.y + other.y)\n",
    "\n",
    "    def __str__(self):\n",
    "        return f\"Vector({self.x}, {self.y})\"\n",
    "\n",
    "# Creating two vector objects\n",
    "v1 = Vector(2, 3)\n",
    "v2 = Vector(4, 5)\n",
    "\n",
    "# Adding two vectors using overloaded + operator\n",
    "v3 = v1 + v2\n",
    "\n",
    "# Display the result\n",
    "print(v3)  "
   ]
  },
  {
   "cell_type": "markdown",
   "id": "b5291de0-cdf7-4fc6-8f6f-022a9c37186d",
   "metadata": {},
   "source": [
    "---"
   ]
  },
  {
   "cell_type": "markdown",
   "id": "c3764698-b83e-4822-bf62-aab96e689da5",
   "metadata": {},
   "source": [
    "11.    Create a class Person with attributes name and age. Add a method greet() that prints \"Hello, my name is {name} and I am {age} years old."
   ]
  },
  {
   "cell_type": "code",
   "execution_count": 201,
   "id": "2f7c768d-c8bb-407c-9a3e-48ad0f62027e",
   "metadata": {},
   "outputs": [
    {
     "name": "stdout",
     "output_type": "stream",
     "text": [
      "Hello, my name is Alicia and I am 25 years old.\n"
     ]
    }
   ],
   "source": [
    "class Person:\n",
    "    def __init__(self, name, age):\n",
    "        self.name = name\n",
    "        self.age = age\n",
    "\n",
    "    def greet(self):\n",
    "        print(f\"Hello, my name is {self.name} and I am {self.age} years old.\")\n",
    "\n",
    "# Creating a Person object\n",
    "p = Person(\"Alicia\", 25)\n",
    "\n",
    "# Calling the greet method\n",
    "p.greet()"
   ]
  },
  {
   "cell_type": "markdown",
   "id": "203b4eff-9b6a-4914-92d2-2f8f5985657c",
   "metadata": {},
   "source": [
    "---"
   ]
  },
  {
   "cell_type": "markdown",
   "id": "09b8991d-99b2-4dee-b2c6-ecec52b52a50",
   "metadata": {},
   "source": [
    "12.   Implement a class Student with attributes name and grades. Create a method average_grade() to compute the average of the grades."
   ]
  },
  {
   "cell_type": "code",
   "execution_count": 203,
   "id": "e6010b28-4031-4855-b2d7-17c92972e49a",
   "metadata": {},
   "outputs": [
    {
     "name": "stdout",
     "output_type": "stream",
     "text": [
      "Lewis's average grade is: 86.25\n"
     ]
    }
   ],
   "source": [
    "class Student:\n",
    "    def __init__(self, name, grades):\n",
    "        self.name = name\n",
    "        self.grades = grades  # grades should be a list of numbers\n",
    "\n",
    "    def average_grade(self):\n",
    "        if not self.grades:\n",
    "            return 0\n",
    "        return sum(self.grades) / len(self.grades)\n",
    "\n",
    "# Creating a Student object\n",
    "s = Student(\"Lewis\", [85, 90, 78, 92])\n",
    "\n",
    "# Displaying the average grade\n",
    "print(f\"{s.name}'s average grade is:\", s.average_grade())"
   ]
  },
  {
   "cell_type": "markdown",
   "id": "9ad3555a-d127-416f-b332-d51b810b4182",
   "metadata": {},
   "source": [
    "---"
   ]
  },
  {
   "cell_type": "markdown",
   "id": "3dafca0d-e91b-45e0-9415-6a6570727999",
   "metadata": {},
   "source": [
    "13.    Create a class Rectangle with methods set_dimensions() to set the dimensions and area() to calculate the area."
   ]
  },
  {
   "cell_type": "code",
   "execution_count": 205,
   "id": "2a6315bb-4090-417c-bdf8-1a9e73458bf8",
   "metadata": {},
   "outputs": [
    {
     "name": "stdout",
     "output_type": "stream",
     "text": [
      "Area of rectangle: 15\n"
     ]
    }
   ],
   "source": [
    "class Rectangle:\n",
    "    def __init__(self):\n",
    "        self.length = 0\n",
    "        self.width = 0\n",
    "\n",
    "    def set_dimensions(self, length, width):\n",
    "        self.length = length\n",
    "        self.width = width\n",
    "\n",
    "    def area(self):\n",
    "        return self.length * self.width\n",
    "\n",
    "# Example usage\n",
    "rect = Rectangle()\n",
    "rect.set_dimensions(5, 3)\n",
    "print(\"Area of rectangle:\", rect.area()) "
   ]
  },
  {
   "cell_type": "markdown",
   "id": "00547fec-e3fb-494e-a9e9-93478afcd710",
   "metadata": {},
   "source": [
    "---"
   ]
  },
  {
   "cell_type": "markdown",
   "id": "e4e7acb3-60fb-4a51-a071-a8d5a0e1645b",
   "metadata": {},
   "source": [
    "14.  Create a class Employee with a method calculate_salary() that computes the salary based on hours worked and hourly rate. Create a derived class Manager that adds a bonus to the salary."
   ]
  },
  {
   "cell_type": "code",
   "execution_count": 215,
   "id": "0063400f-b0ab-4fb9-8115-c8d86a18670a",
   "metadata": {},
   "outputs": [
    {
     "name": "stdout",
     "output_type": "stream",
     "text": [
      "Aditi's salary: $1600\n",
      "Rowan's salary: $1300\n"
     ]
    }
   ],
   "source": [
    "class Employee:\n",
    "    def __init__(self, name, hours_worked, hourly_rate):\n",
    "        self.name = name\n",
    "        self.hours_worked = hours_worked\n",
    "        self.hourly_rate = hourly_rate\n",
    "         \n",
    "    def cal_salary(self):\n",
    "        return self.hours_worked * self.hourly_rate\n",
    "\n",
    "class Manager(Employee):\n",
    "    def __init__(self, name, hours_worked, hourly_rate, bonus):\n",
    "        super().__init__(name, hours_worked, hourly_rate)\n",
    "        self.bonus = bonus\n",
    "        \n",
    "    def cal_salary(self):\n",
    "        base_salary = super().cal_salary()\n",
    "        return base_salary + self.bonus\n",
    "\n",
    "emp = Employee(\"Aditi\", 40, 40)\n",
    "mgr = Manager(\"Rowan\", 40, 20, 500)\n",
    "\n",
    "print(f\"{emp.name}'s salary: ${emp.cal_salary()}\") \n",
    "print(f\"{mgr.name}'s salary: ${mgr.cal_salary()}\")"
   ]
  },
  {
   "cell_type": "markdown",
   "id": "8f0a4940-51e1-4fed-968c-603cdfd7873a",
   "metadata": {},
   "source": [
    "---"
   ]
  },
  {
   "cell_type": "markdown",
   "id": "abf82dc8-fc48-4a6a-97c6-9d29af9f4dc4",
   "metadata": {},
   "source": [
    "15.    Create a class Product with attributes name, price, and quantity. Implement a method total_price() that calculates the total price of the product."
   ]
  },
  {
   "cell_type": "code",
   "execution_count": 219,
   "id": "d6239af0-f60e-4bc5-9e2a-d0ed783b2d98",
   "metadata": {},
   "outputs": [
    {
     "name": "stdout",
     "output_type": "stream",
     "text": [
      "Total price for Laptops: $15000\n"
     ]
    }
   ],
   "source": [
    "class Product:\n",
    "    def __init__(self, name, price, quantity):\n",
    "        self.name = name\n",
    "        self.price = price\n",
    "        self.quantity = quantity\n",
    "\n",
    "    def total_price(self):\n",
    "        return self.price * self.quantity\n",
    "\n",
    "# Example usage\n",
    "item = Product(\"Laptop\", 7500, 2)\n",
    "print(f\"Total price for {item.name}s: ${item.total_price()}\")"
   ]
  },
  {
   "cell_type": "markdown",
   "id": "1a630b78-429f-4d8d-83a5-733400092b53",
   "metadata": {},
   "source": [
    "---"
   ]
  },
  {
   "cell_type": "markdown",
   "id": "67ee3617-f780-419a-b8c8-34a42a2316f2",
   "metadata": {},
   "source": [
    "16.  Create a class Animal with an abstract method sound(). Create two derived classes Cow and Sheep that implement the sound() method."
   ]
  },
  {
   "cell_type": "code",
   "execution_count": 221,
   "id": "9e6743d8-42ae-442c-b203-4b4b3531a1ab",
   "metadata": {},
   "outputs": [
    {
     "name": "stdout",
     "output_type": "stream",
     "text": [
      "Cow sound: Moo\n",
      "Sheep sound: Baa\n"
     ]
    }
   ],
   "source": [
    "from abc import ABC, abstractmethod\n",
    "\n",
    "# Abstract base class\n",
    "class Animal(ABC):\n",
    "    @abstractmethod\n",
    "    def sound(self):\n",
    "        pass\n",
    "\n",
    "# Derived class Cow\n",
    "class Cow(Animal):\n",
    "    def sound(self):\n",
    "        return \"Moo\"\n",
    "\n",
    "# Derived class Sheep\n",
    "class Sheep(Animal):\n",
    "    def sound(self):\n",
    "        return \"Baa\"\n",
    "\n",
    "# Example usage\n",
    "cow = Cow()\n",
    "sheep = Sheep()\n",
    "\n",
    "print(\"Cow sound:\", cow.sound())      \n",
    "print(\"Sheep sound:\", sheep.sound())  "
   ]
  },
  {
   "cell_type": "markdown",
   "id": "09d3bec0-5a64-44ff-b79e-250a69448b1f",
   "metadata": {},
   "source": [
    "---"
   ]
  },
  {
   "cell_type": "markdown",
   "id": "aa93bbb0-870c-4558-ad05-1a3b07b63f5a",
   "metadata": {},
   "source": [
    "17.  Create a class Book with attributes title, author, and year_published. Add a method get_book_info() that returns a formatted string with the book's details."
   ]
  },
  {
   "cell_type": "code",
   "execution_count": 223,
   "id": "046b7f0e-cbb9-4cee-b292-9ca51e8108a9",
   "metadata": {},
   "outputs": [
    {
     "name": "stdout",
     "output_type": "stream",
     "text": [
      "'Ikigai' by Héctor García and Francesc Miralles (Published in 2016)\n"
     ]
    }
   ],
   "source": [
    "class Book:\n",
    "    def __init__(self, title, author, year_published):\n",
    "        self.title = title\n",
    "        self.author = author\n",
    "        self.year_published = year_published\n",
    "\n",
    "    def get_book_info(self):\n",
    "        return f\"'{self.title}' by {self.author} (Published in {self.year_published})\"\n",
    "\n",
    "book1 = Book(\"Ikigai\", \"Héctor García and Francesc Miralles\", 2016)\n",
    "print(book1.get_book_info())"
   ]
  },
  {
   "cell_type": "markdown",
   "id": "34332c64-07f5-40d5-802b-55ba274de614",
   "metadata": {},
   "source": [
    "---"
   ]
  },
  {
   "cell_type": "markdown",
   "id": "68afa45d-b946-4564-86ba-7beaa66ac267",
   "metadata": {},
   "source": [
    "18.   Create a class House with attributes address and price. Create a derived class Mansion that adds an attribute number_of_rooms."
   ]
  },
  {
   "cell_type": "code",
   "execution_count": 225,
   "id": "411d4c28-b9da-4f2c-8393-ac04ee7bdfb3",
   "metadata": {},
   "outputs": [
    {
     "name": "stdout",
     "output_type": "stream",
     "text": [
      "Address: 123 Dream Lane\n",
      "Price: $50000\n",
      "Number of rooms: 10\n"
     ]
    }
   ],
   "source": [
    "# Base class\n",
    "class House:\n",
    "    def __init__(self, address, price):\n",
    "        self.address = address\n",
    "        self.price = price\n",
    "\n",
    "# Derived class\n",
    "class Mansion(House):\n",
    "    def __init__(self, address, price, number_of_rooms):\n",
    "        super().__init__(address, price)\n",
    "        self.number_of_rooms = number_of_rooms\n",
    "\n",
    "# Example usage\n",
    "m = Mansion(\"123 Dream Lane\", 50000, 10)\n",
    "\n",
    "print(f\"Address: {m.address}\")\n",
    "print(f\"Price: ${m.price}\")\n",
    "print(f\"Number of rooms: {m.number_of_rooms}\")\n"
   ]
  }
 ],
 "metadata": {
  "kernelspec": {
   "display_name": "Python [conda env:base] *",
   "language": "python",
   "name": "conda-base-py"
  },
  "language_info": {
   "codemirror_mode": {
    "name": "ipython",
    "version": 3
   },
   "file_extension": ".py",
   "mimetype": "text/x-python",
   "name": "python",
   "nbconvert_exporter": "python",
   "pygments_lexer": "ipython3",
   "version": "3.12.7"
  }
 },
 "nbformat": 4,
 "nbformat_minor": 5
}
