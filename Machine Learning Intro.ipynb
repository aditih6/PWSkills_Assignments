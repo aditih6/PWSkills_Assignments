{
 "cells": [
  {
   "cell_type": "markdown",
   "id": "2fdda8b5-7b01-49e9-b8cf-885d799b51da",
   "metadata": {},
   "source": [
    "# Machine Learning Intro Assignment"
   ]
  },
  {
   "cell_type": "markdown",
   "id": "278cd413-3f42-426f-8cfb-45a93cc9920c",
   "metadata": {},
   "source": [
    "1.  Explain the differences between AI, ML, Deep Learning (DL), and Data Science (DS).\n",
    "\n",
    "\n",
    "-  Artificial Intelligence - AI refers to the broader concept of creating machines or systems that can mimic human-like intelligence, decision-making, reasoning, and problem solving. Encompasses areas such as rule-based systems, robotics, computer vision, natural language processing, and more.\n",
    "-  Enable machines to perform tasks that normally require human intelligence (reasoning, decision-making, problem-solving, understanding language, vision, etc.)\n",
    "-  Example: A chess-playing computer, chatbots, self-driving cars.\n",
    "\n",
    "\n",
    "-  Machine Learning (ML) - ML is a subset of AI that uses data and algorithms to enable systems to learn and improve from experience without being explicitly programmed. Includes supervised, unsupervised, and reinforcement learning paradigms for tasks like classification, logistic regression, and clustering, Linear Regression, decision trees, random forests, support vector machines.\n",
    "-  Example: Spam email detection learns from examples of spam vs. non-spam emails.\n",
    "\n",
    "\n",
    "-  Deep Learning (DL) - DL is a subset of ML that leverages deep neural networks with many layers to automatically discover representations from vast amounts of data. Highly effective for complex tasks such as image recognition, speech recognition, and natural language understanding. Convolutional Neural Networks (CNNs), Recurrent Neural Networks (RNNs), Transformers.\n",
    "-  Example: Image recognition (detecting cats in photos), speech recognition (Siri, Alexa).\n",
    "\n",
    "\n",
    "-  Data Science (DS) - DS is focused on extracting meaningful insights, trends, and knowledge from structured and unstructured data using statistics, data analysis, and computational methods. Encompasses the end-to-end pipeline: data collection, cleaning, visualization, statistical modeling, and sometimes deploying AI/ML models to create predictions or recommendations.\n",
    "-  Example: A data scientist analyzing customer purchase history to recommend products."
   ]
  },
  {
   "cell_type": "markdown",
   "id": "7304b011-2ba7-40a2-a96c-9c7a0b6d8ce9",
   "metadata": {},
   "source": [
    "---"
   ]
  },
  {
   "cell_type": "markdown",
   "id": "77ebb1d4-3e10-4c5c-9a63-5df4ca7a1d5a",
   "metadata": {},
   "source": [
    "2. What are the types of machine learning? Describe each with one real-world example.\n",
    "\n",
    "\n",
    "1.  Supervised Learning\n",
    "-  Definition: The model is trained on labeled data (input + correct output). It learns the mapping from inputs to outputs.\n",
    "-  Goal: Predict outcomes for new, unseen data.\n",
    "-  Techniques: Linear regression, logistic regression, decision trees, random forest, support vector machines, neural networks.\n",
    "-  Real-world Example: Email Spam Filtering – The algorithm is trained on emails labeled as spam or not spam. Then it predicts if new emails are spam.\n",
    "\n",
    "2. Unsupervised Learning\n",
    "-  Definition: The model is trained on unlabeled data (no predefined outputs). It tries to discover hidden patterns or groupings.\n",
    "-  Goal: Find structure in data (clustering, associations, dimensionality reduction).\n",
    "-  Techniques: K-means clustering, hierarchical clustering, principal component analysis (PCA), association rules.\n",
    "-  Real-world Example: Customer Segmentation – Retail companies group customers by purchase behavior (without predefined labels) to tailor marketing strategies.\n",
    "\n",
    "3. Reinforcement Learning (RL)\n",
    "-  Definition: The model (agent) learns by interacting with an environment, receiving rewards or penalties for actions.\n",
    "-  Goal: Learn the best strategy (policy) to maximize long-term rewards.\n",
    "-  Techniques: Q-learning, Deep Q-Networks (DQN), policy gradient methods.\n",
    "-  Real-world Example: Self-driving Cars – The AI agent learns to drive by getting rewards for safe driving and penalties for mistakes (like crashing or crossing lanes).\n",
    "\n",
    "4. Semi-Supervised Learning\n",
    "-  Definition: A mix of supervised and unsupervised learning. The model is trained on a small amount of labeled data + a large amount of unlabeled data\n",
    "-  Goal: Improve learning accuracy when labeling data is expensive or time-consuming.\n",
    "-  Techniques: Self-training, co-training, graph-based methods.\n",
    "-  Real-world Example: Medical Diagnosis – Labeled medical images (like X-rays with diagnosis) are limited because labeling requires doctors. Semi-supervised models use many unlabeled scans plus the labeled ones to improve disease detection.\n",
    "\n",
    "Quick Summary:\n",
    "-  Supervised → Learn from labeled data (spam detection)\n",
    "-  Unsupervised → Find hidden patterns (customer segmentation)\n",
    "-  Reinforcement → Learn by trial and error (self-driving)\n",
    "-  Semi-supervised → Mix of both, useful when labels are scarce (medical imaging)"
   ]
  },
  {
   "cell_type": "markdown",
   "id": "21eb3c9d-5cfa-45c3-8b78-6b4fb7862f34",
   "metadata": {},
   "source": [
    "---"
   ]
  },
  {
   "cell_type": "markdown",
   "id": "9277787c-8bfd-401d-b1dd-3210d0f2cc79",
   "metadata": {},
   "source": [
    "3. Define overfitting, underfitting, and the bias-variance tradeoff in machine learning.\n",
    "\n",
    "\n",
    "Overfitting\n",
    "-  Definition: When a model learns too much from the training data, including noise and random fluctuations, instead of just the underlying pattern\n",
    "-  Effect: The model performs very well on training data but poorly on unseen test data\n",
    "-  Analogy: Like memorizing practice questions instead of understanding concepts — you fail on new questions.\n",
    "-  Example: A decision tree that splits into too many branches to perfectly classify training data, but misclassifies new data.\n",
    "\n",
    "2. Underfitting\n",
    "-  Definition: When a model is too simple to capture the underlying patterns in the data\n",
    "-  Effect: The model performs poorly both on training and test data.\n",
    "-  Analogy: Like learning only the first step of a math problem — you can’t solve training or exam questions properly\n",
    "-  Example: Using a straight line (linear regression) to predict a relationship that is actually curved (nonlinear).\n",
    "\n",
    "3. Bias-Variance Tradeoff\n",
    "-  Bias: Error due to overly simple assumptions in the model\n",
    "-  High bias → underfitting\n",
    "-  Variance: Error due to too much sensitivity to training data (model adapts too closely)\n",
    "-  High variance → overfitting.\n",
    "\n",
    "Tradeoff:\n",
    "-  A good model must balance bias and variance\n",
    "-  Too simple → high bias, low variance (underfits)\n",
    "-  Too complex → low bias, high variance (overfits)\n",
    "-  The sweet spot is where both are balanced, leading to good generalization.\n",
    "\n",
    "Quick Visual:\n",
    "-  High bias -->> model misses the target consistently (systematic error)\n",
    "-  High variance -->> model predictions scatter all over the place\n",
    "-  Balanced -->> predictions cluster around the target"
   ]
  },
  {
   "cell_type": "markdown",
   "id": "a1b852f9-7328-4de8-a072-858820704ff8",
   "metadata": {},
   "source": [
    "---"
   ]
  },
  {
   "cell_type": "markdown",
   "id": "014c3eb3-a1f1-4f7e-ae93-fcb75e7afd95",
   "metadata": {},
   "source": [
    "4.  What are outliers in a dataset, and list three common techniques for handling them.\n",
    "\n",
    "\n",
    "An outlier is a data point that lies far away from the general distribution of the dataset. In other words, it is an observation that deviates significantly from the other values.\n",
    "\n",
    "Outliers can arise due to:\n",
    "-  Measurement or data entry errors (e.g., entering age as 250 instead of 25)\n",
    "-  Natural variation in the data (e.g., a student scoring 100% while most score between 50–80%)\n",
    "-  Experimental errors or rare events (e.g., sudden stock market crash, equipment failure)\n",
    "\n",
    "Outliers are important because they can:\n",
    "-  Skew mean and standard deviation\n",
    "-  Mislead statistical tests and machine learning models\n",
    "-  Sometimes reveal valuable insights (e.g., fraud detection, rare diseases).\n",
    "\n",
    "\n",
    "Three Common Techniques for Handling Outliers\n",
    "1. Removal of Outliers: If outliers are due to errors or irrelevant cases, they can be removed.\n",
    "\n",
    "Common statistical methods to detect them:\n",
    "-  Z-score method: Remove data points with a Z-score > 3 (or < –3)\n",
    "-  IQR method (Interquartile Range): Data points below Q1 – 1.5×IQR or above Q3 + 1.5×IQR are considered outliers\n",
    "-  Example: If most people’s heights are between 140 cm–200 cm, but one record shows 500 cm, that’s likely an error and should be removed\n",
    "\n",
    "2. Transformation of Data\n",
    "-  Instead of removing, we reduce the effect of extreme values\n",
    "\n",
    "\n",
    "Common transformations:\n",
    "-  Log transformation: Useful when data is highly skewed\n",
    "-  Square root or cube root transformation: Reduces the effect of large values\n",
    "-  Box-Cox transformation: A generalized way to stabilize variance\n",
    "-  Example: If income data ranges from $10,000 to $1,000,000, applying a log transformation compresses the scale, making outliers less extreme\n",
    "\n",
    "3. Imputation or Capping (Winsorization) - Replace outliers with more “reasonable” values instead of deleting them.\n",
    "\n",
    "Methods:\n",
    "-  Winsorization: Cap values at a chosen percentile (e.g., replace values above the 95th percentile with the 95th percentile value)\n",
    "-  Mean/Median replacement: Replace extreme values with the mean or median of the feature\n",
    "-  Example: In a dataset of test scores (mostly 40–90), a score of 150 could be capped at the 99th percentile (say 100)\n",
    "\n",
    "Summary:\n",
    "-  Outliers are unusual data points that can distort analysis\n",
    "-  Methods to handle them include removal (IQR, Z-score), transformation (log, sqrt), and replacement (Winsorization, imputation) depending on whether the outlier is an error or a meaningful observation"
   ]
  },
  {
   "cell_type": "markdown",
   "id": "a36ab554-6333-456c-b802-a77128dd1b1b",
   "metadata": {},
   "source": [
    "---"
   ]
  },
  {
   "cell_type": "markdown",
   "id": "b9ec8005-0251-4152-911c-4686089d4dd2",
   "metadata": {},
   "source": [
    "5.  Explain the process of handling missing values and mention one imputation technique for numerical and one for categorical data.\n",
    "\n",
    "\n",
    "Handling Missing Values:\n",
    "-  Missing values occur when no data value is stored for a variable in an observation. They may arise due to data entry errors, skipped responses in surveys, equipment malfunction, or data corruption.\n",
    "\n",
    "If not handled properly, missing values can:\n",
    "- Reduce data quality\n",
    "- Distort statistical analyses\n",
    "- Lead to biased or invalid machine learning models\n",
    "\n",
    "\n",
    "Process of Handling Missing Values\n",
    "1. Identify missing values: Use summary statistics or functions (e.g., isnull() in Python/Pandas).\n",
    "\n",
    "\n",
    "2. Understand the reason for missingness\n",
    "-  MCAR (Missing Completely at Random): No pattern, purely random\n",
    "-  MAR (Missing at Random): Depends on other observed data\n",
    "-  MNAR (Missing Not at Random): Missingness depends on the unobserved value itself\n",
    "\n",
    "3.  Choose a strategy to handle them\n",
    "-  Deletion: Remove rows/columns with too many missing values\n",
    "-  Imputation: Fill missing values with estimated values\n",
    "-  Model-based approaches: Use machine learning to predict missing values\n",
    "\n",
    "Imputation Techniques:\n",
    "1.  Numerical Data – Mean/Median Imputation\n",
    "-  Replace missing values with the mean or median of the column\n",
    "-  Example: If the “Age” column has missing values, replace them with the median age of the dataset\n",
    "-  Median is often preferred for skewed distributions\n",
    "\n",
    "2. Categorical Data – Mode Imputation\n",
    "-  Replace missing values with the most frequent category (mode)\n",
    "-  Example: If “Gender” is missing, and 70% of entries are “Male,” replace missing values with “Male.”\n",
    "\n",
    "Summary:\n",
    "-  Handling missing values involves detecting, understanding, and treating them.\n",
    "\n",
    "One common imputation technique:\n",
    "- Numerical data → Mean/Median imputation\n",
    "- Categorical data → Mode imputation"
   ]
  },
  {
   "cell_type": "markdown",
   "id": "b99a60cc-2b0e-4d04-9246-360ba3844ae5",
   "metadata": {},
   "source": [
    "---"
   ]
  },
  {
   "cell_type": "markdown",
   "id": "c4ea59c5-351e-4ad0-b1a3-a6c3ab09091f",
   "metadata": {},
   "source": [
    "6. Write a Python program that:\n",
    "\n",
    "-  Creates a synthetic imbalanced dataset with make_classification() from sklearn.datasets.\n",
    "-  Prints the class distribution.\n",
    "\n",
    "\n",
    "(Include your Python code and output in the code box below.)"
   ]
  },
  {
   "cell_type": "code",
   "execution_count": 11,
   "id": "42da740e-7c81-4f9c-a651-84ec14206dbd",
   "metadata": {},
   "outputs": [
    {
     "name": "stdout",
     "output_type": "stream",
     "text": [
      "Class distribution: Counter({np.int64(0): 895, np.int64(1): 105})\n"
     ]
    }
   ],
   "source": [
    "# Import required libraries\n",
    "from sklearn.datasets import make_classification\n",
    "import numpy as np\n",
    "from collections import Counter\n",
    "\n",
    "# Create synthetic imbalanced dataset\n",
    "X, y = make_classification(\n",
    "    n_samples = 1000,       # total samples\n",
    "    n_features = 10,        # total features\n",
    "    n_informative = 2,      # informative features\n",
    "    n_redundant = 2,        # redundant features\n",
    "    n_clusters_per_class = 1,\n",
    "    weights = [0.9, 0.1],   # imbalance ratio (90% of class 0, 10% of class 1)\n",
    "    random_state = 42\n",
    ")\n",
    "\n",
    "# Print class distribution\n",
    "class_distribution = Counter(y)\n",
    "print(\"Class distribution:\", class_distribution)"
   ]
  },
  {
   "cell_type": "markdown",
   "id": "b59f6b58-8161-4a2e-9249-286dd55d2216",
   "metadata": {},
   "source": [
    "---"
   ]
  },
  {
   "cell_type": "markdown",
   "id": "a203aeab-4012-4051-8b0e-3efc4eed85cb",
   "metadata": {},
   "source": [
    "7.  Implement one-hot encoding using pandas for the following list of colors:\n",
    "\n",
    "\n",
    "['Red', 'Green', 'Blue', 'Green', 'Red']. Print the resulting dataframe.\n",
    "\n",
    "\n",
    "(Include your Python code and output in the code box below)"
   ]
  },
  {
   "cell_type": "code",
   "execution_count": 14,
   "id": "3fc41040-d751-4d2f-85af-8848dc63a64f",
   "metadata": {},
   "outputs": [
    {
     "name": "stdout",
     "output_type": "stream",
     "text": [
      "    Blue  Green    Red\n",
      "0  False  False   True\n",
      "1  False   True  False\n",
      "2   True  False  False\n",
      "3  False   True  False\n",
      "4  False  False   True\n"
     ]
    }
   ],
   "source": [
    "import pandas as pd\n",
    "\n",
    "# List of colors\n",
    "colors = ['Red', 'Green', 'Blue', 'Green', 'Red']\n",
    "\n",
    "# Create DataFrame\n",
    "df = pd.DataFrame({'Color': colors})\n",
    "\n",
    "# Perform one-hot encoding\n",
    "one_hot = pd.get_dummies(df['Color'])\n",
    "\n",
    "# Print the resulting DataFrame\n",
    "print(one_hot)"
   ]
  },
  {
   "cell_type": "markdown",
   "id": "e589eea2-6fa4-4ed5-b607-0a384a7a96fd",
   "metadata": {},
   "source": [
    "---"
   ]
  },
  {
   "cell_type": "markdown",
   "id": "aeef21e0-0b7c-4b42-a403-97f2a6addd43",
   "metadata": {},
   "source": [
    "8.  Write a Python script to:\n",
    "-  Generate 1000 samples from a normal distribution\n",
    "-  Introduce 50 random missing values\n",
    "-  Fill missing values with the column mean\n",
    "-  Plot a histogram before and after imputation\n",
    "\n",
    "\n",
    "(Include your Python code and output in the code box below.)"
   ]
  },
  {
   "cell_type": "code",
   "execution_count": 16,
   "id": "e4bd63af-7bd4-472a-ba0c-e2bfa378438a",
   "metadata": {},
   "outputs": [
    {
     "data": {
      "image/png": "[encoded data removed]",
      "text/plain": [
       "<Figure size 1200x500 with 2 Axes>"
      ]
     },
     "metadata": {},
     "output_type": "display_data"
    }
   ],
   "source": [
    "import numpy as np\n",
    "import pandas as pd\n",
    "import matplotlib.pyplot as plt\n",
    "\n",
    "# Step 1: Generate 1000 samples from a normal distribution\n",
    "np.random.seed(42)  # for reproducibility\n",
    "data = np.random.normal(loc = 50, scale = 10, size = 1000)  # mean=50, std=10\n",
    "\n",
    "# Convert to DataFrame\n",
    "df = pd.DataFrame(data, columns = ['Value'])\n",
    "\n",
    "# Step 2: Introduce 50 random missing values\n",
    "missing_indices = np.random.choice(df.index, size = 50, replace = False)\n",
    "df.loc[missing_indices, 'Value'] = np.nan\n",
    "\n",
    "# Step 3: Fill missing values with column mean\n",
    "mean_value = df['Value'].mean()\n",
    "df['Value_imputed'] = df['Value'].fillna(mean_value)\n",
    "\n",
    "# Step 4: Plot histogram before and after imputation\n",
    "plt.figure(figsize = (12,5))\n",
    "\n",
    "# Before imputation\n",
    "plt.subplot(1,2,1)\n",
    "plt.hist(df['Value'].dropna(), bins = 30, edgecolor = 'black')\n",
    "plt.title(\"Before Imputation\")\n",
    "plt.xlabel(\"Value\")\n",
    "plt.ylabel(\"Frequency\")\n",
    "\n",
    "# After imputation\n",
    "plt.subplot(1,2,2)\n",
    "plt.hist(df['Value_imputed'], bins = 30, edgecolor = 'black')\n",
    "plt.title(\"After Imputation\")\n",
    "plt.xlabel(\"Value\")\n",
    "plt.ylabel(\"Frequency\")\n",
    "\n",
    "plt.tight_layout()\n",
    "plt.show()"
   ]
  },
  {
   "cell_type": "markdown",
   "id": "1684be77-05b8-4e5c-9234-8b22f0c3eeda",
   "metadata": {},
   "source": [
    "---"
   ]
  },
  {
   "cell_type": "markdown",
   "id": "76f50be7-d9fb-4ef4-999d-4c526f9ad269",
   "metadata": {},
   "source": [
    "9.  Implement Min-Max scaling on the following list of numbers [2, 5, 10, 15, 20] using sklearn.preprocessing.MinMaxScaler.\n",
    "\n",
    "\n",
    "Print the scaled array.\n",
    "\n",
    "\n",
    "(Include your Python code and output in the code box below.)"
   ]
  },
  {
   "cell_type": "code",
   "execution_count": 18,
   "id": "4a0a53a9-f2de-4b89-adb8-c83402be063f",
   "metadata": {},
   "outputs": [
    {
     "name": "stdout",
     "output_type": "stream",
     "text": [
      "Scaled Array:\n",
      " [[0.        ]\n",
      " [0.16666667]\n",
      " [0.44444444]\n",
      " [0.72222222]\n",
      " [1.        ]]\n"
     ]
    }
   ],
   "source": [
    "from sklearn.preprocessing import MinMaxScaler\n",
    "import numpy as np\n",
    "\n",
    "# Original data\n",
    "data = np.array([2, 5, 10, 15, 20]).reshape(-1, 1)\n",
    "\n",
    "# Initialize MinMaxScaler\n",
    "scaler = MinMaxScaler()\n",
    "\n",
    "# Fit and transform the data\n",
    "scaled_data = scaler.fit_transform(data)\n",
    "\n",
    "# Print scaled array\n",
    "print(\"Scaled Array:\\n\", scaled_data)"
   ]
  },
  {
   "cell_type": "markdown",
   "id": "a3f82d0d-a691-4425-a143-65a80f2cb3dd",
   "metadata": {},
   "source": [
    "---"
   ]
  },
  {
   "cell_type": "markdown",
   "id": "00d3e526-5e01-4fd3-b152-e90a0b212845",
   "metadata": {},
   "source": [
    "10.  You are working as a data scientist for a retail company. You receive a customer transaction dataset that contains:\n",
    "-  Missing ages,\n",
    "-  Outliers in transaction amount,\n",
    "-  A highly imbalanced target (fraud vs. non-fraud),\n",
    "-  Categorical variables like payment method\n",
    "\n",
    "\n",
    "Explain the step-by-step data preparation plan you’d follow before training a machine learning model. Include how you’d address missing data, outliers, imbalance, and encoding.\n",
    "\n",
    "\n",
    "(Include your Python code and output in the code box below.)"
   ]
  },
  {
   "cell_type": "code",
   "execution_count": 28,
   "id": "45b24b17-8c4b-48bf-a24d-6bf703f68c6f",
   "metadata": {},
   "outputs": [
    {
     "name": "stdout",
     "output_type": "stream",
     "text": [
      "=== Original Data ===\n",
      " Age  TransactionAmount PaymentMethod  Fraud\n",
      "25.0                 20          Card      0\n",
      " NaN               5000        Paypal      0\n",
      "40.0                 35          Card      0\n",
      "35.0                 45          Cash      0\n",
      " NaN                 60        Paypal      1\n",
      "50.0              10000          Card      0\n",
      "29.0                 55          Cash      1\n",
      "\n",
      "=== After Cleaning & Encoding ===\n",
      " Age  TransactionAmount  Fraud  TransactionAmount_log  PaymentMethod_Cash  PaymentMethod_Paypal\n",
      "25.0                 20      0               3.044522               False                 False\n",
      "35.0               5000      0               8.517393               False                  True\n",
      "40.0                 35      0               3.583519               False                 False\n",
      "35.0                 45      0               3.828641                True                 False\n",
      "35.0                 60      1               4.110874               False                  True\n",
      "50.0              10000      0               9.210440               False                 False\n",
      "29.0                 55      1               4.025352                True                 False\n",
      "\n",
      "=== Class Distribution Before Resampling ===\n",
      "Fraud\n",
      "0    5\n",
      "1    2\n",
      "\n",
      "=== Resampling Method Used ===\n",
      "SMOTE (k_neighbors=1)\n",
      "\n",
      "=== Class Distribution After Resampling ===\n",
      "Fraud\n",
      "0    5\n",
      "1    5\n",
      "\n",
      "=== Feature Matrix (first 5 rows) After Resampling ===\n",
      " Age  TransactionAmount  TransactionAmount_log  PaymentMethod_Cash  PaymentMethod_Paypal\n",
      "25.0                 20               3.044522               False                 False\n",
      "35.0               5000               8.517393               False                  True\n",
      "40.0                 35               3.583519               False                 False\n",
      "35.0                 45               3.828641                True                 False\n",
      "35.0                 60               4.110874               False                  True\n"
     ]
    }
   ],
   "source": [
    "import numpy as np\n",
    "import pandas as pd\n",
    "\n",
    "# ---------- 1) Create a tiny example dataset (with missing ages, outliers, categorical, imbalance) ----------\n",
    "np.random.seed(42)\n",
    "df = pd.DataFrame({\n",
    "    'Age': [25, np.nan, 40, 35, np.nan, 50, 29],\n",
    "    'TransactionAmount': [20, 5000, 35, 45, 60, 10000, 55],  # outliers present\n",
    "    'PaymentMethod': ['Card', 'Paypal', 'Card', 'Cash', 'Paypal', 'Card', 'Cash'],\n",
    "    'Fraud': [0, 0, 0, 0, 1, 0, 1]  # highly imbalanced (only 2 frauds)\n",
    "})\n",
    "\n",
    "print(\"=== Original Data ===\")\n",
    "print(df.to_string(index=False))\n",
    "\n",
    "# ---------- 2) Missing ages: median imputation (simple & robust) ----------\n",
    "df['Age'] = df['Age'].fillna(df['Age'].median())\n",
    "\n",
    "# ---------- 3) Outliers in TransactionAmount: log1p transform ----------\n",
    "df['TransactionAmount_log'] = np.log1p(df['TransactionAmount'])\n",
    "\n",
    "# ---------- 4) Categorical encoding: one-hot with pandas (avoids sklearn version issues) ----------\n",
    "dummies = pd.get_dummies(df['PaymentMethod'], prefix='PaymentMethod', drop_first=True)\n",
    "df_model = pd.concat([df.drop(columns=['PaymentMethod']), dummies], axis=1)\n",
    "\n",
    "print(\"\\n=== After Cleaning & Encoding ===\")\n",
    "print(df_model.to_string(index=False))\n",
    "\n",
    "# ---------- 5) Handle imbalance: try SMOTE with safe k, else fallback to simple random oversampling ----------\n",
    "X = df_model.drop(columns=['Fraud'])\n",
    "y = df_model['Fraud']\n",
    "\n",
    "method_used = None\n",
    "X_res, y_res = None, None\n",
    "\n",
    "# Count minority samples\n",
    "class_counts = y.value_counts()\n",
    "minority_class = class_counts.idxmin()\n",
    "minority_count = class_counts.min()\n",
    "majority_count = class_counts.max()\n",
    "\n",
    "try:\n",
    "    from imblearn.over_sampling import SMOTE\n",
    "    if minority_count >= 2:\n",
    "        # SMOTE needs k_neighbors <= minority_count - 1\n",
    "        k = min(5, minority_count - 1)\n",
    "        smote = SMOTE(k_neighbors=k, random_state=42)\n",
    "        X_res, y_res = smote.fit_resample(X, y)\n",
    "        method_used = f\"SMOTE (k_neighbors={k})\"\n",
    "    else:\n",
    "        raise ValueError(\"Too few minority samples for SMOTE.\")\n",
    "except Exception:\n",
    "    # Fallback: simple random oversampling to match the majority count\n",
    "    needed = majority_count - minority_count\n",
    "    minority_idx = y[y == minority_class].index\n",
    "    extra_idx = np.random.choice(minority_idx, size=needed, replace=True)\n",
    "    X_res = pd.concat([X, X.loc[extra_idx]], axis=0).reset_index(drop=True)\n",
    "    y_res = pd.concat([y, y.loc[extra_idx]], axis=0).reset_index(drop=True)\n",
    "    method_used = \"Random oversampling (fallback)\"\n",
    "\n",
    "print(\"\\n=== Class Distribution Before Resampling ===\")\n",
    "print(class_counts.to_string())\n",
    "\n",
    "print(\"\\n=== Resampling Method Used ===\")\n",
    "print(method_used)\n",
    "\n",
    "print(\"\\n=== Class Distribution After Resampling ===\")\n",
    "print(y_res.value_counts().to_string())\n",
    "\n",
    "print(\"\\n=== Feature Matrix (first 5 rows) After Resampling ===\")\n",
    "print(X_res.head().to_string(index=False))"
   ]
  },
  {
   "cell_type": "markdown",
   "id": "03e1d22b-bda0-468a-8910-4bdf96b06c63",
   "metadata": {},
   "source": [
    "---"
   ]
  }
 ],
 "metadata": {
  "kernelspec": {
   "display_name": "Python [conda env:anaconda3]",
   "language": "python",
   "name": "conda-env-anaconda3-py"
  },
  "language_info": {
   "codemirror_mode": {
    "name": "ipython",
    "version": 3
   },
   "file_extension": ".py",
   "mimetype": "text/x-python",
   "name": "python",
   "nbconvert_exporter": "python",
   "pygments_lexer": "ipython3",
   "version": "3.13.5"
  }
 },
 "nbformat": 4,
 "nbformat_minor": 5
}
