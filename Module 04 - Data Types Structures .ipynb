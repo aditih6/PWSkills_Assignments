{
 "cells": [
  {
   "cell_type": "markdown",
   "id": "4f48119e-4ebb-4e29-a991-e961cff68f82",
   "metadata": {},
   "source": [
    "# Module 04 - Data Types and Structures Asssignment "
   ]
  },
  {
   "cell_type": "markdown",
   "id": "3c7020ad-6b4d-45f6-bc74-219fd7a59a6a",
   "metadata": {},
   "source": [
    "## Data Structures - Theory Questions "
   ]
  },
  {
   "cell_type": "markdown",
   "id": "918d3973-b80b-45aa-bfb0-1da147895f0d",
   "metadata": {},
   "source": [
    "1.   What are data structures, and why are they important?\n",
    "-    Data structures are ways of organizing and storing data so we can access and modify it efficiently. In Python, you already use basic          data structures like: `list` – for ordered collections, `dict` – for key-value mappings, `set` – for unique items, `tuple` – for              immutable sequences.\n",
    "-    Data structures are fundamental to efficient programming because they determine how data is stored, accessed, and manipulated in memory. \n",
    "-    Below points listed are the importance of data structures\n",
    "-    Using the right data structure in Python can significantly improve application performance, such as reducing the time complexity of operations like searching, sorting, or insertion.\n",
    "-    Python provides efficient built-in data structures like list, dict, set, and tuple, which are optimized for common use cases and are easy to implement.\n",
    "-    For real-time or sequential data handling, Python's collections.deque offers an efficient way to implement queues and stacks, as it supports fast appends and pops from both ends.\n",
    "-    Python's dictionaries and sets use hash tables internally, making them excellent for constant-time lookups, which is crucial for tasks like frequency counting or membership testing.\n",
    "-    Choosing the right data structure in Python leads to cleaner and more maintainable code, as it often allows you to write logic that directly reflects the problem you're solving.\n",
    "-    Although Python hides many low-level memory management details, understanding data structures allows you to write more efficient and robust code that scales well with larger datasets."
   ]
  },
  {
   "cell_type": "markdown",
   "id": "5dbb3045-b38e-4d6b-a8ed-073d530fdc0b",
   "metadata": {},
   "source": [
    "---"
   ]
  },
  {
   "cell_type": "markdown",
   "id": "2a11350e-a1a4-4559-86d1-9b5e76171384",
   "metadata": {},
   "source": [
    "2.   Explain the difference between mutable and immutable data types with examples.\n",
    "-    Mutable data types can be changed after they are created, that is, we will be able to modify their content (add, update, or remove elements) without changing their identity (memory address).\n",
    "-    The use of mutable objects is recommended when there is a need to change the size or content of the object.\n",
    "-    Lists and dictionaries are mutable objects in Python\n",
    "\n",
    "-    Immutable Objects are the objects and data types that can’t be changed after it is created. They are of in-built datatypes like int, float, bool, string, Unicode, and tuple.\n",
    "-    The immutable objects are quicker to access and expensive to change."
   ]
  },
  {
   "cell_type": "code",
   "execution_count": 87,
   "id": "e013b90f-5cb6-49c2-8e16-52688aa4ce56",
   "metadata": {},
   "outputs": [
    {
     "name": "stdout",
     "output_type": "stream",
     "text": [
      "[1, 6, 7, 888, 4.5556789, 1000]\n",
      "{'name': 'Bob', 'city': 'New York', 'country': 'India'}\n"
     ]
    }
   ],
   "source": [
    "#list\n",
    "lis = [1, 6, 7, 888, 4.5556789]\n",
    "lis.append(1000)\n",
    "print(lis)\n",
    "\n",
    "# dict = {'name': 'Ava', 'age': '45'}\n",
    "dic['country'] = 'India'\n",
    "print(dic)"
   ]
  },
  {
   "cell_type": "markdown",
   "id": "7ce4e4ff-4782-4918-b008-795df9e1501c",
   "metadata": {},
   "source": [
    "---"
   ]
  },
  {
   "cell_type": "markdown",
   "id": "0b148f5c-907a-4ee3-804a-f56c92e83ee1",
   "metadata": {},
   "source": [
    "3.   What are the main differences between lists and tuples in Python?\n",
    "-    Mutability - List: Mutable – elements can be added, removed, or changed in place, while Tuple: Immutable – once created, the elements and length of a tuple cannot be changed.\n",
    "-    Syntax - Lists use square brackets: [], Tuples use parentheses: (), A single-element tuple must have a trailing comma: (5,)\n",
    "-   Performance\n",
    "Tuples are slightly faster than lists for iteration and lookup due to their immutability. If your data is fixed and not meant to change, using a tuple can give a small performance boost.\n",
    "-   Memory Efficiency\n",
    "Tuples use less memory than lists because they are immutable. This matters in memory-critical applications, like when storing many small, fixed records.\n",
    "-   Use Case / Intent\n",
    "Lists are ideal for collections that need to change, such as items in a cart, user inputs, or dynamic datasets.\n",
    "Tuples are better for fixed collections like coordinates, RGB values, or function return values where immutability conveys intent.\n",
    "-   Hashability\n",
    "Tuples (if containing only immutable elements) are hashable, and can be used as keys in dictionaries or elements in sets.\n",
    "Lists are not hashable and cannot be used as dict keys or set elements."
   ]
  },
  {
   "cell_type": "code",
   "execution_count": 97,
   "id": "a4141ead-8cda-4ac1-a066-42d95f7e8b0b",
   "metadata": {},
   "outputs": [
    {
     "name": "stdout",
     "output_type": "stream",
     "text": [
      "[[1, 2, 3], [4, 5, 6]]\n",
      "new list [[1, 2, 3], [4, 5, 6], 8]\n",
      "{'apple': 'fruit', 'color': 'Red', 'prime number': '2'}\n",
      "new Dictionary {'apple': 'fruit', 'color': 'Red', 'prime number': '2', 'John Jacobs': 'Spectacles'}\n"
     ]
    }
   ],
   "source": [
    "#list\n",
    "lis_sam = [[1, 2, 3], [4, 5, 6]]\n",
    "print(lis_sam)\n",
    "lis_sam.append(8)\n",
    "print(\"new list\", lis_sam)\n",
    "\n",
    "#dictionary\n",
    "dic = {'apple': 'fruit', 'color': 'Red', 'prime number': '2'}\n",
    "print(dic)\n",
    "dic['John Jacobs'] = 'Spectacles'\n",
    "print(\"new Dictionary\", dic)"
   ]
  },
  {
   "cell_type": "markdown",
   "id": "e3ead43c-3582-427e-a555-b55afff4a308",
   "metadata": {},
   "source": [
    "---"
   ]
  },
  {
   "cell_type": "markdown",
   "id": "43f02042-8a0c-4cc8-8c49-5ee3523d75ef",
   "metadata": {},
   "source": [
    "4.   Describe how dictionaries store data.\n",
    "-    A dictionary in Python is an unordered collection of key-value pairs that allows for fast lookup, insertion, and deletion. Under the hood, dictionaries use a data structure called a hash table to store and access elements efficiently.\n",
    "-    Hashing Keys - When you add a key to a dictionary, Python computes a hash value using the built-in hash() function. This hash is an integer that determines where the key-value pair will be stored in memory (the index in the internal array).\n",
    "-    Only hashable (i.e., immutable) objects like strings, numbers, and tuples (with immutable elements) can be used as dictionary keys.\n",
    "-    Resizing - As more items are added, Python automatically resizes the underlying array to maintain performance. This prevents too many collisions and keeps average-case lookup time close to O(1).\n",
    "-    To retrieve a value from a dictionary in Python, the interpreter first computes the hash of the key using Python’s built-in hash() function. This hash value is then used to determine the index where the key-value pair is stored in the dictionary’s underlying hash table. If multiple keys share the same hash index (a situation called a collision), Python uses a strategy like open addressing to probe for the correct slot. Once the correct index is found, it performs an exact key comparison to ensure it matches the original key. If it does, the corresponding value is returned. Thanks to this hash-based lookup, retrieving values from a dictionary is typically done in constant time (O(1)), making dictionaries extremely efficient for access operations."
   ]
  },
  {
   "cell_type": "markdown",
   "id": "23691b9f-50de-48b1-bd4a-293ff460e8c7",
   "metadata": {},
   "source": [
    "---"
   ]
  },
  {
   "cell_type": "markdown",
   "id": "b5cee65a-a987-4034-a5ce-adaf6fbdeff9",
   "metadata": {},
   "source": [
    "5.   Why might you use a set instead of a list in Python?\n",
    "-    We would want to use sets for the following reasons:\n",
    "-    You need to ensure uniqueness of elements.\n",
    "-    You need to check for membership frequently.\n",
    "-    You don’t care about the order of elements.\n",
    "-    The below code for lists: This works, but the if name not in unique check is O(n) and inefficient for large data.\n",
    "-    Code for Sets - Here, the set automatically removes duplicates and gives us the unique values efficiently in O(1) time per insertion."
   ]
  },
  {
   "cell_type": "code",
   "execution_count": 105,
   "id": "5d7b7e13-a801-4dad-afe6-963737877915",
   "metadata": {},
   "outputs": [
    {
     "name": "stdout",
     "output_type": "stream",
     "text": [
      "5\n",
      "5\n"
     ]
    }
   ],
   "source": [
    "attendees = [\"Alice\", \"Bob\",\"Ava\", \"Alice\", \"David\", \"Bob\", \"Eve\", \"Ava\"]\n",
    "# Using lists\n",
    "unique = []\n",
    "for name in attendees:\n",
    "    if name not in unique:\n",
    "        unique.append(name)\n",
    "print(len(unique)) \n",
    "\n",
    "# Using sets\n",
    "attendees = [\"Alice\", \"Eve\", \"Bob\", \"Ava\", \"Alice\", \"David\", \"Bob\", \"Eve\", \"Ava\"]\n",
    "unique_attendees = set(attendees)\n",
    "print(len(unique_attendees))  "
   ]
  },
  {
   "cell_type": "markdown",
   "id": "404d59b1-fc0b-4c64-a5a1-bb7695104ac6",
   "metadata": {},
   "source": [
    "---"
   ]
  },
  {
   "cell_type": "markdown",
   "id": "745911ef-2e73-48fe-ad01-cd1c0dbd81d5",
   "metadata": {},
   "source": [
    "6.   What is a string in Python, and how is it different from a list?\n",
    "-    In Python, a string is a sequence of characters enclosed in either single quotes ('...') or double quotes (\"...\"). It's used to represent textual data like names, sentences, or any other series of characters.\n",
    "A string in Python is:\n",
    "-   Immutable: Once created, you cannot change its characters in-place.\n",
    "-   Indexed: You can access individual characters using indexing (s[0], s[-1]).\n",
    "-   Iterable: You can loop through each character using a for loop.\n",
    "-   Unicode-based: Python strings can store and process Unicode characters (like emojis or accented letters).\n",
    "\n",
    "Major difference between lists and strings:\n",
    "-   In Python, both strings and lists are sequence types, but they serve different purposes and have distinct characteristics. A string is a sequence of characters, while a list is a sequence that can contain elements of any data type, including numbers, strings, or even other lists. One of the major differences lies in mutability: strings are immutable, meaning you cannot change their contents once they are created, whereas lists are mutable and allow modification, such as adding, removing, or changing elements.\n",
    "\n",
    "-   The element type in a string is always a single character (or more accurately, a one-character string), whereas a list can hold a mix of data types — integers, strings, floats, or even custom objects. In terms of syntax, strings are defined using quotes, like \"hello\", while lists use square brackets, such as [\"h\", \"e\", \"l\", \"l\", \"o\"]. When it comes to modification, you can’t change a specific character in a string directly (you’d have to create a new string), but you can easily update or manipulate the contents of a list.\n",
    "\n",
    "-   Finally, both strings and lists come with their own sets of built-in methods. Strings support a rich set of operations for text processing, such as .upper(), .split(), and .replace(). Lists, on the other hand, offer methods more suited to data structure manipulation, like .append(), .remove(), and .sort()."
   ]
  },
  {
   "cell_type": "markdown",
   "id": "7a8a59a9-103d-4449-b341-364c6e6ffea9",
   "metadata": {},
   "source": [
    "---"
   ]
  },
  {
   "cell_type": "markdown",
   "id": "5803a066-3119-4f73-be34-5346a8bda750",
   "metadata": {},
   "source": [
    "7.   How do tuples ensure data integrity in Python?\n",
    "-    Data integrity refers to the accuracy, consistency, and reliability of data over its lifecycle. In simple terms, it means making sure that the data doesn't get accidentally changed, corrupted, or tampered with—especially when passed between parts of a program.\n",
    "\n",
    "\n",
    "-    In Python, tuples are immutable, meaning once a tuple is created, its contents cannot be changed—you can't add, remove, or modify any of its elements. This immutability plays a key role in preserving data integrity.\n",
    "-    Immutability prevents accidental changes - Since tuples can't be modified, they protect the original data from being unintentionally altered by functions, loops, or user actions.\n",
    "-    Safe to use as constants - Tuples are often used to store fixed values or configuration settings that should not change during program execution.\n",
    "-    Hashable and usable as dictionary keys - Tuples can be used as dictionary keys or set elements (only if they contain hashable items), unlike lists. This makes them useful in contexts where the data must be consistent and lookups must remain reliable.\n",
    "-    Reliable for function arguments - When you pass a tuple to a function, you can be confident it won’t be modified inside the function, preserving the original data's state."
   ]
  },
  {
   "cell_type": "markdown",
   "id": "bb2a52b9-a7e0-4a56-a438-b2beacf3b264",
   "metadata": {},
   "source": [
    "---"
   ]
  },
  {
   "cell_type": "markdown",
   "id": "7a68b79d-a062-43eb-ace1-a5fbbb5eda7c",
   "metadata": {},
   "source": [
    "8.   What is a hash table, and how does it relate to dictionaries in Python?\n",
    "-    A hash table is a data structure that allows you to store and retrieve key-value pairs efficiently using a technique called hashing. It provides average-case constant time (O(1)) performance for lookups, insertions, and deletions.\n",
    "-    In Python, a dictionary (dict) is implemented using a data structure called a hash table, which allows for fast storage and retrieval of key-value pairs. When a key is added to a dictionary, Python uses a hash function to convert the key into a fixed-size integer called a hash value. This hash value determines the index in an internal array where the associated value will be stored.\n",
    "-    If two keys generate the same index (a situation called a collision), Python handles it internally using methods like open addressing or chaining to store both values correctly. This design enables dictionary operations like lookups, insertions, and deletions to be performed in constant time (on average), making dictionaries highly efficient for tasks that involve frequent access to data by key."
   ]
  },
  {
   "cell_type": "markdown",
   "id": "39ceee58-951e-4461-9efb-fcb75d8e0f48",
   "metadata": {},
   "source": [
    "---"
   ]
  },
  {
   "cell_type": "markdown",
   "id": "5e1c2823-3b7b-45d6-93b8-6bb756f8f70e",
   "metadata": {},
   "source": [
    "9.   Can lists contain different data types in Python?\n",
    "-    Yes, lists in Python can contain elements of different data types.\n",
    "-    Python lists are heterogeneous, meaning they can store a mix of integers, strings, floats, objects, even other lists or functions—all in the same list.\n",
    "-    One can group related but different kinds of information together. It's useful in data processing, web scraping, machine learning, and user data collection."
   ]
  },
  {
   "cell_type": "code",
   "execution_count": 120,
   "id": "4c1d29ef-fdc3-4259-8f9c-f991eabc9381",
   "metadata": {},
   "outputs": [
    {
     "name": "stdout",
     "output_type": "stream",
     "text": [
      "Shopping basket: ['Milk', 2, 0.5, True, ['SAVE10', 'FRESH5']]\n"
     ]
    }
   ],
   "source": [
    "# example of a list containing multiple data types \n",
    "\n",
    "shopping_basket = [\"Milk\", 2, 0.5, True, [\"SAVE10\", \"FRESH5\"]]\n",
    "print(\"Shopping basket:\", shopping_basket)"
   ]
  },
  {
   "cell_type": "markdown",
   "id": "9ea44591-b529-47d9-b6a1-c0ad7b10f9f3",
   "metadata": {},
   "source": [
    "---"
   ]
  },
  {
   "cell_type": "markdown",
   "id": "074bc55b-55e4-44ea-8473-bde7affb6794",
   "metadata": {},
   "source": [
    "10.   Explain why strings are immutable in Python.\n",
    "-   Strings are immutable in Python, meaning once a string is created, its contents cannot be changed. This design choice has several important reasons behind it:\n",
    "-   Safety and Reliability - \n",
    "Strings are often used as keys in dictionaries or identifiers in code. If strings were mutable, changing a string after using it as a key would break the internal structure of the dictionary, causing bugs or unpredictable behavior.\n",
    "-   Hashability - \n",
    "Because strings are immutable, they are hashable—their hash value remains constant. This is crucial for performance in hash-based structures like dict and set, where keys must have a fixed hash value to function correctly.\n",
    "-   Efficiency with Memory - \n",
    "Python internally reuses string objects to save memory. Since immutable objects can't change, it's safe for Python to store and reuse the same string in different places without copying it. This technique is called string interning."
   ]
  },
  {
   "cell_type": "code",
   "execution_count": 126,
   "id": "f7bafb07-2e6d-4946-b56c-ba77fcc5e850",
   "metadata": {},
   "outputs": [
    {
     "name": "stdout",
     "output_type": "stream",
     "text": [
      "Error: 'str' object does not support item assignment\n"
     ]
    }
   ],
   "source": [
    "s = \"hello\"\n",
    "\n",
    "try:\n",
    "    s[0] = \"H\"\n",
    "except TypeError as e:\n",
    "    # e is a TypeError exception object which holds the error message generated in Python \n",
    "    print(f\"Error: {e}\")"
   ]
  },
  {
   "cell_type": "markdown",
   "id": "7aa12bcd-39f3-4151-89e3-d4ddf6d4cc58",
   "metadata": {},
   "source": [
    "---"
   ]
  },
  {
   "cell_type": "markdown",
   "id": "1526f163-d438-48cf-b49a-d46891be6ad5",
   "metadata": {},
   "source": [
    "11.   What advantages do dictionaries offer over lists for certain tasks?\n",
    "-    Faster Data Access (Lookup Speed) - Dictionaries use hash tables, allowing average O(1) time complexity for accessing data by key. Lists require O(n) time to search for an item, as they may need to scan through each element.\n",
    "-    Clear Associations with Keys - Dictionaries associate values with meaningful keys, making the code easier to understand. Lists store values by position, which can be confusing if not well-documented.\n",
    "-    Enforced Key Uniqueness - In a dictionary, each key must be unique, which helps prevent accidental duplicates and ensures reliable access. Lists can contain duplicate elements, which may be undesirable in some contexts.\n",
    "-    Efficient Membership Testing - Checking if a key exists in a dictionary (key in dict) is very fast. In lists, checking if an item exists requires scanning all elements.\n",
    "-    Handling Sparse or Unordered Data - Dictionaries are ideal for data with non-sequential or sparse indices. Lists are better suited for ordered data with sequential indices."
   ]
  },
  {
   "cell_type": "markdown",
   "id": "c87f7996-cb00-4fd6-9d08-eb56765a1a5c",
   "metadata": {},
   "source": [
    "---"
   ]
  },
  {
   "cell_type": "markdown",
   "id": "e158cddd-430c-44b2-b296-a4b80c867ab6",
   "metadata": {},
   "source": [
    "12.   Describe a scenario where using a tuple would be preferable over a list.\n",
    "-    A good time to use a tuple instead of a list is when you want to store a fixed set of values that shouldn't change. For example, say you're writing a function that returns a 2D coordinate.\n",
    "-    Using a tuple here makes sense because the coordinate is a pair of values that are logically grouped and not meant to be modified. Tuples are immutable, which helps prevent accidental changes to the data later in your code.\n",
    "-    Another common use case is when you need to use a collection as a dictionary key. Since lists aren't hashable, you can't use them as keys, but tuples work fine.\n",
    "-    So in general, tuples are preferable when - The data shouldn't be changed, The structure is fixed (e.g., always 2 or 3 items), You need to use the values as a key in a dict or add them to a set\n",
    "-    If we're working with something like configuration settings, coordinates, or RGB color values, tuples are usually the right choice."
   ]
  },
  {
   "cell_type": "code",
   "execution_count": 149,
   "id": "c01cd091-4811-4d9c-8918-a7a7e27f08fa",
   "metadata": {},
   "outputs": [
    {
     "name": "stdout",
     "output_type": "stream",
     "text": [
      "{(40.7128, -74.006): 'New York', (34.0522, -118.2437): 'Los Angeles'}\n"
     ]
    },
    {
     "data": {
      "text/plain": [
       "(10.6475748, 12.7485973)"
      ]
     },
     "execution_count": 149,
     "metadata": {},
     "output_type": "execute_result"
    }
   ],
   "source": [
    "# Tuples are a better when we do not want the values to change over a period of time during the execution of the program\n",
    "\n",
    "location_data = {\n",
    "    (40.7128, -74.0060): \"New York\",\n",
    "    (34.0522, -118.2437): \"Los Angeles\"\n",
    "}\n",
    "print(location_data)\n",
    "\n",
    "def get_position():\n",
    "    x = 10.6475748\n",
    "    y = 12.7485973\n",
    "    return(x, y)\n",
    "\n",
    "get_position() # function Call"
   ]
  },
  {
   "cell_type": "markdown",
   "id": "bbddc308-560c-4f5f-a9c3-84fe9d6dc2d8",
   "metadata": {},
   "source": [
    "---"
   ]
  },
  {
   "cell_type": "markdown",
   "id": "da3a6323-f8fa-4b6e-8bf4-01ac60ce5f63",
   "metadata": {},
   "source": [
    "13.   How do set's handle duplicate values in Python?\n",
    "-    In Python, sets automatically remove duplicate values. When you add elements to a set, only unique items are kept—any duplicates are ignored.\n",
    "-    Sets are unordered collections of unique, hashable elements and sets uses a hash table, which does not allow duplicate keys.\n",
    "-    Sets are mainly used to remove duplicates from lists qucikly\n",
    "-    Best use case of sets is to check membership efficiently "
   ]
  },
  {
   "cell_type": "code",
   "execution_count": 152,
   "id": "ff3c63bd-8e5c-4149-a2aa-d8404a358ea4",
   "metadata": {},
   "outputs": [
    {
     "name": "stdout",
     "output_type": "stream",
     "text": [
      "{1, 2, 3, 5, 7, 8}\n"
     ]
    }
   ],
   "source": [
    "nums = [1, 5, 7, 2, 2, 3, 3, 7, 3, 8, 3, 1, 2, 8]\n",
    "unique_nums = set(nums)\n",
    "print(unique_nums) "
   ]
  },
  {
   "cell_type": "markdown",
   "id": "0f9cd08a-6cba-4069-ba99-fdabbae85e10",
   "metadata": {},
   "source": [
    "---"
   ]
  },
  {
   "cell_type": "markdown",
   "id": "231a1bcf-199a-425a-bc48-be4e9fd2dc8f",
   "metadata": {},
   "source": [
    "14.   How does the “in” keyword work differently for lists and dictionaries?\n",
    "-    The `in` keyword works differently for lists and dictionaries in Python because it checks for different things in each type:\n",
    "-    It checks if a value exists in the list or not\n",
    "-    It goes through the list element by element. Time complexity: O(n) (slower for large lists)\n",
    "\n",
    "-    It checks if a key exists, not the value.\n",
    "-    It checks keys directly using a hash table, so it's very fast. Time complexity: O(1) on average"
   ]
  },
  {
   "cell_type": "code",
   "execution_count": 161,
   "id": "b1dad481-d656-42d2-a8a6-9c4e244bdbf8",
   "metadata": {},
   "outputs": [
    {
     "name": "stdout",
     "output_type": "stream",
     "text": [
      "Function of in keyword for lists\n",
      "['apple', 'banana', 'cherry', 'Lychee', 'Mango', 'Avacado']\n",
      "False\n",
      "True\n",
      "\n",
      " Function of in keyword for dictionaries\n",
      "{'name': 'Alice', 'age': 30}\n",
      "True\n",
      "False\n"
     ]
    }
   ],
   "source": [
    "# Lists\n",
    "fruits = [\"apple\", \"banana\", \"cherry\", \"Lychee\", \"Mango\", \"Avacado\"]\n",
    "print(\"Function of in keyword for lists\")\n",
    "print(fruits)\n",
    "print(\"Chickoo\" in fruits) \n",
    "print(\"Lychee\" in fruits)  \n",
    "\n",
    "# Dictionaries \n",
    "person = {\"name\": \"Alice\", \"age\": 30}\n",
    "print(\"\\n\",\"Function of in keyword for dictionaries\")\n",
    "print(person)\n",
    "print(\"name\" in person)   \n",
    "print(30 in person)      "
   ]
  },
  {
   "cell_type": "markdown",
   "id": "b8b2543d-56f2-4fe6-8688-a723a0271761",
   "metadata": {},
   "source": [
    "---"
   ]
  },
  {
   "cell_type": "markdown",
   "id": "4a8afa1d-fb6c-4724-92dd-32621be184a8",
   "metadata": {},
   "source": [
    "15.   Can you modify the elements of a tuple? Explain why or why not?\n",
    "-    In Python, a tuple is an immutable sequence type, meaning that once a tuple is instantiated, its structure and contents cannot be altered. This immutability is by design and offers several advantages, such as enabling tuples to be used as keys in dictionaries and as elements in sets, provided all elements contained within the tuple are also hashable.\n",
    "-    Mutability of Contained Objects - However, it's important to distinguish between the immutability of the tuple container and the mutability of the objects it may contain. If a tuple contains a mutable object (e.g., a list or dictionary), the state of that inner object can still be modified, though the tuple itself still points to the same object.\n",
    "-    Tuples are immutable by design, which enforces structural integrity and supports hashability."
   ]
  },
  {
   "cell_type": "code",
   "execution_count": 181,
   "id": "29bcef38-d08e-4283-8fc0-958e7d6f5356",
   "metadata": {},
   "outputs": [
    {
     "name": "stdout",
     "output_type": "stream",
     "text": [
      "Original tuple (1, [2, 3], 4)\n",
      "(1, [99, 3], 4)\n"
     ]
    }
   ],
   "source": [
    "my_tuple = (1, [2, 3], 4)\n",
    "print(\"Original tuple\", my_tuple)\n",
    "my_tuple[1][0] = 99 \n",
    "print(my_tuple)\n",
    "\n",
    "# In this example, while we cannot replace the list at index 1 with another object, \n",
    "# we can mutate the contents of that list, since lists are mutable."
   ]
  },
  {
   "cell_type": "markdown",
   "id": "58d592dd-60a1-4061-8b4f-b4c9320bfddb",
   "metadata": {},
   "source": [
    "---"
   ]
  },
  {
   "cell_type": "markdown",
   "id": "f448a961-f4f8-4b9f-bef0-76597e0a0a9b",
   "metadata": {},
   "source": [
    "16.    What is a nested dictionary, and give an example of its use case?\n",
    "-   A nested dictionary in Python is a dictionary that contains one or more dictionaries as values. This allows for hierarchical data organization, similar to JSON objects, and is particularly useful for representing structured, multi-level data."
   ]
  },
  {
   "cell_type": "code",
   "execution_count": 205,
   "id": "a3b45750-2b6a-4581-b1a0-5bcc5a801a1a",
   "metadata": {},
   "outputs": [
    {
     "name": "stdout",
     "output_type": "stream",
     "text": [
      "92\n"
     ]
    }
   ],
   "source": [
    "# Students record Management \n",
    "students = {\n",
    "    'Aditi': {\n",
    "        'ID': 101,\n",
    "        'Grades': {'Math': 85, 'Science': 92},\n",
    "        'Year': '2025'\n",
    "    },\n",
    "    'Rahul': {\n",
    "        'ID': 102,\n",
    "        'Grades': {'Math': 78, 'Science': 88},\n",
    "        'Year': '2024'\n",
    "    }\n",
    "}\n",
    "\n",
    "# Accessing the values\n",
    "print(students['Aditi']['Grades']['Science']) "
   ]
  },
  {
   "cell_type": "markdown",
   "id": "3cf78b74-d12c-4881-9efe-ff0cf00d1510",
   "metadata": {},
   "source": [
    "---"
   ]
  },
  {
   "cell_type": "markdown",
   "id": "685b1a83-95e8-4793-9a26-63c7e728af84",
   "metadata": {},
   "source": [
    "17.    Describe the time complexity of accessing elements in a dictionary.\n",
    "-    Average Cases - Time Complexity: O(1) - Dictionaries in Python are implemented as hash tables. When you access an element using a key (dict[key]), Python: Computes the hash of the key. Uses the hash to find the index in an internal array. Accesses the value directly (if no collision occurs).\n",
    "-    Worst Case - Time Complexity: O(n) - In rare cases, hash collisions can occur (multiple keys hash to the same index). If all keys end up in the same bucket (e.g., due to poor hash function or attack), access degrades to linear time, as Python must search through all items in that bucket. In practice, Python handles collisions well using techniques like open addressing and dynamic resizing, so the worst case is extremely rare in real-world scenarios."
   ]
  },
  {
   "cell_type": "markdown",
   "id": "6d8a801d-c179-4d0f-801b-da89f52c1c12",
   "metadata": {},
   "source": [
    "---"
   ]
  },
  {
   "cell_type": "markdown",
   "id": "3c6a1ab8-8889-4f61-b158-d054f6e824bd",
   "metadata": {},
   "source": [
    "18.   In what situations are lists preferred over dictionaries.\n",
    "-   In Python, lists are preferred over dictionaries in many common programming scenarios, especially when you're working with ordered collections of items that don’t require key-value mapping. Below are some key situations where lists are the more appropriate choice, along with the reasoning behind each — all woven into a cohesive explanation.\n",
    "\n",
    "-   Firstly, use a list when you need an ordered collection without key-value pairs. For example, storing a series of sensor readings, filenames, or user inputs doesn't require unique identifiers — just maintaining the sequence is enough. In such cases, a dictionary would be unnecessarily complex.\n",
    "\n",
    "-   Additionally, index-based access and iteration are core strengths of lists. Since lists allow constant-time access by index (O(1)), they are ideal for operations like slicing, batching, or looping through elements in a specific order. You might write something like for i in range(len(my_list)): when iterating by position — this is natural and efficient with lists.\n",
    "\n",
    "-   Another reason to prefer lists is when you need to preserve insertion order and allow duplicates. While modern dictionaries do preserve insertion order (since Python 3.7+), they still do not allow duplicate keys. Lists, on the other hand, naturally handle repeated values, which is essential in use cases like maintaining event logs or collecting all occurrences of a value.\n",
    "\n",
    "-   From a performance and memory standpoint, lists are often more memory-efficient than dictionaries. Since dictionaries store additional metadata for keys and manage hash tables internally, lists can be a better choice when memory usage is a concern — for example, in large-scale numerical computations or resource-constrained environments.\n",
    "\n",
    "-   Finally, lists are preferred when you're working with sorting, shuffling, or position-based algorithms. Built-in methods like .sort(), sorted(), or random.shuffle() are optimized for list-like data. They're commonly used in scenarios like ranking, simulations, or implementing classic algorithms (e.g., dynamic programming, backtracking), where element order and index position are critical."
   ]
  },
  {
   "cell_type": "markdown",
   "id": "6e28b65c-68fd-40a4-b12a-40e748b1f7fc",
   "metadata": {},
   "source": [
    "---"
   ]
  },
  {
   "cell_type": "markdown",
   "id": "a8145d1d-323c-48b8-a341-6813e5756aa2",
   "metadata": {},
   "source": [
    "19.   Why are dictionaries considered unordered, and how does that affect data retrieval?\n",
    "-  Here’s how the concept of unordered (or non-sorted) behavior affects how you use dictionaries:\n",
    "-  No Positional Access - Unlike lists, you can't access items in a dictionary using an index like dict[0]. Retrieval is always key-based (dict['name']), not index-based.\n",
    "-  Unreliable Ordering in Older Versions - In Python <3.6, you couldn’t rely on the order of items when iterating over a dictionary — which could cause bugs if you assumed a consistent order.\n",
    "-  Sorting Requires Explicit Steps - If you need data in a specific order (e.g., sorted by key or value), you must explicitly sort the dictionary using sorted() or convert it to an ordered structure like OrderedDict (prior to Python 3.7).\n",
    "-  Faster Lookup, Not Sequential Logic - Dictionaries are optimized for fast lookups (O(1)), not for storing data in a sequence. If order or position is critical to your logic, a list or another ordered collection might be more appropriate."
   ]
  },
  {
   "cell_type": "markdown",
   "id": "d13f94b7-ce7a-43a8-80ff-83a853bd6752",
   "metadata": {},
   "source": [
    "---"
   ]
  },
  {
   "cell_type": "markdown",
   "id": "0d482686-ccd0-4320-a4b2-0d0972c4b69d",
   "metadata": {},
   "source": [
    "20.   Explain the difference between a list and a dictionary in terms of data retrieval.\n",
    "-    Lists: Positional (Index-Based) Retrieval\n",
    "-    In a list, elements are stored in a specific order, and you access them using integer indices that represent their position. Retrieval Method: list[index] - Time Complexity: O(1) for direct index access. Use Case: When you need to process items in a sequence or retrieve data based on position. Important: Lists allow duplicates and maintain insertion order.\n",
    "-    Dictionaries: Key-Based Retrieval - In a dictionary, data is stored as key-value pairs, and retrieval is done using the key, not position. Retrieval Method: dict[key]. Time Complexity: O(1) on average, due to hashing. Use Case: When each value is meaningfully labeled or uniquely identified by a key.\n",
    "\n",
    "-   Accessing a list element by index (e.g., my_list[3]) is O(1) — constant time — because Python lists are implemented as dynamic arrays.\n",
    "-   Searching for a value in a list (e.g., checking if 'apple' in my_list) is O(n) because it may require scanning each element."
   ]
  },
  {
   "cell_type": "code",
   "execution_count": 192,
   "id": "f985e605-b46e-49c6-adbc-c251bd4f4784",
   "metadata": {},
   "outputs": [
    {
     "name": "stdout",
     "output_type": "stream",
     "text": [
      "cherry\n",
      "banana\n"
     ]
    }
   ],
   "source": [
    "my_list = ['apple', 'banana', 'cherry']\n",
    "print(my_list[2]) \n",
    "\n",
    "my_dict = {'fruit1': 'apple', 'fruit2': 'banana'}\n",
    "print(my_dict['fruit2']) \n"
   ]
  },
  {
   "cell_type": "markdown",
   "id": "4a8e5157-984d-4408-8f32-0bbeb2c8ab29",
   "metadata": {},
   "source": [
    "---"
   ]
  },
  {
   "cell_type": "markdown",
   "id": "e3506893-71aa-4ece-8c57-14374a78c8e3",
   "metadata": {},
   "source": [
    "---"
   ]
  },
  {
   "cell_type": "markdown",
   "id": "9f66bea6-6408-4539-909f-0ac083604895",
   "metadata": {},
   "source": [
    "## Practical Questions"
   ]
  },
  {
   "cell_type": "markdown",
   "id": "49de2a19-f310-4e99-a6d2-7682cf5271c2",
   "metadata": {},
   "source": [
    "1.   Write a code to create a string with your name and print it."
   ]
  },
  {
   "cell_type": "code",
   "execution_count": 15,
   "id": "371b8b73-ebae-41f0-bb1f-893e066c9059",
   "metadata": {},
   "outputs": [
    {
     "name": "stdout",
     "output_type": "stream",
     "text": [
      "My name is  Aditi Harish\n"
     ]
    }
   ],
   "source": [
    "name = \"Aditi Harish\"\n",
    "print(\"My name is \",name)"
   ]
  },
  {
   "cell_type": "markdown",
   "id": "4fedee26-8c7d-414d-8a33-6fdaf177a589",
   "metadata": {},
   "source": [
    "---"
   ]
  },
  {
   "cell_type": "markdown",
   "id": "31a4b11b-85cd-4dc5-90bf-879d0bad2f7b",
   "metadata": {},
   "source": [
    "2.   Write a code to find the length of the string \"Hello World\"."
   ]
  },
  {
   "cell_type": "code",
   "execution_count": 31,
   "id": "3b1fe76f-5820-4066-8201-8ca8ad558772",
   "metadata": {},
   "outputs": [
    {
     "name": "stdout",
     "output_type": "stream",
     "text": [
      "The length of the string \"Hello World\" is: 11\n"
     ]
    }
   ],
   "source": [
    "str = \"Hello World\"\n",
    "length = len(str)\n",
    "print(\"The length of the string \\\"Hello World\\\" is:\",length)"
   ]
  },
  {
   "cell_type": "markdown",
   "id": "b19d86bd-02a6-4e29-a1a5-3e2ffe053a29",
   "metadata": {},
   "source": [
    "---"
   ]
  },
  {
   "cell_type": "markdown",
   "id": "08f8c6fd-ae7c-47fa-8f79-973a65032723",
   "metadata": {},
   "source": [
    "3.   Write a code to slice the first 3 characters from the string \"Python Programming\"."
   ]
  },
  {
   "cell_type": "code",
   "execution_count": 21,
   "id": "48eb6d53-8ce5-4fff-93dd-4738f23864dd",
   "metadata": {},
   "outputs": [
    {
     "data": {
      "text/plain": [
       "'Pyt'"
      ]
     },
     "execution_count": 21,
     "metadata": {},
     "output_type": "execute_result"
    }
   ],
   "source": [
    "str = \"Python Programming\"\n",
    "str[:3]"
   ]
  },
  {
   "cell_type": "markdown",
   "id": "8d3671dd-fa19-42a6-a5fc-3f5d181b6bdf",
   "metadata": {},
   "source": [
    "---"
   ]
  },
  {
   "cell_type": "markdown",
   "id": "8be2945b-fc1c-42e3-b260-caf32f375605",
   "metadata": {},
   "source": [
    "4.   Write a code to convert the string \"hello\" to uppercase"
   ]
  },
  {
   "cell_type": "code",
   "execution_count": 24,
   "id": "4b5969ac-c04f-48a2-8577-0d4184e26cfc",
   "metadata": {},
   "outputs": [
    {
     "data": {
      "text/plain": [
       "'HELLO'"
      ]
     },
     "execution_count": 24,
     "metadata": {},
     "output_type": "execute_result"
    }
   ],
   "source": [
    "word = \"hello\"\n",
    "word.upper()"
   ]
  },
  {
   "cell_type": "markdown",
   "id": "34140fec-6590-4879-bf48-0da8d980a48f",
   "metadata": {},
   "source": [
    "---"
   ]
  },
  {
   "cell_type": "markdown",
   "id": "9e3a6597-c421-48b3-b0b4-1fd3d4ecb0f7",
   "metadata": {},
   "source": [
    "5.   Write a code to replace the word \"apple\" with \"orange\" in the string \"I like apple\"."
   ]
  },
  {
   "cell_type": "code",
   "execution_count": 27,
   "id": "38dbb7b9-2188-4537-86a7-509af5da6d98",
   "metadata": {},
   "outputs": [
    {
     "data": {
      "text/plain": [
       "'I like orange'"
      ]
     },
     "execution_count": 27,
     "metadata": {},
     "output_type": "execute_result"
    }
   ],
   "source": [
    "user_string = \"I like apple\"\n",
    "user_string.replace(\"apple\", \"orange\")"
   ]
  },
  {
   "cell_type": "markdown",
   "id": "a579ded2-737e-484e-9f4b-a5a85b706ad7",
   "metadata": {},
   "source": [
    "---"
   ]
  },
  {
   "cell_type": "markdown",
   "id": "7ceb31a3-6310-4fb4-a9a8-61f0b73e2595",
   "metadata": {},
   "source": [
    "6.   Write a code to create a list with numbers 1 to 5 and print it"
   ]
  },
  {
   "cell_type": "code",
   "execution_count": 47,
   "id": "b8fb1a6c-b9eb-427a-a665-128ea4923869",
   "metadata": {},
   "outputs": [
    {
     "name": "stdout",
     "output_type": "stream",
     "text": [
      "[1, 2, 3, 4, 5]\n",
      "[1, 2, 3, 4, 5]\n"
     ]
    }
   ],
   "source": [
    "my_list = [1, 2, 3, 4, 5]\n",
    "print(my_list)\n",
    "\n",
    "# Alternate way to create lists - Using List Comprehension\n",
    "list_numbers = [i for i in range(1, 6)]\n",
    "print(list_numbers)"
   ]
  },
  {
   "cell_type": "markdown",
   "id": "c7cb6b86-135c-476f-b415-81b95a9bf785",
   "metadata": {},
   "source": [
    "---"
   ]
  },
  {
   "cell_type": "markdown",
   "id": "5485808f-6bc5-4247-94c5-9fa46c56347b",
   "metadata": {},
   "source": [
    "7.   Write a code to append the number 10 to the list [1, 2, 3, 4]"
   ]
  },
  {
   "cell_type": "code",
   "execution_count": 52,
   "id": "ec928a66-11c3-4af6-9e1f-01913d595501",
   "metadata": {},
   "outputs": [
    {
     "name": "stdout",
     "output_type": "stream",
     "text": [
      "Orginal List:  [1, 2, 3, 4, 5]\n",
      "New list:  [1, 2, 3, 4, 5, 10]\n"
     ]
    }
   ],
   "source": [
    "my_list = [1, 2, 3, 4, 5]\n",
    "print(\"Orginal List: \", my_list)\n",
    "\n",
    "# appending the number 10 to the list\n",
    "my_list.append(10)\n",
    "print(\"New list: \", my_list)"
   ]
  },
  {
   "cell_type": "markdown",
   "id": "8efdfcc2-5a7a-49ed-9dda-9ba31e5b231b",
   "metadata": {},
   "source": [
    "---"
   ]
  },
  {
   "cell_type": "markdown",
   "id": "01c092b0-d635-42a3-8b8b-477ad5e8ade4",
   "metadata": {},
   "source": [
    "8.   Write a code to remove the number 3 from the list [1, 2, 3, 4, 5]. "
   ]
  },
  {
   "cell_type": "code",
   "execution_count": 54,
   "id": "0ad3a4c0-4695-4e7c-a33a-7bcc5c1721b2",
   "metadata": {},
   "outputs": [
    {
     "name": "stdout",
     "output_type": "stream",
     "text": [
      "Original List:  [1, 2, 3, 4, 5]\n",
      "New list:  [1, 2, 4, 5]\n"
     ]
    }
   ],
   "source": [
    "lis = [1, 2, 3, 4, 5]\n",
    "print(\"Original List: \", lis)\n",
    "\n",
    "# Removing number 3\n",
    "lis.remove(3)\n",
    "print(\"New list: \", lis)"
   ]
  },
  {
   "cell_type": "markdown",
   "id": "9ead4aa8-2bd9-49eb-8d52-b40f4a3eaed3",
   "metadata": {},
   "source": [
    "---"
   ]
  },
  {
   "cell_type": "markdown",
   "id": "2afab203-7d09-4746-a004-24bcd18e170f",
   "metadata": {},
   "source": [
    "9.   Write a code to access the second element in the list ['a', 'b', 'c', 'd']"
   ]
  },
  {
   "cell_type": "code",
   "execution_count": 56,
   "id": "acc03df8-e570-4ec6-ac76-3c8fa2ea372b",
   "metadata": {},
   "outputs": [
    {
     "name": "stdout",
     "output_type": "stream",
     "text": [
      " Original list:  ['a', 'b', 'c', 'd']\n",
      " Accessing the second element in my list:  b\n"
     ]
    }
   ],
   "source": [
    "my_list = ['a', 'b', 'c', 'd']\n",
    "print(\" Original list: \", my_list)\n",
    "\n",
    "# accessing the second element\n",
    "print(\" Accessing the second element in my list: \", my_list[1])"
   ]
  },
  {
   "cell_type": "markdown",
   "id": "4af4b03f-2fe3-4167-8e17-e22f5f20aca4",
   "metadata": {},
   "source": [
    "---"
   ]
  },
  {
   "cell_type": "markdown",
   "id": "bd11e38b-1dfe-4b01-8cfe-69872a1466c4",
   "metadata": {},
   "source": [
    "10.   Write a code to reverse the list [10, 20, 30, 40, 50]."
   ]
  },
  {
   "cell_type": "code",
   "execution_count": 168,
   "id": "8103215b-bf65-4121-a309-0fd0725ec18a",
   "metadata": {},
   "outputs": [
    {
     "name": "stdout",
     "output_type": "stream",
     "text": [
      "The original List: [10, 20, 30, 40, 50]\n",
      "Reversed List: [50, 40, 30, 20, 10]\n"
     ]
    }
   ],
   "source": [
    "# Original list\n",
    "my_list = [10, 20, 30, 40, 50]\n",
    "print(\"The original List:\", my_list)\n",
    "\n",
    "# Reversing the list\n",
    "reversed_list = my_list[::-1]\n",
    "\n",
    "# Printing the reversed list\n",
    "print(\"Reversed List:\", reversed_list)"
   ]
  },
  {
   "cell_type": "markdown",
   "id": "855cb843-d78d-49ef-b5c3-5b66e3f15df1",
   "metadata": {},
   "source": [
    "---"
   ]
  },
  {
   "cell_type": "markdown",
   "id": "7b26a6f3-e239-4538-9aac-e4e8345fbe6a",
   "metadata": {},
   "source": [
    "11.   Write a code to create a tuple with the elements 100, 200, 300 and print it."
   ]
  },
  {
   "cell_type": "code",
   "execution_count": 72,
   "id": "b9d71a86-2402-453f-99aa-6ceb6a1a9699",
   "metadata": {},
   "outputs": [
    {
     "name": "stdout",
     "output_type": "stream",
     "text": [
      "Tuple: (100, 200, 300)\n"
     ]
    }
   ],
   "source": [
    "tuple_sam = (100, 200, 300)\n",
    "print(\"Tuple:\", tuple_sam)"
   ]
  },
  {
   "cell_type": "markdown",
   "id": "2560b680-a725-4da4-b4a6-cf8adcba1d64",
   "metadata": {},
   "source": [
    "---"
   ]
  },
  {
   "cell_type": "markdown",
   "id": "9709480f-0d3f-47e6-b6fe-299b0cd689c3",
   "metadata": {},
   "source": [
    "12.   Write a code to access the second-to-last element of the tuple ('red', 'green', 'blue', 'yellow')."
   ]
  },
  {
   "cell_type": "code",
   "execution_count": 76,
   "id": "3cc7de65-13c4-408e-a3c7-20d5b9238c15",
   "metadata": {},
   "outputs": [
    {
     "name": "stdout",
     "output_type": "stream",
     "text": [
      "Original List:  ('red', 'green', 'blue', 'yellow')\n",
      "\n",
      "The second to last element in the tuple is: blue\n"
     ]
    }
   ],
   "source": [
    "tuple_sam = ('red', 'green', 'blue', 'yellow')\n",
    "print(\"Original List: \", tuple_sam)\n",
    "\n",
    "print(\"\\nThe second to last element in the tuple is:\", tuple_sam[-2])"
   ]
  },
  {
   "cell_type": "markdown",
   "id": "6760d1ed-3758-4759-8345-71b19bf7691b",
   "metadata": {},
   "source": [
    "---"
   ]
  },
  {
   "cell_type": "markdown",
   "id": "21761952-cd24-42e0-b89c-150ab0b18474",
   "metadata": {},
   "source": [
    "13.   Write a code to find the minimum number in the tuple (10, 20, 5, 15)."
   ]
  },
  {
   "cell_type": "code",
   "execution_count": 78,
   "id": "82daa22d-0f9f-4cee-bb24-30c7e1f4fcb9",
   "metadata": {},
   "outputs": [
    {
     "name": "stdout",
     "output_type": "stream",
     "text": [
      "Original List:  (10, 20, 5, 15)\n",
      "Minimum number in the tuple: 5\n"
     ]
    }
   ],
   "source": [
    "tuple_sam = (10, 20, 5, 15)\n",
    "print(\"Original List: \", tuple_sam)\n",
    "\n",
    "print(\"Minimum number in the tuple:\", min(tuple_sam))"
   ]
  },
  {
   "cell_type": "markdown",
   "id": "2346c8a1-dc85-40d2-8121-67a64a9db1bd",
   "metadata": {},
   "source": [
    "---"
   ]
  },
  {
   "cell_type": "markdown",
   "id": "cbf78f0b-a784-4d00-b457-5353c4323503",
   "metadata": {},
   "source": [
    "14.   Write a code to find the index of the element \"cat\" in the tuple ('dog', 'cat', 'rabbit')."
   ]
  },
  {
   "cell_type": "code",
   "execution_count": 100,
   "id": "5320fb25-e63b-412b-9b9a-8a59ced6d584",
   "metadata": {},
   "outputs": [
    {
     "name": "stdout",
     "output_type": "stream",
     "text": [
      "The original tuple is:  ('dog', 'cat', 'rabbit')\n",
      "The index of the element cat in the tuple is:  1\n"
     ]
    }
   ],
   "source": [
    "tuple_sample = ('dog', 'cat', 'rabbit')\n",
    "print(\"The original tuple is: \", tuple_sample)\n",
    "\n",
    "print(\"The index of the element cat in the tuple is: \", tuple_sample.index('cat'))"
   ]
  },
  {
   "cell_type": "markdown",
   "id": "612589c9-cd8d-40f0-8fef-707d180cfd2c",
   "metadata": {},
   "source": [
    "---"
   ]
  },
  {
   "cell_type": "markdown",
   "id": "a5217cc1-8eb5-4d40-82be-8b4040729ae5",
   "metadata": {},
   "source": [
    "15.    Write a code to create a tuple containing three different fruits and check if \"kiwi\" is in it."
   ]
  },
  {
   "cell_type": "code",
   "execution_count": 170,
   "id": "eecdcae2-0d49-41ce-8432-f739dcb249f4",
   "metadata": {},
   "outputs": [
    {
     "name": "stdout",
     "output_type": "stream",
     "text": [
      "The original tuple is: ('apple', 'kiwi', 'lychee')\n",
      "The string 'kiwi' is present in the tuple\n"
     ]
    }
   ],
   "source": [
    "tuple_fruits = ('apple', 'kiwi', 'lychee')\n",
    "print(\"The original tuple is:\", tuple_fruits)\n",
    "\n",
    "if 'kiwi' in tuple_fruits:\n",
    "    print(\"The string \\'kiwi\\' is present in the tuple\")\n",
    "else:\n",
    "    print(\"The string \\'kiwi\\' is not present in the tuple\")"
   ]
  },
  {
   "cell_type": "markdown",
   "id": "499155e4-15be-41af-b8f5-d6471dd2a98c",
   "metadata": {},
   "source": [
    "---"
   ]
  },
  {
   "cell_type": "markdown",
   "id": "b68a9b66-20c3-4c1a-ae4e-cabc0e0f7db4",
   "metadata": {},
   "source": [
    "16.   Write a code to create a set with the elements 'a', 'b', 'c' and print it."
   ]
  },
  {
   "cell_type": "code",
   "execution_count": 86,
   "id": "ca68d4b2-3421-4db4-9bd9-2bf5b6cb3652",
   "metadata": {},
   "outputs": [
    {
     "name": "stdout",
     "output_type": "stream",
     "text": [
      "{'a', 'b', 'c'}\n"
     ]
    }
   ],
   "source": [
    "set_sample = {'a', 'b', 'c'}\n",
    "print(set_sample)"
   ]
  },
  {
   "cell_type": "markdown",
   "id": "fe35d3c8-b146-4954-8144-c447fca8f6d5",
   "metadata": {},
   "source": [
    "---"
   ]
  },
  {
   "cell_type": "markdown",
   "id": "19ea32b6-3c15-4778-a02b-1d507c083356",
   "metadata": {},
   "source": [
    "17.   Write a code to clear all elements from the set {1, 2, 3, 4, 5}."
   ]
  },
  {
   "cell_type": "code",
   "execution_count": 201,
   "id": "35ded821-ae5a-4fbd-b8a9-ad910c5b7019",
   "metadata": {},
   "outputs": [
    {
     "name": "stdout",
     "output_type": "stream",
     "text": [
      "The original set is:  {1, 2, 3, 4, 5}\n"
     ]
    },
    {
     "data": {
      "text/plain": [
       "set()"
      ]
     },
     "execution_count": 201,
     "metadata": {},
     "output_type": "execute_result"
    }
   ],
   "source": [
    "sample_set = {1, 2, 3, 4, 5}\n",
    "print(\"The original set is: \", sample_set) \n",
    "\n",
    "sample_set.clear()\n",
    "sample_set "
   ]
  },
  {
   "cell_type": "markdown",
   "id": "13acca20-d1db-4c4d-93ec-c999c708e5af",
   "metadata": {},
   "source": [
    "---"
   ]
  },
  {
   "cell_type": "markdown",
   "id": "f3ebe4d3-a7ad-46ab-886a-4822dd77ceb7",
   "metadata": {},
   "source": [
    "18.   Write a code to remove the element 4 from the set {1, 2, 3, 4}."
   ]
  },
  {
   "cell_type": "code",
   "execution_count": 108,
   "id": "a2e3a4c7-e54c-403b-957b-2308930923ad",
   "metadata": {},
   "outputs": [
    {
     "name": "stdout",
     "output_type": "stream",
     "text": [
      "The original set is: {1, 2, 3, 4}\n",
      "Set after removing the element 4: {1, 2, 3}\n"
     ]
    }
   ],
   "source": [
    "set_sample = {1, 2, 3, 4}\n",
    "print(\"The original set is:\", set_sample)\n",
    "\n",
    "set_sample.remove(4)\n",
    "print(\"Set after removing the element 4:\", set_sample)"
   ]
  },
  {
   "cell_type": "markdown",
   "id": "785263af-45d4-48bf-a34e-9545364a21f5",
   "metadata": {},
   "source": [
    "---"
   ]
  },
  {
   "cell_type": "markdown",
   "id": "e1a463c6-b7ba-4a17-b35c-d50fcac46345",
   "metadata": {},
   "source": [
    "19.   Write a code to find the union of two sets {1, 2, 3} and {3, 4, 5}."
   ]
  },
  {
   "cell_type": "code",
   "execution_count": 116,
   "id": "889a799c-7774-458e-b5b4-166f38986a7b",
   "metadata": {},
   "outputs": [
    {
     "name": "stdout",
     "output_type": "stream",
     "text": [
      "The union of two sets: {1, 2, 3, 4, 5}\n"
     ]
    }
   ],
   "source": [
    "set1 = {1, 2, 3}\n",
    "set2 = {3, 4, 5}\n",
    "\n",
    "union = set1 | set2\n",
    "print(\"The union of two sets:\", union)"
   ]
  },
  {
   "cell_type": "markdown",
   "id": "83542e4f-f26f-41a1-915a-f149f2069172",
   "metadata": {},
   "source": [
    "---"
   ]
  },
  {
   "cell_type": "markdown",
   "id": "70fd1316-80f4-473d-a654-11fce65f494b",
   "metadata": {},
   "source": [
    "20.  Write a code to find the intersection of two sets {1, 2, 3} and {2, 3, 4}."
   ]
  },
  {
   "cell_type": "code",
   "execution_count": 118,
   "id": "a1c3b96d-ea0c-4ada-8938-43a0fbc6eb78",
   "metadata": {},
   "outputs": [
    {
     "name": "stdout",
     "output_type": "stream",
     "text": [
      "The intersection of two sets: {3}\n"
     ]
    }
   ],
   "source": [
    "set1 = {1, 2, 3}\n",
    "set2 = {3, 4, 5}\n",
    "\n",
    "intersection = set1 & set2\n",
    "print(\"The intersection of two sets:\", intersection)"
   ]
  },
  {
   "cell_type": "markdown",
   "id": "47e8ce1d-17eb-4bcf-be37-13892900afd1",
   "metadata": {},
   "source": [
    "---"
   ]
  },
  {
   "cell_type": "markdown",
   "id": "61da1fea-7050-4530-8e66-a52cabbf8afa",
   "metadata": {},
   "source": [
    "21.   Write a code to create a dictionary with the keys \"name\", \"age\", and \"city\", and print it."
   ]
  },
  {
   "cell_type": "code",
   "execution_count": 126,
   "id": "41a7954a-dcd6-4cdc-8d8f-508956965d45",
   "metadata": {},
   "outputs": [
    {
     "name": "stdout",
     "output_type": "stream",
     "text": [
      "Name: Eva\n",
      "Age: 35 years\n",
      "City: Bengaluru\n"
     ]
    }
   ],
   "source": [
    "dict_sample = {\"Name:\": \"Eva\", \"Age:\": \"35 years\", \"City:\": \"Bengaluru\"}\n",
    "\n",
    "for (k, val) in dict_sample.items(): \n",
    "    print(k, val)"
   ]
  },
  {
   "cell_type": "markdown",
   "id": "49820751-9ccb-46b7-891f-51d0f02fc0f8",
   "metadata": {},
   "source": [
    "---"
   ]
  },
  {
   "cell_type": "markdown",
   "id": "75e6bbe2-ed49-4490-8206-dc1af7490d74",
   "metadata": {},
   "source": [
    "22.  Write a code to add a new key-value pair \"country\": \"USA\" to the dictionary {'name': 'John', 'age': 25}."
   ]
  },
  {
   "cell_type": "code",
   "execution_count": 13,
   "id": "20815b39-bee7-477c-b6ec-9c0d31669220",
   "metadata": {},
   "outputs": [
    {
     "name": "stdout",
     "output_type": "stream",
     "text": [
      "The original dictionary is as below:\n",
      "name John\n",
      "age 25\n",
      "New dictionary is:  {'name': 'John', 'age': 25, 'country': 'USA'}\n"
     ]
    }
   ],
   "source": [
    "dic_sample = {'name': 'John', 'age': 25}\n",
    "print(\"The original dictionary is as below:\")\n",
    "for (k, val) in dic_sample.items():\n",
    "    print(k, val)\n",
    "\n",
    "dic_sample['country'] = 'USA'\n",
    "print(\"New dictionary is: \", dic_sample)"
   ]
  },
  {
   "cell_type": "markdown",
   "id": "d49d1089-a278-41a4-a3a4-c6975e346a86",
   "metadata": {},
   "source": [
    "---"
   ]
  },
  {
   "cell_type": "markdown",
   "id": "8d74597c-e7fc-465b-9132-30de20ba8a03",
   "metadata": {},
   "source": [
    "23.  Write a code to access the value associated with the key \"name\" in the dictionary {'name': 'Alice', 'age': 30}."
   ]
  },
  {
   "cell_type": "code",
   "execution_count": 24,
   "id": "9d9a289a-a924-4d4a-8382-609495c6062e",
   "metadata": {},
   "outputs": [
    {
     "name": "stdout",
     "output_type": "stream",
     "text": [
      "The value associated with name is: Alice\n"
     ]
    }
   ],
   "source": [
    "sample_dic = {'name': 'Alice', 'age': 30}\n",
    "\n",
    "name_val = sample_dic['name']\n",
    "print(\"The value associated with name is:\", name_val)"
   ]
  },
  {
   "cell_type": "markdown",
   "id": "a9769448-8fe3-4b71-b83b-11d1e2ed36d3",
   "metadata": {},
   "source": [
    "---"
   ]
  },
  {
   "cell_type": "markdown",
   "id": "4b8d0ddf-7d28-4630-87f4-80695faf1193",
   "metadata": {},
   "source": [
    "24.   Write a code to remove the key \"age\" from the dictionary {'name': 'Bob', 'age': 22, 'city': 'New York'}"
   ]
  },
  {
   "cell_type": "code",
   "execution_count": 32,
   "id": "fd489083-f859-408f-bd31-98c9e93b6366",
   "metadata": {},
   "outputs": [
    {
     "name": "stdout",
     "output_type": "stream",
     "text": [
      "The original dictionary is: {'name': 'Bob', 'age': 22, 'city': 'New York'}\n",
      "New dictionary:\n",
      "{'name': 'Bob', 'city': 'New York'}\n"
     ]
    }
   ],
   "source": [
    "dic = {'name': 'Bob', 'age': 22, 'city': 'New York'}\n",
    "print(\"The original dictionary is:\", dic)\n",
    "\n",
    "dic.pop('age')\n",
    "print(\"New dictionary:\")\n",
    "print(dic)"
   ]
  },
  {
   "cell_type": "markdown",
   "id": "828a9e93-7268-42b0-a3f3-777a959454e0",
   "metadata": {},
   "source": [
    "---"
   ]
  },
  {
   "cell_type": "markdown",
   "id": "4f4f6ae3-2b5b-451f-8b2e-f884ae4319cd",
   "metadata": {},
   "source": [
    "25.    Write a code to check if the key \"city\" exists in the dictionary {'name': 'Alice', 'city': 'Paris'}."
   ]
  },
  {
   "cell_type": "code",
   "execution_count": 36,
   "id": "344ee509-0c94-4932-9137-2ed663cebff1",
   "metadata": {},
   "outputs": [
    {
     "name": "stdout",
     "output_type": "stream",
     "text": [
      "Yes, key 'name' exists in the dictionary\n"
     ]
    }
   ],
   "source": [
    "dic_sam = {'name': 'Alice', 'city': 'Paris'}\n",
    "\n",
    "if 'name' in dic_sam:\n",
    "    print(\"Yes, key 'name' exists in the dictionary\")\n",
    "else:\n",
    "    print(\"The key 'name' does not exist in the dictionary\")"
   ]
  },
  {
   "cell_type": "markdown",
   "id": "ec9e15cb-0784-4f09-9d38-9eaf1f38c72d",
   "metadata": {},
   "source": [
    "---"
   ]
  },
  {
   "cell_type": "markdown",
   "id": "b89a6c93-994c-4efe-aeb5-167eee6cdbd6",
   "metadata": {},
   "source": [
    "26.   Write a code to create a list, a tuple, and a dictionary, and print them all."
   ]
  },
  {
   "cell_type": "code",
   "execution_count": 50,
   "id": "f07aa205-192d-4e93-bcfc-bcf08a3f10f9",
   "metadata": {},
   "outputs": [
    {
     "name": "stdout",
     "output_type": "stream",
     "text": [
      "Sample List:  [1, 3, 6, 8, 'Sample list', 'Python']\n",
      "\n",
      "Sample Tuple:  (1, 7, 'PWSkills', 6.888, 5, 'Programming', 8989.44)\n",
      "\n",
      "Sample Dictionary is as follows:\n",
      "Name: Bruce Wayne\n",
      "Age: 40 years\n",
      "Country: USA\n"
     ]
    }
   ],
   "source": [
    "# List\n",
    "list_sample = [1, 3, 6, 8, \"Sample list\", \"Python\"]\n",
    "print(\"Sample List: \", list_sample)\n",
    "\n",
    "#Tuple \n",
    "tup_sample = (1, 7, \"PWSkills\", 6.888, 5, \"Programming\", 8989.44)\n",
    "print(\"\\n\"\"Sample Tuple: \", tup_sample)\n",
    "\n",
    "#dictionary\n",
    "dic_sample = {'Name:': 'Bruce Wayne', 'Age:': '40 years', 'Country:': 'USA'}\n",
    "print(\"\\n\"\"Sample Dictionary is as follows:\")\n",
    "for (k, v) in dic_sample.items():\n",
    "    print(k,v)"
   ]
  },
  {
   "cell_type": "markdown",
   "id": "17c4d89b-a508-40e3-9352-c53450919814",
   "metadata": {},
   "source": [
    "---"
   ]
  },
  {
   "cell_type": "markdown",
   "id": "1d60daea-af3b-420e-8e50-71815def30d2",
   "metadata": {},
   "source": [
    "27.   Write a code to create a list of 5 random numbers between 1 and 100, sort it in ascending order, and print the result.(replaced)"
   ]
  },
  {
   "cell_type": "code",
   "execution_count": 174,
   "id": "523e121d-6e05-45ab-9468-67eda488b079",
   "metadata": {},
   "outputs": [
    {
     "name": "stdout",
     "output_type": "stream",
     "text": [
      "Sorted random numbers: [9, 34, 44, 52, 88]\n"
     ]
    }
   ],
   "source": [
    "import random as ran\n",
    "\n",
    "# Create a list of 5 random numbers between 1 and 100\n",
    "random_numbers = [ran.randint(1, 100) for _ in range(5)]\n",
    "\n",
    "# Sorting the list in ascending order\n",
    "random_numbers.sort()\n",
    "\n",
    "# Printing the result\n",
    "print(\"Sorted random numbers:\", random_numbers)"
   ]
  },
  {
   "cell_type": "markdown",
   "id": "a946def9-c017-4ecd-b009-fc93a8d38e24",
   "metadata": {},
   "source": [
    "---"
   ]
  },
  {
   "cell_type": "markdown",
   "id": "32e7b6fd-b31b-4e5b-892d-e714d903caf8",
   "metadata": {},
   "source": [
    "28.   Write a code to create a list with strings and print the element at the third index."
   ]
  },
  {
   "cell_type": "code",
   "execution_count": 66,
   "id": "d6b6c071-2f61-4749-a5e0-b8bf54aa42c3",
   "metadata": {},
   "outputs": [
    {
     "name": "stdout",
     "output_type": "stream",
     "text": [
      "The original List is as follows: ['Mercedes', 'BMW', 'Mahindra', 'Lamborghini', 'Fortuner', 'Morris Garage', 'Tata Motors', 'Maruti Suzuki', 'Audi', 'Hyundai']\n",
      "\n",
      "String at Third index: Lamborghini\n"
     ]
    }
   ],
   "source": [
    "list_cars = [\"Mercedes\", \"BMW\", \"Mahindra\", \"Lamborghini\", \"Fortuner\", \"Morris Garage\", \"Tata Motors\", \"Maruti Suzuki\", \"Audi\", \"Hyundai\"]\n",
    "print(\"The original List is as follows:\", list_cars)\n",
    "\n",
    "print(\"\\n\"\"String at Third index:\", list_cars[3])"
   ]
  },
  {
   "cell_type": "markdown",
   "id": "b22bcb0c-0d5a-43db-b927-eb8ff646e6c4",
   "metadata": {},
   "source": [
    "---"
   ]
  },
  {
   "cell_type": "markdown",
   "id": "3d63bc0c-18c6-414a-9d9b-cefa25881592",
   "metadata": {},
   "source": [
    "29.    Write a code to combine two dictionaries into one and print the result."
   ]
  },
  {
   "cell_type": "code",
   "execution_count": 68,
   "id": "7a0f030c-22ed-45ec-94c5-af091b750055",
   "metadata": {},
   "outputs": [
    {
     "name": "stdout",
     "output_type": "stream",
     "text": [
      "User Profile information, dictionary - 1: {'username': 'cyber_owl', 'age': 28}\n",
      "User location information, dictionary - 2: {'City': 'Neo Tokyo', 'Profession': 'Data Alchemist'}\n",
      "\n",
      "Combined User Info: {'username': 'cyber_owl', 'age': 28, 'City': 'Neo Tokyo', 'Profession': 'Data Alchemist'}\n"
     ]
    }
   ],
   "source": [
    "# Defining two dictionaries \n",
    "user_profile = {'username': 'cyber_owl', 'age': 28} #ditc1\n",
    "print(\"User Profile information, dictionary - 1:\", user_profile)\n",
    "user_location = {'City': 'Neo Tokyo', 'Profession': 'Data Alchemist'} #dict2\n",
    "print(\"User location information, dictionary - 2:\", user_location)\n",
    "\n",
    "# Combining the dictionaries\n",
    "merged_user_info = {**user_profile, **user_location}\n",
    "\n",
    "# Print the result\n",
    "print(\"\\n\"\"Combined User Info:\", merged_user_info)"
   ]
  },
  {
   "cell_type": "markdown",
   "id": "276c6260-6175-4406-a24b-0514c85bc0be",
   "metadata": {},
   "source": [
    "---"
   ]
  },
  {
   "cell_type": "markdown",
   "id": "2a90fb5e-68f9-43fd-91af-49ada8355f1f",
   "metadata": {},
   "source": [
    "30.   Write a code to convert a list of strings into a set."
   ]
  },
  {
   "cell_type": "code",
   "execution_count": 76,
   "id": "7aa3b7a9-a2fd-4b36-9861-6a8bf6feb8a6",
   "metadata": {},
   "outputs": [
    {
     "name": "stdout",
     "output_type": "stream",
     "text": [
      "List of colors: ['Red', 'Royal Blue', 'Green', 'Pink', 'Royal Blue', 'Red', 'Yellow', 'Purple', 'Maroon', 'Pink', 'Browm', 'Royal Blue', 'Black', 'Grey', 'Red', 'Green']\n",
      "Set of colors: {'Red', 'Black', 'Maroon', 'Browm', 'Yellow', 'Green', 'Royal Blue', 'Grey', 'Pink', 'Purple'}\n"
     ]
    }
   ],
   "source": [
    "# Define a list of strings\n",
    "colors_list = [\"Red\", \"Royal Blue\", \"Green\", \"Pink\", \"Royal Blue\", \"Red\", \"Yellow\", \"Purple\", \"Maroon\", \"Pink\", \"Browm\", \"Royal Blue\", \"Black\", \"Grey\", \"Red\", \"Green\"]\n",
    "print(\"List of colors:\", colors_list)\n",
    "# Convert the list to a set\n",
    "colors_set = set(colors_list)\n",
    "\n",
    "# Print the result\n",
    "print(\"Set of colors:\", colors_set)"
   ]
  }
 ],
 "metadata": {
  "kernelspec": {
   "display_name": "Python [conda env:base] *",
   "language": "python",
   "name": "conda-base-py"
  },
  "language_info": {
   "codemirror_mode": {
    "name": "ipython",
    "version": 3
   },
   "file_extension": ".py",
   "mimetype": "text/x-python",
   "name": "python",
   "nbconvert_exporter": "python",
   "pygments_lexer": "ipython3",
   "version": "3.12.7"
  }
 },
 "nbformat": 4,
 "nbformat_minor": 5
}
